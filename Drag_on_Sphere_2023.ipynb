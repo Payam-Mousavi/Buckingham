{
 "cells": [
  {
   "cell_type": "markdown",
   "metadata": {},
   "source": [
    "# Exploring dimensionless numbers and Neural Network Regression\n",
    "Author: Payam Mousavi  \n",
    "Last updated: December 27, 2023 \n",
    "\n",
    "Given the analytical equation (fitted empirically) for the Drag Coefficient $C_D$ provided in reference: https://pages.mtu.edu/~fmorriso/DataCorrelationForSphereDrag2016.pdf, we see that it's only a function of the Reynolds number, $Re = \\rho.U.D/\\mu$. Let's say that we did not know this ahead of time and wanted to perform experiments for a range of input parameters, namely, $\\rho$, $U$, $D$, and $\\mu$. Clearly, many combinations will be redundant since they correpond to the same $Re$. Consider the following models:  \n",
    "\n",
    "Given $\\rho$, $U$, $D$, and $\\mu$, consider the following two models:  \n",
    "\n",
    "\n",
    "\n",
    "<img src=\"./Figures/Model_I.png\" width=\"300\" height=\"200\" /> . \n",
    "<img src=\"./Figures/Model_II.png\" width=\"300\" height=\"200\" /> . \n",
    "\n",
    "We are interested in the following questions:  \n",
    "1. Assuming we keep the number of trainable parameters approximately the same, is Model_I more data efficient than Model_II, if we randomly sample the 4 parameters?  Intuitively, we expect this to be true since we are biasing the structure of the neural network to discover the existence of an effective compression of the inputs (by $Re$).  \n",
    "2. After training Model_I, does the single node actually correspond to $Re$? Can the model 'discover' the non-dimensional parameters?  If not, can we somehow help the model to discover this?  \n",
    "3. (Optional) can we use the knowledge of the $Re$ to perform data augmentation thereby increasing the efficiency of the training? For example, given a combination of inputs, we could generate $n$ additional training samples corresponding to the same $Re$. This 'synthetic data' is expected to improve the efficiency. It is not clear whether this is useful in practice. Still interesting to explore.  \n",
    "\n",
    "\n",
    "\n"
   ]
  },
  {
   "cell_type": "code",
   "execution_count": 1,
   "metadata": {},
   "outputs": [],
   "source": [
    "%matplotlib inline\n",
    "import matplotlib\n",
    "import matplotlib.pyplot as plt\n",
    "import seaborn as sns\n",
    "import numpy as np\n",
    "import math\n",
    "from tqdm import tqdm\n",
    "\n",
    "import torch\n",
    "import torch.nn as nn\n",
    "import torch.nn.functional as F\n",
    "from torch.utils.data import Dataset\n",
    "from torch.utils.data import DataLoader, random_split\n",
    "from torch.optim import Adam\n",
    "from torch.utils.tensorboard import SummaryWriter\n",
    "\n",
    "matplotlib.rcParams.update({'font.size': 22})\n",
    "eps = 1e-12"
   ]
  },
  {
   "cell_type": "code",
   "execution_count": 2,
   "metadata": {},
   "outputs": [],
   "source": [
    "def CD_calc(Re=None, U=None, D=None, rho=None, mu=None):\n",
    "    \"\"\"\n",
    "    Calculates the the Drag coefficient (CD) and the corresponding Drag force (FD), using the empirical equation found in the\n",
    "    reference: https://pages.mtu.edu/~fmorriso/DataCorrelationForSphereDrag2016.pdf\n",
    "\n",
    "    Use SI units\n",
    "\n",
    "    \"\"\"\n",
    "    if Re is None:\n",
    "        Re = rho*U*D/mu\n",
    "\n",
    "    CD = (24/Re) \\\n",
    "        + ((2.6*(Re/5.)) / (1+(Re/5.)**1.52)) \\\n",
    "        + ((0.411*(Re/2.63e5)**-7.94) / (1 + (Re/2.63e5)**-8.)) \\\n",
    "        + ((0.25*(Re/1e6)) / (1 + (Re/1e6)))\n",
    "\n",
    "    # Calculate FD if U and D and rho are given:\n",
    "    if U is not None:\n",
    "        FD = CD * (rho*np.pi/8) * (U**2) * (D**2)\n",
    "    else:\n",
    "        FD = None\n",
    "\n",
    "    return CD, FD\n",
    "\n",
    "\n",
    "def run_experiments(Re_vec, velocities=None, diameters=None, densities=None, viscosities=None):\n",
    "    \"\"\"\n",
    "    Runs the experiment by iterating over the velocity vector or Re_vec and returning the drag coefficient CD and Drag force FD\n",
    "\n",
    "    \"\"\"\n",
    "    if Re_vec is not None:\n",
    "        CDs, FDs = CD_calc(Re=Re_vec, rho=None, mu=None, U=None, D=None)\n",
    "    else:\n",
    "        CDs, FDs = CD_calc(Re=None, U=velocities, D=diameters, rho=densities, mu=viscosities)\n",
    "\n",
    "    return CDs, FDs\n",
    "\n",
    "\n",
    "def plot_CD(Re, CD, marker='o'):\n",
    "    sns.set(style=\"whitegrid\")\n",
    "    plt.figure(figsize=(6, 6))\n",
    "    sns.scatterplot(x=Re, y=CD, color='blue', marker=marker, alpha=0.5)\n",
    "    plt.xscale('log')\n",
    "    plt.yscale('log')\n",
    "    plt.xlim(1e-1, 1e11)\n",
    "    plt.ylim(1e-2, 1e3)\n",
    "    plt.xlabel('$Re$')\n",
    "    plt.ylabel('$C_D$')\n",
    "\n",
    "    return True"
   ]
  },
  {
   "cell_type": "code",
   "execution_count": 3,
   "metadata": {},
   "outputs": [
    {
     "data": {
      "text/plain": [
       "True"
      ]
     },
     "execution_count": 3,
     "metadata": {},
     "output_type": "execute_result"
    },
    {
     "data": {
      "image/png": "[encoded data removed]",
      "text/plain": [
       "<Figure size 600x600 with 1 Axes>"
      ]
     },
     "metadata": {},
     "output_type": "display_data"
    }
   ],
   "source": [
    "Re_vec = np.logspace(0, 10, 200)\n",
    "CDs, _ = run_experiments(Re_vec=Re_vec)\n",
    "plot_CD(Re_vec, CDs, marker='o')"
   ]
  },
  {
   "cell_type": "markdown",
   "metadata": {},
   "source": [
    "## Models"
   ]
  },
  {
   "cell_type": "code",
   "execution_count": 4,
   "metadata": {},
   "outputs": [],
   "source": [
    "# Model_II\n",
    "class Model_II(nn.Module):\n",
    "    def __init__(self, input_dim=4 , output_dim= 1, hidden_dims=[16, 8, 4]):\n",
    "        super(Model_II, self).__init__()\n",
    "        hidden_dims.insert(0, input_dim)\n",
    "        hidden_dims.append(output_dim)\n",
    "        self.layers = nn.ModuleList()\n",
    "        for i in range(len(hidden_dims) - 1):\n",
    "            self.layers.append(nn.Linear(hidden_dims[i], hidden_dims[i+1]))\n",
    "\n",
    "    def forward(self, x):\n",
    "        for i in range(len(self.layers) - 1):\n",
    "            x = torch.relu(self.layers[i](x))\n",
    "        x = self.layers[-1](x)  # Apply the last layer without ReLU\n",
    "        return x"
   ]
  },
  {
   "cell_type": "markdown",
   "metadata": {},
   "source": [
    "## Dataset Creation"
   ]
  },
  {
   "cell_type": "code",
   "execution_count": 5,
   "metadata": {},
   "outputs": [],
   "source": [
    "# Data Generation:\n",
    "# Let's first generate random samples of rho, mu, D, and U. The true label is then calculated using the run_experiments function. \n",
    "# The Reynolds numbers are also calculated and returned as a vector for convenience.\n",
    "def sample_parameters(num_samples=5000, rho_range=[100, 2000], mu_range=[0.001, 0.01], D_range=[0.05, 0.5], U_range=[0.1, 20], seed=123):\n",
    "    if seed is not None:\n",
    "        np.random.seed(seed)\n",
    "        \n",
    "    rho = np.random.uniform(rho_range[0], rho_range[1], num_samples)\n",
    "    mu = np.random.uniform(mu_range[0], mu_range[1], num_samples)\n",
    "    D = np.random.uniform(D_range[0], D_range[1], num_samples)\n",
    "    U = np.random.uniform(U_range[0], U_range[1], num_samples)\n",
    "\n",
    "    # Calculate the true CD and FD:\n",
    "    CD, _ = run_experiments(Re_vec=None, velocities=U, diameters=D, densities=rho, viscosities=mu)\n",
    "    Re_vec = rho * U * D / mu\n",
    "    return rho, mu, D, U, Re_vec, CD\n",
    "\n",
    "class RandomDataset(Dataset):\n",
    "    def __init__(self, num_samples=5000, rho_range=[100, 2000], mu_range=[0.001, 0.01], D_range=[0.05, 0.5], U_range=[0.1, 20], seed=None):\n",
    "        self.rho, self.mu, self.D, self.U, self.Re, self.CD = sample_parameters(num_samples=num_samples, rho_range=rho_range, mu_range=mu_range, D_range=D_range, U_range=U_range, seed=seed)\n",
    "        self.num_samples = num_samples\n",
    "\n",
    "    def __len__(self):\n",
    "        return self.num_samples\n",
    "\n",
    "    def __getitem__(self, idx):\n",
    "        input_sample = np.array([self.rho[idx], self.mu[idx], self.D[idx], self.U[idx]], dtype=np.float32)\n",
    "        target = np.array([self.CD[idx]], dtype=np.float32)\n",
    "        return input_sample, target\n",
    "\n",
    "\n",
    "# Create the dataloader/dataset:\n",
    "dataset = RandomDataset(num_samples=5000, rho_range=[100, 2000], mu_range=[0.001, 0.01], D_range=[0.05, 0.5], U_range=[0.1, 20], seed=123)\n",
    "\n",
    "# Split the dataset into train, validation, and test sets:\n",
    "train_size = int(0.7 * len(dataset))\n",
    "val_size = int(0.2 * len(dataset))\n",
    "test_size = len(dataset) - train_size - val_size\n",
    "\n",
    "train_dataset, val_dataset, test_dataset = random_split(dataset, [train_size, val_size, test_size])\n",
    "\n",
    "train_loader = DataLoader(train_dataset, batch_size=64, shuffle=True, num_workers=0) #TODO: Change num_workers to 4. Need to take RandomDataset out of the main function\n",
    "val_loader = DataLoader(val_dataset, batch_size=64, shuffle=False, num_workers=0)\n",
    "test_loader = DataLoader(test_dataset, batch_size=64, shuffle=False, num_workers=0)\n"
   ]
  },
  {
   "cell_type": "markdown",
   "metadata": {},
   "source": [
    "# Training"
   ]
  },
  {
   "cell_type": "code",
   "execution_count": 7,
   "metadata": {},
   "outputs": [
    {
     "name": "stderr",
     "output_type": "stream",
     "text": [
      "Epoch 1/500 [Training]: 100%|██████████| 55/55 [00:00<00:00, 1187.55it/s]\n",
      "Epoch 1/500 [Validation]: 100%|██████████| 16/16 [00:00<00:00, 2094.01it/s]\n"
     ]
    },
    {
     "name": "stdout",
     "output_type": "stream",
     "text": [
      "Epoch 1/500, Train Loss: 5.2523, Validation Loss: 0.0856\n"
     ]
    },
    {
     "name": "stderr",
     "output_type": "stream",
     "text": [
      "Epoch 2/500 [Training]: 100%|██████████| 55/55 [00:00<00:00, 1313.78it/s]\n",
      "Epoch 2/500 [Validation]: 100%|██████████| 16/16 [00:00<00:00, 2520.05it/s]\n"
     ]
    },
    {
     "name": "stdout",
     "output_type": "stream",
     "text": [
      "Epoch 2/500, Train Loss: 0.0850, Validation Loss: 0.0842\n"
     ]
    },
    {
     "name": "stderr",
     "output_type": "stream",
     "text": [
      "Epoch 3/500 [Training]: 100%|██████████| 55/55 [00:00<00:00, 1414.83it/s]\n",
      "Epoch 3/500 [Validation]: 100%|██████████| 16/16 [00:00<00:00, 2408.96it/s]\n"
     ]
    },
    {
     "name": "stdout",
     "output_type": "stream",
     "text": [
      "Epoch 3/500, Train Loss: 0.0811, Validation Loss: 0.0828\n"
     ]
    },
    {
     "name": "stderr",
     "output_type": "stream",
     "text": [
      "Epoch 4/500 [Training]: 100%|██████████| 55/55 [00:00<00:00, 1376.96it/s]\n",
      "Epoch 4/500 [Validation]: 100%|██████████| 16/16 [00:00<00:00, 2549.83it/s]\n"
     ]
    },
    {
     "name": "stdout",
     "output_type": "stream",
     "text": [
      "Epoch 4/500, Train Loss: 0.0796, Validation Loss: 0.0812\n"
     ]
    },
    {
     "name": "stderr",
     "output_type": "stream",
     "text": [
      "Epoch 5/500 [Training]: 100%|██████████| 55/55 [00:00<00:00, 1359.50it/s]\n",
      "Epoch 5/500 [Validation]: 100%|██████████| 16/16 [00:00<00:00, 2590.28it/s]\n"
     ]
    },
    {
     "name": "stdout",
     "output_type": "stream",
     "text": [
      "Epoch 5/500, Train Loss: 0.0779, Validation Loss: 0.0793\n"
     ]
    },
    {
     "name": "stderr",
     "output_type": "stream",
     "text": [
      "Epoch 6/500 [Training]: 100%|██████████| 55/55 [00:00<00:00, 1425.90it/s]\n",
      "Epoch 6/500 [Validation]: 100%|██████████| 16/16 [00:00<00:00, 2735.56it/s]\n"
     ]
    },
    {
     "name": "stdout",
     "output_type": "stream",
     "text": [
      "Epoch 6/500, Train Loss: 0.0760, Validation Loss: 0.0773\n"
     ]
    },
    {
     "name": "stderr",
     "output_type": "stream",
     "text": [
      "Epoch 7/500 [Training]: 100%|██████████| 55/55 [00:00<00:00, 1405.65it/s]\n",
      "Epoch 7/500 [Validation]: 100%|██████████| 16/16 [00:00<00:00, 2306.78it/s]\n"
     ]
    },
    {
     "name": "stdout",
     "output_type": "stream",
     "text": [
      "Epoch 7/500, Train Loss: 0.0740, Validation Loss: 0.0752\n"
     ]
    },
    {
     "name": "stderr",
     "output_type": "stream",
     "text": [
      "Epoch 8/500 [Training]: 100%|██████████| 55/55 [00:00<00:00, 1391.38it/s]\n",
      "Epoch 8/500 [Validation]: 100%|██████████| 16/16 [00:00<00:00, 2463.43it/s]\n"
     ]
    },
    {
     "name": "stdout",
     "output_type": "stream",
     "text": [
      "Epoch 8/500, Train Loss: 0.0719, Validation Loss: 0.0729\n"
     ]
    },
    {
     "name": "stderr",
     "output_type": "stream",
     "text": [
      "Epoch 9/500 [Training]: 100%|██████████| 55/55 [00:00<00:00, 1359.03it/s]\n",
      "Epoch 9/500 [Validation]: 100%|██████████| 16/16 [00:00<00:00, 2361.66it/s]\n"
     ]
    },
    {
     "name": "stdout",
     "output_type": "stream",
     "text": [
      "Epoch 9/500, Train Loss: 0.0697, Validation Loss: 0.0706\n"
     ]
    },
    {
     "name": "stderr",
     "output_type": "stream",
     "text": [
      "Epoch 10/500 [Training]: 100%|██████████| 55/55 [00:00<00:00, 1173.91it/s]\n",
      "Epoch 10/500 [Validation]: 100%|██████████| 16/16 [00:00<00:00, 2223.47it/s]\n"
     ]
    },
    {
     "name": "stdout",
     "output_type": "stream",
     "text": [
      "Epoch 10/500, Train Loss: 0.0674, Validation Loss: 0.0682\n"
     ]
    },
    {
     "name": "stderr",
     "output_type": "stream",
     "text": [
      "Epoch 11/500 [Training]: 100%|██████████| 55/55 [00:00<00:00, 1371.30it/s]\n",
      "Epoch 11/500 [Validation]: 100%|██████████| 16/16 [00:00<00:00, 2603.74it/s]\n"
     ]
    },
    {
     "name": "stdout",
     "output_type": "stream",
     "text": [
      "Epoch 11/500, Train Loss: 0.0651, Validation Loss: 0.0659\n"
     ]
    },
    {
     "name": "stderr",
     "output_type": "stream",
     "text": [
      "Epoch 12/500 [Training]: 100%|██████████| 55/55 [00:00<00:00, 1368.61it/s]\n",
      "Epoch 12/500 [Validation]: 100%|██████████| 16/16 [00:00<00:00, 2089.58it/s]\n"
     ]
    },
    {
     "name": "stdout",
     "output_type": "stream",
     "text": [
      "Epoch 12/500, Train Loss: 0.0628, Validation Loss: 0.0635\n"
     ]
    },
    {
     "name": "stderr",
     "output_type": "stream",
     "text": [
      "Epoch 13/500 [Training]: 100%|██████████| 55/55 [00:00<00:00, 1334.57it/s]\n",
      "Epoch 13/500 [Validation]: 100%|██████████| 16/16 [00:00<00:00, 2432.71it/s]\n"
     ]
    },
    {
     "name": "stdout",
     "output_type": "stream",
     "text": [
      "Epoch 13/500, Train Loss: 0.0604, Validation Loss: 0.0610\n"
     ]
    },
    {
     "name": "stderr",
     "output_type": "stream",
     "text": [
      "Epoch 14/500 [Training]: 100%|██████████| 55/55 [00:00<00:00, 1332.91it/s]\n",
      "Epoch 14/500 [Validation]: 100%|██████████| 16/16 [00:00<00:00, 2557.11it/s]\n"
     ]
    },
    {
     "name": "stdout",
     "output_type": "stream",
     "text": [
      "Epoch 14/500, Train Loss: 0.0581, Validation Loss: 0.0586\n"
     ]
    },
    {
     "name": "stderr",
     "output_type": "stream",
     "text": [
      "Epoch 15/500 [Training]: 100%|██████████| 55/55 [00:00<00:00, 1369.08it/s]\n",
      "Epoch 15/500 [Validation]: 100%|██████████| 16/16 [00:00<00:00, 2348.85it/s]\n"
     ]
    },
    {
     "name": "stdout",
     "output_type": "stream",
     "text": [
      "Epoch 15/500, Train Loss: 0.0557, Validation Loss: 0.0563\n"
     ]
    },
    {
     "name": "stderr",
     "output_type": "stream",
     "text": [
      "Epoch 16/500 [Training]: 100%|██████████| 55/55 [00:00<00:00, 1358.91it/s]\n",
      "Epoch 16/500 [Validation]: 100%|██████████| 16/16 [00:00<00:00, 2685.86it/s]\n"
     ]
    },
    {
     "name": "stdout",
     "output_type": "stream",
     "text": [
      "Epoch 16/500, Train Loss: 0.0534, Validation Loss: 0.0539\n"
     ]
    },
    {
     "name": "stderr",
     "output_type": "stream",
     "text": [
      "Epoch 17/500 [Training]: 100%|██████████| 55/55 [00:00<00:00, 1390.82it/s]\n",
      "Epoch 17/500 [Validation]: 100%|██████████| 16/16 [00:00<00:00, 2288.30it/s]\n"
     ]
    },
    {
     "name": "stdout",
     "output_type": "stream",
     "text": [
      "Epoch 17/500, Train Loss: 0.0512, Validation Loss: 0.0516\n"
     ]
    },
    {
     "name": "stderr",
     "output_type": "stream",
     "text": [
      "Epoch 18/500 [Training]: 100%|██████████| 55/55 [00:00<00:00, 1374.55it/s]\n",
      "Epoch 18/500 [Validation]: 100%|██████████| 16/16 [00:00<00:00, 2390.94it/s]\n"
     ]
    },
    {
     "name": "stdout",
     "output_type": "stream",
     "text": [
      "Epoch 18/500, Train Loss: 0.0489, Validation Loss: 0.0493\n"
     ]
    },
    {
     "name": "stderr",
     "output_type": "stream",
     "text": [
      "Epoch 19/500 [Training]: 100%|██████████| 55/55 [00:00<00:00, 1365.41it/s]\n",
      "Epoch 19/500 [Validation]: 100%|██████████| 16/16 [00:00<00:00, 2167.39it/s]\n"
     ]
    },
    {
     "name": "stdout",
     "output_type": "stream",
     "text": [
      "Epoch 19/500, Train Loss: 0.0468, Validation Loss: 0.0471\n"
     ]
    },
    {
     "name": "stderr",
     "output_type": "stream",
     "text": [
      "Epoch 20/500 [Training]: 100%|██████████| 55/55 [00:00<00:00, 1350.48it/s]\n",
      "Epoch 20/500 [Validation]: 100%|██████████| 16/16 [00:00<00:00, 2380.59it/s]\n"
     ]
    },
    {
     "name": "stdout",
     "output_type": "stream",
     "text": [
      "Epoch 20/500, Train Loss: 0.0447, Validation Loss: 0.0450\n"
     ]
    },
    {
     "name": "stderr",
     "output_type": "stream",
     "text": [
      "Epoch 21/500 [Training]: 100%|██████████| 55/55 [00:00<00:00, 1318.60it/s]\n",
      "Epoch 21/500 [Validation]: 100%|██████████| 16/16 [00:00<00:00, 2164.80it/s]\n"
     ]
    },
    {
     "name": "stdout",
     "output_type": "stream",
     "text": [
      "Epoch 21/500, Train Loss: 0.0428, Validation Loss: 0.0430\n"
     ]
    },
    {
     "name": "stderr",
     "output_type": "stream",
     "text": [
      "Epoch 22/500 [Training]: 100%|██████████| 55/55 [00:00<00:00, 1355.95it/s]\n",
      "Epoch 22/500 [Validation]: 100%|██████████| 16/16 [00:00<00:00, 2187.31it/s]\n"
     ]
    },
    {
     "name": "stdout",
     "output_type": "stream",
     "text": [
      "Epoch 22/500, Train Loss: 0.0408, Validation Loss: 0.0410\n"
     ]
    },
    {
     "name": "stderr",
     "output_type": "stream",
     "text": [
      "Epoch 23/500 [Training]: 100%|██████████| 55/55 [00:00<00:00, 1383.26it/s]\n",
      "Epoch 23/500 [Validation]: 100%|██████████| 16/16 [00:00<00:00, 2549.73it/s]\n"
     ]
    },
    {
     "name": "stdout",
     "output_type": "stream",
     "text": [
      "Epoch 23/500, Train Loss: 0.0389, Validation Loss: 0.0391\n"
     ]
    },
    {
     "name": "stderr",
     "output_type": "stream",
     "text": [
      "Epoch 24/500 [Training]: 100%|██████████| 55/55 [00:00<00:00, 1454.60it/s]\n",
      "Epoch 24/500 [Validation]: 100%|██████████| 16/16 [00:00<00:00, 2425.33it/s]\n"
     ]
    },
    {
     "name": "stdout",
     "output_type": "stream",
     "text": [
      "Epoch 24/500, Train Loss: 0.0371, Validation Loss: 0.0373\n"
     ]
    },
    {
     "name": "stderr",
     "output_type": "stream",
     "text": [
      "Epoch 25/500 [Training]: 100%|██████████| 55/55 [00:00<00:00, 1409.08it/s]\n",
      "Epoch 25/500 [Validation]: 100%|██████████| 16/16 [00:00<00:00, 2724.90it/s]\n"
     ]
    },
    {
     "name": "stdout",
     "output_type": "stream",
     "text": [
      "Epoch 25/500, Train Loss: 0.0354, Validation Loss: 0.0356\n"
     ]
    },
    {
     "name": "stderr",
     "output_type": "stream",
     "text": [
      "Epoch 26/500 [Training]: 100%|██████████| 55/55 [00:00<00:00, 1366.45it/s]\n",
      "Epoch 26/500 [Validation]: 100%|██████████| 16/16 [00:00<00:00, 2412.95it/s]\n"
     ]
    },
    {
     "name": "stdout",
     "output_type": "stream",
     "text": [
      "Epoch 26/500, Train Loss: 0.0338, Validation Loss: 0.0339\n"
     ]
    },
    {
     "name": "stderr",
     "output_type": "stream",
     "text": [
      "Epoch 27/500 [Training]: 100%|██████████| 55/55 [00:00<00:00, 1342.83it/s]\n",
      "Epoch 27/500 [Validation]: 100%|██████████| 16/16 [00:00<00:00, 2602.53it/s]\n"
     ]
    },
    {
     "name": "stdout",
     "output_type": "stream",
     "text": [
      "Epoch 27/500, Train Loss: 0.0323, Validation Loss: 0.0326\n"
     ]
    },
    {
     "name": "stderr",
     "output_type": "stream",
     "text": [
      "Epoch 28/500 [Training]: 100%|██████████| 55/55 [00:00<00:00, 1402.02it/s]\n",
      "Epoch 28/500 [Validation]: 100%|██████████| 16/16 [00:00<00:00, 2316.18it/s]\n"
     ]
    },
    {
     "name": "stdout",
     "output_type": "stream",
     "text": [
      "Epoch 28/500, Train Loss: 0.0309, Validation Loss: 0.0311\n"
     ]
    },
    {
     "name": "stderr",
     "output_type": "stream",
     "text": [
      "Epoch 29/500 [Training]: 100%|██████████| 55/55 [00:00<00:00, 1346.22it/s]\n",
      "Epoch 29/500 [Validation]: 100%|██████████| 16/16 [00:00<00:00, 2502.29it/s]\n"
     ]
    },
    {
     "name": "stdout",
     "output_type": "stream",
     "text": [
      "Epoch 29/500, Train Loss: 0.0294, Validation Loss: 0.0296\n"
     ]
    },
    {
     "name": "stderr",
     "output_type": "stream",
     "text": [
      "Epoch 30/500 [Training]: 100%|██████████| 55/55 [00:00<00:00, 1390.29it/s]\n",
      "Epoch 30/500 [Validation]: 100%|██████████| 16/16 [00:00<00:00, 2206.29it/s]\n"
     ]
    },
    {
     "name": "stdout",
     "output_type": "stream",
     "text": [
      "Epoch 30/500, Train Loss: 0.0282, Validation Loss: 0.0283\n"
     ]
    },
    {
     "name": "stderr",
     "output_type": "stream",
     "text": [
      "Epoch 31/500 [Training]: 100%|██████████| 55/55 [00:00<00:00, 1379.97it/s]\n",
      "Epoch 31/500 [Validation]: 100%|██████████| 16/16 [00:00<00:00, 2613.07it/s]\n"
     ]
    },
    {
     "name": "stdout",
     "output_type": "stream",
     "text": [
      "Epoch 31/500, Train Loss: 0.0270, Validation Loss: 0.0272\n"
     ]
    },
    {
     "name": "stderr",
     "output_type": "stream",
     "text": [
      "Epoch 32/500 [Training]: 100%|██████████| 55/55 [00:00<00:00, 1315.10it/s]\n",
      "Epoch 32/500 [Validation]: 100%|██████████| 16/16 [00:00<00:00, 2028.99it/s]\n"
     ]
    },
    {
     "name": "stdout",
     "output_type": "stream",
     "text": [
      "Epoch 32/500, Train Loss: 0.0260, Validation Loss: 0.0261\n"
     ]
    },
    {
     "name": "stderr",
     "output_type": "stream",
     "text": [
      "Epoch 33/500 [Training]: 100%|██████████| 55/55 [00:00<00:00, 1342.91it/s]\n",
      "Epoch 33/500 [Validation]: 100%|██████████| 16/16 [00:00<00:00, 2235.55it/s]\n"
     ]
    },
    {
     "name": "stdout",
     "output_type": "stream",
     "text": [
      "Epoch 33/500, Train Loss: 0.0249, Validation Loss: 0.0250\n"
     ]
    },
    {
     "name": "stderr",
     "output_type": "stream",
     "text": [
      "Epoch 34/500 [Training]: 100%|██████████| 55/55 [00:00<00:00, 1361.22it/s]\n",
      "Epoch 34/500 [Validation]: 100%|██████████| 16/16 [00:00<00:00, 2433.16it/s]\n"
     ]
    },
    {
     "name": "stdout",
     "output_type": "stream",
     "text": [
      "Epoch 34/500, Train Loss: 0.0240, Validation Loss: 0.0241\n"
     ]
    },
    {
     "name": "stderr",
     "output_type": "stream",
     "text": [
      "Epoch 35/500 [Training]: 100%|██████████| 55/55 [00:00<00:00, 1377.55it/s]\n",
      "Epoch 35/500 [Validation]: 100%|██████████| 16/16 [00:00<00:00, 2344.66it/s]\n"
     ]
    },
    {
     "name": "stdout",
     "output_type": "stream",
     "text": [
      "Epoch 35/500, Train Loss: 0.0232, Validation Loss: 0.0233\n"
     ]
    },
    {
     "name": "stderr",
     "output_type": "stream",
     "text": [
      "Epoch 36/500 [Training]: 100%|██████████| 55/55 [00:00<00:00, 1370.13it/s]\n",
      "Epoch 36/500 [Validation]: 100%|██████████| 16/16 [00:00<00:00, 2684.14it/s]\n"
     ]
    },
    {
     "name": "stdout",
     "output_type": "stream",
     "text": [
      "Epoch 36/500, Train Loss: 0.0224, Validation Loss: 0.0225\n"
     ]
    },
    {
     "name": "stderr",
     "output_type": "stream",
     "text": [
      "Epoch 37/500 [Training]: 100%|██████████| 55/55 [00:00<00:00, 1386.64it/s]\n",
      "Epoch 37/500 [Validation]: 100%|██████████| 16/16 [00:00<00:00, 2555.07it/s]\n"
     ]
    },
    {
     "name": "stdout",
     "output_type": "stream",
     "text": [
      "Epoch 37/500, Train Loss: 0.0217, Validation Loss: 0.0219\n"
     ]
    },
    {
     "name": "stderr",
     "output_type": "stream",
     "text": [
      "Epoch 38/500 [Training]: 100%|██████████| 55/55 [00:00<00:00, 1335.70it/s]\n",
      "Epoch 38/500 [Validation]: 100%|██████████| 16/16 [00:00<00:00, 2192.38it/s]\n"
     ]
    },
    {
     "name": "stdout",
     "output_type": "stream",
     "text": [
      "Epoch 38/500, Train Loss: 0.0211, Validation Loss: 0.0211\n"
     ]
    },
    {
     "name": "stderr",
     "output_type": "stream",
     "text": [
      "Epoch 39/500 [Training]: 100%|██████████| 55/55 [00:00<00:00, 1373.42it/s]\n",
      "Epoch 39/500 [Validation]: 100%|██████████| 16/16 [00:00<00:00, 2554.29it/s]\n"
     ]
    },
    {
     "name": "stdout",
     "output_type": "stream",
     "text": [
      "Epoch 39/500, Train Loss: 0.0204, Validation Loss: 0.0205\n"
     ]
    },
    {
     "name": "stderr",
     "output_type": "stream",
     "text": [
      "Epoch 40/500 [Training]: 100%|██████████| 55/55 [00:00<00:00, 1447.56it/s]\n",
      "Epoch 40/500 [Validation]: 100%|██████████| 16/16 [00:00<00:00, 2277.97it/s]\n"
     ]
    },
    {
     "name": "stdout",
     "output_type": "stream",
     "text": [
      "Epoch 40/500, Train Loss: 0.0199, Validation Loss: 0.0200\n"
     ]
    },
    {
     "name": "stderr",
     "output_type": "stream",
     "text": [
      "Epoch 41/500 [Training]: 100%|██████████| 55/55 [00:00<00:00, 1348.15it/s]\n",
      "Epoch 41/500 [Validation]: 100%|██████████| 16/16 [00:00<00:00, 2568.66it/s]\n"
     ]
    },
    {
     "name": "stdout",
     "output_type": "stream",
     "text": [
      "Epoch 41/500, Train Loss: 0.0194, Validation Loss: 0.0195\n"
     ]
    },
    {
     "name": "stderr",
     "output_type": "stream",
     "text": [
      "Epoch 42/500 [Training]: 100%|██████████| 55/55 [00:00<00:00, 1400.38it/s]\n",
      "Epoch 42/500 [Validation]: 100%|██████████| 16/16 [00:00<00:00, 2280.83it/s]\n"
     ]
    },
    {
     "name": "stdout",
     "output_type": "stream",
     "text": [
      "Epoch 42/500, Train Loss: 0.0190, Validation Loss: 0.0191\n"
     ]
    },
    {
     "name": "stderr",
     "output_type": "stream",
     "text": [
      "Epoch 43/500 [Training]: 100%|██████████| 55/55 [00:00<00:00, 1386.29it/s]\n",
      "Epoch 43/500 [Validation]: 100%|██████████| 16/16 [00:00<00:00, 2173.07it/s]\n"
     ]
    },
    {
     "name": "stdout",
     "output_type": "stream",
     "text": [
      "Epoch 43/500, Train Loss: 0.0187, Validation Loss: 0.0188\n"
     ]
    },
    {
     "name": "stderr",
     "output_type": "stream",
     "text": [
      "Epoch 44/500 [Training]: 100%|██████████| 55/55 [00:00<00:00, 1403.38it/s]\n",
      "Epoch 44/500 [Validation]: 100%|██████████| 16/16 [00:00<00:00, 2113.53it/s]\n"
     ]
    },
    {
     "name": "stdout",
     "output_type": "stream",
     "text": [
      "Epoch 44/500, Train Loss: 0.0184, Validation Loss: 0.0184\n"
     ]
    },
    {
     "name": "stderr",
     "output_type": "stream",
     "text": [
      "Epoch 45/500 [Training]: 100%|██████████| 55/55 [00:00<00:00, 1337.38it/s]\n",
      "Epoch 45/500 [Validation]: 100%|██████████| 16/16 [00:00<00:00, 2400.60it/s]\n"
     ]
    },
    {
     "name": "stdout",
     "output_type": "stream",
     "text": [
      "Epoch 45/500, Train Loss: 0.0181, Validation Loss: 0.0181\n"
     ]
    },
    {
     "name": "stderr",
     "output_type": "stream",
     "text": [
      "Epoch 46/500 [Training]: 100%|██████████| 55/55 [00:00<00:00, 1336.05it/s]\n",
      "Epoch 46/500 [Validation]: 100%|██████████| 16/16 [00:00<00:00, 2664.95it/s]\n"
     ]
    },
    {
     "name": "stdout",
     "output_type": "stream",
     "text": [
      "Epoch 46/500, Train Loss: 0.0178, Validation Loss: 0.0180\n"
     ]
    },
    {
     "name": "stderr",
     "output_type": "stream",
     "text": [
      "Epoch 47/500 [Training]: 100%|██████████| 55/55 [00:00<00:00, 1381.07it/s]\n",
      "Epoch 47/500 [Validation]: 100%|██████████| 16/16 [00:00<00:00, 2460.81it/s]\n"
     ]
    },
    {
     "name": "stdout",
     "output_type": "stream",
     "text": [
      "Epoch 47/500, Train Loss: 0.0176, Validation Loss: 0.0176\n"
     ]
    },
    {
     "name": "stderr",
     "output_type": "stream",
     "text": [
      "Epoch 48/500 [Training]: 100%|██████████| 55/55 [00:00<00:00, 1369.32it/s]\n",
      "Epoch 48/500 [Validation]: 100%|██████████| 16/16 [00:00<00:00, 2602.53it/s]\n"
     ]
    },
    {
     "name": "stdout",
     "output_type": "stream",
     "text": [
      "Epoch 48/500, Train Loss: 0.0174, Validation Loss: 0.0174\n"
     ]
    },
    {
     "name": "stderr",
     "output_type": "stream",
     "text": [
      "Epoch 49/500 [Training]: 100%|██████████| 55/55 [00:00<00:00, 1336.70it/s]\n",
      "Epoch 49/500 [Validation]: 100%|██████████| 16/16 [00:00<00:00, 2217.60it/s]\n"
     ]
    },
    {
     "name": "stdout",
     "output_type": "stream",
     "text": [
      "Epoch 49/500, Train Loss: 0.0172, Validation Loss: 0.0172\n"
     ]
    },
    {
     "name": "stderr",
     "output_type": "stream",
     "text": [
      "Epoch 50/500 [Training]: 100%|██████████| 55/55 [00:00<00:00, 1382.04it/s]\n",
      "Epoch 50/500 [Validation]: 100%|██████████| 16/16 [00:00<00:00, 2508.65it/s]\n"
     ]
    },
    {
     "name": "stdout",
     "output_type": "stream",
     "text": [
      "Epoch 50/500, Train Loss: 0.0170, Validation Loss: 0.0172\n"
     ]
    },
    {
     "name": "stderr",
     "output_type": "stream",
     "text": [
      "Epoch 51/500 [Training]: 100%|██████████| 55/55 [00:00<00:00, 1379.52it/s]\n",
      "Epoch 51/500 [Validation]: 100%|██████████| 16/16 [00:00<00:00, 2257.05it/s]\n"
     ]
    },
    {
     "name": "stdout",
     "output_type": "stream",
     "text": [
      "Epoch 51/500, Train Loss: 0.0170, Validation Loss: 0.0169\n"
     ]
    },
    {
     "name": "stderr",
     "output_type": "stream",
     "text": [
      "Epoch 52/500 [Training]: 100%|██████████| 55/55 [00:00<00:00, 1426.24it/s]\n",
      "Epoch 52/500 [Validation]: 100%|██████████| 16/16 [00:00<00:00, 2427.61it/s]\n"
     ]
    },
    {
     "name": "stdout",
     "output_type": "stream",
     "text": [
      "Epoch 52/500, Train Loss: 0.0168, Validation Loss: 0.0169\n"
     ]
    },
    {
     "name": "stderr",
     "output_type": "stream",
     "text": [
      "Epoch 53/500 [Training]: 100%|██████████| 55/55 [00:00<00:00, 1381.66it/s]\n",
      "Epoch 53/500 [Validation]: 100%|██████████| 16/16 [00:00<00:00, 2046.81it/s]\n"
     ]
    },
    {
     "name": "stdout",
     "output_type": "stream",
     "text": [
      "Epoch 53/500, Train Loss: 0.0167, Validation Loss: 0.0169\n"
     ]
    },
    {
     "name": "stderr",
     "output_type": "stream",
     "text": [
      "Epoch 54/500 [Training]: 100%|██████████| 55/55 [00:00<00:00, 1353.09it/s]\n",
      "Epoch 54/500 [Validation]: 100%|██████████| 16/16 [00:00<00:00, 2496.15it/s]\n"
     ]
    },
    {
     "name": "stdout",
     "output_type": "stream",
     "text": [
      "Epoch 54/500, Train Loss: 0.0167, Validation Loss: 0.0166\n"
     ]
    },
    {
     "name": "stderr",
     "output_type": "stream",
     "text": [
      "Epoch 55/500 [Training]: 100%|██████████| 55/55 [00:00<00:00, 1383.40it/s]\n",
      "Epoch 55/500 [Validation]: 100%|██████████| 16/16 [00:00<00:00, 2117.27it/s]\n"
     ]
    },
    {
     "name": "stdout",
     "output_type": "stream",
     "text": [
      "Epoch 55/500, Train Loss: 0.0166, Validation Loss: 0.0166\n"
     ]
    },
    {
     "name": "stderr",
     "output_type": "stream",
     "text": [
      "Epoch 56/500 [Training]: 100%|██████████| 55/55 [00:00<00:00, 1375.41it/s]\n",
      "Epoch 56/500 [Validation]: 100%|██████████| 16/16 [00:00<00:00, 2066.41it/s]\n"
     ]
    },
    {
     "name": "stdout",
     "output_type": "stream",
     "text": [
      "Epoch 56/500, Train Loss: 0.0165, Validation Loss: 0.0166\n"
     ]
    },
    {
     "name": "stderr",
     "output_type": "stream",
     "text": [
      "Epoch 57/500 [Training]: 100%|██████████| 55/55 [00:00<00:00, 1299.75it/s]\n",
      "Epoch 57/500 [Validation]: 100%|██████████| 16/16 [00:00<00:00, 2523.36it/s]\n"
     ]
    },
    {
     "name": "stdout",
     "output_type": "stream",
     "text": [
      "Epoch 57/500, Train Loss: 0.0165, Validation Loss: 0.0164\n"
     ]
    },
    {
     "name": "stderr",
     "output_type": "stream",
     "text": [
      "Epoch 58/500 [Training]: 100%|██████████| 55/55 [00:00<00:00, 1417.05it/s]\n",
      "Epoch 58/500 [Validation]: 100%|██████████| 16/16 [00:00<00:00, 2429.46it/s]\n"
     ]
    },
    {
     "name": "stdout",
     "output_type": "stream",
     "text": [
      "Epoch 58/500, Train Loss: 0.0166, Validation Loss: 0.0164\n"
     ]
    },
    {
     "name": "stderr",
     "output_type": "stream",
     "text": [
      "Epoch 59/500 [Training]: 100%|██████████| 55/55 [00:00<00:00, 1376.41it/s]\n",
      "Epoch 59/500 [Validation]: 100%|██████████| 16/16 [00:00<00:00, 2536.05it/s]\n"
     ]
    },
    {
     "name": "stdout",
     "output_type": "stream",
     "text": [
      "Epoch 59/500, Train Loss: 0.0164, Validation Loss: 0.0164\n"
     ]
    },
    {
     "name": "stderr",
     "output_type": "stream",
     "text": [
      "Epoch 60/500 [Training]: 100%|██████████| 55/55 [00:00<00:00, 1370.69it/s]\n",
      "Epoch 60/500 [Validation]: 100%|██████████| 16/16 [00:00<00:00, 2329.52it/s]\n"
     ]
    },
    {
     "name": "stdout",
     "output_type": "stream",
     "text": [
      "Epoch 60/500, Train Loss: 0.0164, Validation Loss: 0.0163\n"
     ]
    },
    {
     "name": "stderr",
     "output_type": "stream",
     "text": [
      "Epoch 61/500 [Training]: 100%|██████████| 55/55 [00:00<00:00, 1337.97it/s]\n",
      "Epoch 61/500 [Validation]: 100%|██████████| 16/16 [00:00<00:00, 2593.98it/s]\n"
     ]
    },
    {
     "name": "stdout",
     "output_type": "stream",
     "text": [
      "Epoch 61/500, Train Loss: 0.0164, Validation Loss: 0.0163\n"
     ]
    },
    {
     "name": "stderr",
     "output_type": "stream",
     "text": [
      "Epoch 62/500 [Training]: 100%|██████████| 55/55 [00:00<00:00, 1366.43it/s]\n",
      "Epoch 62/500 [Validation]: 100%|██████████| 16/16 [00:00<00:00, 2407.84it/s]\n"
     ]
    },
    {
     "name": "stdout",
     "output_type": "stream",
     "text": [
      "Epoch 62/500, Train Loss: 0.0163, Validation Loss: 0.0163\n"
     ]
    },
    {
     "name": "stderr",
     "output_type": "stream",
     "text": [
      "Epoch 63/500 [Training]: 100%|██████████| 55/55 [00:00<00:00, 1428.46it/s]\n",
      "Epoch 63/500 [Validation]: 100%|██████████| 16/16 [00:00<00:00, 2617.35it/s]\n"
     ]
    },
    {
     "name": "stdout",
     "output_type": "stream",
     "text": [
      "Epoch 63/500, Train Loss: 0.0162, Validation Loss: 0.0161\n"
     ]
    },
    {
     "name": "stderr",
     "output_type": "stream",
     "text": [
      "Epoch 64/500 [Training]: 100%|██████████| 55/55 [00:00<00:00, 1397.42it/s]\n",
      "Epoch 64/500 [Validation]: 100%|██████████| 16/16 [00:00<00:00, 2284.09it/s]\n"
     ]
    },
    {
     "name": "stdout",
     "output_type": "stream",
     "text": [
      "Epoch 64/500, Train Loss: 0.0163, Validation Loss: 0.0161\n"
     ]
    },
    {
     "name": "stderr",
     "output_type": "stream",
     "text": [
      "Epoch 65/500 [Training]: 100%|██████████| 55/55 [00:00<00:00, 1347.65it/s]\n",
      "Epoch 65/500 [Validation]: 100%|██████████| 16/16 [00:00<00:00, 2548.28it/s]\n"
     ]
    },
    {
     "name": "stdout",
     "output_type": "stream",
     "text": [
      "Epoch 65/500, Train Loss: 0.0162, Validation Loss: 0.0161\n"
     ]
    },
    {
     "name": "stderr",
     "output_type": "stream",
     "text": [
      "Epoch 66/500 [Training]: 100%|██████████| 55/55 [00:00<00:00, 1422.37it/s]\n",
      "Epoch 66/500 [Validation]: 100%|██████████| 16/16 [00:00<00:00, 2365.15it/s]\n"
     ]
    },
    {
     "name": "stdout",
     "output_type": "stream",
     "text": [
      "Epoch 66/500, Train Loss: 0.0162, Validation Loss: 0.0162\n"
     ]
    },
    {
     "name": "stderr",
     "output_type": "stream",
     "text": [
      "Epoch 67/500 [Training]: 100%|██████████| 55/55 [00:00<00:00, 1312.08it/s]\n",
      "Epoch 67/500 [Validation]: 100%|██████████| 16/16 [00:00<00:00, 2261.77it/s]\n"
     ]
    },
    {
     "name": "stdout",
     "output_type": "stream",
     "text": [
      "Epoch 67/500, Train Loss: 0.0162, Validation Loss: 0.0162\n"
     ]
    },
    {
     "name": "stderr",
     "output_type": "stream",
     "text": [
      "Epoch 68/500 [Training]: 100%|██████████| 55/55 [00:00<00:00, 1398.60it/s]\n",
      "Epoch 68/500 [Validation]: 100%|██████████| 16/16 [00:00<00:00, 2522.32it/s]\n"
     ]
    },
    {
     "name": "stdout",
     "output_type": "stream",
     "text": [
      "Epoch 68/500, Train Loss: 0.0162, Validation Loss: 0.0160\n"
     ]
    },
    {
     "name": "stderr",
     "output_type": "stream",
     "text": [
      "Epoch 69/500 [Training]: 100%|██████████| 55/55 [00:00<00:00, 1342.22it/s]\n",
      "Epoch 69/500 [Validation]: 100%|██████████| 16/16 [00:00<00:00, 2219.14it/s]\n"
     ]
    },
    {
     "name": "stdout",
     "output_type": "stream",
     "text": [
      "Epoch 69/500, Train Loss: 0.0164, Validation Loss: 0.0160\n"
     ]
    },
    {
     "name": "stderr",
     "output_type": "stream",
     "text": [
      "Epoch 70/500 [Training]: 100%|██████████| 55/55 [00:00<00:00, 1331.53it/s]\n",
      "Epoch 70/500 [Validation]: 100%|██████████| 16/16 [00:00<00:00, 2658.20it/s]\n"
     ]
    },
    {
     "name": "stdout",
     "output_type": "stream",
     "text": [
      "Epoch 70/500, Train Loss: 0.0161, Validation Loss: 0.0161\n"
     ]
    },
    {
     "name": "stderr",
     "output_type": "stream",
     "text": [
      "Epoch 71/500 [Training]: 100%|██████████| 55/55 [00:00<00:00, 1382.67it/s]\n",
      "Epoch 71/500 [Validation]: 100%|██████████| 16/16 [00:00<00:00, 2168.09it/s]\n"
     ]
    },
    {
     "name": "stdout",
     "output_type": "stream",
     "text": [
      "Epoch 71/500, Train Loss: 0.0160, Validation Loss: 0.0160\n"
     ]
    },
    {
     "name": "stderr",
     "output_type": "stream",
     "text": [
      "Epoch 72/500 [Training]: 100%|██████████| 55/55 [00:00<00:00, 1325.62it/s]\n",
      "Epoch 72/500 [Validation]: 100%|██████████| 16/16 [00:00<00:00, 2484.87it/s]\n"
     ]
    },
    {
     "name": "stdout",
     "output_type": "stream",
     "text": [
      "Epoch 72/500, Train Loss: 0.0160, Validation Loss: 0.0159\n"
     ]
    },
    {
     "name": "stderr",
     "output_type": "stream",
     "text": [
      "Epoch 73/500 [Training]: 100%|██████████| 55/55 [00:00<00:00, 1445.59it/s]\n",
      "Epoch 73/500 [Validation]: 100%|██████████| 16/16 [00:00<00:00, 2326.29it/s]\n"
     ]
    },
    {
     "name": "stdout",
     "output_type": "stream",
     "text": [
      "Epoch 73/500, Train Loss: 0.0161, Validation Loss: 0.0160\n"
     ]
    },
    {
     "name": "stderr",
     "output_type": "stream",
     "text": [
      "Epoch 74/500 [Training]: 100%|██████████| 55/55 [00:00<00:00, 1372.90it/s]\n",
      "Epoch 74/500 [Validation]: 100%|██████████| 16/16 [00:00<00:00, 2470.33it/s]\n"
     ]
    },
    {
     "name": "stdout",
     "output_type": "stream",
     "text": [
      "Epoch 74/500, Train Loss: 0.0161, Validation Loss: 0.0158\n"
     ]
    },
    {
     "name": "stderr",
     "output_type": "stream",
     "text": [
      "Epoch 75/500 [Training]: 100%|██████████| 55/55 [00:00<00:00, 1373.29it/s]\n",
      "Epoch 75/500 [Validation]: 100%|██████████| 16/16 [00:00<00:00, 2471.05it/s]\n"
     ]
    },
    {
     "name": "stdout",
     "output_type": "stream",
     "text": [
      "Epoch 75/500, Train Loss: 0.0159, Validation Loss: 0.0159\n"
     ]
    },
    {
     "name": "stderr",
     "output_type": "stream",
     "text": [
      "Epoch 76/500 [Training]: 100%|██████████| 55/55 [00:00<00:00, 1311.78it/s]\n",
      "Epoch 76/500 [Validation]: 100%|██████████| 16/16 [00:00<00:00, 1944.34it/s]\n"
     ]
    },
    {
     "name": "stdout",
     "output_type": "stream",
     "text": [
      "Epoch 76/500, Train Loss: 0.0159, Validation Loss: 0.0158\n"
     ]
    },
    {
     "name": "stderr",
     "output_type": "stream",
     "text": [
      "Epoch 77/500 [Training]: 100%|██████████| 55/55 [00:00<00:00, 1336.93it/s]\n",
      "Epoch 77/500 [Validation]: 100%|██████████| 16/16 [00:00<00:00, 2001.76it/s]\n"
     ]
    },
    {
     "name": "stdout",
     "output_type": "stream",
     "text": [
      "Epoch 77/500, Train Loss: 0.0160, Validation Loss: 0.0158\n"
     ]
    },
    {
     "name": "stderr",
     "output_type": "stream",
     "text": [
      "Epoch 78/500 [Training]: 100%|██████████| 55/55 [00:00<00:00, 1049.96it/s]\n",
      "Epoch 78/500 [Validation]: 100%|██████████| 16/16 [00:00<00:00, 2212.99it/s]\n"
     ]
    },
    {
     "name": "stdout",
     "output_type": "stream",
     "text": [
      "Epoch 78/500, Train Loss: 0.0159, Validation Loss: 0.0163\n"
     ]
    },
    {
     "name": "stderr",
     "output_type": "stream",
     "text": [
      "Epoch 79/500 [Training]: 100%|██████████| 55/55 [00:00<00:00, 1324.08it/s]\n",
      "Epoch 79/500 [Validation]: 100%|██████████| 16/16 [00:00<00:00, 2632.86it/s]\n"
     ]
    },
    {
     "name": "stdout",
     "output_type": "stream",
     "text": [
      "Epoch 79/500, Train Loss: 0.0160, Validation Loss: 0.0168\n"
     ]
    },
    {
     "name": "stderr",
     "output_type": "stream",
     "text": [
      "Epoch 80/500 [Training]: 100%|██████████| 55/55 [00:00<00:00, 1393.25it/s]\n",
      "Epoch 80/500 [Validation]: 100%|██████████| 16/16 [00:00<00:00, 2386.26it/s]\n"
     ]
    },
    {
     "name": "stdout",
     "output_type": "stream",
     "text": [
      "Epoch 80/500, Train Loss: 0.0159, Validation Loss: 0.0158\n"
     ]
    },
    {
     "name": "stderr",
     "output_type": "stream",
     "text": [
      "Epoch 81/500 [Training]: 100%|██████████| 55/55 [00:00<00:00, 1320.43it/s]\n",
      "Epoch 81/500 [Validation]: 100%|██████████| 16/16 [00:00<00:00, 2570.24it/s]\n"
     ]
    },
    {
     "name": "stdout",
     "output_type": "stream",
     "text": [
      "Epoch 81/500, Train Loss: 0.0159, Validation Loss: 0.0157\n"
     ]
    },
    {
     "name": "stderr",
     "output_type": "stream",
     "text": [
      "Epoch 82/500 [Training]: 100%|██████████| 55/55 [00:00<00:00, 1440.58it/s]\n",
      "Epoch 82/500 [Validation]: 100%|██████████| 16/16 [00:00<00:00, 2287.98it/s]\n"
     ]
    },
    {
     "name": "stdout",
     "output_type": "stream",
     "text": [
      "Epoch 82/500, Train Loss: 0.0159, Validation Loss: 0.0157\n"
     ]
    },
    {
     "name": "stderr",
     "output_type": "stream",
     "text": [
      "Epoch 83/500 [Training]: 100%|██████████| 55/55 [00:00<00:00, 1409.87it/s]\n",
      "Epoch 83/500 [Validation]: 100%|██████████| 16/16 [00:00<00:00, 2723.35it/s]\n"
     ]
    },
    {
     "name": "stdout",
     "output_type": "stream",
     "text": [
      "Epoch 83/500, Train Loss: 0.0159, Validation Loss: 0.0155\n"
     ]
    },
    {
     "name": "stderr",
     "output_type": "stream",
     "text": [
      "Epoch 84/500 [Training]: 100%|██████████| 55/55 [00:00<00:00, 1483.44it/s]\n",
      "Epoch 84/500 [Validation]: 100%|██████████| 16/16 [00:00<00:00, 2455.86it/s]\n"
     ]
    },
    {
     "name": "stdout",
     "output_type": "stream",
     "text": [
      "Epoch 84/500, Train Loss: 0.0158, Validation Loss: 0.0163\n"
     ]
    },
    {
     "name": "stderr",
     "output_type": "stream",
     "text": [
      "Epoch 85/500 [Training]: 100%|██████████| 55/55 [00:00<00:00, 1357.56it/s]\n",
      "Epoch 85/500 [Validation]: 100%|██████████| 16/16 [00:00<00:00, 2332.36it/s]\n"
     ]
    },
    {
     "name": "stdout",
     "output_type": "stream",
     "text": [
      "Epoch 85/500, Train Loss: 0.0158, Validation Loss: 0.0154\n"
     ]
    },
    {
     "name": "stderr",
     "output_type": "stream",
     "text": [
      "Epoch 86/500 [Training]: 100%|██████████| 55/55 [00:00<00:00, 1301.49it/s]\n",
      "Epoch 86/500 [Validation]: 100%|██████████| 16/16 [00:00<00:00, 2318.18it/s]\n"
     ]
    },
    {
     "name": "stdout",
     "output_type": "stream",
     "text": [
      "Epoch 86/500, Train Loss: 0.0158, Validation Loss: 0.0154\n"
     ]
    },
    {
     "name": "stderr",
     "output_type": "stream",
     "text": [
      "Epoch 87/500 [Training]: 100%|██████████| 55/55 [00:00<00:00, 1369.52it/s]\n",
      "Epoch 87/500 [Validation]: 100%|██████████| 16/16 [00:00<00:00, 2382.03it/s]\n"
     ]
    },
    {
     "name": "stdout",
     "output_type": "stream",
     "text": [
      "Epoch 87/500, Train Loss: 0.0156, Validation Loss: 0.0153\n"
     ]
    },
    {
     "name": "stderr",
     "output_type": "stream",
     "text": [
      "Epoch 88/500 [Training]: 100%|██████████| 55/55 [00:00<00:00, 1380.98it/s]\n",
      "Epoch 88/500 [Validation]: 100%|██████████| 16/16 [00:00<00:00, 2331.06it/s]\n"
     ]
    },
    {
     "name": "stdout",
     "output_type": "stream",
     "text": [
      "Epoch 88/500, Train Loss: 0.0155, Validation Loss: 0.0153\n"
     ]
    },
    {
     "name": "stderr",
     "output_type": "stream",
     "text": [
      "Epoch 89/500 [Training]: 100%|██████████| 55/55 [00:00<00:00, 1245.37it/s]\n",
      "Epoch 89/500 [Validation]: 100%|██████████| 16/16 [00:00<00:00, 2024.77it/s]\n"
     ]
    },
    {
     "name": "stdout",
     "output_type": "stream",
     "text": [
      "Epoch 89/500, Train Loss: 0.0154, Validation Loss: 0.0159\n"
     ]
    },
    {
     "name": "stderr",
     "output_type": "stream",
     "text": [
      "Epoch 90/500 [Training]: 100%|██████████| 55/55 [00:00<00:00, 1237.60it/s]\n",
      "Epoch 90/500 [Validation]: 100%|██████████| 16/16 [00:00<00:00, 2276.96it/s]\n"
     ]
    },
    {
     "name": "stdout",
     "output_type": "stream",
     "text": [
      "Epoch 90/500, Train Loss: 0.0155, Validation Loss: 0.0151\n"
     ]
    },
    {
     "name": "stderr",
     "output_type": "stream",
     "text": [
      "Epoch 91/500 [Training]: 100%|██████████| 55/55 [00:00<00:00, 1303.53it/s]\n",
      "Epoch 91/500 [Validation]: 100%|██████████| 16/16 [00:00<00:00, 2605.46it/s]\n"
     ]
    },
    {
     "name": "stdout",
     "output_type": "stream",
     "text": [
      "Epoch 91/500, Train Loss: 0.0154, Validation Loss: 0.0156\n"
     ]
    },
    {
     "name": "stderr",
     "output_type": "stream",
     "text": [
      "Epoch 92/500 [Training]: 100%|██████████| 55/55 [00:00<00:00, 1409.42it/s]\n",
      "Epoch 92/500 [Validation]: 100%|██████████| 16/16 [00:00<00:00, 2394.52it/s]\n"
     ]
    },
    {
     "name": "stdout",
     "output_type": "stream",
     "text": [
      "Epoch 92/500, Train Loss: 0.0154, Validation Loss: 0.0151\n"
     ]
    },
    {
     "name": "stderr",
     "output_type": "stream",
     "text": [
      "Epoch 93/500 [Training]: 100%|██████████| 55/55 [00:00<00:00, 1316.98it/s]\n",
      "Epoch 93/500 [Validation]: 100%|██████████| 16/16 [00:00<00:00, 2390.17it/s]\n"
     ]
    },
    {
     "name": "stdout",
     "output_type": "stream",
     "text": [
      "Epoch 93/500, Train Loss: 0.0152, Validation Loss: 0.0170\n"
     ]
    },
    {
     "name": "stderr",
     "output_type": "stream",
     "text": [
      "Epoch 94/500 [Training]: 100%|██████████| 55/55 [00:00<00:00, 1344.01it/s]\n",
      "Epoch 94/500 [Validation]: 100%|██████████| 16/16 [00:00<00:00, 2422.09it/s]\n"
     ]
    },
    {
     "name": "stdout",
     "output_type": "stream",
     "text": [
      "Epoch 94/500, Train Loss: 0.0158, Validation Loss: 0.0149\n"
     ]
    },
    {
     "name": "stderr",
     "output_type": "stream",
     "text": [
      "Epoch 95/500 [Training]: 100%|██████████| 55/55 [00:00<00:00, 1352.05it/s]\n",
      "Epoch 95/500 [Validation]: 100%|██████████| 16/16 [00:00<00:00, 2322.83it/s]\n"
     ]
    },
    {
     "name": "stdout",
     "output_type": "stream",
     "text": [
      "Epoch 95/500, Train Loss: 0.0149, Validation Loss: 0.0148\n"
     ]
    },
    {
     "name": "stderr",
     "output_type": "stream",
     "text": [
      "Epoch 96/500 [Training]: 100%|██████████| 55/55 [00:00<00:00, 1367.62it/s]\n",
      "Epoch 96/500 [Validation]: 100%|██████████| 16/16 [00:00<00:00, 2629.86it/s]\n"
     ]
    },
    {
     "name": "stdout",
     "output_type": "stream",
     "text": [
      "Epoch 96/500, Train Loss: 0.0149, Validation Loss: 0.0146\n"
     ]
    },
    {
     "name": "stderr",
     "output_type": "stream",
     "text": [
      "Epoch 97/500 [Training]: 100%|██████████| 55/55 [00:00<00:00, 1396.54it/s]\n",
      "Epoch 97/500 [Validation]: 100%|██████████| 16/16 [00:00<00:00, 2336.82it/s]\n"
     ]
    },
    {
     "name": "stdout",
     "output_type": "stream",
     "text": [
      "Epoch 97/500, Train Loss: 0.0149, Validation Loss: 0.0146\n"
     ]
    },
    {
     "name": "stderr",
     "output_type": "stream",
     "text": [
      "Epoch 98/500 [Training]: 100%|██████████| 55/55 [00:00<00:00, 1299.47it/s]\n",
      "Epoch 98/500 [Validation]: 100%|██████████| 16/16 [00:00<00:00, 2654.20it/s]\n"
     ]
    },
    {
     "name": "stdout",
     "output_type": "stream",
     "text": [
      "Epoch 98/500, Train Loss: 0.0149, Validation Loss: 0.0155\n"
     ]
    },
    {
     "name": "stderr",
     "output_type": "stream",
     "text": [
      "Epoch 99/500 [Training]: 100%|██████████| 55/55 [00:00<00:00, 1391.24it/s]\n",
      "Epoch 99/500 [Validation]: 100%|██████████| 16/16 [00:00<00:00, 2242.49it/s]\n"
     ]
    },
    {
     "name": "stdout",
     "output_type": "stream",
     "text": [
      "Epoch 99/500, Train Loss: 0.0152, Validation Loss: 0.0145\n"
     ]
    },
    {
     "name": "stderr",
     "output_type": "stream",
     "text": [
      "Epoch 100/500 [Training]: 100%|██████████| 55/55 [00:00<00:00, 1215.79it/s]\n",
      "Epoch 100/500 [Validation]: 100%|██████████| 16/16 [00:00<00:00, 2169.84it/s]\n"
     ]
    },
    {
     "name": "stdout",
     "output_type": "stream",
     "text": [
      "Epoch 100/500, Train Loss: 0.0144, Validation Loss: 0.0146\n"
     ]
    },
    {
     "name": "stderr",
     "output_type": "stream",
     "text": [
      "Epoch 101/500 [Training]: 100%|██████████| 55/55 [00:00<00:00, 1375.31it/s]\n",
      "Epoch 101/500 [Validation]: 100%|██████████| 16/16 [00:00<00:00, 2570.63it/s]\n"
     ]
    },
    {
     "name": "stdout",
     "output_type": "stream",
     "text": [
      "Epoch 101/500, Train Loss: 0.0144, Validation Loss: 0.0139\n"
     ]
    },
    {
     "name": "stderr",
     "output_type": "stream",
     "text": [
      "Epoch 102/500 [Training]: 100%|██████████| 55/55 [00:00<00:00, 1386.58it/s]\n",
      "Epoch 102/500 [Validation]: 100%|██████████| 16/16 [00:00<00:00, 2378.57it/s]\n"
     ]
    },
    {
     "name": "stdout",
     "output_type": "stream",
     "text": [
      "Epoch 102/500, Train Loss: 0.0143, Validation Loss: 0.0136\n"
     ]
    },
    {
     "name": "stderr",
     "output_type": "stream",
     "text": [
      "Epoch 103/500 [Training]: 100%|██████████| 55/55 [00:00<00:00, 1238.60it/s]\n",
      "Epoch 103/500 [Validation]: 100%|██████████| 16/16 [00:00<00:00, 2503.22it/s]\n"
     ]
    },
    {
     "name": "stdout",
     "output_type": "stream",
     "text": [
      "Epoch 103/500, Train Loss: 0.0141, Validation Loss: 0.0134\n"
     ]
    },
    {
     "name": "stderr",
     "output_type": "stream",
     "text": [
      "Epoch 104/500 [Training]: 100%|██████████| 55/55 [00:00<00:00, 1399.20it/s]\n",
      "Epoch 104/500 [Validation]: 100%|██████████| 16/16 [00:00<00:00, 2636.27it/s]\n"
     ]
    },
    {
     "name": "stdout",
     "output_type": "stream",
     "text": [
      "Epoch 104/500, Train Loss: 0.0137, Validation Loss: 0.0133\n"
     ]
    },
    {
     "name": "stderr",
     "output_type": "stream",
     "text": [
      "Epoch 105/500 [Training]: 100%|██████████| 55/55 [00:00<00:00, 1373.96it/s]\n",
      "Epoch 105/500 [Validation]: 100%|██████████| 16/16 [00:00<00:00, 2359.50it/s]\n"
     ]
    },
    {
     "name": "stdout",
     "output_type": "stream",
     "text": [
      "Epoch 105/500, Train Loss: 0.0137, Validation Loss: 0.0132\n"
     ]
    },
    {
     "name": "stderr",
     "output_type": "stream",
     "text": [
      "Epoch 106/500 [Training]: 100%|██████████| 55/55 [00:00<00:00, 1409.57it/s]\n",
      "Epoch 106/500 [Validation]: 100%|██████████| 16/16 [00:00<00:00, 2625.54it/s]\n"
     ]
    },
    {
     "name": "stdout",
     "output_type": "stream",
     "text": [
      "Epoch 106/500, Train Loss: 0.0136, Validation Loss: 0.0130\n"
     ]
    },
    {
     "name": "stderr",
     "output_type": "stream",
     "text": [
      "Epoch 107/500 [Training]: 100%|██████████| 55/55 [00:00<00:00, 1312.17it/s]\n",
      "Epoch 107/500 [Validation]: 100%|██████████| 16/16 [00:00<00:00, 2270.72it/s]\n"
     ]
    },
    {
     "name": "stdout",
     "output_type": "stream",
     "text": [
      "Epoch 107/500, Train Loss: 0.0140, Validation Loss: 0.0132\n"
     ]
    },
    {
     "name": "stderr",
     "output_type": "stream",
     "text": [
      "Epoch 108/500 [Training]: 100%|██████████| 55/55 [00:00<00:00, 1360.86it/s]\n",
      "Epoch 108/500 [Validation]: 100%|██████████| 16/16 [00:00<00:00, 2410.78it/s]\n"
     ]
    },
    {
     "name": "stdout",
     "output_type": "stream",
     "text": [
      "Epoch 108/500, Train Loss: 0.0135, Validation Loss: 0.0128\n"
     ]
    },
    {
     "name": "stderr",
     "output_type": "stream",
     "text": [
      "Epoch 109/500 [Training]: 100%|██████████| 55/55 [00:00<00:00, 1331.43it/s]\n",
      "Epoch 109/500 [Validation]: 100%|██████████| 16/16 [00:00<00:00, 2281.76it/s]\n"
     ]
    },
    {
     "name": "stdout",
     "output_type": "stream",
     "text": [
      "Epoch 109/500, Train Loss: 0.0134, Validation Loss: 0.0134\n"
     ]
    },
    {
     "name": "stderr",
     "output_type": "stream",
     "text": [
      "Epoch 110/500 [Training]: 100%|██████████| 55/55 [00:00<00:00, 1368.15it/s]\n",
      "Epoch 110/500 [Validation]: 100%|██████████| 16/16 [00:00<00:00, 2363.32it/s]\n"
     ]
    },
    {
     "name": "stdout",
     "output_type": "stream",
     "text": [
      "Epoch 110/500, Train Loss: 0.0135, Validation Loss: 0.0136\n"
     ]
    },
    {
     "name": "stderr",
     "output_type": "stream",
     "text": [
      "Epoch 111/500 [Training]: 100%|██████████| 55/55 [00:00<00:00, 1285.46it/s]\n",
      "Epoch 111/500 [Validation]: 100%|██████████| 16/16 [00:00<00:00, 1759.36it/s]\n"
     ]
    },
    {
     "name": "stdout",
     "output_type": "stream",
     "text": [
      "Epoch 111/500, Train Loss: 0.0134, Validation Loss: 0.0125\n"
     ]
    },
    {
     "name": "stderr",
     "output_type": "stream",
     "text": [
      "Epoch 112/500 [Training]: 100%|██████████| 55/55 [00:00<00:00, 1350.22it/s]\n",
      "Epoch 112/500 [Validation]: 100%|██████████| 16/16 [00:00<00:00, 2398.54it/s]\n"
     ]
    },
    {
     "name": "stdout",
     "output_type": "stream",
     "text": [
      "Epoch 112/500, Train Loss: 0.0131, Validation Loss: 0.0127\n"
     ]
    },
    {
     "name": "stderr",
     "output_type": "stream",
     "text": [
      "Epoch 113/500 [Training]: 100%|██████████| 55/55 [00:00<00:00, 1318.78it/s]\n",
      "Epoch 113/500 [Validation]: 100%|██████████| 16/16 [00:00<00:00, 2230.86it/s]\n"
     ]
    },
    {
     "name": "stdout",
     "output_type": "stream",
     "text": [
      "Epoch 113/500, Train Loss: 0.0130, Validation Loss: 0.0124\n"
     ]
    },
    {
     "name": "stderr",
     "output_type": "stream",
     "text": [
      "Epoch 114/500 [Training]: 100%|██████████| 55/55 [00:00<00:00, 1327.22it/s]\n",
      "Epoch 114/500 [Validation]: 100%|██████████| 16/16 [00:00<00:00, 2447.26it/s]\n"
     ]
    },
    {
     "name": "stdout",
     "output_type": "stream",
     "text": [
      "Epoch 114/500, Train Loss: 0.0132, Validation Loss: 0.0124\n"
     ]
    },
    {
     "name": "stderr",
     "output_type": "stream",
     "text": [
      "Epoch 115/500 [Training]: 100%|██████████| 55/55 [00:00<00:00, 1334.43it/s]\n",
      "Epoch 115/500 [Validation]: 100%|██████████| 16/16 [00:00<00:00, 2506.59it/s]\n"
     ]
    },
    {
     "name": "stdout",
     "output_type": "stream",
     "text": [
      "Epoch 115/500, Train Loss: 0.0128, Validation Loss: 0.0122\n"
     ]
    },
    {
     "name": "stderr",
     "output_type": "stream",
     "text": [
      "Epoch 116/500 [Training]: 100%|██████████| 55/55 [00:00<00:00, 1372.25it/s]\n",
      "Epoch 116/500 [Validation]: 100%|██████████| 16/16 [00:00<00:00, 2420.95it/s]\n"
     ]
    },
    {
     "name": "stdout",
     "output_type": "stream",
     "text": [
      "Epoch 116/500, Train Loss: 0.0131, Validation Loss: 0.0124\n"
     ]
    },
    {
     "name": "stderr",
     "output_type": "stream",
     "text": [
      "Epoch 117/500 [Training]: 100%|██████████| 55/55 [00:00<00:00, 1376.03it/s]\n",
      "Epoch 117/500 [Validation]: 100%|██████████| 16/16 [00:00<00:00, 2473.33it/s]\n"
     ]
    },
    {
     "name": "stdout",
     "output_type": "stream",
     "text": [
      "Epoch 117/500, Train Loss: 0.0129, Validation Loss: 0.0129\n"
     ]
    },
    {
     "name": "stderr",
     "output_type": "stream",
     "text": [
      "Epoch 118/500 [Training]: 100%|██████████| 55/55 [00:00<00:00, 1438.81it/s]\n",
      "Epoch 118/500 [Validation]: 100%|██████████| 16/16 [00:00<00:00, 2347.45it/s]\n"
     ]
    },
    {
     "name": "stdout",
     "output_type": "stream",
     "text": [
      "Epoch 118/500, Train Loss: 0.0129, Validation Loss: 0.0122\n"
     ]
    },
    {
     "name": "stderr",
     "output_type": "stream",
     "text": [
      "Epoch 119/500 [Training]: 100%|██████████| 55/55 [00:00<00:00, 1393.92it/s]\n",
      "Epoch 119/500 [Validation]: 100%|██████████| 16/16 [00:00<00:00, 2339.18it/s]\n"
     ]
    },
    {
     "name": "stdout",
     "output_type": "stream",
     "text": [
      "Epoch 119/500, Train Loss: 0.0130, Validation Loss: 0.0121\n"
     ]
    },
    {
     "name": "stderr",
     "output_type": "stream",
     "text": [
      "Epoch 120/500 [Training]: 100%|██████████| 55/55 [00:00<00:00, 1334.21it/s]\n",
      "Epoch 120/500 [Validation]: 100%|██████████| 16/16 [00:00<00:00, 2267.96it/s]\n"
     ]
    },
    {
     "name": "stdout",
     "output_type": "stream",
     "text": [
      "Epoch 120/500, Train Loss: 0.0125, Validation Loss: 0.0140\n"
     ]
    },
    {
     "name": "stderr",
     "output_type": "stream",
     "text": [
      "Epoch 121/500 [Training]: 100%|██████████| 55/55 [00:00<00:00, 1345.11it/s]\n",
      "Epoch 121/500 [Validation]: 100%|██████████| 16/16 [00:00<00:00, 2354.70it/s]\n"
     ]
    },
    {
     "name": "stdout",
     "output_type": "stream",
     "text": [
      "Epoch 121/500, Train Loss: 0.0135, Validation Loss: 0.0123\n"
     ]
    },
    {
     "name": "stderr",
     "output_type": "stream",
     "text": [
      "Epoch 122/500 [Training]: 100%|██████████| 55/55 [00:00<00:00, 1181.06it/s]\n",
      "Epoch 122/500 [Validation]: 100%|██████████| 16/16 [00:00<00:00, 2544.03it/s]\n"
     ]
    },
    {
     "name": "stdout",
     "output_type": "stream",
     "text": [
      "Epoch 122/500, Train Loss: 0.0129, Validation Loss: 0.0122\n"
     ]
    },
    {
     "name": "stderr",
     "output_type": "stream",
     "text": [
      "Epoch 123/500 [Training]: 100%|██████████| 55/55 [00:00<00:00, 1392.30it/s]\n",
      "Epoch 123/500 [Validation]: 100%|██████████| 16/16 [00:00<00:00, 2251.60it/s]\n"
     ]
    },
    {
     "name": "stdout",
     "output_type": "stream",
     "text": [
      "Epoch 123/500, Train Loss: 0.0131, Validation Loss: 0.0123\n"
     ]
    },
    {
     "name": "stderr",
     "output_type": "stream",
     "text": [
      "Epoch 124/500 [Training]: 100%|██████████| 55/55 [00:00<00:00, 1428.35it/s]\n",
      "Epoch 124/500 [Validation]: 100%|██████████| 16/16 [00:00<00:00, 2587.38it/s]\n"
     ]
    },
    {
     "name": "stdout",
     "output_type": "stream",
     "text": [
      "Epoch 124/500, Train Loss: 0.0125, Validation Loss: 0.0121\n"
     ]
    },
    {
     "name": "stderr",
     "output_type": "stream",
     "text": [
      "Epoch 125/500 [Training]: 100%|██████████| 55/55 [00:00<00:00, 1380.04it/s]\n",
      "Epoch 125/500 [Validation]: 100%|██████████| 16/16 [00:00<00:00, 2330.33it/s]\n"
     ]
    },
    {
     "name": "stdout",
     "output_type": "stream",
     "text": [
      "Epoch 125/500, Train Loss: 0.0127, Validation Loss: 0.0121\n"
     ]
    },
    {
     "name": "stderr",
     "output_type": "stream",
     "text": [
      "Epoch 126/500 [Training]: 100%|██████████| 55/55 [00:00<00:00, 1340.25it/s]\n",
      "Epoch 126/500 [Validation]: 100%|██████████| 16/16 [00:00<00:00, 2438.73it/s]\n"
     ]
    },
    {
     "name": "stdout",
     "output_type": "stream",
     "text": [
      "Epoch 126/500, Train Loss: 0.0127, Validation Loss: 0.0130\n"
     ]
    },
    {
     "name": "stderr",
     "output_type": "stream",
     "text": [
      "Epoch 127/500 [Training]: 100%|██████████| 55/55 [00:00<00:00, 1303.84it/s]\n",
      "Epoch 127/500 [Validation]: 100%|██████████| 16/16 [00:00<00:00, 2401.03it/s]\n"
     ]
    },
    {
     "name": "stdout",
     "output_type": "stream",
     "text": [
      "Epoch 127/500, Train Loss: 0.0127, Validation Loss: 0.0120\n"
     ]
    },
    {
     "name": "stderr",
     "output_type": "stream",
     "text": [
      "Epoch 128/500 [Training]: 100%|██████████| 55/55 [00:00<00:00, 1278.86it/s]\n",
      "Epoch 128/500 [Validation]: 100%|██████████| 16/16 [00:00<00:00, 2147.41it/s]\n"
     ]
    },
    {
     "name": "stdout",
     "output_type": "stream",
     "text": [
      "Epoch 128/500, Train Loss: 0.0125, Validation Loss: 0.0122\n"
     ]
    },
    {
     "name": "stderr",
     "output_type": "stream",
     "text": [
      "Epoch 129/500 [Training]: 100%|██████████| 55/55 [00:00<00:00, 1270.21it/s]\n",
      "Epoch 129/500 [Validation]: 100%|██████████| 16/16 [00:00<00:00, 2322.59it/s]\n"
     ]
    },
    {
     "name": "stdout",
     "output_type": "stream",
     "text": [
      "Epoch 129/500, Train Loss: 0.0128, Validation Loss: 0.0126\n"
     ]
    },
    {
     "name": "stderr",
     "output_type": "stream",
     "text": [
      "Epoch 130/500 [Training]: 100%|██████████| 55/55 [00:00<00:00, 1349.22it/s]\n",
      "Epoch 130/500 [Validation]: 100%|██████████| 16/16 [00:00<00:00, 2640.73it/s]\n"
     ]
    },
    {
     "name": "stdout",
     "output_type": "stream",
     "text": [
      "Epoch 130/500, Train Loss: 0.0133, Validation Loss: 0.0125\n"
     ]
    },
    {
     "name": "stderr",
     "output_type": "stream",
     "text": [
      "Epoch 131/500 [Training]: 100%|██████████| 55/55 [00:00<00:00, 1419.29it/s]\n",
      "Epoch 131/500 [Validation]: 100%|██████████| 16/16 [00:00<00:00, 2324.20it/s]\n"
     ]
    },
    {
     "name": "stdout",
     "output_type": "stream",
     "text": [
      "Epoch 131/500, Train Loss: 0.0129, Validation Loss: 0.0121\n"
     ]
    },
    {
     "name": "stderr",
     "output_type": "stream",
     "text": [
      "Epoch 132/500 [Training]: 100%|██████████| 55/55 [00:00<00:00, 1319.67it/s]\n",
      "Epoch 132/500 [Validation]: 100%|██████████| 16/16 [00:00<00:00, 1825.89it/s]\n"
     ]
    },
    {
     "name": "stdout",
     "output_type": "stream",
     "text": [
      "Epoch 132/500, Train Loss: 0.0124, Validation Loss: 0.0132\n"
     ]
    },
    {
     "name": "stderr",
     "output_type": "stream",
     "text": [
      "Epoch 133/500 [Training]: 100%|██████████| 55/55 [00:00<00:00, 1383.85it/s]\n",
      "Epoch 133/500 [Validation]: 100%|██████████| 16/16 [00:00<00:00, 2356.02it/s]\n"
     ]
    },
    {
     "name": "stdout",
     "output_type": "stream",
     "text": [
      "Epoch 133/500, Train Loss: 0.0128, Validation Loss: 0.0120\n"
     ]
    },
    {
     "name": "stderr",
     "output_type": "stream",
     "text": [
      "Epoch 134/500 [Training]: 100%|██████████| 55/55 [00:00<00:00, 1342.74it/s]\n",
      "Epoch 134/500 [Validation]: 100%|██████████| 16/16 [00:00<00:00, 2388.81it/s]\n"
     ]
    },
    {
     "name": "stdout",
     "output_type": "stream",
     "text": [
      "Epoch 134/500, Train Loss: 0.0125, Validation Loss: 0.0158\n"
     ]
    },
    {
     "name": "stderr",
     "output_type": "stream",
     "text": [
      "Epoch 135/500 [Training]: 100%|██████████| 55/55 [00:00<00:00, 1312.15it/s]\n",
      "Epoch 135/500 [Validation]: 100%|██████████| 16/16 [00:00<00:00, 2603.34it/s]\n"
     ]
    },
    {
     "name": "stdout",
     "output_type": "stream",
     "text": [
      "Epoch 135/500, Train Loss: 0.0125, Validation Loss: 0.0130\n"
     ]
    },
    {
     "name": "stderr",
     "output_type": "stream",
     "text": [
      "Epoch 136/500 [Training]: 100%|██████████| 55/55 [00:00<00:00, 1416.28it/s]\n",
      "Epoch 136/500 [Validation]: 100%|██████████| 16/16 [00:00<00:00, 2258.65it/s]\n"
     ]
    },
    {
     "name": "stdout",
     "output_type": "stream",
     "text": [
      "Epoch 136/500, Train Loss: 0.0129, Validation Loss: 0.0121\n"
     ]
    },
    {
     "name": "stderr",
     "output_type": "stream",
     "text": [
      "Epoch 137/500 [Training]: 100%|██████████| 55/55 [00:00<00:00, 1408.56it/s]\n",
      "Epoch 137/500 [Validation]: 100%|██████████| 16/16 [00:00<00:00, 2552.64it/s]\n"
     ]
    },
    {
     "name": "stdout",
     "output_type": "stream",
     "text": [
      "Epoch 137/500, Train Loss: 0.0127, Validation Loss: 0.0128\n"
     ]
    },
    {
     "name": "stderr",
     "output_type": "stream",
     "text": [
      "Epoch 138/500 [Training]: 100%|██████████| 55/55 [00:00<00:00, 1372.40it/s]\n",
      "Epoch 138/500 [Validation]: 100%|██████████| 16/16 [00:00<00:00, 2211.46it/s]\n"
     ]
    },
    {
     "name": "stdout",
     "output_type": "stream",
     "text": [
      "Epoch 138/500, Train Loss: 0.0130, Validation Loss: 0.0143\n"
     ]
    },
    {
     "name": "stderr",
     "output_type": "stream",
     "text": [
      "Epoch 139/500 [Training]: 100%|██████████| 55/55 [00:00<00:00, 1309.02it/s]\n",
      "Epoch 139/500 [Validation]: 100%|██████████| 16/16 [00:00<00:00, 2430.86it/s]\n"
     ]
    },
    {
     "name": "stdout",
     "output_type": "stream",
     "text": [
      "Epoch 139/500, Train Loss: 0.0126, Validation Loss: 0.0120\n"
     ]
    },
    {
     "name": "stderr",
     "output_type": "stream",
     "text": [
      "Epoch 140/500 [Training]: 100%|██████████| 55/55 [00:00<00:00, 1420.01it/s]\n",
      "Epoch 140/500 [Validation]: 100%|██████████| 16/16 [00:00<00:00, 2271.03it/s]\n"
     ]
    },
    {
     "name": "stdout",
     "output_type": "stream",
     "text": [
      "Epoch 140/500, Train Loss: 0.0125, Validation Loss: 0.0133\n"
     ]
    },
    {
     "name": "stderr",
     "output_type": "stream",
     "text": [
      "Epoch 141/500 [Training]: 100%|██████████| 55/55 [00:00<00:00, 1384.09it/s]\n",
      "Epoch 141/500 [Validation]: 100%|██████████| 16/16 [00:00<00:00, 2470.42it/s]\n"
     ]
    },
    {
     "name": "stdout",
     "output_type": "stream",
     "text": [
      "Epoch 141/500, Train Loss: 0.0125, Validation Loss: 0.0120\n"
     ]
    },
    {
     "name": "stderr",
     "output_type": "stream",
     "text": [
      "Epoch 142/500 [Training]: 100%|██████████| 55/55 [00:00<00:00, 1142.57it/s]\n",
      "Epoch 142/500 [Validation]: 100%|██████████| 16/16 [00:00<00:00, 2415.03it/s]\n"
     ]
    },
    {
     "name": "stdout",
     "output_type": "stream",
     "text": [
      "Epoch 142/500, Train Loss: 0.0128, Validation Loss: 0.0120\n"
     ]
    },
    {
     "name": "stderr",
     "output_type": "stream",
     "text": [
      "Epoch 143/500 [Training]: 100%|██████████| 55/55 [00:00<00:00, 1340.87it/s]\n",
      "Epoch 143/500 [Validation]: 100%|██████████| 16/16 [00:00<00:00, 2654.31it/s]\n"
     ]
    },
    {
     "name": "stdout",
     "output_type": "stream",
     "text": [
      "Epoch 143/500, Train Loss: 0.0126, Validation Loss: 0.0119\n"
     ]
    },
    {
     "name": "stderr",
     "output_type": "stream",
     "text": [
      "Epoch 144/500 [Training]: 100%|██████████| 55/55 [00:00<00:00, 1341.66it/s]\n",
      "Epoch 144/500 [Validation]: 100%|██████████| 16/16 [00:00<00:00, 2368.91it/s]\n"
     ]
    },
    {
     "name": "stdout",
     "output_type": "stream",
     "text": [
      "Epoch 144/500, Train Loss: 0.0124, Validation Loss: 0.0127\n"
     ]
    },
    {
     "name": "stderr",
     "output_type": "stream",
     "text": [
      "Epoch 145/500 [Training]: 100%|██████████| 55/55 [00:00<00:00, 1385.36it/s]\n",
      "Epoch 145/500 [Validation]: 100%|██████████| 16/16 [00:00<00:00, 2402.06it/s]\n"
     ]
    },
    {
     "name": "stdout",
     "output_type": "stream",
     "text": [
      "Epoch 145/500, Train Loss: 0.0130, Validation Loss: 0.0123\n"
     ]
    },
    {
     "name": "stderr",
     "output_type": "stream",
     "text": [
      "Epoch 146/500 [Training]: 100%|██████████| 55/55 [00:00<00:00, 1354.78it/s]\n",
      "Epoch 146/500 [Validation]: 100%|██████████| 16/16 [00:00<00:00, 2348.76it/s]\n"
     ]
    },
    {
     "name": "stdout",
     "output_type": "stream",
     "text": [
      "Epoch 146/500, Train Loss: 0.0127, Validation Loss: 0.0120\n"
     ]
    },
    {
     "name": "stderr",
     "output_type": "stream",
     "text": [
      "Epoch 147/500 [Training]: 100%|██████████| 55/55 [00:00<00:00, 1302.15it/s]\n",
      "Epoch 147/500 [Validation]: 100%|██████████| 16/16 [00:00<00:00, 2619.19it/s]\n"
     ]
    },
    {
     "name": "stdout",
     "output_type": "stream",
     "text": [
      "Epoch 147/500, Train Loss: 0.0126, Validation Loss: 0.0119\n"
     ]
    },
    {
     "name": "stderr",
     "output_type": "stream",
     "text": [
      "Epoch 148/500 [Training]: 100%|██████████| 55/55 [00:00<00:00, 1381.32it/s]\n",
      "Epoch 148/500 [Validation]: 100%|██████████| 16/16 [00:00<00:00, 2120.95it/s]\n"
     ]
    },
    {
     "name": "stdout",
     "output_type": "stream",
     "text": [
      "Epoch 148/500, Train Loss: 0.0125, Validation Loss: 0.0123\n"
     ]
    },
    {
     "name": "stderr",
     "output_type": "stream",
     "text": [
      "Epoch 149/500 [Training]: 100%|██████████| 55/55 [00:00<00:00, 1335.43it/s]\n",
      "Epoch 149/500 [Validation]: 100%|██████████| 16/16 [00:00<00:00, 2422.00it/s]\n"
     ]
    },
    {
     "name": "stdout",
     "output_type": "stream",
     "text": [
      "Epoch 149/500, Train Loss: 0.0124, Validation Loss: 0.0121\n"
     ]
    },
    {
     "name": "stderr",
     "output_type": "stream",
     "text": [
      "Epoch 150/500 [Training]: 100%|██████████| 55/55 [00:00<00:00, 1397.78it/s]\n",
      "Epoch 150/500 [Validation]: 100%|██████████| 16/16 [00:00<00:00, 2560.43it/s]\n"
     ]
    },
    {
     "name": "stdout",
     "output_type": "stream",
     "text": [
      "Epoch 150/500, Train Loss: 0.0124, Validation Loss: 0.0119\n"
     ]
    },
    {
     "name": "stderr",
     "output_type": "stream",
     "text": [
      "Epoch 151/500 [Training]: 100%|██████████| 55/55 [00:00<00:00, 1378.80it/s]\n",
      "Epoch 151/500 [Validation]: 100%|██████████| 16/16 [00:00<00:00, 2383.80it/s]\n"
     ]
    },
    {
     "name": "stdout",
     "output_type": "stream",
     "text": [
      "Epoch 151/500, Train Loss: 0.0126, Validation Loss: 0.0119\n"
     ]
    },
    {
     "name": "stderr",
     "output_type": "stream",
     "text": [
      "Epoch 152/500 [Training]: 100%|██████████| 55/55 [00:00<00:00, 1216.57it/s]\n",
      "Epoch 152/500 [Validation]: 100%|██████████| 16/16 [00:00<00:00, 1690.48it/s]\n"
     ]
    },
    {
     "name": "stdout",
     "output_type": "stream",
     "text": [
      "Epoch 152/500, Train Loss: 0.0125, Validation Loss: 0.0119\n"
     ]
    },
    {
     "name": "stderr",
     "output_type": "stream",
     "text": [
      "Epoch 153/500 [Training]: 100%|██████████| 55/55 [00:00<00:00, 1328.30it/s]\n",
      "Epoch 153/500 [Validation]: 100%|██████████| 16/16 [00:00<00:00, 2472.24it/s]\n"
     ]
    },
    {
     "name": "stdout",
     "output_type": "stream",
     "text": [
      "Epoch 153/500, Train Loss: 0.0131, Validation Loss: 0.0123\n"
     ]
    },
    {
     "name": "stderr",
     "output_type": "stream",
     "text": [
      "Epoch 154/500 [Training]: 100%|██████████| 55/55 [00:00<00:00, 1421.96it/s]\n",
      "Epoch 154/500 [Validation]: 100%|██████████| 16/16 [00:00<00:00, 2244.67it/s]\n"
     ]
    },
    {
     "name": "stdout",
     "output_type": "stream",
     "text": [
      "Epoch 154/500, Train Loss: 0.0130, Validation Loss: 0.0137\n"
     ]
    },
    {
     "name": "stderr",
     "output_type": "stream",
     "text": [
      "Epoch 155/500 [Training]: 100%|██████████| 55/55 [00:00<00:00, 1426.99it/s]\n",
      "Epoch 155/500 [Validation]: 100%|██████████| 16/16 [00:00<00:00, 2467.60it/s]\n"
     ]
    },
    {
     "name": "stdout",
     "output_type": "stream",
     "text": [
      "Epoch 155/500, Train Loss: 0.0128, Validation Loss: 0.0128\n"
     ]
    },
    {
     "name": "stderr",
     "output_type": "stream",
     "text": [
      "Epoch 156/500 [Training]: 100%|██████████| 55/55 [00:00<00:00, 1406.62it/s]\n",
      "Epoch 156/500 [Validation]: 100%|██████████| 16/16 [00:00<00:00, 2332.27it/s]\n"
     ]
    },
    {
     "name": "stdout",
     "output_type": "stream",
     "text": [
      "Epoch 156/500, Train Loss: 0.0129, Validation Loss: 0.0150\n"
     ]
    },
    {
     "name": "stderr",
     "output_type": "stream",
     "text": [
      "Epoch 157/500 [Training]: 100%|██████████| 55/55 [00:00<00:00, 1354.65it/s]\n",
      "Epoch 157/500 [Validation]: 100%|██████████| 16/16 [00:00<00:00, 2653.36it/s]\n"
     ]
    },
    {
     "name": "stdout",
     "output_type": "stream",
     "text": [
      "Epoch 157/500, Train Loss: 0.0126, Validation Loss: 0.0119\n"
     ]
    },
    {
     "name": "stderr",
     "output_type": "stream",
     "text": [
      "Epoch 158/500 [Training]: 100%|██████████| 55/55 [00:00<00:00, 1344.70it/s]\n",
      "Epoch 158/500 [Validation]: 100%|██████████| 16/16 [00:00<00:00, 2326.29it/s]\n"
     ]
    },
    {
     "name": "stdout",
     "output_type": "stream",
     "text": [
      "Epoch 158/500, Train Loss: 0.0124, Validation Loss: 0.0124\n"
     ]
    },
    {
     "name": "stderr",
     "output_type": "stream",
     "text": [
      "Epoch 159/500 [Training]: 100%|██████████| 55/55 [00:00<00:00, 1351.42it/s]\n",
      "Epoch 159/500 [Validation]: 100%|██████████| 16/16 [00:00<00:00, 2565.42it/s]\n"
     ]
    },
    {
     "name": "stdout",
     "output_type": "stream",
     "text": [
      "Epoch 159/500, Train Loss: 0.0130, Validation Loss: 0.0124\n"
     ]
    },
    {
     "name": "stderr",
     "output_type": "stream",
     "text": [
      "Epoch 160/500 [Training]: 100%|██████████| 55/55 [00:00<00:00, 1347.91it/s]\n",
      "Epoch 160/500 [Validation]: 100%|██████████| 16/16 [00:00<00:00, 2327.58it/s]\n"
     ]
    },
    {
     "name": "stdout",
     "output_type": "stream",
     "text": [
      "Epoch 160/500, Train Loss: 0.0123, Validation Loss: 0.0122\n"
     ]
    },
    {
     "name": "stderr",
     "output_type": "stream",
     "text": [
      "Epoch 161/500 [Training]: 100%|██████████| 55/55 [00:00<00:00, 1346.38it/s]\n",
      "Epoch 161/500 [Validation]: 100%|██████████| 16/16 [00:00<00:00, 2511.47it/s]\n"
     ]
    },
    {
     "name": "stdout",
     "output_type": "stream",
     "text": [
      "Epoch 161/500, Train Loss: 0.0127, Validation Loss: 0.0119\n"
     ]
    },
    {
     "name": "stderr",
     "output_type": "stream",
     "text": [
      "Epoch 162/500 [Training]: 100%|██████████| 55/55 [00:00<00:00, 1376.07it/s]\n",
      "Epoch 162/500 [Validation]: 100%|██████████| 16/16 [00:00<00:00, 1820.10it/s]\n"
     ]
    },
    {
     "name": "stdout",
     "output_type": "stream",
     "text": [
      "Epoch 162/500, Train Loss: 0.0124, Validation Loss: 0.0121\n"
     ]
    },
    {
     "name": "stderr",
     "output_type": "stream",
     "text": [
      "Epoch 163/500 [Training]: 100%|██████████| 55/55 [00:00<00:00, 1386.82it/s]\n",
      "Epoch 163/500 [Validation]: 100%|██████████| 16/16 [00:00<00:00, 2186.38it/s]\n"
     ]
    },
    {
     "name": "stdout",
     "output_type": "stream",
     "text": [
      "Epoch 163/500, Train Loss: 0.0124, Validation Loss: 0.0124\n"
     ]
    },
    {
     "name": "stderr",
     "output_type": "stream",
     "text": [
      "Epoch 164/500 [Training]: 100%|██████████| 55/55 [00:00<00:00, 1440.06it/s]\n",
      "Epoch 164/500 [Validation]: 100%|██████████| 16/16 [00:00<00:00, 2531.55it/s]\n"
     ]
    },
    {
     "name": "stdout",
     "output_type": "stream",
     "text": [
      "Epoch 164/500, Train Loss: 0.0124, Validation Loss: 0.0119\n"
     ]
    },
    {
     "name": "stderr",
     "output_type": "stream",
     "text": [
      "Epoch 165/500 [Training]: 100%|██████████| 55/55 [00:00<00:00, 1311.96it/s]\n",
      "Epoch 165/500 [Validation]: 100%|██████████| 16/16 [00:00<00:00, 2506.68it/s]\n"
     ]
    },
    {
     "name": "stdout",
     "output_type": "stream",
     "text": [
      "Epoch 165/500, Train Loss: 0.0123, Validation Loss: 0.0121\n"
     ]
    },
    {
     "name": "stderr",
     "output_type": "stream",
     "text": [
      "Epoch 166/500 [Training]: 100%|██████████| 55/55 [00:00<00:00, 1333.89it/s]\n",
      "Epoch 166/500 [Validation]: 100%|██████████| 16/16 [00:00<00:00, 2392.05it/s]\n"
     ]
    },
    {
     "name": "stdout",
     "output_type": "stream",
     "text": [
      "Epoch 166/500, Train Loss: 0.0124, Validation Loss: 0.0118\n"
     ]
    },
    {
     "name": "stderr",
     "output_type": "stream",
     "text": [
      "Epoch 167/500 [Training]: 100%|██████████| 55/55 [00:00<00:00, 1346.06it/s]\n",
      "Epoch 167/500 [Validation]: 100%|██████████| 16/16 [00:00<00:00, 2498.84it/s]\n"
     ]
    },
    {
     "name": "stdout",
     "output_type": "stream",
     "text": [
      "Epoch 167/500, Train Loss: 0.0124, Validation Loss: 0.0120\n"
     ]
    },
    {
     "name": "stderr",
     "output_type": "stream",
     "text": [
      "Epoch 168/500 [Training]: 100%|██████████| 55/55 [00:00<00:00, 1320.37it/s]\n",
      "Epoch 168/500 [Validation]: 100%|██████████| 16/16 [00:00<00:00, 2248.81it/s]\n"
     ]
    },
    {
     "name": "stdout",
     "output_type": "stream",
     "text": [
      "Epoch 168/500, Train Loss: 0.0127, Validation Loss: 0.0119\n"
     ]
    },
    {
     "name": "stderr",
     "output_type": "stream",
     "text": [
      "Epoch 169/500 [Training]: 100%|██████████| 55/55 [00:00<00:00, 1309.17it/s]\n",
      "Epoch 169/500 [Validation]: 100%|██████████| 16/16 [00:00<00:00, 2286.43it/s]\n"
     ]
    },
    {
     "name": "stdout",
     "output_type": "stream",
     "text": [
      "Epoch 169/500, Train Loss: 0.0125, Validation Loss: 0.0123\n"
     ]
    },
    {
     "name": "stderr",
     "output_type": "stream",
     "text": [
      "Epoch 170/500 [Training]: 100%|██████████| 55/55 [00:00<00:00, 1338.86it/s]\n",
      "Epoch 170/500 [Validation]: 100%|██████████| 16/16 [00:00<00:00, 2573.98it/s]\n"
     ]
    },
    {
     "name": "stdout",
     "output_type": "stream",
     "text": [
      "Epoch 170/500, Train Loss: 0.0126, Validation Loss: 0.0119\n"
     ]
    },
    {
     "name": "stderr",
     "output_type": "stream",
     "text": [
      "Epoch 171/500 [Training]: 100%|██████████| 55/55 [00:00<00:00, 1393.71it/s]\n",
      "Epoch 171/500 [Validation]: 100%|██████████| 16/16 [00:00<00:00, 2365.07it/s]\n"
     ]
    },
    {
     "name": "stdout",
     "output_type": "stream",
     "text": [
      "Epoch 171/500, Train Loss: 0.0123, Validation Loss: 0.0128\n"
     ]
    },
    {
     "name": "stderr",
     "output_type": "stream",
     "text": [
      "Epoch 172/500 [Training]: 100%|██████████| 55/55 [00:00<00:00, 1393.50it/s]\n",
      "Epoch 172/500 [Validation]: 100%|██████████| 16/16 [00:00<00:00, 1477.91it/s]\n"
     ]
    },
    {
     "name": "stdout",
     "output_type": "stream",
     "text": [
      "Epoch 172/500, Train Loss: 0.0125, Validation Loss: 0.0125\n"
     ]
    },
    {
     "name": "stderr",
     "output_type": "stream",
     "text": [
      "Epoch 173/500 [Training]: 100%|██████████| 55/55 [00:00<00:00, 1299.90it/s]\n",
      "Epoch 173/500 [Validation]: 100%|██████████| 16/16 [00:00<00:00, 2319.06it/s]\n"
     ]
    },
    {
     "name": "stdout",
     "output_type": "stream",
     "text": [
      "Epoch 173/500, Train Loss: 0.0125, Validation Loss: 0.0119\n"
     ]
    },
    {
     "name": "stderr",
     "output_type": "stream",
     "text": [
      "Epoch 174/500 [Training]: 100%|██████████| 55/55 [00:00<00:00, 1308.27it/s]\n",
      "Epoch 174/500 [Validation]: 100%|██████████| 16/16 [00:00<00:00, 2140.50it/s]\n"
     ]
    },
    {
     "name": "stdout",
     "output_type": "stream",
     "text": [
      "Epoch 174/500, Train Loss: 0.0126, Validation Loss: 0.0124\n"
     ]
    },
    {
     "name": "stderr",
     "output_type": "stream",
     "text": [
      "Epoch 175/500 [Training]: 100%|██████████| 55/55 [00:00<00:00, 1358.52it/s]\n",
      "Epoch 175/500 [Validation]: 100%|██████████| 16/16 [00:00<00:00, 2422.35it/s]\n"
     ]
    },
    {
     "name": "stdout",
     "output_type": "stream",
     "text": [
      "Epoch 175/500, Train Loss: 0.0126, Validation Loss: 0.0119\n"
     ]
    },
    {
     "name": "stderr",
     "output_type": "stream",
     "text": [
      "Epoch 176/500 [Training]: 100%|██████████| 55/55 [00:00<00:00, 1307.34it/s]\n",
      "Epoch 176/500 [Validation]: 100%|██████████| 16/16 [00:00<00:00, 2596.99it/s]\n"
     ]
    },
    {
     "name": "stdout",
     "output_type": "stream",
     "text": [
      "Epoch 176/500, Train Loss: 0.0123, Validation Loss: 0.0125\n"
     ]
    },
    {
     "name": "stderr",
     "output_type": "stream",
     "text": [
      "Epoch 177/500 [Training]: 100%|██████████| 55/55 [00:00<00:00, 1401.17it/s]\n",
      "Epoch 177/500 [Validation]: 100%|██████████| 16/16 [00:00<00:00, 2299.82it/s]\n"
     ]
    },
    {
     "name": "stdout",
     "output_type": "stream",
     "text": [
      "Epoch 177/500, Train Loss: 0.0125, Validation Loss: 0.0118\n"
     ]
    },
    {
     "name": "stderr",
     "output_type": "stream",
     "text": [
      "Epoch 178/500 [Training]: 100%|██████████| 55/55 [00:00<00:00, 1382.71it/s]\n",
      "Epoch 178/500 [Validation]: 100%|██████████| 16/16 [00:00<00:00, 2296.91it/s]\n"
     ]
    },
    {
     "name": "stdout",
     "output_type": "stream",
     "text": [
      "Epoch 178/500, Train Loss: 0.0124, Validation Loss: 0.0118\n"
     ]
    },
    {
     "name": "stderr",
     "output_type": "stream",
     "text": [
      "Epoch 179/500 [Training]: 100%|██████████| 55/55 [00:00<00:00, 1356.82it/s]\n",
      "Epoch 179/500 [Validation]: 100%|██████████| 16/16 [00:00<00:00, 2338.45it/s]\n"
     ]
    },
    {
     "name": "stdout",
     "output_type": "stream",
     "text": [
      "Epoch 179/500, Train Loss: 0.0123, Validation Loss: 0.0128\n"
     ]
    },
    {
     "name": "stderr",
     "output_type": "stream",
     "text": [
      "Epoch 180/500 [Training]: 100%|██████████| 55/55 [00:00<00:00, 1337.97it/s]\n",
      "Epoch 180/500 [Validation]: 100%|██████████| 16/16 [00:00<00:00, 2304.17it/s]\n"
     ]
    },
    {
     "name": "stdout",
     "output_type": "stream",
     "text": [
      "Epoch 180/500, Train Loss: 0.0124, Validation Loss: 0.0118\n"
     ]
    },
    {
     "name": "stderr",
     "output_type": "stream",
     "text": [
      "Epoch 181/500 [Training]: 100%|██████████| 55/55 [00:00<00:00, 1342.90it/s]\n",
      "Epoch 181/500 [Validation]: 100%|██████████| 16/16 [00:00<00:00, 2472.97it/s]\n"
     ]
    },
    {
     "name": "stdout",
     "output_type": "stream",
     "text": [
      "Epoch 181/500, Train Loss: 0.0124, Validation Loss: 0.0118\n"
     ]
    },
    {
     "name": "stderr",
     "output_type": "stream",
     "text": [
      "Epoch 182/500 [Training]: 100%|██████████| 55/55 [00:00<00:00, 1314.63it/s]\n",
      "Epoch 182/500 [Validation]: 100%|██████████| 16/16 [00:00<00:00, 1967.71it/s]\n"
     ]
    },
    {
     "name": "stdout",
     "output_type": "stream",
     "text": [
      "Epoch 182/500, Train Loss: 0.0125, Validation Loss: 0.0121\n"
     ]
    },
    {
     "name": "stderr",
     "output_type": "stream",
     "text": [
      "Epoch 183/500 [Training]: 100%|██████████| 55/55 [00:00<00:00, 1301.90it/s]\n",
      "Epoch 183/500 [Validation]: 100%|██████████| 16/16 [00:00<00:00, 2411.47it/s]\n"
     ]
    },
    {
     "name": "stdout",
     "output_type": "stream",
     "text": [
      "Epoch 183/500, Train Loss: 0.0122, Validation Loss: 0.0121\n"
     ]
    },
    {
     "name": "stderr",
     "output_type": "stream",
     "text": [
      "Epoch 184/500 [Training]: 100%|██████████| 55/55 [00:00<00:00, 1275.34it/s]\n",
      "Epoch 184/500 [Validation]: 100%|██████████| 16/16 [00:00<00:00, 2105.84it/s]\n"
     ]
    },
    {
     "name": "stdout",
     "output_type": "stream",
     "text": [
      "Epoch 184/500, Train Loss: 0.0125, Validation Loss: 0.0118\n"
     ]
    },
    {
     "name": "stderr",
     "output_type": "stream",
     "text": [
      "Epoch 185/500 [Training]: 100%|██████████| 55/55 [00:00<00:00, 1291.99it/s]\n",
      "Epoch 185/500 [Validation]: 100%|██████████| 16/16 [00:00<00:00, 2397.77it/s]\n"
     ]
    },
    {
     "name": "stdout",
     "output_type": "stream",
     "text": [
      "Epoch 185/500, Train Loss: 0.0124, Validation Loss: 0.0126\n"
     ]
    },
    {
     "name": "stderr",
     "output_type": "stream",
     "text": [
      "Epoch 186/500 [Training]: 100%|██████████| 55/55 [00:00<00:00, 1332.50it/s]\n",
      "Epoch 186/500 [Validation]: 100%|██████████| 16/16 [00:00<00:00, 2548.18it/s]\n"
     ]
    },
    {
     "name": "stdout",
     "output_type": "stream",
     "text": [
      "Epoch 186/500, Train Loss: 0.0123, Validation Loss: 0.0118\n"
     ]
    },
    {
     "name": "stderr",
     "output_type": "stream",
     "text": [
      "Epoch 187/500 [Training]: 100%|██████████| 55/55 [00:00<00:00, 1322.34it/s]\n",
      "Epoch 187/500 [Validation]: 100%|██████████| 16/16 [00:00<00:00, 2190.59it/s]\n"
     ]
    },
    {
     "name": "stdout",
     "output_type": "stream",
     "text": [
      "Epoch 187/500, Train Loss: 0.0125, Validation Loss: 0.0139\n"
     ]
    },
    {
     "name": "stderr",
     "output_type": "stream",
     "text": [
      "Epoch 188/500 [Training]: 100%|██████████| 55/55 [00:00<00:00, 1334.76it/s]\n",
      "Epoch 188/500 [Validation]: 100%|██████████| 16/16 [00:00<00:00, 2343.35it/s]\n"
     ]
    },
    {
     "name": "stdout",
     "output_type": "stream",
     "text": [
      "Epoch 188/500, Train Loss: 0.0130, Validation Loss: 0.0119\n"
     ]
    },
    {
     "name": "stderr",
     "output_type": "stream",
     "text": [
      "Epoch 189/500 [Training]: 100%|██████████| 55/55 [00:00<00:00, 1318.34it/s]\n",
      "Epoch 189/500 [Validation]: 100%|██████████| 16/16 [00:00<00:00, 2490.22it/s]\n"
     ]
    },
    {
     "name": "stdout",
     "output_type": "stream",
     "text": [
      "Epoch 189/500, Train Loss: 0.0125, Validation Loss: 0.0118\n"
     ]
    },
    {
     "name": "stderr",
     "output_type": "stream",
     "text": [
      "Epoch 190/500 [Training]: 100%|██████████| 55/55 [00:00<00:00, 1378.68it/s]\n",
      "Epoch 190/500 [Validation]: 100%|██████████| 16/16 [00:00<00:00, 2154.86it/s]\n"
     ]
    },
    {
     "name": "stdout",
     "output_type": "stream",
     "text": [
      "Epoch 190/500, Train Loss: 0.0124, Validation Loss: 0.0122\n"
     ]
    },
    {
     "name": "stderr",
     "output_type": "stream",
     "text": [
      "Epoch 191/500 [Training]: 100%|██████████| 55/55 [00:00<00:00, 1383.83it/s]\n",
      "Epoch 191/500 [Validation]: 100%|██████████| 16/16 [00:00<00:00, 1826.04it/s]\n"
     ]
    },
    {
     "name": "stdout",
     "output_type": "stream",
     "text": [
      "Epoch 191/500, Train Loss: 0.0123, Validation Loss: 0.0117\n"
     ]
    },
    {
     "name": "stderr",
     "output_type": "stream",
     "text": [
      "Epoch 192/500 [Training]: 100%|██████████| 55/55 [00:00<00:00, 1305.11it/s]\n",
      "Epoch 192/500 [Validation]: 100%|██████████| 16/16 [00:00<00:00, 2450.21it/s]\n"
     ]
    },
    {
     "name": "stdout",
     "output_type": "stream",
     "text": [
      "Epoch 192/500, Train Loss: 0.0124, Validation Loss: 0.0121\n"
     ]
    },
    {
     "name": "stderr",
     "output_type": "stream",
     "text": [
      "Epoch 193/500 [Training]: 100%|██████████| 55/55 [00:00<00:00, 1272.27it/s]\n",
      "Epoch 193/500 [Validation]: 100%|██████████| 16/16 [00:00<00:00, 2637.31it/s]\n"
     ]
    },
    {
     "name": "stdout",
     "output_type": "stream",
     "text": [
      "Epoch 193/500, Train Loss: 0.0123, Validation Loss: 0.0119\n"
     ]
    },
    {
     "name": "stderr",
     "output_type": "stream",
     "text": [
      "Epoch 194/500 [Training]: 100%|██████████| 55/55 [00:00<00:00, 1327.26it/s]\n",
      "Epoch 194/500 [Validation]: 100%|██████████| 16/16 [00:00<00:00, 2302.74it/s]\n"
     ]
    },
    {
     "name": "stdout",
     "output_type": "stream",
     "text": [
      "Epoch 194/500, Train Loss: 0.0122, Validation Loss: 0.0126\n"
     ]
    },
    {
     "name": "stderr",
     "output_type": "stream",
     "text": [
      "Epoch 195/500 [Training]: 100%|██████████| 55/55 [00:00<00:00, 1384.38it/s]\n",
      "Epoch 195/500 [Validation]: 100%|██████████| 16/16 [00:00<00:00, 2258.57it/s]\n"
     ]
    },
    {
     "name": "stdout",
     "output_type": "stream",
     "text": [
      "Epoch 195/500, Train Loss: 0.0123, Validation Loss: 0.0124\n"
     ]
    },
    {
     "name": "stderr",
     "output_type": "stream",
     "text": [
      "Epoch 196/500 [Training]: 100%|██████████| 55/55 [00:00<00:00, 1057.83it/s]\n",
      "Epoch 196/500 [Validation]: 100%|██████████| 16/16 [00:00<00:00, 2369.33it/s]\n"
     ]
    },
    {
     "name": "stdout",
     "output_type": "stream",
     "text": [
      "Epoch 196/500, Train Loss: 0.0123, Validation Loss: 0.0118\n"
     ]
    },
    {
     "name": "stderr",
     "output_type": "stream",
     "text": [
      "Epoch 197/500 [Training]: 100%|██████████| 55/55 [00:00<00:00, 1325.12it/s]\n",
      "Epoch 197/500 [Validation]: 100%|██████████| 16/16 [00:00<00:00, 2431.30it/s]\n"
     ]
    },
    {
     "name": "stdout",
     "output_type": "stream",
     "text": [
      "Epoch 197/500, Train Loss: 0.0128, Validation Loss: 0.0117\n"
     ]
    },
    {
     "name": "stderr",
     "output_type": "stream",
     "text": [
      "Epoch 198/500 [Training]: 100%|██████████| 55/55 [00:00<00:00, 1297.99it/s]\n",
      "Epoch 198/500 [Validation]: 100%|██████████| 16/16 [00:00<00:00, 2478.26it/s]\n"
     ]
    },
    {
     "name": "stdout",
     "output_type": "stream",
     "text": [
      "Epoch 198/500, Train Loss: 0.0122, Validation Loss: 0.0140\n"
     ]
    },
    {
     "name": "stderr",
     "output_type": "stream",
     "text": [
      "Epoch 199/500 [Training]: 100%|██████████| 55/55 [00:00<00:00, 1336.92it/s]\n",
      "Epoch 199/500 [Validation]: 100%|██████████| 16/16 [00:00<00:00, 2396.23it/s]\n"
     ]
    },
    {
     "name": "stdout",
     "output_type": "stream",
     "text": [
      "Epoch 199/500, Train Loss: 0.0125, Validation Loss: 0.0118\n"
     ]
    },
    {
     "name": "stderr",
     "output_type": "stream",
     "text": [
      "Epoch 200/500 [Training]: 100%|██████████| 55/55 [00:00<00:00, 1328.96it/s]\n",
      "Epoch 200/500 [Validation]: 100%|██████████| 16/16 [00:00<00:00, 2589.98it/s]\n"
     ]
    },
    {
     "name": "stdout",
     "output_type": "stream",
     "text": [
      "Epoch 200/500, Train Loss: 0.0122, Validation Loss: 0.0117\n"
     ]
    },
    {
     "name": "stderr",
     "output_type": "stream",
     "text": [
      "Epoch 201/500 [Training]: 100%|██████████| 55/55 [00:00<00:00, 1308.56it/s]\n",
      "Epoch 201/500 [Validation]: 100%|██████████| 16/16 [00:00<00:00, 2267.88it/s]\n"
     ]
    },
    {
     "name": "stdout",
     "output_type": "stream",
     "text": [
      "Epoch 201/500, Train Loss: 0.0123, Validation Loss: 0.0117\n"
     ]
    },
    {
     "name": "stderr",
     "output_type": "stream",
     "text": [
      "Epoch 202/500 [Training]: 100%|██████████| 55/55 [00:00<00:00, 1341.83it/s]\n",
      "Epoch 202/500 [Validation]: 100%|██████████| 16/16 [00:00<00:00, 2497.72it/s]\n"
     ]
    },
    {
     "name": "stdout",
     "output_type": "stream",
     "text": [
      "Epoch 202/500, Train Loss: 0.0126, Validation Loss: 0.0120\n"
     ]
    },
    {
     "name": "stderr",
     "output_type": "stream",
     "text": [
      "Epoch 203/500 [Training]: 100%|██████████| 55/55 [00:00<00:00, 1436.75it/s]\n",
      "Epoch 203/500 [Validation]: 100%|██████████| 16/16 [00:00<00:00, 2401.98it/s]\n"
     ]
    },
    {
     "name": "stdout",
     "output_type": "stream",
     "text": [
      "Epoch 203/500, Train Loss: 0.0121, Validation Loss: 0.0121\n"
     ]
    },
    {
     "name": "stderr",
     "output_type": "stream",
     "text": [
      "Epoch 204/500 [Training]: 100%|██████████| 55/55 [00:00<00:00, 1424.43it/s]\n",
      "Epoch 204/500 [Validation]: 100%|██████████| 16/16 [00:00<00:00, 2257.73it/s]\n"
     ]
    },
    {
     "name": "stdout",
     "output_type": "stream",
     "text": [
      "Epoch 204/500, Train Loss: 0.0124, Validation Loss: 0.0123\n"
     ]
    },
    {
     "name": "stderr",
     "output_type": "stream",
     "text": [
      "Epoch 205/500 [Training]: 100%|██████████| 55/55 [00:00<00:00, 1350.86it/s]\n",
      "Epoch 205/500 [Validation]: 100%|██████████| 16/16 [00:00<00:00, 2135.32it/s]\n"
     ]
    },
    {
     "name": "stdout",
     "output_type": "stream",
     "text": [
      "Epoch 205/500, Train Loss: 0.0123, Validation Loss: 0.0117\n"
     ]
    },
    {
     "name": "stderr",
     "output_type": "stream",
     "text": [
      "Epoch 206/500 [Training]: 100%|██████████| 55/55 [00:00<00:00, 1345.90it/s]\n",
      "Epoch 206/500 [Validation]: 100%|██████████| 16/16 [00:00<00:00, 2491.42it/s]\n"
     ]
    },
    {
     "name": "stdout",
     "output_type": "stream",
     "text": [
      "Epoch 206/500, Train Loss: 0.0127, Validation Loss: 0.0121\n"
     ]
    },
    {
     "name": "stderr",
     "output_type": "stream",
     "text": [
      "Epoch 207/500 [Training]: 100%|██████████| 55/55 [00:00<00:00, 1336.48it/s]\n",
      "Epoch 207/500 [Validation]: 100%|██████████| 16/16 [00:00<00:00, 1789.71it/s]\n"
     ]
    },
    {
     "name": "stdout",
     "output_type": "stream",
     "text": [
      "Epoch 207/500, Train Loss: 0.0122, Validation Loss: 0.0118\n"
     ]
    },
    {
     "name": "stderr",
     "output_type": "stream",
     "text": [
      "Epoch 208/500 [Training]: 100%|██████████| 55/55 [00:00<00:00, 1370.99it/s]\n",
      "Epoch 208/500 [Validation]: 100%|██████████| 16/16 [00:00<00:00, 2305.43it/s]\n"
     ]
    },
    {
     "name": "stdout",
     "output_type": "stream",
     "text": [
      "Epoch 208/500, Train Loss: 0.0123, Validation Loss: 0.0129\n"
     ]
    },
    {
     "name": "stderr",
     "output_type": "stream",
     "text": [
      "Epoch 209/500 [Training]: 100%|██████████| 55/55 [00:00<00:00, 1344.62it/s]\n",
      "Epoch 209/500 [Validation]: 100%|██████████| 16/16 [00:00<00:00, 2613.99it/s]\n"
     ]
    },
    {
     "name": "stdout",
     "output_type": "stream",
     "text": [
      "Epoch 209/500, Train Loss: 0.0127, Validation Loss: 0.0118\n"
     ]
    },
    {
     "name": "stderr",
     "output_type": "stream",
     "text": [
      "Epoch 210/500 [Training]: 100%|██████████| 55/55 [00:00<00:00, 1389.03it/s]\n",
      "Epoch 210/500 [Validation]: 100%|██████████| 16/16 [00:00<00:00, 2347.78it/s]\n"
     ]
    },
    {
     "name": "stdout",
     "output_type": "stream",
     "text": [
      "Epoch 210/500, Train Loss: 0.0122, Validation Loss: 0.0116\n"
     ]
    },
    {
     "name": "stderr",
     "output_type": "stream",
     "text": [
      "Epoch 211/500 [Training]: 100%|██████████| 55/55 [00:00<00:00, 1351.39it/s]\n",
      "Epoch 211/500 [Validation]: 100%|██████████| 16/16 [00:00<00:00, 1786.95it/s]\n"
     ]
    },
    {
     "name": "stdout",
     "output_type": "stream",
     "text": [
      "Epoch 211/500, Train Loss: 0.0121, Validation Loss: 0.0119\n"
     ]
    },
    {
     "name": "stderr",
     "output_type": "stream",
     "text": [
      "Epoch 212/500 [Training]: 100%|██████████| 55/55 [00:00<00:00, 1376.45it/s]\n",
      "Epoch 212/500 [Validation]: 100%|██████████| 16/16 [00:00<00:00, 2328.23it/s]\n"
     ]
    },
    {
     "name": "stdout",
     "output_type": "stream",
     "text": [
      "Epoch 212/500, Train Loss: 0.0121, Validation Loss: 0.0118\n"
     ]
    },
    {
     "name": "stderr",
     "output_type": "stream",
     "text": [
      "Epoch 213/500 [Training]: 100%|██████████| 55/55 [00:00<00:00, 1350.72it/s]\n",
      "Epoch 213/500 [Validation]: 100%|██████████| 16/16 [00:00<00:00, 2298.48it/s]\n"
     ]
    },
    {
     "name": "stdout",
     "output_type": "stream",
     "text": [
      "Epoch 213/500, Train Loss: 0.0124, Validation Loss: 0.0123\n"
     ]
    },
    {
     "name": "stderr",
     "output_type": "stream",
     "text": [
      "Epoch 214/500 [Training]: 100%|██████████| 55/55 [00:00<00:00, 1325.79it/s]\n",
      "Epoch 214/500 [Validation]: 100%|██████████| 16/16 [00:00<00:00, 2442.45it/s]\n"
     ]
    },
    {
     "name": "stdout",
     "output_type": "stream",
     "text": [
      "Epoch 214/500, Train Loss: 0.0126, Validation Loss: 0.0134\n"
     ]
    },
    {
     "name": "stderr",
     "output_type": "stream",
     "text": [
      "Epoch 215/500 [Training]: 100%|██████████| 55/55 [00:00<00:00, 1395.02it/s]\n",
      "Epoch 215/500 [Validation]: 100%|██████████| 16/16 [00:00<00:00, 2310.75it/s]\n"
     ]
    },
    {
     "name": "stdout",
     "output_type": "stream",
     "text": [
      "Epoch 215/500, Train Loss: 0.0122, Validation Loss: 0.0120\n"
     ]
    },
    {
     "name": "stderr",
     "output_type": "stream",
     "text": [
      "Epoch 216/500 [Training]: 100%|██████████| 55/55 [00:00<00:00, 1311.21it/s]\n",
      "Epoch 216/500 [Validation]: 100%|██████████| 16/16 [00:00<00:00, 2470.96it/s]\n"
     ]
    },
    {
     "name": "stdout",
     "output_type": "stream",
     "text": [
      "Epoch 216/500, Train Loss: 0.0124, Validation Loss: 0.0121\n"
     ]
    },
    {
     "name": "stderr",
     "output_type": "stream",
     "text": [
      "Epoch 217/500 [Training]: 100%|██████████| 55/55 [00:00<00:00, 1378.13it/s]\n",
      "Epoch 217/500 [Validation]: 100%|██████████| 16/16 [00:00<00:00, 2375.62it/s]\n"
     ]
    },
    {
     "name": "stdout",
     "output_type": "stream",
     "text": [
      "Epoch 217/500, Train Loss: 0.0122, Validation Loss: 0.0117\n"
     ]
    },
    {
     "name": "stderr",
     "output_type": "stream",
     "text": [
      "Epoch 218/500 [Training]: 100%|██████████| 55/55 [00:00<00:00, 1343.04it/s]\n",
      "Epoch 218/500 [Validation]: 100%|██████████| 16/16 [00:00<00:00, 2368.91it/s]\n"
     ]
    },
    {
     "name": "stdout",
     "output_type": "stream",
     "text": [
      "Epoch 218/500, Train Loss: 0.0120, Validation Loss: 0.0118\n"
     ]
    },
    {
     "name": "stderr",
     "output_type": "stream",
     "text": [
      "Epoch 219/500 [Training]: 100%|██████████| 55/55 [00:00<00:00, 1325.65it/s]\n",
      "Epoch 219/500 [Validation]: 100%|██████████| 16/16 [00:00<00:00, 2632.44it/s]\n"
     ]
    },
    {
     "name": "stdout",
     "output_type": "stream",
     "text": [
      "Epoch 219/500, Train Loss: 0.0121, Validation Loss: 0.0122\n"
     ]
    },
    {
     "name": "stderr",
     "output_type": "stream",
     "text": [
      "Epoch 220/500 [Training]: 100%|██████████| 55/55 [00:00<00:00, 1361.35it/s]\n",
      "Epoch 220/500 [Validation]: 100%|██████████| 16/16 [00:00<00:00, 2419.47it/s]\n"
     ]
    },
    {
     "name": "stdout",
     "output_type": "stream",
     "text": [
      "Epoch 220/500, Train Loss: 0.0122, Validation Loss: 0.0134\n"
     ]
    },
    {
     "name": "stderr",
     "output_type": "stream",
     "text": [
      "Epoch 221/500 [Training]: 100%|██████████| 55/55 [00:00<00:00, 1388.02it/s]\n",
      "Epoch 221/500 [Validation]: 100%|██████████| 16/16 [00:00<00:00, 2184.04it/s]\n"
     ]
    },
    {
     "name": "stdout",
     "output_type": "stream",
     "text": [
      "Epoch 221/500, Train Loss: 0.0125, Validation Loss: 0.0117\n"
     ]
    },
    {
     "name": "stderr",
     "output_type": "stream",
     "text": [
      "Epoch 222/500 [Training]: 100%|██████████| 55/55 [00:00<00:00, 1340.16it/s]\n",
      "Epoch 222/500 [Validation]: 100%|██████████| 16/16 [00:00<00:00, 2358.09it/s]\n"
     ]
    },
    {
     "name": "stdout",
     "output_type": "stream",
     "text": [
      "Epoch 222/500, Train Loss: 0.0120, Validation Loss: 0.0120\n"
     ]
    },
    {
     "name": "stderr",
     "output_type": "stream",
     "text": [
      "Epoch 223/500 [Training]: 100%|██████████| 55/55 [00:00<00:00, 1353.84it/s]\n",
      "Epoch 223/500 [Validation]: 100%|██████████| 16/16 [00:00<00:00, 2370.58it/s]\n"
     ]
    },
    {
     "name": "stdout",
     "output_type": "stream",
     "text": [
      "Epoch 223/500, Train Loss: 0.0121, Validation Loss: 0.0121\n"
     ]
    },
    {
     "name": "stderr",
     "output_type": "stream",
     "text": [
      "Epoch 224/500 [Training]: 100%|██████████| 55/55 [00:00<00:00, 1404.25it/s]\n",
      "Epoch 224/500 [Validation]: 100%|██████████| 16/16 [00:00<00:00, 2378.40it/s]\n"
     ]
    },
    {
     "name": "stdout",
     "output_type": "stream",
     "text": [
      "Epoch 224/500, Train Loss: 0.0120, Validation Loss: 0.0116\n"
     ]
    },
    {
     "name": "stderr",
     "output_type": "stream",
     "text": [
      "Epoch 225/500 [Training]: 100%|██████████| 55/55 [00:00<00:00, 1439.08it/s]\n",
      "Epoch 225/500 [Validation]: 100%|██████████| 16/16 [00:00<00:00, 2470.42it/s]\n"
     ]
    },
    {
     "name": "stdout",
     "output_type": "stream",
     "text": [
      "Epoch 225/500, Train Loss: 0.0119, Validation Loss: 0.0117\n"
     ]
    },
    {
     "name": "stderr",
     "output_type": "stream",
     "text": [
      "Epoch 226/500 [Training]: 100%|██████████| 55/55 [00:00<00:00, 1362.83it/s]\n",
      "Epoch 226/500 [Validation]: 100%|██████████| 16/16 [00:00<00:00, 2332.68it/s]\n"
     ]
    },
    {
     "name": "stdout",
     "output_type": "stream",
     "text": [
      "Epoch 226/500, Train Loss: 0.0123, Validation Loss: 0.0120\n"
     ]
    },
    {
     "name": "stderr",
     "output_type": "stream",
     "text": [
      "Epoch 227/500 [Training]: 100%|██████████| 55/55 [00:00<00:00, 1297.23it/s]\n",
      "Epoch 227/500 [Validation]: 100%|██████████| 16/16 [00:00<00:00, 2228.72it/s]\n"
     ]
    },
    {
     "name": "stdout",
     "output_type": "stream",
     "text": [
      "Epoch 227/500, Train Loss: 0.0127, Validation Loss: 0.0121\n"
     ]
    },
    {
     "name": "stderr",
     "output_type": "stream",
     "text": [
      "Epoch 228/500 [Training]: 100%|██████████| 55/55 [00:00<00:00, 1278.03it/s]\n",
      "Epoch 228/500 [Validation]: 100%|██████████| 16/16 [00:00<00:00, 2383.38it/s]\n"
     ]
    },
    {
     "name": "stdout",
     "output_type": "stream",
     "text": [
      "Epoch 228/500, Train Loss: 0.0125, Validation Loss: 0.0120\n"
     ]
    },
    {
     "name": "stderr",
     "output_type": "stream",
     "text": [
      "Epoch 229/500 [Training]: 100%|██████████| 55/55 [00:00<00:00, 1402.85it/s]\n",
      "Epoch 229/500 [Validation]: 100%|██████████| 16/16 [00:00<00:00, 2151.68it/s]\n"
     ]
    },
    {
     "name": "stdout",
     "output_type": "stream",
     "text": [
      "Epoch 229/500, Train Loss: 0.0122, Validation Loss: 0.0122\n"
     ]
    },
    {
     "name": "stderr",
     "output_type": "stream",
     "text": [
      "Epoch 230/500 [Training]: 100%|██████████| 55/55 [00:00<00:00, 1451.76it/s]\n",
      "Epoch 230/500 [Validation]: 100%|██████████| 16/16 [00:00<00:00, 1225.64it/s]\n"
     ]
    },
    {
     "name": "stdout",
     "output_type": "stream",
     "text": [
      "Epoch 230/500, Train Loss: 0.0122, Validation Loss: 0.0115\n"
     ]
    },
    {
     "name": "stderr",
     "output_type": "stream",
     "text": [
      "Epoch 231/500 [Training]: 100%|██████████| 55/55 [00:00<00:00, 1226.20it/s]\n",
      "Epoch 231/500 [Validation]: 100%|██████████| 16/16 [00:00<00:00, 2328.07it/s]\n"
     ]
    },
    {
     "name": "stdout",
     "output_type": "stream",
     "text": [
      "Epoch 231/500, Train Loss: 0.0120, Validation Loss: 0.0122\n"
     ]
    },
    {
     "name": "stderr",
     "output_type": "stream",
     "text": [
      "Epoch 232/500 [Training]: 100%|██████████| 55/55 [00:00<00:00, 1285.13it/s]\n",
      "Epoch 232/500 [Validation]: 100%|██████████| 16/16 [00:00<00:00, 2576.06it/s]\n"
     ]
    },
    {
     "name": "stdout",
     "output_type": "stream",
     "text": [
      "Epoch 232/500, Train Loss: 0.0125, Validation Loss: 0.0116\n"
     ]
    },
    {
     "name": "stderr",
     "output_type": "stream",
     "text": [
      "Epoch 233/500 [Training]: 100%|██████████| 55/55 [00:00<00:00, 1332.69it/s]\n",
      "Epoch 233/500 [Validation]: 100%|██████████| 16/16 [00:00<00:00, 2349.42it/s]\n"
     ]
    },
    {
     "name": "stdout",
     "output_type": "stream",
     "text": [
      "Epoch 233/500, Train Loss: 0.0120, Validation Loss: 0.0116\n"
     ]
    },
    {
     "name": "stderr",
     "output_type": "stream",
     "text": [
      "Epoch 234/500 [Training]: 100%|██████████| 55/55 [00:00<00:00, 1327.32it/s]\n",
      "Epoch 234/500 [Validation]: 100%|██████████| 16/16 [00:00<00:00, 2424.63it/s]\n"
     ]
    },
    {
     "name": "stdout",
     "output_type": "stream",
     "text": [
      "Epoch 234/500, Train Loss: 0.0120, Validation Loss: 0.0121\n"
     ]
    },
    {
     "name": "stderr",
     "output_type": "stream",
     "text": [
      "Epoch 235/500 [Training]: 100%|██████████| 55/55 [00:00<00:00, 1272.67it/s]\n",
      "Epoch 235/500 [Validation]: 100%|██████████| 16/16 [00:00<00:00, 2543.74it/s]\n"
     ]
    },
    {
     "name": "stdout",
     "output_type": "stream",
     "text": [
      "Epoch 235/500, Train Loss: 0.0122, Validation Loss: 0.0115\n"
     ]
    },
    {
     "name": "stderr",
     "output_type": "stream",
     "text": [
      "Epoch 236/500 [Training]: 100%|██████████| 55/55 [00:00<00:00, 1297.60it/s]\n",
      "Epoch 236/500 [Validation]: 100%|██████████| 16/16 [00:00<00:00, 2443.17it/s]\n"
     ]
    },
    {
     "name": "stdout",
     "output_type": "stream",
     "text": [
      "Epoch 236/500, Train Loss: 0.0120, Validation Loss: 0.0116\n"
     ]
    },
    {
     "name": "stderr",
     "output_type": "stream",
     "text": [
      "Epoch 237/500 [Training]: 100%|██████████| 55/55 [00:00<00:00, 1323.52it/s]\n",
      "Epoch 237/500 [Validation]: 100%|██████████| 16/16 [00:00<00:00, 2167.46it/s]\n"
     ]
    },
    {
     "name": "stdout",
     "output_type": "stream",
     "text": [
      "Epoch 237/500, Train Loss: 0.0119, Validation Loss: 0.0122\n"
     ]
    },
    {
     "name": "stderr",
     "output_type": "stream",
     "text": [
      "Epoch 238/500 [Training]: 100%|██████████| 55/55 [00:00<00:00, 1288.45it/s]\n",
      "Epoch 238/500 [Validation]: 100%|██████████| 16/16 [00:00<00:00, 2416.86it/s]\n"
     ]
    },
    {
     "name": "stdout",
     "output_type": "stream",
     "text": [
      "Epoch 238/500, Train Loss: 0.0122, Validation Loss: 0.0134\n"
     ]
    },
    {
     "name": "stderr",
     "output_type": "stream",
     "text": [
      "Epoch 239/500 [Training]: 100%|██████████| 55/55 [00:00<00:00, 1321.52it/s]\n",
      "Epoch 239/500 [Validation]: 100%|██████████| 16/16 [00:00<00:00, 2298.80it/s]\n"
     ]
    },
    {
     "name": "stdout",
     "output_type": "stream",
     "text": [
      "Epoch 239/500, Train Loss: 0.0119, Validation Loss: 0.0121\n"
     ]
    },
    {
     "name": "stderr",
     "output_type": "stream",
     "text": [
      "Epoch 240/500 [Training]: 100%|██████████| 55/55 [00:00<00:00, 1376.10it/s]\n",
      "Epoch 240/500 [Validation]: 100%|██████████| 16/16 [00:00<00:00, 2318.18it/s]\n"
     ]
    },
    {
     "name": "stdout",
     "output_type": "stream",
     "text": [
      "Epoch 240/500, Train Loss: 0.0119, Validation Loss: 0.0115\n"
     ]
    },
    {
     "name": "stderr",
     "output_type": "stream",
     "text": [
      "Epoch 241/500 [Training]: 100%|██████████| 55/55 [00:00<00:00, 1406.90it/s]\n",
      "Epoch 241/500 [Validation]: 100%|██████████| 16/16 [00:00<00:00, 2401.38it/s]\n"
     ]
    },
    {
     "name": "stdout",
     "output_type": "stream",
     "text": [
      "Epoch 241/500, Train Loss: 0.0117, Validation Loss: 0.0118\n"
     ]
    },
    {
     "name": "stderr",
     "output_type": "stream",
     "text": [
      "Epoch 242/500 [Training]: 100%|██████████| 55/55 [00:00<00:00, 1282.65it/s]\n",
      "Epoch 242/500 [Validation]: 100%|██████████| 16/16 [00:00<00:00, 2273.34it/s]\n"
     ]
    },
    {
     "name": "stdout",
     "output_type": "stream",
     "text": [
      "Epoch 242/500, Train Loss: 0.0119, Validation Loss: 0.0117\n"
     ]
    },
    {
     "name": "stderr",
     "output_type": "stream",
     "text": [
      "Epoch 243/500 [Training]: 100%|██████████| 55/55 [00:00<00:00, 1470.04it/s]\n",
      "Epoch 243/500 [Validation]: 100%|██████████| 16/16 [00:00<00:00, 2598.60it/s]\n"
     ]
    },
    {
     "name": "stdout",
     "output_type": "stream",
     "text": [
      "Epoch 243/500, Train Loss: 0.0121, Validation Loss: 0.0115\n"
     ]
    },
    {
     "name": "stderr",
     "output_type": "stream",
     "text": [
      "Epoch 244/500 [Training]: 100%|██████████| 55/55 [00:00<00:00, 1347.84it/s]\n",
      "Epoch 244/500 [Validation]: 100%|██████████| 16/16 [00:00<00:00, 2182.19it/s]\n"
     ]
    },
    {
     "name": "stdout",
     "output_type": "stream",
     "text": [
      "Epoch 244/500, Train Loss: 0.0121, Validation Loss: 0.0114\n"
     ]
    },
    {
     "name": "stderr",
     "output_type": "stream",
     "text": [
      "Epoch 245/500 [Training]: 100%|██████████| 55/55 [00:00<00:00, 1360.30it/s]\n",
      "Epoch 245/500 [Validation]: 100%|██████████| 16/16 [00:00<00:00, 2449.77it/s]\n"
     ]
    },
    {
     "name": "stdout",
     "output_type": "stream",
     "text": [
      "Epoch 245/500, Train Loss: 0.0119, Validation Loss: 0.0114\n"
     ]
    },
    {
     "name": "stderr",
     "output_type": "stream",
     "text": [
      "Epoch 246/500 [Training]: 100%|██████████| 55/55 [00:00<00:00, 1382.12it/s]\n",
      "Epoch 246/500 [Validation]: 100%|██████████| 16/16 [00:00<00:00, 2203.61it/s]\n"
     ]
    },
    {
     "name": "stdout",
     "output_type": "stream",
     "text": [
      "Epoch 246/500, Train Loss: 0.0120, Validation Loss: 0.0114\n"
     ]
    },
    {
     "name": "stderr",
     "output_type": "stream",
     "text": [
      "Epoch 247/500 [Training]: 100%|██████████| 55/55 [00:00<00:00, 1362.09it/s]\n",
      "Epoch 247/500 [Validation]: 100%|██████████| 16/16 [00:00<00:00, 2450.21it/s]\n"
     ]
    },
    {
     "name": "stdout",
     "output_type": "stream",
     "text": [
      "Epoch 247/500, Train Loss: 0.0119, Validation Loss: 0.0116\n"
     ]
    },
    {
     "name": "stderr",
     "output_type": "stream",
     "text": [
      "Epoch 248/500 [Training]: 100%|██████████| 55/55 [00:00<00:00, 1318.89it/s]\n",
      "Epoch 248/500 [Validation]: 100%|██████████| 16/16 [00:00<00:00, 2613.07it/s]\n"
     ]
    },
    {
     "name": "stdout",
     "output_type": "stream",
     "text": [
      "Epoch 248/500, Train Loss: 0.0122, Validation Loss: 0.0128\n"
     ]
    },
    {
     "name": "stderr",
     "output_type": "stream",
     "text": [
      "Epoch 249/500 [Training]: 100%|██████████| 55/55 [00:00<00:00, 1394.06it/s]\n",
      "Epoch 249/500 [Validation]: 100%|██████████| 16/16 [00:00<00:00, 2282.46it/s]\n"
     ]
    },
    {
     "name": "stdout",
     "output_type": "stream",
     "text": [
      "Epoch 249/500, Train Loss: 0.0119, Validation Loss: 0.0114\n"
     ]
    },
    {
     "name": "stderr",
     "output_type": "stream",
     "text": [
      "Epoch 250/500 [Training]: 100%|██████████| 55/55 [00:00<00:00, 1334.43it/s]\n",
      "Epoch 250/500 [Validation]: 100%|██████████| 16/16 [00:00<00:00, 2567.38it/s]\n"
     ]
    },
    {
     "name": "stdout",
     "output_type": "stream",
     "text": [
      "Epoch 250/500, Train Loss: 0.0119, Validation Loss: 0.0115\n"
     ]
    },
    {
     "name": "stderr",
     "output_type": "stream",
     "text": [
      "Epoch 251/500 [Training]: 100%|██████████| 55/55 [00:00<00:00, 1322.21it/s]\n",
      "Epoch 251/500 [Validation]: 100%|██████████| 16/16 [00:00<00:00, 2529.64it/s]\n"
     ]
    },
    {
     "name": "stdout",
     "output_type": "stream",
     "text": [
      "Epoch 251/500, Train Loss: 0.0118, Validation Loss: 0.0117\n"
     ]
    },
    {
     "name": "stderr",
     "output_type": "stream",
     "text": [
      "Epoch 252/500 [Training]: 100%|██████████| 55/55 [00:00<00:00, 1382.08it/s]\n",
      "Epoch 252/500 [Validation]: 100%|██████████| 16/16 [00:00<00:00, 2434.66it/s]\n"
     ]
    },
    {
     "name": "stdout",
     "output_type": "stream",
     "text": [
      "Epoch 252/500, Train Loss: 0.0119, Validation Loss: 0.0114\n"
     ]
    },
    {
     "name": "stderr",
     "output_type": "stream",
     "text": [
      "Epoch 253/500 [Training]: 100%|██████████| 55/55 [00:00<00:00, 1392.58it/s]\n",
      "Epoch 253/500 [Validation]: 100%|██████████| 16/16 [00:00<00:00, 2422.53it/s]\n"
     ]
    },
    {
     "name": "stdout",
     "output_type": "stream",
     "text": [
      "Epoch 253/500, Train Loss: 0.0117, Validation Loss: 0.0114\n"
     ]
    },
    {
     "name": "stderr",
     "output_type": "stream",
     "text": [
      "Epoch 254/500 [Training]: 100%|██████████| 55/55 [00:00<00:00, 1369.04it/s]\n",
      "Epoch 254/500 [Validation]: 100%|██████████| 16/16 [00:00<00:00, 2246.55it/s]\n"
     ]
    },
    {
     "name": "stdout",
     "output_type": "stream",
     "text": [
      "Epoch 254/500, Train Loss: 0.0119, Validation Loss: 0.0119\n"
     ]
    },
    {
     "name": "stderr",
     "output_type": "stream",
     "text": [
      "Epoch 255/500 [Training]: 100%|██████████| 55/55 [00:00<00:00, 1080.70it/s]\n",
      "Epoch 255/500 [Validation]: 100%|██████████| 16/16 [00:00<00:00, 2594.38it/s]\n"
     ]
    },
    {
     "name": "stdout",
     "output_type": "stream",
     "text": [
      "Epoch 255/500, Train Loss: 0.0118, Validation Loss: 0.0115\n"
     ]
    },
    {
     "name": "stderr",
     "output_type": "stream",
     "text": [
      "Epoch 256/500 [Training]: 100%|██████████| 55/55 [00:00<00:00, 1370.69it/s]\n",
      "Epoch 256/500 [Validation]: 100%|██████████| 16/16 [00:00<00:00, 2666.12it/s]\n"
     ]
    },
    {
     "name": "stdout",
     "output_type": "stream",
     "text": [
      "Epoch 256/500, Train Loss: 0.0119, Validation Loss: 0.0114\n"
     ]
    },
    {
     "name": "stderr",
     "output_type": "stream",
     "text": [
      "Epoch 257/500 [Training]: 100%|██████████| 55/55 [00:00<00:00, 1411.74it/s]\n",
      "Epoch 257/500 [Validation]: 100%|██████████| 16/16 [00:00<00:00, 2699.04it/s]\n"
     ]
    },
    {
     "name": "stdout",
     "output_type": "stream",
     "text": [
      "Epoch 257/500, Train Loss: 0.0117, Validation Loss: 0.0116\n"
     ]
    },
    {
     "name": "stderr",
     "output_type": "stream",
     "text": [
      "Epoch 258/500 [Training]: 100%|██████████| 55/55 [00:00<00:00, 1455.88it/s]\n",
      "Epoch 258/500 [Validation]: 100%|██████████| 16/16 [00:00<00:00, 2569.06it/s]\n"
     ]
    },
    {
     "name": "stdout",
     "output_type": "stream",
     "text": [
      "Epoch 258/500, Train Loss: 0.0120, Validation Loss: 0.0128\n"
     ]
    },
    {
     "name": "stderr",
     "output_type": "stream",
     "text": [
      "Epoch 259/500 [Training]: 100%|██████████| 55/55 [00:00<00:00, 1535.63it/s]\n",
      "Epoch 259/500 [Validation]: 100%|██████████| 16/16 [00:00<00:00, 2444.95it/s]\n"
     ]
    },
    {
     "name": "stdout",
     "output_type": "stream",
     "text": [
      "Epoch 259/500, Train Loss: 0.0119, Validation Loss: 0.0113\n"
     ]
    },
    {
     "name": "stderr",
     "output_type": "stream",
     "text": [
      "Epoch 260/500 [Training]: 100%|██████████| 55/55 [00:00<00:00, 1373.66it/s]\n",
      "Epoch 260/500 [Validation]: 100%|██████████| 16/16 [00:00<00:00, 2709.61it/s]\n"
     ]
    },
    {
     "name": "stdout",
     "output_type": "stream",
     "text": [
      "Epoch 260/500, Train Loss: 0.0120, Validation Loss: 0.0143\n"
     ]
    },
    {
     "name": "stderr",
     "output_type": "stream",
     "text": [
      "Epoch 261/500 [Training]: 100%|██████████| 55/55 [00:00<00:00, 1456.73it/s]\n",
      "Epoch 261/500 [Validation]: 100%|██████████| 16/16 [00:00<00:00, 2460.09it/s]\n"
     ]
    },
    {
     "name": "stdout",
     "output_type": "stream",
     "text": [
      "Epoch 261/500, Train Loss: 0.0118, Validation Loss: 0.0114\n"
     ]
    },
    {
     "name": "stderr",
     "output_type": "stream",
     "text": [
      "Epoch 262/500 [Training]: 100%|██████████| 55/55 [00:00<00:00, 1399.98it/s]\n",
      "Epoch 262/500 [Validation]: 100%|██████████| 16/16 [00:00<00:00, 2642.50it/s]\n"
     ]
    },
    {
     "name": "stdout",
     "output_type": "stream",
     "text": [
      "Epoch 262/500, Train Loss: 0.0117, Validation Loss: 0.0113\n"
     ]
    },
    {
     "name": "stderr",
     "output_type": "stream",
     "text": [
      "Epoch 263/500 [Training]: 100%|██████████| 55/55 [00:00<00:00, 1418.29it/s]\n",
      "Epoch 263/500 [Validation]: 100%|██████████| 16/16 [00:00<00:00, 2623.90it/s]\n"
     ]
    },
    {
     "name": "stdout",
     "output_type": "stream",
     "text": [
      "Epoch 263/500, Train Loss: 0.0117, Validation Loss: 0.0113\n"
     ]
    },
    {
     "name": "stderr",
     "output_type": "stream",
     "text": [
      "Epoch 264/500 [Training]: 100%|██████████| 55/55 [00:00<00:00, 1451.95it/s]\n",
      "Epoch 264/500 [Validation]: 100%|██████████| 16/16 [00:00<00:00, 2460.72it/s]\n"
     ]
    },
    {
     "name": "stdout",
     "output_type": "stream",
     "text": [
      "Epoch 264/500, Train Loss: 0.0118, Validation Loss: 0.0148\n"
     ]
    },
    {
     "name": "stderr",
     "output_type": "stream",
     "text": [
      "Epoch 265/500 [Training]: 100%|██████████| 55/55 [00:00<00:00, 1463.70it/s]\n",
      "Epoch 265/500 [Validation]: 100%|██████████| 16/16 [00:00<00:00, 2585.19it/s]\n"
     ]
    },
    {
     "name": "stdout",
     "output_type": "stream",
     "text": [
      "Epoch 265/500, Train Loss: 0.0121, Validation Loss: 0.0113\n"
     ]
    },
    {
     "name": "stderr",
     "output_type": "stream",
     "text": [
      "Epoch 266/500 [Training]: 100%|██████████| 55/55 [00:00<00:00, 1474.92it/s]\n",
      "Epoch 266/500 [Validation]: 100%|██████████| 16/16 [00:00<00:00, 2613.78it/s]\n"
     ]
    },
    {
     "name": "stdout",
     "output_type": "stream",
     "text": [
      "Epoch 266/500, Train Loss: 0.0117, Validation Loss: 0.0112\n"
     ]
    },
    {
     "name": "stderr",
     "output_type": "stream",
     "text": [
      "Epoch 267/500 [Training]: 100%|██████████| 55/55 [00:00<00:00, 1434.61it/s]\n",
      "Epoch 267/500 [Validation]: 100%|██████████| 16/16 [00:00<00:00, 2445.30it/s]\n"
     ]
    },
    {
     "name": "stdout",
     "output_type": "stream",
     "text": [
      "Epoch 267/500, Train Loss: 0.0120, Validation Loss: 0.0113\n"
     ]
    },
    {
     "name": "stderr",
     "output_type": "stream",
     "text": [
      "Epoch 268/500 [Training]: 100%|██████████| 55/55 [00:00<00:00, 1384.10it/s]\n",
      "Epoch 268/500 [Validation]: 100%|██████████| 16/16 [00:00<00:00, 2672.49it/s]\n"
     ]
    },
    {
     "name": "stdout",
     "output_type": "stream",
     "text": [
      "Epoch 268/500, Train Loss: 0.0125, Validation Loss: 0.0116\n"
     ]
    },
    {
     "name": "stderr",
     "output_type": "stream",
     "text": [
      "Epoch 269/500 [Training]: 100%|██████████| 55/55 [00:00<00:00, 1432.45it/s]\n",
      "Epoch 269/500 [Validation]: 100%|██████████| 16/16 [00:00<00:00, 2643.75it/s]\n"
     ]
    },
    {
     "name": "stdout",
     "output_type": "stream",
     "text": [
      "Epoch 269/500, Train Loss: 0.0120, Validation Loss: 0.0131\n"
     ]
    },
    {
     "name": "stderr",
     "output_type": "stream",
     "text": [
      "Epoch 270/500 [Training]: 100%|██████████| 55/55 [00:00<00:00, 1566.45it/s]\n",
      "Epoch 270/500 [Validation]: 100%|██████████| 16/16 [00:00<00:00, 2701.75it/s]\n"
     ]
    },
    {
     "name": "stdout",
     "output_type": "stream",
     "text": [
      "Epoch 270/500, Train Loss: 0.0116, Validation Loss: 0.0114\n"
     ]
    },
    {
     "name": "stderr",
     "output_type": "stream",
     "text": [
      "Epoch 271/500 [Training]: 100%|██████████| 55/55 [00:00<00:00, 1449.89it/s]\n",
      "Epoch 271/500 [Validation]: 100%|██████████| 16/16 [00:00<00:00, 2714.54it/s]\n"
     ]
    },
    {
     "name": "stdout",
     "output_type": "stream",
     "text": [
      "Epoch 271/500, Train Loss: 0.0118, Validation Loss: 0.0118\n"
     ]
    },
    {
     "name": "stderr",
     "output_type": "stream",
     "text": [
      "Epoch 272/500 [Training]: 100%|██████████| 55/55 [00:00<00:00, 1402.67it/s]\n",
      "Epoch 272/500 [Validation]: 100%|██████████| 16/16 [00:00<00:00, 2220.60it/s]\n"
     ]
    },
    {
     "name": "stdout",
     "output_type": "stream",
     "text": [
      "Epoch 272/500, Train Loss: 0.0116, Validation Loss: 0.0112\n"
     ]
    },
    {
     "name": "stderr",
     "output_type": "stream",
     "text": [
      "Epoch 273/500 [Training]: 100%|██████████| 55/55 [00:00<00:00, 1396.51it/s]\n",
      "Epoch 273/500 [Validation]: 100%|██████████| 16/16 [00:00<00:00, 2600.82it/s]\n"
     ]
    },
    {
     "name": "stdout",
     "output_type": "stream",
     "text": [
      "Epoch 273/500, Train Loss: 0.0119, Validation Loss: 0.0112\n"
     ]
    },
    {
     "name": "stderr",
     "output_type": "stream",
     "text": [
      "Epoch 274/500 [Training]: 100%|██████████| 55/55 [00:00<00:00, 1540.82it/s]\n",
      "Epoch 274/500 [Validation]: 100%|██████████| 16/16 [00:00<00:00, 2480.64it/s]\n"
     ]
    },
    {
     "name": "stdout",
     "output_type": "stream",
     "text": [
      "Epoch 274/500, Train Loss: 0.0122, Validation Loss: 0.0122\n"
     ]
    },
    {
     "name": "stderr",
     "output_type": "stream",
     "text": [
      "Epoch 275/500 [Training]: 100%|██████████| 55/55 [00:00<00:00, 1495.39it/s]\n",
      "Epoch 275/500 [Validation]: 100%|██████████| 16/16 [00:00<00:00, 2656.09it/s]\n"
     ]
    },
    {
     "name": "stdout",
     "output_type": "stream",
     "text": [
      "Epoch 275/500, Train Loss: 0.0117, Validation Loss: 0.0113\n"
     ]
    },
    {
     "name": "stderr",
     "output_type": "stream",
     "text": [
      "Epoch 276/500 [Training]: 100%|██████████| 55/55 [00:00<00:00, 1446.22it/s]\n",
      "Epoch 276/500 [Validation]: 100%|██████████| 16/16 [00:00<00:00, 2659.57it/s]\n"
     ]
    },
    {
     "name": "stdout",
     "output_type": "stream",
     "text": [
      "Epoch 276/500, Train Loss: 0.0117, Validation Loss: 0.0112\n"
     ]
    },
    {
     "name": "stderr",
     "output_type": "stream",
     "text": [
      "Epoch 277/500 [Training]: 100%|██████████| 55/55 [00:00<00:00, 1552.87it/s]\n",
      "Epoch 277/500 [Validation]: 100%|██████████| 16/16 [00:00<00:00, 2576.95it/s]\n"
     ]
    },
    {
     "name": "stdout",
     "output_type": "stream",
     "text": [
      "Epoch 277/500, Train Loss: 0.0118, Validation Loss: 0.0113\n"
     ]
    },
    {
     "name": "stderr",
     "output_type": "stream",
     "text": [
      "Epoch 278/500 [Training]: 100%|██████████| 55/55 [00:00<00:00, 1477.23it/s]\n",
      "Epoch 278/500 [Validation]: 100%|██████████| 16/16 [00:00<00:00, 2694.59it/s]\n"
     ]
    },
    {
     "name": "stdout",
     "output_type": "stream",
     "text": [
      "Epoch 278/500, Train Loss: 0.0116, Validation Loss: 0.0112\n"
     ]
    },
    {
     "name": "stderr",
     "output_type": "stream",
     "text": [
      "Epoch 279/500 [Training]: 100%|██████████| 55/55 [00:00<00:00, 1514.02it/s]\n",
      "Epoch 279/500 [Validation]: 100%|██████████| 16/16 [00:00<00:00, 2747.77it/s]\n"
     ]
    },
    {
     "name": "stdout",
     "output_type": "stream",
     "text": [
      "Epoch 279/500, Train Loss: 0.0119, Validation Loss: 0.0111\n"
     ]
    },
    {
     "name": "stderr",
     "output_type": "stream",
     "text": [
      "Epoch 280/500 [Training]: 100%|██████████| 55/55 [00:00<00:00, 1539.67it/s]\n",
      "Epoch 280/500 [Validation]: 100%|██████████| 16/16 [00:00<00:00, 2729.44it/s]\n"
     ]
    },
    {
     "name": "stdout",
     "output_type": "stream",
     "text": [
      "Epoch 280/500, Train Loss: 0.0118, Validation Loss: 0.0114\n"
     ]
    },
    {
     "name": "stderr",
     "output_type": "stream",
     "text": [
      "Epoch 281/500 [Training]: 100%|██████████| 55/55 [00:00<00:00, 1558.08it/s]\n",
      "Epoch 281/500 [Validation]: 100%|██████████| 16/16 [00:00<00:00, 2700.45it/s]\n"
     ]
    },
    {
     "name": "stdout",
     "output_type": "stream",
     "text": [
      "Epoch 281/500, Train Loss: 0.0115, Validation Loss: 0.0111\n"
     ]
    },
    {
     "name": "stderr",
     "output_type": "stream",
     "text": [
      "Epoch 282/500 [Training]: 100%|██████████| 55/55 [00:00<00:00, 1509.00it/s]\n",
      "Epoch 282/500 [Validation]: 100%|██████████| 16/16 [00:00<00:00, 2629.35it/s]\n"
     ]
    },
    {
     "name": "stdout",
     "output_type": "stream",
     "text": [
      "Epoch 282/500, Train Loss: 0.0117, Validation Loss: 0.0112\n"
     ]
    },
    {
     "name": "stderr",
     "output_type": "stream",
     "text": [
      "Epoch 283/500 [Training]: 100%|██████████| 55/55 [00:00<00:00, 1530.79it/s]\n",
      "Epoch 283/500 [Validation]: 100%|██████████| 16/16 [00:00<00:00, 2648.55it/s]\n"
     ]
    },
    {
     "name": "stdout",
     "output_type": "stream",
     "text": [
      "Epoch 283/500, Train Loss: 0.0119, Validation Loss: 0.0128\n"
     ]
    },
    {
     "name": "stderr",
     "output_type": "stream",
     "text": [
      "Epoch 284/500 [Training]: 100%|██████████| 55/55 [00:00<00:00, 1482.67it/s]\n",
      "Epoch 284/500 [Validation]: 100%|██████████| 16/16 [00:00<00:00, 2669.41it/s]\n"
     ]
    },
    {
     "name": "stdout",
     "output_type": "stream",
     "text": [
      "Epoch 284/500, Train Loss: 0.0118, Validation Loss: 0.0111\n"
     ]
    },
    {
     "name": "stderr",
     "output_type": "stream",
     "text": [
      "Epoch 285/500 [Training]: 100%|██████████| 55/55 [00:00<00:00, 1516.36it/s]\n",
      "Epoch 285/500 [Validation]: 100%|██████████| 16/16 [00:00<00:00, 2740.59it/s]\n"
     ]
    },
    {
     "name": "stdout",
     "output_type": "stream",
     "text": [
      "Epoch 285/500, Train Loss: 0.0116, Validation Loss: 0.0120\n"
     ]
    },
    {
     "name": "stderr",
     "output_type": "stream",
     "text": [
      "Epoch 286/500 [Training]: 100%|██████████| 55/55 [00:00<00:00, 1528.63it/s]\n",
      "Epoch 286/500 [Validation]: 100%|██████████| 16/16 [00:00<00:00, 2729.78it/s]\n"
     ]
    },
    {
     "name": "stdout",
     "output_type": "stream",
     "text": [
      "Epoch 286/500, Train Loss: 0.0120, Validation Loss: 0.0113\n"
     ]
    },
    {
     "name": "stderr",
     "output_type": "stream",
     "text": [
      "Epoch 287/500 [Training]: 100%|██████████| 55/55 [00:00<00:00, 1456.87it/s]\n",
      "Epoch 287/500 [Validation]: 100%|██████████| 16/16 [00:00<00:00, 2493.73it/s]\n"
     ]
    },
    {
     "name": "stdout",
     "output_type": "stream",
     "text": [
      "Epoch 287/500, Train Loss: 0.0116, Validation Loss: 0.0119\n"
     ]
    },
    {
     "name": "stderr",
     "output_type": "stream",
     "text": [
      "Epoch 288/500 [Training]: 100%|██████████| 55/55 [00:00<00:00, 1418.22it/s]\n",
      "Epoch 288/500 [Validation]: 100%|██████████| 16/16 [00:00<00:00, 2597.49it/s]\n"
     ]
    },
    {
     "name": "stdout",
     "output_type": "stream",
     "text": [
      "Epoch 288/500, Train Loss: 0.0119, Validation Loss: 0.0117\n"
     ]
    },
    {
     "name": "stderr",
     "output_type": "stream",
     "text": [
      "Epoch 289/500 [Training]: 100%|██████████| 55/55 [00:00<00:00, 1456.38it/s]\n",
      "Epoch 289/500 [Validation]: 100%|██████████| 16/16 [00:00<00:00, 2539.31it/s]\n"
     ]
    },
    {
     "name": "stdout",
     "output_type": "stream",
     "text": [
      "Epoch 289/500, Train Loss: 0.0115, Validation Loss: 0.0114\n"
     ]
    },
    {
     "name": "stderr",
     "output_type": "stream",
     "text": [
      "Epoch 290/500 [Training]: 100%|██████████| 55/55 [00:00<00:00, 1270.15it/s]\n",
      "Epoch 290/500 [Validation]: 100%|██████████| 16/16 [00:00<00:00, 2491.88it/s]\n"
     ]
    },
    {
     "name": "stdout",
     "output_type": "stream",
     "text": [
      "Epoch 290/500, Train Loss: 0.0117, Validation Loss: 0.0111\n"
     ]
    },
    {
     "name": "stderr",
     "output_type": "stream",
     "text": [
      "Epoch 291/500 [Training]: 100%|██████████| 55/55 [00:00<00:00, 1340.25it/s]\n",
      "Epoch 291/500 [Validation]: 100%|██████████| 16/16 [00:00<00:00, 2261.84it/s]\n"
     ]
    },
    {
     "name": "stdout",
     "output_type": "stream",
     "text": [
      "Epoch 291/500, Train Loss: 0.0116, Validation Loss: 0.0113\n"
     ]
    },
    {
     "name": "stderr",
     "output_type": "stream",
     "text": [
      "Epoch 292/500 [Training]: 100%|██████████| 55/55 [00:00<00:00, 1367.65it/s]\n",
      "Epoch 292/500 [Validation]: 100%|██████████| 16/16 [00:00<00:00, 2717.84it/s]\n"
     ]
    },
    {
     "name": "stdout",
     "output_type": "stream",
     "text": [
      "Epoch 292/500, Train Loss: 0.0113, Validation Loss: 0.0113\n"
     ]
    },
    {
     "name": "stderr",
     "output_type": "stream",
     "text": [
      "Epoch 293/500 [Training]: 100%|██████████| 55/55 [00:00<00:00, 1448.33it/s]\n",
      "Epoch 293/500 [Validation]: 100%|██████████| 16/16 [00:00<00:00, 2446.46it/s]\n"
     ]
    },
    {
     "name": "stdout",
     "output_type": "stream",
     "text": [
      "Epoch 293/500, Train Loss: 0.0114, Validation Loss: 0.0113\n"
     ]
    },
    {
     "name": "stderr",
     "output_type": "stream",
     "text": [
      "Epoch 294/500 [Training]: 100%|██████████| 55/55 [00:00<00:00, 1423.69it/s]\n",
      "Epoch 294/500 [Validation]: 100%|██████████| 16/16 [00:00<00:00, 2550.21it/s]\n"
     ]
    },
    {
     "name": "stdout",
     "output_type": "stream",
     "text": [
      "Epoch 294/500, Train Loss: 0.0116, Validation Loss: 0.0116\n"
     ]
    },
    {
     "name": "stderr",
     "output_type": "stream",
     "text": [
      "Epoch 295/500 [Training]: 100%|██████████| 55/55 [00:00<00:00, 1520.14it/s]\n",
      "Epoch 295/500 [Validation]: 100%|██████████| 16/16 [00:00<00:00, 2696.22it/s]\n"
     ]
    },
    {
     "name": "stdout",
     "output_type": "stream",
     "text": [
      "Epoch 295/500, Train Loss: 0.0113, Validation Loss: 0.0110\n"
     ]
    },
    {
     "name": "stderr",
     "output_type": "stream",
     "text": [
      "Epoch 296/500 [Training]: 100%|██████████| 55/55 [00:00<00:00, 1579.96it/s]\n",
      "Epoch 296/500 [Validation]: 100%|██████████| 16/16 [00:00<00:00, 2725.79it/s]\n"
     ]
    },
    {
     "name": "stdout",
     "output_type": "stream",
     "text": [
      "Epoch 296/500, Train Loss: 0.0114, Validation Loss: 0.0111\n"
     ]
    },
    {
     "name": "stderr",
     "output_type": "stream",
     "text": [
      "Epoch 297/500 [Training]: 100%|██████████| 55/55 [00:00<00:00, 1451.34it/s]\n",
      "Epoch 297/500 [Validation]: 100%|██████████| 16/16 [00:00<00:00, 2391.96it/s]\n"
     ]
    },
    {
     "name": "stdout",
     "output_type": "stream",
     "text": [
      "Epoch 297/500, Train Loss: 0.0116, Validation Loss: 0.0115\n"
     ]
    },
    {
     "name": "stderr",
     "output_type": "stream",
     "text": [
      "Epoch 298/500 [Training]: 100%|██████████| 55/55 [00:00<00:00, 1341.72it/s]\n",
      "Epoch 298/500 [Validation]: 100%|██████████| 16/16 [00:00<00:00, 2601.52it/s]\n"
     ]
    },
    {
     "name": "stdout",
     "output_type": "stream",
     "text": [
      "Epoch 298/500, Train Loss: 0.0116, Validation Loss: 0.0118\n"
     ]
    },
    {
     "name": "stderr",
     "output_type": "stream",
     "text": [
      "Epoch 299/500 [Training]: 100%|██████████| 55/55 [00:00<00:00, 1439.45it/s]\n",
      "Epoch 299/500 [Validation]: 100%|██████████| 16/16 [00:00<00:00, 2454.78it/s]\n"
     ]
    },
    {
     "name": "stdout",
     "output_type": "stream",
     "text": [
      "Epoch 299/500, Train Loss: 0.0115, Validation Loss: 0.0111\n"
     ]
    },
    {
     "name": "stderr",
     "output_type": "stream",
     "text": [
      "Epoch 300/500 [Training]: 100%|██████████| 55/55 [00:00<00:00, 1444.28it/s]\n",
      "Epoch 300/500 [Validation]: 100%|██████████| 16/16 [00:00<00:00, 2700.78it/s]\n"
     ]
    },
    {
     "name": "stdout",
     "output_type": "stream",
     "text": [
      "Epoch 300/500, Train Loss: 0.0116, Validation Loss: 0.0110\n"
     ]
    },
    {
     "name": "stderr",
     "output_type": "stream",
     "text": [
      "Epoch 301/500 [Training]: 100%|██████████| 55/55 [00:00<00:00, 1398.50it/s]\n",
      "Epoch 301/500 [Validation]: 100%|██████████| 16/16 [00:00<00:00, 2708.08it/s]\n"
     ]
    },
    {
     "name": "stdout",
     "output_type": "stream",
     "text": [
      "Epoch 301/500, Train Loss: 0.0115, Validation Loss: 0.0113\n"
     ]
    },
    {
     "name": "stderr",
     "output_type": "stream",
     "text": [
      "Epoch 302/500 [Training]: 100%|██████████| 55/55 [00:00<00:00, 1382.43it/s]\n",
      "Epoch 302/500 [Validation]: 100%|██████████| 16/16 [00:00<00:00, 2594.58it/s]\n"
     ]
    },
    {
     "name": "stdout",
     "output_type": "stream",
     "text": [
      "Epoch 302/500, Train Loss: 0.0114, Validation Loss: 0.0110\n"
     ]
    },
    {
     "name": "stderr",
     "output_type": "stream",
     "text": [
      "Epoch 303/500 [Training]: 100%|██████████| 55/55 [00:00<00:00, 1424.93it/s]\n",
      "Epoch 303/500 [Validation]: 100%|██████████| 16/16 [00:00<00:00, 2629.55it/s]\n"
     ]
    },
    {
     "name": "stdout",
     "output_type": "stream",
     "text": [
      "Epoch 303/500, Train Loss: 0.0116, Validation Loss: 0.0110\n"
     ]
    },
    {
     "name": "stderr",
     "output_type": "stream",
     "text": [
      "Epoch 304/500 [Training]: 100%|██████████| 55/55 [00:00<00:00, 1543.03it/s]\n",
      "Epoch 304/500 [Validation]: 100%|██████████| 16/16 [00:00<00:00, 2743.95it/s]\n"
     ]
    },
    {
     "name": "stdout",
     "output_type": "stream",
     "text": [
      "Epoch 304/500, Train Loss: 0.0120, Validation Loss: 0.0112\n"
     ]
    },
    {
     "name": "stderr",
     "output_type": "stream",
     "text": [
      "Epoch 305/500 [Training]: 100%|██████████| 55/55 [00:00<00:00, 1477.62it/s]\n",
      "Epoch 305/500 [Validation]: 100%|██████████| 16/16 [00:00<00:00, 2631.62it/s]\n"
     ]
    },
    {
     "name": "stdout",
     "output_type": "stream",
     "text": [
      "Epoch 305/500, Train Loss: 0.0119, Validation Loss: 0.0126\n"
     ]
    },
    {
     "name": "stderr",
     "output_type": "stream",
     "text": [
      "Epoch 306/500 [Training]: 100%|██████████| 55/55 [00:00<00:00, 1569.68it/s]\n",
      "Epoch 306/500 [Validation]: 100%|██████████| 16/16 [00:00<00:00, 2604.15it/s]\n"
     ]
    },
    {
     "name": "stdout",
     "output_type": "stream",
     "text": [
      "Epoch 306/500, Train Loss: 0.0116, Validation Loss: 0.0116\n"
     ]
    },
    {
     "name": "stderr",
     "output_type": "stream",
     "text": [
      "Epoch 307/500 [Training]: 100%|██████████| 55/55 [00:00<00:00, 1501.87it/s]\n",
      "Epoch 307/500 [Validation]: 100%|██████████| 16/16 [00:00<00:00, 2693.19it/s]\n"
     ]
    },
    {
     "name": "stdout",
     "output_type": "stream",
     "text": [
      "Epoch 307/500, Train Loss: 0.0117, Validation Loss: 0.0133\n"
     ]
    },
    {
     "name": "stderr",
     "output_type": "stream",
     "text": [
      "Epoch 308/500 [Training]: 100%|██████████| 55/55 [00:00<00:00, 1558.97it/s]\n",
      "Epoch 308/500 [Validation]: 100%|██████████| 16/16 [00:00<00:00, 2741.60it/s]\n"
     ]
    },
    {
     "name": "stdout",
     "output_type": "stream",
     "text": [
      "Epoch 308/500, Train Loss: 0.0115, Validation Loss: 0.0110\n"
     ]
    },
    {
     "name": "stderr",
     "output_type": "stream",
     "text": [
      "Epoch 309/500 [Training]: 100%|██████████| 55/55 [00:00<00:00, 1423.29it/s]\n",
      "Epoch 309/500 [Validation]: 100%|██████████| 16/16 [00:00<00:00, 2319.94it/s]\n"
     ]
    },
    {
     "name": "stdout",
     "output_type": "stream",
     "text": [
      "Epoch 309/500, Train Loss: 0.0115, Validation Loss: 0.0139\n"
     ]
    },
    {
     "name": "stderr",
     "output_type": "stream",
     "text": [
      "Epoch 310/500 [Training]: 100%|██████████| 55/55 [00:00<00:00, 1419.02it/s]\n",
      "Epoch 310/500 [Validation]: 100%|██████████| 16/16 [00:00<00:00, 2710.37it/s]\n"
     ]
    },
    {
     "name": "stdout",
     "output_type": "stream",
     "text": [
      "Epoch 310/500, Train Loss: 0.0114, Validation Loss: 0.0111\n"
     ]
    },
    {
     "name": "stderr",
     "output_type": "stream",
     "text": [
      "Epoch 311/500 [Training]: 100%|██████████| 55/55 [00:00<00:00, 1556.36it/s]\n",
      "Epoch 311/500 [Validation]: 100%|██████████| 16/16 [00:00<00:00, 2522.42it/s]\n"
     ]
    },
    {
     "name": "stdout",
     "output_type": "stream",
     "text": [
      "Epoch 311/500, Train Loss: 0.0117, Validation Loss: 0.0109\n"
     ]
    },
    {
     "name": "stderr",
     "output_type": "stream",
     "text": [
      "Epoch 312/500 [Training]: 100%|██████████| 55/55 [00:00<00:00, 1425.76it/s]\n",
      "Epoch 312/500 [Validation]: 100%|██████████| 16/16 [00:00<00:00, 2666.75it/s]\n"
     ]
    },
    {
     "name": "stdout",
     "output_type": "stream",
     "text": [
      "Epoch 312/500, Train Loss: 0.0112, Validation Loss: 0.0109\n"
     ]
    },
    {
     "name": "stderr",
     "output_type": "stream",
     "text": [
      "Epoch 313/500 [Training]: 100%|██████████| 55/55 [00:00<00:00, 1514.36it/s]\n",
      "Epoch 313/500 [Validation]: 100%|██████████| 16/16 [00:00<00:00, 2684.14it/s]\n"
     ]
    },
    {
     "name": "stdout",
     "output_type": "stream",
     "text": [
      "Epoch 313/500, Train Loss: 0.0113, Validation Loss: 0.0119\n"
     ]
    },
    {
     "name": "stderr",
     "output_type": "stream",
     "text": [
      "Epoch 314/500 [Training]: 100%|██████████| 55/55 [00:00<00:00, 1427.35it/s]\n",
      "Epoch 314/500 [Validation]: 100%|██████████| 16/16 [00:00<00:00, 2762.93it/s]\n"
     ]
    },
    {
     "name": "stdout",
     "output_type": "stream",
     "text": [
      "Epoch 314/500, Train Loss: 0.0114, Validation Loss: 0.0109\n"
     ]
    },
    {
     "name": "stderr",
     "output_type": "stream",
     "text": [
      "Epoch 315/500 [Training]: 100%|██████████| 55/55 [00:00<00:00, 1515.89it/s]\n",
      "Epoch 315/500 [Validation]: 100%|██████████| 16/16 [00:00<00:00, 2694.49it/s]\n"
     ]
    },
    {
     "name": "stdout",
     "output_type": "stream",
     "text": [
      "Epoch 315/500, Train Loss: 0.0117, Validation Loss: 0.0109\n"
     ]
    },
    {
     "name": "stderr",
     "output_type": "stream",
     "text": [
      "Epoch 316/500 [Training]: 100%|██████████| 55/55 [00:00<00:00, 1513.32it/s]\n",
      "Epoch 316/500 [Validation]: 100%|██████████| 16/16 [00:00<00:00, 2561.21it/s]\n"
     ]
    },
    {
     "name": "stdout",
     "output_type": "stream",
     "text": [
      "Epoch 316/500, Train Loss: 0.0111, Validation Loss: 0.0121\n"
     ]
    },
    {
     "name": "stderr",
     "output_type": "stream",
     "text": [
      "Epoch 317/500 [Training]: 100%|██████████| 55/55 [00:00<00:00, 1511.69it/s]\n",
      "Epoch 317/500 [Validation]: 100%|██████████| 16/16 [00:00<00:00, 2705.89it/s]\n"
     ]
    },
    {
     "name": "stdout",
     "output_type": "stream",
     "text": [
      "Epoch 317/500, Train Loss: 0.0112, Validation Loss: 0.0114\n"
     ]
    },
    {
     "name": "stderr",
     "output_type": "stream",
     "text": [
      "Epoch 318/500 [Training]: 100%|██████████| 55/55 [00:00<00:00, 1469.80it/s]\n",
      "Epoch 318/500 [Validation]: 100%|██████████| 16/16 [00:00<00:00, 2733.67it/s]\n"
     ]
    },
    {
     "name": "stdout",
     "output_type": "stream",
     "text": [
      "Epoch 318/500, Train Loss: 0.0114, Validation Loss: 0.0112\n"
     ]
    },
    {
     "name": "stderr",
     "output_type": "stream",
     "text": [
      "Epoch 319/500 [Training]: 100%|██████████| 55/55 [00:00<00:00, 1429.17it/s]\n",
      "Epoch 319/500 [Validation]: 100%|██████████| 16/16 [00:00<00:00, 2776.31it/s]\n"
     ]
    },
    {
     "name": "stdout",
     "output_type": "stream",
     "text": [
      "Epoch 319/500, Train Loss: 0.0113, Validation Loss: 0.0111\n"
     ]
    },
    {
     "name": "stderr",
     "output_type": "stream",
     "text": [
      "Epoch 320/500 [Training]: 100%|██████████| 55/55 [00:00<00:00, 1560.85it/s]\n",
      "Epoch 320/500 [Validation]: 100%|██████████| 16/16 [00:00<00:00, 2741.71it/s]\n"
     ]
    },
    {
     "name": "stdout",
     "output_type": "stream",
     "text": [
      "Epoch 320/500, Train Loss: 0.0116, Validation Loss: 0.0111\n"
     ]
    },
    {
     "name": "stderr",
     "output_type": "stream",
     "text": [
      "Epoch 321/500 [Training]: 100%|██████████| 55/55 [00:00<00:00, 1529.13it/s]\n",
      "Epoch 321/500 [Validation]: 100%|██████████| 16/16 [00:00<00:00, 2711.03it/s]\n"
     ]
    },
    {
     "name": "stdout",
     "output_type": "stream",
     "text": [
      "Epoch 321/500, Train Loss: 0.0112, Validation Loss: 0.0108\n"
     ]
    },
    {
     "name": "stderr",
     "output_type": "stream",
     "text": [
      "Epoch 322/500 [Training]: 100%|██████████| 55/55 [00:00<00:00, 1416.32it/s]\n",
      "Epoch 322/500 [Validation]: 100%|██████████| 16/16 [00:00<00:00, 2678.78it/s]\n"
     ]
    },
    {
     "name": "stdout",
     "output_type": "stream",
     "text": [
      "Epoch 322/500, Train Loss: 0.0113, Validation Loss: 0.0109\n"
     ]
    },
    {
     "name": "stderr",
     "output_type": "stream",
     "text": [
      "Epoch 323/500 [Training]: 100%|██████████| 55/55 [00:00<00:00, 1551.00it/s]\n",
      "Epoch 323/500 [Validation]: 100%|██████████| 16/16 [00:00<00:00, 2718.28it/s]\n"
     ]
    },
    {
     "name": "stdout",
     "output_type": "stream",
     "text": [
      "Epoch 323/500, Train Loss: 0.0111, Validation Loss: 0.0114\n"
     ]
    },
    {
     "name": "stderr",
     "output_type": "stream",
     "text": [
      "Epoch 324/500 [Training]: 100%|██████████| 55/55 [00:00<00:00, 1440.51it/s]\n",
      "Epoch 324/500 [Validation]: 100%|██████████| 16/16 [00:00<00:00, 2594.88it/s]\n"
     ]
    },
    {
     "name": "stdout",
     "output_type": "stream",
     "text": [
      "Epoch 324/500, Train Loss: 0.0114, Validation Loss: 0.0109\n"
     ]
    },
    {
     "name": "stderr",
     "output_type": "stream",
     "text": [
      "Epoch 325/500 [Training]: 100%|██████████| 55/55 [00:00<00:00, 1450.35it/s]\n",
      "Epoch 325/500 [Validation]: 100%|██████████| 16/16 [00:00<00:00, 2650.74it/s]\n"
     ]
    },
    {
     "name": "stdout",
     "output_type": "stream",
     "text": [
      "Epoch 325/500, Train Loss: 0.0114, Validation Loss: 0.0118\n"
     ]
    },
    {
     "name": "stderr",
     "output_type": "stream",
     "text": [
      "Epoch 326/500 [Training]: 100%|██████████| 55/55 [00:00<00:00, 1485.03it/s]\n",
      "Epoch 326/500 [Validation]: 100%|██████████| 16/16 [00:00<00:00, 2604.15it/s]\n"
     ]
    },
    {
     "name": "stdout",
     "output_type": "stream",
     "text": [
      "Epoch 326/500, Train Loss: 0.0113, Validation Loss: 0.0113\n"
     ]
    },
    {
     "name": "stderr",
     "output_type": "stream",
     "text": [
      "Epoch 327/500 [Training]: 100%|██████████| 55/55 [00:00<00:00, 1436.10it/s]\n",
      "Epoch 327/500 [Validation]: 100%|██████████| 16/16 [00:00<00:00, 2597.39it/s]\n"
     ]
    },
    {
     "name": "stdout",
     "output_type": "stream",
     "text": [
      "Epoch 327/500, Train Loss: 0.0119, Validation Loss: 0.0140\n"
     ]
    },
    {
     "name": "stderr",
     "output_type": "stream",
     "text": [
      "Epoch 328/500 [Training]: 100%|██████████| 55/55 [00:00<00:00, 1404.00it/s]\n",
      "Epoch 328/500 [Validation]: 100%|██████████| 16/16 [00:00<00:00, 2536.81it/s]\n"
     ]
    },
    {
     "name": "stdout",
     "output_type": "stream",
     "text": [
      "Epoch 328/500, Train Loss: 0.0120, Validation Loss: 0.0112\n"
     ]
    },
    {
     "name": "stderr",
     "output_type": "stream",
     "text": [
      "Epoch 329/500 [Training]: 100%|██████████| 55/55 [00:00<00:00, 1317.74it/s]\n",
      "Epoch 329/500 [Validation]: 100%|██████████| 16/16 [00:00<00:00, 2469.51it/s]\n"
     ]
    },
    {
     "name": "stdout",
     "output_type": "stream",
     "text": [
      "Epoch 329/500, Train Loss: 0.0112, Validation Loss: 0.0109\n"
     ]
    },
    {
     "name": "stderr",
     "output_type": "stream",
     "text": [
      "Epoch 330/500 [Training]: 100%|██████████| 55/55 [00:00<00:00, 1293.48it/s]\n",
      "Epoch 330/500 [Validation]: 100%|██████████| 16/16 [00:00<00:00, 2027.40it/s]\n"
     ]
    },
    {
     "name": "stdout",
     "output_type": "stream",
     "text": [
      "Epoch 330/500, Train Loss: 0.0111, Validation Loss: 0.0118\n"
     ]
    },
    {
     "name": "stderr",
     "output_type": "stream",
     "text": [
      "Epoch 331/500 [Training]: 100%|██████████| 55/55 [00:00<00:00, 1454.37it/s]\n",
      "Epoch 331/500 [Validation]: 100%|██████████| 16/16 [00:00<00:00, 2527.74it/s]\n"
     ]
    },
    {
     "name": "stdout",
     "output_type": "stream",
     "text": [
      "Epoch 331/500, Train Loss: 0.0116, Validation Loss: 0.0125\n"
     ]
    },
    {
     "name": "stderr",
     "output_type": "stream",
     "text": [
      "Epoch 332/500 [Training]: 100%|██████████| 55/55 [00:00<00:00, 1455.72it/s]\n",
      "Epoch 332/500 [Validation]: 100%|██████████| 16/16 [00:00<00:00, 2593.58it/s]\n"
     ]
    },
    {
     "name": "stdout",
     "output_type": "stream",
     "text": [
      "Epoch 332/500, Train Loss: 0.0114, Validation Loss: 0.0111\n"
     ]
    },
    {
     "name": "stderr",
     "output_type": "stream",
     "text": [
      "Epoch 333/500 [Training]: 100%|██████████| 55/55 [00:00<00:00, 1399.60it/s]\n",
      "Epoch 333/500 [Validation]: 100%|██████████| 16/16 [00:00<00:00, 2554.58it/s]\n"
     ]
    },
    {
     "name": "stdout",
     "output_type": "stream",
     "text": [
      "Epoch 333/500, Train Loss: 0.0110, Validation Loss: 0.0108\n"
     ]
    },
    {
     "name": "stderr",
     "output_type": "stream",
     "text": [
      "Epoch 334/500 [Training]: 100%|██████████| 55/55 [00:00<00:00, 1499.29it/s]\n",
      "Epoch 334/500 [Validation]: 100%|██████████| 16/16 [00:00<00:00, 2457.48it/s]\n"
     ]
    },
    {
     "name": "stdout",
     "output_type": "stream",
     "text": [
      "Epoch 334/500, Train Loss: 0.0110, Validation Loss: 0.0113\n"
     ]
    },
    {
     "name": "stderr",
     "output_type": "stream",
     "text": [
      "Epoch 335/500 [Training]: 100%|██████████| 55/55 [00:00<00:00, 1464.60it/s]\n",
      "Epoch 335/500 [Validation]: 100%|██████████| 16/16 [00:00<00:00, 2661.89it/s]\n"
     ]
    },
    {
     "name": "stdout",
     "output_type": "stream",
     "text": [
      "Epoch 335/500, Train Loss: 0.0110, Validation Loss: 0.0108\n"
     ]
    },
    {
     "name": "stderr",
     "output_type": "stream",
     "text": [
      "Epoch 336/500 [Training]: 100%|██████████| 55/55 [00:00<00:00, 1512.40it/s]\n",
      "Epoch 336/500 [Validation]: 100%|██████████| 16/16 [00:00<00:00, 2712.24it/s]\n"
     ]
    },
    {
     "name": "stdout",
     "output_type": "stream",
     "text": [
      "Epoch 336/500, Train Loss: 0.0113, Validation Loss: 0.0110\n"
     ]
    },
    {
     "name": "stderr",
     "output_type": "stream",
     "text": [
      "Epoch 337/500 [Training]: 100%|██████████| 55/55 [00:00<00:00, 1558.02it/s]\n",
      "Epoch 337/500 [Validation]: 100%|██████████| 16/16 [00:00<00:00, 2718.83it/s]\n"
     ]
    },
    {
     "name": "stdout",
     "output_type": "stream",
     "text": [
      "Epoch 337/500, Train Loss: 0.0118, Validation Loss: 0.0123\n"
     ]
    },
    {
     "name": "stderr",
     "output_type": "stream",
     "text": [
      "Epoch 338/500 [Training]: 100%|██████████| 55/55 [00:00<00:00, 1461.99it/s]\n",
      "Epoch 338/500 [Validation]: 100%|██████████| 16/16 [00:00<00:00, 2765.67it/s]\n"
     ]
    },
    {
     "name": "stdout",
     "output_type": "stream",
     "text": [
      "Epoch 338/500, Train Loss: 0.0112, Validation Loss: 0.0108\n"
     ]
    },
    {
     "name": "stderr",
     "output_type": "stream",
     "text": [
      "Epoch 339/500 [Training]: 100%|██████████| 55/55 [00:00<00:00, 1572.97it/s]\n",
      "Epoch 339/500 [Validation]: 100%|██████████| 16/16 [00:00<00:00, 2706.33it/s]\n"
     ]
    },
    {
     "name": "stdout",
     "output_type": "stream",
     "text": [
      "Epoch 339/500, Train Loss: 0.0111, Validation Loss: 0.0111\n"
     ]
    },
    {
     "name": "stderr",
     "output_type": "stream",
     "text": [
      "Epoch 340/500 [Training]: 100%|██████████| 55/55 [00:00<00:00, 1367.61it/s]\n",
      "Epoch 340/500 [Validation]: 100%|██████████| 16/16 [00:00<00:00, 2344.66it/s]\n"
     ]
    },
    {
     "name": "stdout",
     "output_type": "stream",
     "text": [
      "Epoch 340/500, Train Loss: 0.0119, Validation Loss: 0.0112\n"
     ]
    },
    {
     "name": "stderr",
     "output_type": "stream",
     "text": [
      "Epoch 341/500 [Training]: 100%|██████████| 55/55 [00:00<00:00, 1418.58it/s]\n",
      "Epoch 341/500 [Validation]: 100%|██████████| 16/16 [00:00<00:00, 2249.11it/s]\n"
     ]
    },
    {
     "name": "stdout",
     "output_type": "stream",
     "text": [
      "Epoch 341/500, Train Loss: 0.0114, Validation Loss: 0.0119\n"
     ]
    },
    {
     "name": "stderr",
     "output_type": "stream",
     "text": [
      "Epoch 342/500 [Training]: 100%|██████████| 55/55 [00:00<00:00, 1343.04it/s]\n",
      "Epoch 342/500 [Validation]: 100%|██████████| 16/16 [00:00<00:00, 2533.27it/s]\n"
     ]
    },
    {
     "name": "stdout",
     "output_type": "stream",
     "text": [
      "Epoch 342/500, Train Loss: 0.0113, Validation Loss: 0.0146\n"
     ]
    },
    {
     "name": "stderr",
     "output_type": "stream",
     "text": [
      "Epoch 343/500 [Training]: 100%|██████████| 55/55 [00:00<00:00, 1373.87it/s]\n",
      "Epoch 343/500 [Validation]: 100%|██████████| 16/16 [00:00<00:00, 2399.49it/s]\n"
     ]
    },
    {
     "name": "stdout",
     "output_type": "stream",
     "text": [
      "Epoch 343/500, Train Loss: 0.0115, Validation Loss: 0.0108\n"
     ]
    },
    {
     "name": "stderr",
     "output_type": "stream",
     "text": [
      "Epoch 344/500 [Training]: 100%|██████████| 55/55 [00:00<00:00, 1434.90it/s]\n",
      "Epoch 344/500 [Validation]: 100%|██████████| 16/16 [00:00<00:00, 2548.08it/s]\n"
     ]
    },
    {
     "name": "stdout",
     "output_type": "stream",
     "text": [
      "Epoch 344/500, Train Loss: 0.0111, Validation Loss: 0.0108\n"
     ]
    },
    {
     "name": "stderr",
     "output_type": "stream",
     "text": [
      "Epoch 345/500 [Training]: 100%|██████████| 55/55 [00:00<00:00, 1304.27it/s]\n",
      "Epoch 345/500 [Validation]: 100%|██████████| 16/16 [00:00<00:00, 2502.66it/s]\n"
     ]
    },
    {
     "name": "stdout",
     "output_type": "stream",
     "text": [
      "Epoch 345/500, Train Loss: 0.0112, Validation Loss: 0.0109\n"
     ]
    },
    {
     "name": "stderr",
     "output_type": "stream",
     "text": [
      "Epoch 346/500 [Training]: 100%|██████████| 55/55 [00:00<00:00, 1361.08it/s]\n",
      "Epoch 346/500 [Validation]: 100%|██████████| 16/16 [00:00<00:00, 2518.16it/s]\n"
     ]
    },
    {
     "name": "stdout",
     "output_type": "stream",
     "text": [
      "Epoch 346/500, Train Loss: 0.0114, Validation Loss: 0.0110\n"
     ]
    },
    {
     "name": "stderr",
     "output_type": "stream",
     "text": [
      "Epoch 347/500 [Training]: 100%|██████████| 55/55 [00:00<00:00, 1403.56it/s]\n",
      "Epoch 347/500 [Validation]: 100%|██████████| 16/16 [00:00<00:00, 2641.56it/s]\n"
     ]
    },
    {
     "name": "stdout",
     "output_type": "stream",
     "text": [
      "Epoch 347/500, Train Loss: 0.0113, Validation Loss: 0.0116\n"
     ]
    },
    {
     "name": "stderr",
     "output_type": "stream",
     "text": [
      "Epoch 348/500 [Training]: 100%|██████████| 55/55 [00:00<00:00, 1515.86it/s]\n",
      "Epoch 348/500 [Validation]: 100%|██████████| 16/16 [00:00<00:00, 2674.62it/s]\n"
     ]
    },
    {
     "name": "stdout",
     "output_type": "stream",
     "text": [
      "Epoch 348/500, Train Loss: 0.0114, Validation Loss: 0.0110\n"
     ]
    },
    {
     "name": "stderr",
     "output_type": "stream",
     "text": [
      "Epoch 349/500 [Training]: 100%|██████████| 55/55 [00:00<00:00, 1428.51it/s]\n",
      "Epoch 349/500 [Validation]: 100%|██████████| 16/16 [00:00<00:00, 2752.96it/s]\n"
     ]
    },
    {
     "name": "stdout",
     "output_type": "stream",
     "text": [
      "Epoch 349/500, Train Loss: 0.0110, Validation Loss: 0.0112\n"
     ]
    },
    {
     "name": "stderr",
     "output_type": "stream",
     "text": [
      "Epoch 350/500 [Training]: 100%|██████████| 55/55 [00:00<00:00, 1431.66it/s]\n",
      "Epoch 350/500 [Validation]: 100%|██████████| 16/16 [00:00<00:00, 2526.12it/s]\n"
     ]
    },
    {
     "name": "stdout",
     "output_type": "stream",
     "text": [
      "Epoch 350/500, Train Loss: 0.0110, Validation Loss: 0.0110\n"
     ]
    },
    {
     "name": "stderr",
     "output_type": "stream",
     "text": [
      "Epoch 351/500 [Training]: 100%|██████████| 55/55 [00:00<00:00, 1578.47it/s]\n",
      "Epoch 351/500 [Validation]: 100%|██████████| 16/16 [00:00<00:00, 2591.58it/s]\n"
     ]
    },
    {
     "name": "stdout",
     "output_type": "stream",
     "text": [
      "Epoch 351/500, Train Loss: 0.0111, Validation Loss: 0.0108\n"
     ]
    },
    {
     "name": "stderr",
     "output_type": "stream",
     "text": [
      "Epoch 352/500 [Training]: 100%|██████████| 55/55 [00:00<00:00, 1463.70it/s]\n",
      "Epoch 352/500 [Validation]: 100%|██████████| 16/16 [00:00<00:00, 2759.98it/s]\n"
     ]
    },
    {
     "name": "stdout",
     "output_type": "stream",
     "text": [
      "Epoch 352/500, Train Loss: 0.0116, Validation Loss: 0.0116\n"
     ]
    },
    {
     "name": "stderr",
     "output_type": "stream",
     "text": [
      "Epoch 353/500 [Training]: 100%|██████████| 55/55 [00:00<00:00, 1402.53it/s]\n",
      "Epoch 353/500 [Validation]: 100%|██████████| 16/16 [00:00<00:00, 2459.19it/s]\n"
     ]
    },
    {
     "name": "stdout",
     "output_type": "stream",
     "text": [
      "Epoch 353/500, Train Loss: 0.0111, Validation Loss: 0.0108\n"
     ]
    },
    {
     "name": "stderr",
     "output_type": "stream",
     "text": [
      "Epoch 354/500 [Training]: 100%|██████████| 55/55 [00:00<00:00, 1386.11it/s]\n",
      "Epoch 354/500 [Validation]: 100%|██████████| 16/16 [00:00<00:00, 2564.15it/s]\n"
     ]
    },
    {
     "name": "stdout",
     "output_type": "stream",
     "text": [
      "Epoch 354/500, Train Loss: 0.0109, Validation Loss: 0.0111\n"
     ]
    },
    {
     "name": "stderr",
     "output_type": "stream",
     "text": [
      "Epoch 355/500 [Training]: 100%|██████████| 55/55 [00:00<00:00, 1393.10it/s]\n",
      "Epoch 355/500 [Validation]: 100%|██████████| 16/16 [00:00<00:00, 2587.68it/s]\n"
     ]
    },
    {
     "name": "stdout",
     "output_type": "stream",
     "text": [
      "Epoch 355/500, Train Loss: 0.0113, Validation Loss: 0.0115\n"
     ]
    },
    {
     "name": "stderr",
     "output_type": "stream",
     "text": [
      "Epoch 356/500 [Training]: 100%|██████████| 55/55 [00:00<00:00, 1375.51it/s]\n",
      "Epoch 356/500 [Validation]: 100%|██████████| 16/16 [00:00<00:00, 2620.31it/s]\n"
     ]
    },
    {
     "name": "stdout",
     "output_type": "stream",
     "text": [
      "Epoch 356/500, Train Loss: 0.0112, Validation Loss: 0.0110\n"
     ]
    },
    {
     "name": "stderr",
     "output_type": "stream",
     "text": [
      "Epoch 357/500 [Training]: 100%|██████████| 55/55 [00:00<00:00, 1410.88it/s]\n",
      "Epoch 357/500 [Validation]: 100%|██████████| 16/16 [00:00<00:00, 2705.89it/s]\n"
     ]
    },
    {
     "name": "stdout",
     "output_type": "stream",
     "text": [
      "Epoch 357/500, Train Loss: 0.0112, Validation Loss: 0.0109\n"
     ]
    },
    {
     "name": "stderr",
     "output_type": "stream",
     "text": [
      "Epoch 358/500 [Training]: 100%|██████████| 55/55 [00:00<00:00, 1421.15it/s]\n",
      "Epoch 358/500 [Validation]: 100%|██████████| 16/16 [00:00<00:00, 2543.25it/s]\n"
     ]
    },
    {
     "name": "stdout",
     "output_type": "stream",
     "text": [
      "Epoch 358/500, Train Loss: 0.0118, Validation Loss: 0.0108\n"
     ]
    },
    {
     "name": "stderr",
     "output_type": "stream",
     "text": [
      "Epoch 359/500 [Training]: 100%|██████████| 55/55 [00:00<00:00, 1414.76it/s]\n",
      "Epoch 359/500 [Validation]: 100%|██████████| 16/16 [00:00<00:00, 2709.50it/s]\n"
     ]
    },
    {
     "name": "stdout",
     "output_type": "stream",
     "text": [
      "Epoch 359/500, Train Loss: 0.0109, Validation Loss: 0.0116\n"
     ]
    },
    {
     "name": "stderr",
     "output_type": "stream",
     "text": [
      "Epoch 360/500 [Training]: 100%|██████████| 55/55 [00:00<00:00, 1380.32it/s]\n",
      "Epoch 360/500 [Validation]: 100%|██████████| 16/16 [00:00<00:00, 2460.72it/s]\n"
     ]
    },
    {
     "name": "stdout",
     "output_type": "stream",
     "text": [
      "Epoch 360/500, Train Loss: 0.0111, Validation Loss: 0.0116\n"
     ]
    },
    {
     "name": "stderr",
     "output_type": "stream",
     "text": [
      "Epoch 361/500 [Training]: 100%|██████████| 55/55 [00:00<00:00, 1517.21it/s]\n",
      "Epoch 361/500 [Validation]: 100%|██████████| 16/16 [00:00<00:00, 2479.45it/s]\n"
     ]
    },
    {
     "name": "stdout",
     "output_type": "stream",
     "text": [
      "Epoch 361/500, Train Loss: 0.0110, Validation Loss: 0.0107\n"
     ]
    },
    {
     "name": "stderr",
     "output_type": "stream",
     "text": [
      "Epoch 362/500 [Training]: 100%|██████████| 55/55 [00:00<00:00, 1351.03it/s]\n",
      "Epoch 362/500 [Validation]: 100%|██████████| 16/16 [00:00<00:00, 2482.20it/s]\n"
     ]
    },
    {
     "name": "stdout",
     "output_type": "stream",
     "text": [
      "Epoch 362/500, Train Loss: 0.0109, Validation Loss: 0.0111\n"
     ]
    },
    {
     "name": "stderr",
     "output_type": "stream",
     "text": [
      "Epoch 363/500 [Training]: 100%|██████████| 55/55 [00:00<00:00, 1449.20it/s]\n",
      "Epoch 363/500 [Validation]: 100%|██████████| 16/16 [00:00<00:00, 2578.93it/s]\n"
     ]
    },
    {
     "name": "stdout",
     "output_type": "stream",
     "text": [
      "Epoch 363/500, Train Loss: 0.0111, Validation Loss: 0.0116\n"
     ]
    },
    {
     "name": "stderr",
     "output_type": "stream",
     "text": [
      "Epoch 364/500 [Training]: 100%|██████████| 55/55 [00:00<00:00, 1473.23it/s]\n",
      "Epoch 364/500 [Validation]: 100%|██████████| 16/16 [00:00<00:00, 2698.17it/s]\n"
     ]
    },
    {
     "name": "stdout",
     "output_type": "stream",
     "text": [
      "Epoch 364/500, Train Loss: 0.0114, Validation Loss: 0.0115\n"
     ]
    },
    {
     "name": "stderr",
     "output_type": "stream",
     "text": [
      "Epoch 365/500 [Training]: 100%|██████████| 55/55 [00:00<00:00, 1586.16it/s]\n",
      "Epoch 365/500 [Validation]: 100%|██████████| 16/16 [00:00<00:00, 2696.00it/s]\n"
     ]
    },
    {
     "name": "stdout",
     "output_type": "stream",
     "text": [
      "Epoch 365/500, Train Loss: 0.0111, Validation Loss: 0.0108\n"
     ]
    },
    {
     "name": "stderr",
     "output_type": "stream",
     "text": [
      "Epoch 366/500 [Training]: 100%|██████████| 55/55 [00:00<00:00, 1597.59it/s]\n",
      "Epoch 366/500 [Validation]: 100%|██████████| 16/16 [00:00<00:00, 2665.38it/s]\n"
     ]
    },
    {
     "name": "stdout",
     "output_type": "stream",
     "text": [
      "Epoch 366/500, Train Loss: 0.0116, Validation Loss: 0.0106\n"
     ]
    },
    {
     "name": "stderr",
     "output_type": "stream",
     "text": [
      "Epoch 367/500 [Training]: 100%|██████████| 55/55 [00:00<00:00, 1487.01it/s]\n",
      "Epoch 367/500 [Validation]: 100%|██████████| 16/16 [00:00<00:00, 2761.57it/s]\n"
     ]
    },
    {
     "name": "stdout",
     "output_type": "stream",
     "text": [
      "Epoch 367/500, Train Loss: 0.0110, Validation Loss: 0.0107\n"
     ]
    },
    {
     "name": "stderr",
     "output_type": "stream",
     "text": [
      "Epoch 368/500 [Training]: 100%|██████████| 55/55 [00:00<00:00, 1568.25it/s]\n",
      "Epoch 368/500 [Validation]: 100%|██████████| 16/16 [00:00<00:00, 2685.97it/s]\n"
     ]
    },
    {
     "name": "stdout",
     "output_type": "stream",
     "text": [
      "Epoch 368/500, Train Loss: 0.0111, Validation Loss: 0.0107\n"
     ]
    },
    {
     "name": "stderr",
     "output_type": "stream",
     "text": [
      "Epoch 369/500 [Training]: 100%|██████████| 55/55 [00:00<00:00, 1494.29it/s]\n",
      "Epoch 369/500 [Validation]: 100%|██████████| 16/16 [00:00<00:00, 2535.18it/s]\n"
     ]
    },
    {
     "name": "stdout",
     "output_type": "stream",
     "text": [
      "Epoch 369/500, Train Loss: 0.0111, Validation Loss: 0.0111\n"
     ]
    },
    {
     "name": "stderr",
     "output_type": "stream",
     "text": [
      "Epoch 370/500 [Training]: 100%|██████████| 55/55 [00:00<00:00, 1456.18it/s]\n",
      "Epoch 370/500 [Validation]: 100%|██████████| 16/16 [00:00<00:00, 2602.53it/s]\n"
     ]
    },
    {
     "name": "stdout",
     "output_type": "stream",
     "text": [
      "Epoch 370/500, Train Loss: 0.0111, Validation Loss: 0.0112\n"
     ]
    },
    {
     "name": "stderr",
     "output_type": "stream",
     "text": [
      "Epoch 371/500 [Training]: 100%|██████████| 55/55 [00:00<00:00, 1477.95it/s]\n",
      "Epoch 371/500 [Validation]: 100%|██████████| 16/16 [00:00<00:00, 2527.26it/s]\n"
     ]
    },
    {
     "name": "stdout",
     "output_type": "stream",
     "text": [
      "Epoch 371/500, Train Loss: 0.0110, Validation Loss: 0.0113\n"
     ]
    },
    {
     "name": "stderr",
     "output_type": "stream",
     "text": [
      "Epoch 372/500 [Training]: 100%|██████████| 55/55 [00:00<00:00, 1558.97it/s]\n",
      "Epoch 372/500 [Validation]: 100%|██████████| 16/16 [00:00<00:00, 2564.93it/s]\n"
     ]
    },
    {
     "name": "stdout",
     "output_type": "stream",
     "text": [
      "Epoch 372/500, Train Loss: 0.0110, Validation Loss: 0.0107\n"
     ]
    },
    {
     "name": "stderr",
     "output_type": "stream",
     "text": [
      "Epoch 373/500 [Training]: 100%|██████████| 55/55 [00:00<00:00, 1410.58it/s]\n",
      "Epoch 373/500 [Validation]: 100%|██████████| 16/16 [00:00<00:00, 2512.22it/s]\n"
     ]
    },
    {
     "name": "stdout",
     "output_type": "stream",
     "text": [
      "Epoch 373/500, Train Loss: 0.0110, Validation Loss: 0.0115\n"
     ]
    },
    {
     "name": "stderr",
     "output_type": "stream",
     "text": [
      "Epoch 374/500 [Training]: 100%|██████████| 55/55 [00:00<00:00, 1505.61it/s]\n",
      "Epoch 374/500 [Validation]: 100%|██████████| 16/16 [00:00<00:00, 2661.25it/s]\n"
     ]
    },
    {
     "name": "stdout",
     "output_type": "stream",
     "text": [
      "Epoch 374/500, Train Loss: 0.0117, Validation Loss: 0.0116\n"
     ]
    },
    {
     "name": "stderr",
     "output_type": "stream",
     "text": [
      "Epoch 375/500 [Training]: 100%|██████████| 55/55 [00:00<00:00, 1315.35it/s]\n",
      "Epoch 375/500 [Validation]: 100%|██████████| 16/16 [00:00<00:00, 2504.34it/s]\n"
     ]
    },
    {
     "name": "stdout",
     "output_type": "stream",
     "text": [
      "Epoch 375/500, Train Loss: 0.0114, Validation Loss: 0.0108\n"
     ]
    },
    {
     "name": "stderr",
     "output_type": "stream",
     "text": [
      "Epoch 376/500 [Training]: 100%|██████████| 55/55 [00:00<00:00, 1534.17it/s]\n",
      "Epoch 376/500 [Validation]: 100%|██████████| 16/16 [00:00<00:00, 2455.86it/s]\n"
     ]
    },
    {
     "name": "stdout",
     "output_type": "stream",
     "text": [
      "Epoch 376/500, Train Loss: 0.0113, Validation Loss: 0.0109\n"
     ]
    },
    {
     "name": "stderr",
     "output_type": "stream",
     "text": [
      "Epoch 377/500 [Training]: 100%|██████████| 55/55 [00:00<00:00, 1505.23it/s]\n",
      "Epoch 377/500 [Validation]: 100%|██████████| 16/16 [00:00<00:00, 2629.04it/s]\n"
     ]
    },
    {
     "name": "stdout",
     "output_type": "stream",
     "text": [
      "Epoch 377/500, Train Loss: 0.0109, Validation Loss: 0.0106\n"
     ]
    },
    {
     "name": "stderr",
     "output_type": "stream",
     "text": [
      "Epoch 378/500 [Training]: 100%|██████████| 55/55 [00:00<00:00, 1463.54it/s]\n",
      "Epoch 378/500 [Validation]: 100%|██████████| 16/16 [00:00<00:00, 2744.29it/s]\n"
     ]
    },
    {
     "name": "stdout",
     "output_type": "stream",
     "text": [
      "Epoch 378/500, Train Loss: 0.0109, Validation Loss: 0.0108\n"
     ]
    },
    {
     "name": "stderr",
     "output_type": "stream",
     "text": [
      "Epoch 379/500 [Training]: 100%|██████████| 55/55 [00:00<00:00, 1412.73it/s]\n",
      "Epoch 379/500 [Validation]: 100%|██████████| 16/16 [00:00<00:00, 2647.61it/s]\n"
     ]
    },
    {
     "name": "stdout",
     "output_type": "stream",
     "text": [
      "Epoch 379/500, Train Loss: 0.0112, Validation Loss: 0.0108\n"
     ]
    },
    {
     "name": "stderr",
     "output_type": "stream",
     "text": [
      "Epoch 380/500 [Training]: 100%|██████████| 55/55 [00:00<00:00, 1406.90it/s]\n",
      "Epoch 380/500 [Validation]: 100%|██████████| 16/16 [00:00<00:00, 2735.01it/s]\n"
     ]
    },
    {
     "name": "stdout",
     "output_type": "stream",
     "text": [
      "Epoch 380/500, Train Loss: 0.0112, Validation Loss: 0.0107\n"
     ]
    },
    {
     "name": "stderr",
     "output_type": "stream",
     "text": [
      "Epoch 381/500 [Training]: 100%|██████████| 55/55 [00:00<00:00, 1501.83it/s]\n",
      "Epoch 381/500 [Validation]: 100%|██████████| 16/16 [00:00<00:00, 2855.21it/s]\n"
     ]
    },
    {
     "name": "stdout",
     "output_type": "stream",
     "text": [
      "Epoch 381/500, Train Loss: 0.0114, Validation Loss: 0.0113\n"
     ]
    },
    {
     "name": "stderr",
     "output_type": "stream",
     "text": [
      "Epoch 382/500 [Training]: 100%|██████████| 55/55 [00:00<00:00, 1471.33it/s]\n",
      "Epoch 382/500 [Validation]: 100%|██████████| 16/16 [00:00<00:00, 2419.47it/s]\n"
     ]
    },
    {
     "name": "stdout",
     "output_type": "stream",
     "text": [
      "Epoch 382/500, Train Loss: 0.0112, Validation Loss: 0.0107\n"
     ]
    },
    {
     "name": "stderr",
     "output_type": "stream",
     "text": [
      "Epoch 383/500 [Training]: 100%|██████████| 55/55 [00:00<00:00, 1434.91it/s]\n",
      "Epoch 383/500 [Validation]: 100%|██████████| 16/16 [00:00<00:00, 2304.48it/s]\n"
     ]
    },
    {
     "name": "stdout",
     "output_type": "stream",
     "text": [
      "Epoch 383/500, Train Loss: 0.0109, Validation Loss: 0.0109\n"
     ]
    },
    {
     "name": "stderr",
     "output_type": "stream",
     "text": [
      "Epoch 384/500 [Training]: 100%|██████████| 55/55 [00:00<00:00, 1504.34it/s]\n",
      "Epoch 384/500 [Validation]: 100%|██████████| 16/16 [00:00<00:00, 2360.58it/s]\n"
     ]
    },
    {
     "name": "stdout",
     "output_type": "stream",
     "text": [
      "Epoch 384/500, Train Loss: 0.0114, Validation Loss: 0.0128\n"
     ]
    },
    {
     "name": "stderr",
     "output_type": "stream",
     "text": [
      "Epoch 385/500 [Training]: 100%|██████████| 55/55 [00:00<00:00, 1302.24it/s]\n",
      "Epoch 385/500 [Validation]: 100%|██████████| 16/16 [00:00<00:00, 2257.28it/s]\n"
     ]
    },
    {
     "name": "stdout",
     "output_type": "stream",
     "text": [
      "Epoch 385/500, Train Loss: 0.0110, Validation Loss: 0.0109\n"
     ]
    },
    {
     "name": "stderr",
     "output_type": "stream",
     "text": [
      "Epoch 386/500 [Training]: 100%|██████████| 55/55 [00:00<00:00, 1433.45it/s]\n",
      "Epoch 386/500 [Validation]: 100%|██████████| 16/16 [00:00<00:00, 2423.75it/s]\n"
     ]
    },
    {
     "name": "stdout",
     "output_type": "stream",
     "text": [
      "Epoch 386/500, Train Loss: 0.0110, Validation Loss: 0.0107\n"
     ]
    },
    {
     "name": "stderr",
     "output_type": "stream",
     "text": [
      "Epoch 387/500 [Training]: 100%|██████████| 55/55 [00:00<00:00, 1450.69it/s]\n",
      "Epoch 387/500 [Validation]: 100%|██████████| 16/16 [00:00<00:00, 2615.72it/s]\n"
     ]
    },
    {
     "name": "stdout",
     "output_type": "stream",
     "text": [
      "Epoch 387/500, Train Loss: 0.0112, Validation Loss: 0.0108\n"
     ]
    },
    {
     "name": "stderr",
     "output_type": "stream",
     "text": [
      "Epoch 388/500 [Training]: 100%|██████████| 55/55 [00:00<00:00, 1420.27it/s]\n",
      "Epoch 388/500 [Validation]: 100%|██████████| 16/16 [00:00<00:00, 2523.27it/s]\n"
     ]
    },
    {
     "name": "stdout",
     "output_type": "stream",
     "text": [
      "Epoch 388/500, Train Loss: 0.0110, Validation Loss: 0.0111\n"
     ]
    },
    {
     "name": "stderr",
     "output_type": "stream",
     "text": [
      "Epoch 389/500 [Training]: 100%|██████████| 55/55 [00:00<00:00, 1240.38it/s]\n",
      "Epoch 389/500 [Validation]: 100%|██████████| 16/16 [00:00<00:00, 1941.30it/s]\n"
     ]
    },
    {
     "name": "stdout",
     "output_type": "stream",
     "text": [
      "Epoch 389/500, Train Loss: 0.0109, Validation Loss: 0.0109\n"
     ]
    },
    {
     "name": "stderr",
     "output_type": "stream",
     "text": [
      "Epoch 390/500 [Training]: 100%|██████████| 55/55 [00:00<00:00, 1365.85it/s]\n",
      "Epoch 390/500 [Validation]: 100%|██████████| 16/16 [00:00<00:00, 2665.80it/s]\n"
     ]
    },
    {
     "name": "stdout",
     "output_type": "stream",
     "text": [
      "Epoch 390/500, Train Loss: 0.0112, Validation Loss: 0.0112\n"
     ]
    },
    {
     "name": "stderr",
     "output_type": "stream",
     "text": [
      "Epoch 391/500 [Training]: 100%|██████████| 55/55 [00:00<00:00, 1339.73it/s]\n",
      "Epoch 391/500 [Validation]: 100%|██████████| 16/16 [00:00<00:00, 2477.90it/s]\n"
     ]
    },
    {
     "name": "stdout",
     "output_type": "stream",
     "text": [
      "Epoch 391/500, Train Loss: 0.0109, Validation Loss: 0.0113\n"
     ]
    },
    {
     "name": "stderr",
     "output_type": "stream",
     "text": [
      "Epoch 392/500 [Training]: 100%|██████████| 55/55 [00:00<00:00, 1426.13it/s]\n",
      "Epoch 392/500 [Validation]: 100%|██████████| 16/16 [00:00<00:00, 2603.34it/s]\n"
     ]
    },
    {
     "name": "stdout",
     "output_type": "stream",
     "text": [
      "Epoch 392/500, Train Loss: 0.0110, Validation Loss: 0.0108\n"
     ]
    },
    {
     "name": "stderr",
     "output_type": "stream",
     "text": [
      "Epoch 393/500 [Training]: 100%|██████████| 55/55 [00:00<00:00, 1418.28it/s]\n",
      "Epoch 393/500 [Validation]: 100%|██████████| 16/16 [00:00<00:00, 2420.95it/s]\n"
     ]
    },
    {
     "name": "stdout",
     "output_type": "stream",
     "text": [
      "Epoch 393/500, Train Loss: 0.0113, Validation Loss: 0.0111\n"
     ]
    },
    {
     "name": "stderr",
     "output_type": "stream",
     "text": [
      "Epoch 394/500 [Training]: 100%|██████████| 55/55 [00:00<00:00, 1368.05it/s]\n",
      "Epoch 394/500 [Validation]: 100%|██████████| 16/16 [00:00<00:00, 2596.49it/s]\n"
     ]
    },
    {
     "name": "stdout",
     "output_type": "stream",
     "text": [
      "Epoch 394/500, Train Loss: 0.0110, Validation Loss: 0.0106\n"
     ]
    },
    {
     "name": "stderr",
     "output_type": "stream",
     "text": [
      "Epoch 395/500 [Training]: 100%|██████████| 55/55 [00:00<00:00, 1442.18it/s]\n",
      "Epoch 395/500 [Validation]: 100%|██████████| 16/16 [00:00<00:00, 2658.20it/s]\n"
     ]
    },
    {
     "name": "stdout",
     "output_type": "stream",
     "text": [
      "Epoch 395/500, Train Loss: 0.0110, Validation Loss: 0.0110\n"
     ]
    },
    {
     "name": "stderr",
     "output_type": "stream",
     "text": [
      "Epoch 396/500 [Training]: 100%|██████████| 55/55 [00:00<00:00, 1428.06it/s]\n",
      "Epoch 396/500 [Validation]: 100%|██████████| 16/16 [00:00<00:00, 2722.03it/s]\n"
     ]
    },
    {
     "name": "stdout",
     "output_type": "stream",
     "text": [
      "Epoch 396/500, Train Loss: 0.0121, Validation Loss: 0.0109\n"
     ]
    },
    {
     "name": "stderr",
     "output_type": "stream",
     "text": [
      "Epoch 397/500 [Training]: 100%|██████████| 55/55 [00:00<00:00, 1472.92it/s]\n",
      "Epoch 397/500 [Validation]: 100%|██████████| 16/16 [00:00<00:00, 2586.08it/s]\n"
     ]
    },
    {
     "name": "stdout",
     "output_type": "stream",
     "text": [
      "Epoch 397/500, Train Loss: 0.0108, Validation Loss: 0.0109\n"
     ]
    },
    {
     "name": "stderr",
     "output_type": "stream",
     "text": [
      "Epoch 398/500 [Training]: 100%|██████████| 55/55 [00:00<00:00, 1441.53it/s]\n",
      "Epoch 398/500 [Validation]: 100%|██████████| 16/16 [00:00<00:00, 2466.87it/s]\n"
     ]
    },
    {
     "name": "stdout",
     "output_type": "stream",
     "text": [
      "Epoch 398/500, Train Loss: 0.0112, Validation Loss: 0.0113\n"
     ]
    },
    {
     "name": "stderr",
     "output_type": "stream",
     "text": [
      "Epoch 399/500 [Training]: 100%|██████████| 55/55 [00:00<00:00, 1470.39it/s]\n",
      "Epoch 399/500 [Validation]: 100%|██████████| 16/16 [00:00<00:00, 2430.60it/s]\n"
     ]
    },
    {
     "name": "stdout",
     "output_type": "stream",
     "text": [
      "Epoch 399/500, Train Loss: 0.0114, Validation Loss: 0.0133\n"
     ]
    },
    {
     "name": "stderr",
     "output_type": "stream",
     "text": [
      "Epoch 400/500 [Training]: 100%|██████████| 55/55 [00:00<00:00, 1467.81it/s]\n",
      "Epoch 400/500 [Validation]: 100%|██████████| 16/16 [00:00<00:00, 2769.09it/s]\n"
     ]
    },
    {
     "name": "stdout",
     "output_type": "stream",
     "text": [
      "Epoch 400/500, Train Loss: 0.0116, Validation Loss: 0.0107\n"
     ]
    },
    {
     "name": "stderr",
     "output_type": "stream",
     "text": [
      "Epoch 401/500 [Training]: 100%|██████████| 55/55 [00:00<00:00, 1460.99it/s]\n",
      "Epoch 401/500 [Validation]: 100%|██████████| 16/16 [00:00<00:00, 2633.79it/s]\n"
     ]
    },
    {
     "name": "stdout",
     "output_type": "stream",
     "text": [
      "Epoch 401/500, Train Loss: 0.0108, Validation Loss: 0.0110\n"
     ]
    },
    {
     "name": "stderr",
     "output_type": "stream",
     "text": [
      "Epoch 402/500 [Training]: 100%|██████████| 55/55 [00:00<00:00, 1374.44it/s]\n",
      "Epoch 402/500 [Validation]: 100%|██████████| 16/16 [00:00<00:00, 2514.95it/s]\n"
     ]
    },
    {
     "name": "stdout",
     "output_type": "stream",
     "text": [
      "Epoch 402/500, Train Loss: 0.0112, Validation Loss: 0.0115\n"
     ]
    },
    {
     "name": "stderr",
     "output_type": "stream",
     "text": [
      "Epoch 403/500 [Training]: 100%|██████████| 55/55 [00:00<00:00, 1394.14it/s]\n",
      "Epoch 403/500 [Validation]: 100%|██████████| 16/16 [00:00<00:00, 1142.92it/s]\n"
     ]
    },
    {
     "name": "stdout",
     "output_type": "stream",
     "text": [
      "Epoch 403/500, Train Loss: 0.0116, Validation Loss: 0.0110\n"
     ]
    },
    {
     "name": "stderr",
     "output_type": "stream",
     "text": [
      "Epoch 404/500 [Training]: 100%|██████████| 55/55 [00:00<00:00, 1376.41it/s]\n",
      "Epoch 404/500 [Validation]: 100%|██████████| 16/16 [00:00<00:00, 2459.55it/s]\n"
     ]
    },
    {
     "name": "stdout",
     "output_type": "stream",
     "text": [
      "Epoch 404/500, Train Loss: 0.0114, Validation Loss: 0.0111\n"
     ]
    },
    {
     "name": "stderr",
     "output_type": "stream",
     "text": [
      "Epoch 405/500 [Training]: 100%|██████████| 55/55 [00:00<00:00, 1487.98it/s]\n",
      "Epoch 405/500 [Validation]: 100%|██████████| 16/16 [00:00<00:00, 2584.49it/s]\n"
     ]
    },
    {
     "name": "stdout",
     "output_type": "stream",
     "text": [
      "Epoch 405/500, Train Loss: 0.0115, Validation Loss: 0.0107\n"
     ]
    },
    {
     "name": "stderr",
     "output_type": "stream",
     "text": [
      "Epoch 406/500 [Training]: 100%|██████████| 55/55 [00:00<00:00, 1373.76it/s]\n",
      "Epoch 406/500 [Validation]: 100%|██████████| 16/16 [00:00<00:00, 2605.76it/s]\n"
     ]
    },
    {
     "name": "stdout",
     "output_type": "stream",
     "text": [
      "Epoch 406/500, Train Loss: 0.0112, Validation Loss: 0.0106\n"
     ]
    },
    {
     "name": "stderr",
     "output_type": "stream",
     "text": [
      "Epoch 407/500 [Training]: 100%|██████████| 55/55 [00:00<00:00, 1492.02it/s]\n",
      "Epoch 407/500 [Validation]: 100%|██████████| 16/16 [00:00<00:00, 2379.49it/s]\n"
     ]
    },
    {
     "name": "stdout",
     "output_type": "stream",
     "text": [
      "Epoch 407/500, Train Loss: 0.0108, Validation Loss: 0.0111\n"
     ]
    },
    {
     "name": "stderr",
     "output_type": "stream",
     "text": [
      "Epoch 408/500 [Training]: 100%|██████████| 55/55 [00:00<00:00, 1439.75it/s]\n",
      "Epoch 408/500 [Validation]: 100%|██████████| 16/16 [00:00<00:00, 2648.13it/s]\n"
     ]
    },
    {
     "name": "stdout",
     "output_type": "stream",
     "text": [
      "Epoch 408/500, Train Loss: 0.0110, Validation Loss: 0.0107\n"
     ]
    },
    {
     "name": "stderr",
     "output_type": "stream",
     "text": [
      "Epoch 409/500 [Training]: 100%|██████████| 55/55 [00:00<00:00, 1436.93it/s]\n",
      "Epoch 409/500 [Validation]: 100%|██████████| 16/16 [00:00<00:00, 2779.18it/s]\n"
     ]
    },
    {
     "name": "stdout",
     "output_type": "stream",
     "text": [
      "Epoch 409/500, Train Loss: 0.0113, Validation Loss: 0.0106\n"
     ]
    },
    {
     "name": "stderr",
     "output_type": "stream",
     "text": [
      "Epoch 410/500 [Training]: 100%|██████████| 55/55 [00:00<00:00, 1463.79it/s]\n",
      "Epoch 410/500 [Validation]: 100%|██████████| 16/16 [00:00<00:00, 2615.21it/s]\n"
     ]
    },
    {
     "name": "stdout",
     "output_type": "stream",
     "text": [
      "Epoch 410/500, Train Loss: 0.0111, Validation Loss: 0.0109\n"
     ]
    },
    {
     "name": "stderr",
     "output_type": "stream",
     "text": [
      "Epoch 411/500 [Training]: 100%|██████████| 55/55 [00:00<00:00, 1571.69it/s]\n",
      "Epoch 411/500 [Validation]: 100%|██████████| 16/16 [00:00<00:00, 2636.79it/s]\n"
     ]
    },
    {
     "name": "stdout",
     "output_type": "stream",
     "text": [
      "Epoch 411/500, Train Loss: 0.0108, Validation Loss: 0.0118\n"
     ]
    },
    {
     "name": "stderr",
     "output_type": "stream",
     "text": [
      "Epoch 412/500 [Training]: 100%|██████████| 55/55 [00:00<00:00, 1566.25it/s]\n",
      "Epoch 412/500 [Validation]: 100%|██████████| 16/16 [00:00<00:00, 2717.40it/s]\n"
     ]
    },
    {
     "name": "stdout",
     "output_type": "stream",
     "text": [
      "Epoch 412/500, Train Loss: 0.0113, Validation Loss: 0.0114\n"
     ]
    },
    {
     "name": "stderr",
     "output_type": "stream",
     "text": [
      "Epoch 413/500 [Training]: 100%|██████████| 55/55 [00:00<00:00, 1575.35it/s]\n",
      "Epoch 413/500 [Validation]: 100%|██████████| 16/16 [00:00<00:00, 2706.44it/s]\n"
     ]
    },
    {
     "name": "stdout",
     "output_type": "stream",
     "text": [
      "Epoch 413/500, Train Loss: 0.0109, Validation Loss: 0.0107\n"
     ]
    },
    {
     "name": "stderr",
     "output_type": "stream",
     "text": [
      "Epoch 414/500 [Training]: 100%|██████████| 55/55 [00:00<00:00, 1563.80it/s]\n",
      "Epoch 414/500 [Validation]: 100%|██████████| 16/16 [00:00<00:00, 2676.01it/s]\n"
     ]
    },
    {
     "name": "stdout",
     "output_type": "stream",
     "text": [
      "Epoch 414/500, Train Loss: 0.0109, Validation Loss: 0.0106\n"
     ]
    },
    {
     "name": "stderr",
     "output_type": "stream",
     "text": [
      "Epoch 415/500 [Training]: 100%|██████████| 55/55 [00:00<00:00, 1536.19it/s]\n",
      "Epoch 415/500 [Validation]: 100%|██████████| 16/16 [00:00<00:00, 2559.94it/s]\n"
     ]
    },
    {
     "name": "stdout",
     "output_type": "stream",
     "text": [
      "Epoch 415/500, Train Loss: 0.0109, Validation Loss: 0.0105\n"
     ]
    },
    {
     "name": "stderr",
     "output_type": "stream",
     "text": [
      "Epoch 416/500 [Training]: 100%|██████████| 55/55 [00:00<00:00, 1496.97it/s]\n",
      "Epoch 416/500 [Validation]: 100%|██████████| 16/16 [00:00<00:00, 2625.65it/s]\n"
     ]
    },
    {
     "name": "stdout",
     "output_type": "stream",
     "text": [
      "Epoch 416/500, Train Loss: 0.0109, Validation Loss: 0.0106\n"
     ]
    },
    {
     "name": "stderr",
     "output_type": "stream",
     "text": [
      "Epoch 417/500 [Training]: 100%|██████████| 55/55 [00:00<00:00, 1467.60it/s]\n",
      "Epoch 417/500 [Validation]: 100%|██████████| 16/16 [00:00<00:00, 2586.48it/s]\n"
     ]
    },
    {
     "name": "stdout",
     "output_type": "stream",
     "text": [
      "Epoch 417/500, Train Loss: 0.0109, Validation Loss: 0.0105\n"
     ]
    },
    {
     "name": "stderr",
     "output_type": "stream",
     "text": [
      "Epoch 418/500 [Training]: 100%|██████████| 55/55 [00:00<00:00, 1310.93it/s]\n",
      "Epoch 418/500 [Validation]: 100%|██████████| 16/16 [00:00<00:00, 2390.85it/s]\n"
     ]
    },
    {
     "name": "stdout",
     "output_type": "stream",
     "text": [
      "Epoch 418/500, Train Loss: 0.0109, Validation Loss: 0.0110\n"
     ]
    },
    {
     "name": "stderr",
     "output_type": "stream",
     "text": [
      "Epoch 419/500 [Training]: 100%|██████████| 55/55 [00:00<00:00, 1517.20it/s]\n",
      "Epoch 419/500 [Validation]: 100%|██████████| 16/16 [00:00<00:00, 2678.36it/s]\n"
     ]
    },
    {
     "name": "stdout",
     "output_type": "stream",
     "text": [
      "Epoch 419/500, Train Loss: 0.0112, Validation Loss: 0.0104\n"
     ]
    },
    {
     "name": "stderr",
     "output_type": "stream",
     "text": [
      "Epoch 420/500 [Training]: 100%|██████████| 55/55 [00:00<00:00, 1497.78it/s]\n",
      "Epoch 420/500 [Validation]: 100%|██████████| 16/16 [00:00<00:00, 2633.68it/s]\n"
     ]
    },
    {
     "name": "stdout",
     "output_type": "stream",
     "text": [
      "Epoch 420/500, Train Loss: 0.0110, Validation Loss: 0.0131\n"
     ]
    },
    {
     "name": "stderr",
     "output_type": "stream",
     "text": [
      "Epoch 421/500 [Training]: 100%|██████████| 55/55 [00:00<00:00, 1448.66it/s]\n",
      "Epoch 421/500 [Validation]: 100%|██████████| 16/16 [00:00<00:00, 2725.68it/s]\n"
     ]
    },
    {
     "name": "stdout",
     "output_type": "stream",
     "text": [
      "Epoch 421/500, Train Loss: 0.0111, Validation Loss: 0.0106\n"
     ]
    },
    {
     "name": "stderr",
     "output_type": "stream",
     "text": [
      "Epoch 422/500 [Training]: 100%|██████████| 55/55 [00:00<00:00, 1579.14it/s]\n",
      "Epoch 422/500 [Validation]: 100%|██████████| 16/16 [00:00<00:00, 2693.62it/s]\n"
     ]
    },
    {
     "name": "stdout",
     "output_type": "stream",
     "text": [
      "Epoch 422/500, Train Loss: 0.0109, Validation Loss: 0.0111\n"
     ]
    },
    {
     "name": "stderr",
     "output_type": "stream",
     "text": [
      "Epoch 423/500 [Training]: 100%|██████████| 55/55 [00:00<00:00, 1405.97it/s]\n",
      "Epoch 423/500 [Validation]: 100%|██████████| 16/16 [00:00<00:00, 2700.01it/s]\n"
     ]
    },
    {
     "name": "stdout",
     "output_type": "stream",
     "text": [
      "Epoch 423/500, Train Loss: 0.0115, Validation Loss: 0.0111\n"
     ]
    },
    {
     "name": "stderr",
     "output_type": "stream",
     "text": [
      "Epoch 424/500 [Training]: 100%|██████████| 55/55 [00:00<00:00, 1551.09it/s]\n",
      "Epoch 424/500 [Validation]: 100%|██████████| 16/16 [00:00<00:00, 2622.05it/s]\n"
     ]
    },
    {
     "name": "stdout",
     "output_type": "stream",
     "text": [
      "Epoch 424/500, Train Loss: 0.0111, Validation Loss: 0.0113\n"
     ]
    },
    {
     "name": "stderr",
     "output_type": "stream",
     "text": [
      "Epoch 425/500 [Training]: 100%|██████████| 55/55 [00:00<00:00, 1500.60it/s]\n",
      "Epoch 425/500 [Validation]: 100%|██████████| 16/16 [00:00<00:00, 2701.75it/s]\n"
     ]
    },
    {
     "name": "stdout",
     "output_type": "stream",
     "text": [
      "Epoch 425/500, Train Loss: 0.0109, Validation Loss: 0.0119\n"
     ]
    },
    {
     "name": "stderr",
     "output_type": "stream",
     "text": [
      "Epoch 426/500 [Training]: 100%|██████████| 55/55 [00:00<00:00, 1436.44it/s]\n",
      "Epoch 426/500 [Validation]: 100%|██████████| 16/16 [00:00<00:00, 2733.22it/s]\n"
     ]
    },
    {
     "name": "stdout",
     "output_type": "stream",
     "text": [
      "Epoch 426/500, Train Loss: 0.0115, Validation Loss: 0.0111\n"
     ]
    },
    {
     "name": "stderr",
     "output_type": "stream",
     "text": [
      "Epoch 427/500 [Training]: 100%|██████████| 55/55 [00:00<00:00, 1528.00it/s]\n",
      "Epoch 427/500 [Validation]: 100%|██████████| 16/16 [00:00<00:00, 2771.15it/s]\n"
     ]
    },
    {
     "name": "stdout",
     "output_type": "stream",
     "text": [
      "Epoch 427/500, Train Loss: 0.0108, Validation Loss: 0.0125\n"
     ]
    },
    {
     "name": "stderr",
     "output_type": "stream",
     "text": [
      "Epoch 428/500 [Training]: 100%|██████████| 55/55 [00:00<00:00, 1492.50it/s]\n",
      "Epoch 428/500 [Validation]: 100%|██████████| 16/16 [00:00<00:00, 2780.56it/s]\n"
     ]
    },
    {
     "name": "stdout",
     "output_type": "stream",
     "text": [
      "Epoch 428/500, Train Loss: 0.0112, Validation Loss: 0.0105\n"
     ]
    },
    {
     "name": "stderr",
     "output_type": "stream",
     "text": [
      "Epoch 429/500 [Training]: 100%|██████████| 55/55 [00:00<00:00, 1542.56it/s]\n",
      "Epoch 429/500 [Validation]: 100%|██████████| 16/16 [00:00<00:00, 2735.12it/s]\n"
     ]
    },
    {
     "name": "stdout",
     "output_type": "stream",
     "text": [
      "Epoch 429/500, Train Loss: 0.0108, Validation Loss: 0.0104\n"
     ]
    },
    {
     "name": "stderr",
     "output_type": "stream",
     "text": [
      "Epoch 430/500 [Training]: 100%|██████████| 55/55 [00:00<00:00, 1491.93it/s]\n",
      "Epoch 430/500 [Validation]: 100%|██████████| 16/16 [00:00<00:00, 2574.48it/s]\n"
     ]
    },
    {
     "name": "stdout",
     "output_type": "stream",
     "text": [
      "Epoch 430/500, Train Loss: 0.0108, Validation Loss: 0.0108\n"
     ]
    },
    {
     "name": "stderr",
     "output_type": "stream",
     "text": [
      "Epoch 431/500 [Training]: 100%|██████████| 55/55 [00:00<00:00, 1474.38it/s]\n",
      "Epoch 431/500 [Validation]: 100%|██████████| 16/16 [00:00<00:00, 2712.78it/s]\n"
     ]
    },
    {
     "name": "stdout",
     "output_type": "stream",
     "text": [
      "Epoch 431/500, Train Loss: 0.0110, Validation Loss: 0.0108\n"
     ]
    },
    {
     "name": "stderr",
     "output_type": "stream",
     "text": [
      "Epoch 432/500 [Training]: 100%|██████████| 55/55 [00:00<00:00, 1286.55it/s]\n",
      "Epoch 432/500 [Validation]: 100%|██████████| 16/16 [00:00<00:00, 2278.12it/s]\n"
     ]
    },
    {
     "name": "stdout",
     "output_type": "stream",
     "text": [
      "Epoch 432/500, Train Loss: 0.0111, Validation Loss: 0.0106\n"
     ]
    },
    {
     "name": "stderr",
     "output_type": "stream",
     "text": [
      "Epoch 433/500 [Training]: 100%|██████████| 55/55 [00:00<00:00, 1393.39it/s]\n",
      "Epoch 433/500 [Validation]: 100%|██████████| 16/16 [00:00<00:00, 2580.61it/s]\n"
     ]
    },
    {
     "name": "stdout",
     "output_type": "stream",
     "text": [
      "Epoch 433/500, Train Loss: 0.0109, Validation Loss: 0.0106\n"
     ]
    },
    {
     "name": "stderr",
     "output_type": "stream",
     "text": [
      "Epoch 434/500 [Training]: 100%|██████████| 55/55 [00:00<00:00, 1500.06it/s]\n",
      "Epoch 434/500 [Validation]: 100%|██████████| 16/16 [00:00<00:00, 2610.53it/s]\n"
     ]
    },
    {
     "name": "stdout",
     "output_type": "stream",
     "text": [
      "Epoch 434/500, Train Loss: 0.0110, Validation Loss: 0.0117\n"
     ]
    },
    {
     "name": "stderr",
     "output_type": "stream",
     "text": [
      "Epoch 435/500 [Training]: 100%|██████████| 55/55 [00:00<00:00, 1491.44it/s]\n",
      "Epoch 435/500 [Validation]: 100%|██████████| 16/16 [00:00<00:00, 2710.48it/s]\n"
     ]
    },
    {
     "name": "stdout",
     "output_type": "stream",
     "text": [
      "Epoch 435/500, Train Loss: 0.0110, Validation Loss: 0.0131\n"
     ]
    },
    {
     "name": "stderr",
     "output_type": "stream",
     "text": [
      "Epoch 436/500 [Training]: 100%|██████████| 55/55 [00:00<00:00, 1500.97it/s]\n",
      "Epoch 436/500 [Validation]: 100%|██████████| 16/16 [00:00<00:00, 2578.23it/s]\n"
     ]
    },
    {
     "name": "stdout",
     "output_type": "stream",
     "text": [
      "Epoch 436/500, Train Loss: 0.0116, Validation Loss: 0.0119\n"
     ]
    },
    {
     "name": "stderr",
     "output_type": "stream",
     "text": [
      "Epoch 437/500 [Training]: 100%|██████████| 55/55 [00:00<00:00, 1502.03it/s]\n",
      "Epoch 437/500 [Validation]: 100%|██████████| 16/16 [00:00<00:00, 2569.94it/s]\n"
     ]
    },
    {
     "name": "stdout",
     "output_type": "stream",
     "text": [
      "Epoch 437/500, Train Loss: 0.0108, Validation Loss: 0.0103\n"
     ]
    },
    {
     "name": "stderr",
     "output_type": "stream",
     "text": [
      "Epoch 438/500 [Training]: 100%|██████████| 55/55 [00:00<00:00, 1488.70it/s]\n",
      "Epoch 438/500 [Validation]: 100%|██████████| 16/16 [00:00<00:00, 2589.38it/s]\n"
     ]
    },
    {
     "name": "stdout",
     "output_type": "stream",
     "text": [
      "Epoch 438/500, Train Loss: 0.0109, Validation Loss: 0.0107\n"
     ]
    },
    {
     "name": "stderr",
     "output_type": "stream",
     "text": [
      "Epoch 439/500 [Training]: 100%|██████████| 55/55 [00:00<00:00, 1527.47it/s]\n",
      "Epoch 439/500 [Validation]: 100%|██████████| 16/16 [00:00<00:00, 2693.62it/s]\n"
     ]
    },
    {
     "name": "stdout",
     "output_type": "stream",
     "text": [
      "Epoch 439/500, Train Loss: 0.0108, Validation Loss: 0.0107\n"
     ]
    },
    {
     "name": "stderr",
     "output_type": "stream",
     "text": [
      "Epoch 440/500 [Training]: 100%|██████████| 55/55 [00:00<00:00, 1469.72it/s]\n",
      "Epoch 440/500 [Validation]: 100%|██████████| 16/16 [00:00<00:00, 2697.74it/s]\n"
     ]
    },
    {
     "name": "stdout",
     "output_type": "stream",
     "text": [
      "Epoch 440/500, Train Loss: 0.0108, Validation Loss: 0.0113\n"
     ]
    },
    {
     "name": "stderr",
     "output_type": "stream",
     "text": [
      "Epoch 441/500 [Training]: 100%|██████████| 55/55 [00:00<00:00, 1497.45it/s]\n",
      "Epoch 441/500 [Validation]: 100%|██████████| 16/16 [00:00<00:00, 2553.80it/s]\n"
     ]
    },
    {
     "name": "stdout",
     "output_type": "stream",
     "text": [
      "Epoch 441/500, Train Loss: 0.0111, Validation Loss: 0.0124\n"
     ]
    },
    {
     "name": "stderr",
     "output_type": "stream",
     "text": [
      "Epoch 442/500 [Training]: 100%|██████████| 55/55 [00:00<00:00, 1459.65it/s]\n",
      "Epoch 442/500 [Validation]: 100%|██████████| 16/16 [00:00<00:00, 2676.54it/s]\n"
     ]
    },
    {
     "name": "stdout",
     "output_type": "stream",
     "text": [
      "Epoch 442/500, Train Loss: 0.0112, Validation Loss: 0.0104\n"
     ]
    },
    {
     "name": "stderr",
     "output_type": "stream",
     "text": [
      "Epoch 443/500 [Training]: 100%|██████████| 55/55 [00:00<00:00, 1404.78it/s]\n",
      "Epoch 443/500 [Validation]: 100%|██████████| 16/16 [00:00<00:00, 2613.48it/s]\n"
     ]
    },
    {
     "name": "stdout",
     "output_type": "stream",
     "text": [
      "Epoch 443/500, Train Loss: 0.0107, Validation Loss: 0.0105\n"
     ]
    },
    {
     "name": "stderr",
     "output_type": "stream",
     "text": [
      "Epoch 444/500 [Training]: 100%|██████████| 55/55 [00:00<00:00, 1565.03it/s]\n",
      "Epoch 444/500 [Validation]: 100%|██████████| 16/16 [00:00<00:00, 2720.04it/s]\n"
     ]
    },
    {
     "name": "stdout",
     "output_type": "stream",
     "text": [
      "Epoch 444/500, Train Loss: 0.0112, Validation Loss: 0.0108\n"
     ]
    },
    {
     "name": "stderr",
     "output_type": "stream",
     "text": [
      "Epoch 445/500 [Training]: 100%|██████████| 55/55 [00:00<00:00, 1400.03it/s]\n",
      "Epoch 445/500 [Validation]: 100%|██████████| 16/16 [00:00<00:00, 2456.67it/s]\n"
     ]
    },
    {
     "name": "stdout",
     "output_type": "stream",
     "text": [
      "Epoch 445/500, Train Loss: 0.0110, Validation Loss: 0.0106\n"
     ]
    },
    {
     "name": "stderr",
     "output_type": "stream",
     "text": [
      "Epoch 446/500 [Training]: 100%|██████████| 55/55 [00:00<00:00, 1573.10it/s]\n",
      "Epoch 446/500 [Validation]: 100%|██████████| 16/16 [00:00<00:00, 2661.68it/s]\n"
     ]
    },
    {
     "name": "stdout",
     "output_type": "stream",
     "text": [
      "Epoch 446/500, Train Loss: 0.0109, Validation Loss: 0.0107\n"
     ]
    },
    {
     "name": "stderr",
     "output_type": "stream",
     "text": [
      "Epoch 447/500 [Training]: 100%|██████████| 55/55 [00:00<00:00, 1473.54it/s]\n",
      "Epoch 447/500 [Validation]: 100%|██████████| 16/16 [00:00<00:00, 2625.03it/s]\n"
     ]
    },
    {
     "name": "stdout",
     "output_type": "stream",
     "text": [
      "Epoch 447/500, Train Loss: 0.0113, Validation Loss: 0.0122\n"
     ]
    },
    {
     "name": "stderr",
     "output_type": "stream",
     "text": [
      "Epoch 448/500 [Training]: 100%|██████████| 55/55 [00:00<00:00, 1569.85it/s]\n",
      "Epoch 448/500 [Validation]: 100%|██████████| 16/16 [00:00<00:00, 2696.76it/s]\n"
     ]
    },
    {
     "name": "stdout",
     "output_type": "stream",
     "text": [
      "Epoch 448/500, Train Loss: 0.0112, Validation Loss: 0.0107\n"
     ]
    },
    {
     "name": "stderr",
     "output_type": "stream",
     "text": [
      "Epoch 449/500 [Training]: 100%|██████████| 55/55 [00:00<00:00, 1534.60it/s]\n",
      "Epoch 449/500 [Validation]: 100%|██████████| 16/16 [00:00<00:00, 2581.41it/s]\n"
     ]
    },
    {
     "name": "stdout",
     "output_type": "stream",
     "text": [
      "Epoch 449/500, Train Loss: 0.0109, Validation Loss: 0.0107\n"
     ]
    },
    {
     "name": "stderr",
     "output_type": "stream",
     "text": [
      "Epoch 450/500 [Training]: 100%|██████████| 55/55 [00:00<00:00, 1452.88it/s]\n",
      "Epoch 450/500 [Validation]: 100%|██████████| 16/16 [00:00<00:00, 2667.50it/s]\n"
     ]
    },
    {
     "name": "stdout",
     "output_type": "stream",
     "text": [
      "Epoch 450/500, Train Loss: 0.0109, Validation Loss: 0.0112\n"
     ]
    },
    {
     "name": "stderr",
     "output_type": "stream",
     "text": [
      "Epoch 451/500 [Training]: 100%|██████████| 55/55 [00:00<00:00, 1340.81it/s]\n",
      "Epoch 451/500 [Validation]: 100%|██████████| 16/16 [00:00<00:00, 2365.49it/s]\n"
     ]
    },
    {
     "name": "stdout",
     "output_type": "stream",
     "text": [
      "Epoch 451/500, Train Loss: 0.0107, Validation Loss: 0.0107\n"
     ]
    },
    {
     "name": "stderr",
     "output_type": "stream",
     "text": [
      "Epoch 452/500 [Training]: 100%|██████████| 55/55 [00:00<00:00, 1389.52it/s]\n",
      "Epoch 452/500 [Validation]: 100%|██████████| 16/16 [00:00<00:00, 2473.79it/s]\n"
     ]
    },
    {
     "name": "stdout",
     "output_type": "stream",
     "text": [
      "Epoch 452/500, Train Loss: 0.0114, Validation Loss: 0.0133\n"
     ]
    },
    {
     "name": "stderr",
     "output_type": "stream",
     "text": [
      "Epoch 453/500 [Training]: 100%|██████████| 55/55 [00:00<00:00, 1336.31it/s]\n",
      "Epoch 453/500 [Validation]: 100%|██████████| 16/16 [00:00<00:00, 2650.32it/s]\n"
     ]
    },
    {
     "name": "stdout",
     "output_type": "stream",
     "text": [
      "Epoch 453/500, Train Loss: 0.0110, Validation Loss: 0.0119\n"
     ]
    },
    {
     "name": "stderr",
     "output_type": "stream",
     "text": [
      "Epoch 454/500 [Training]: 100%|██████████| 55/55 [00:00<00:00, 1366.64it/s]\n",
      "Epoch 454/500 [Validation]: 100%|██████████| 16/16 [00:00<00:00, 2364.74it/s]\n"
     ]
    },
    {
     "name": "stdout",
     "output_type": "stream",
     "text": [
      "Epoch 454/500, Train Loss: 0.0113, Validation Loss: 0.0106\n"
     ]
    },
    {
     "name": "stderr",
     "output_type": "stream",
     "text": [
      "Epoch 455/500 [Training]: 100%|██████████| 55/55 [00:00<00:00, 1422.92it/s]\n",
      "Epoch 455/500 [Validation]: 100%|██████████| 16/16 [00:00<00:00, 2492.53it/s]\n"
     ]
    },
    {
     "name": "stdout",
     "output_type": "stream",
     "text": [
      "Epoch 455/500, Train Loss: 0.0108, Validation Loss: 0.0105\n"
     ]
    },
    {
     "name": "stderr",
     "output_type": "stream",
     "text": [
      "Epoch 456/500 [Training]: 100%|██████████| 55/55 [00:00<00:00, 1376.34it/s]\n",
      "Epoch 456/500 [Validation]: 100%|██████████| 16/16 [00:00<00:00, 2359.58it/s]\n"
     ]
    },
    {
     "name": "stdout",
     "output_type": "stream",
     "text": [
      "Epoch 456/500, Train Loss: 0.0109, Validation Loss: 0.0108\n"
     ]
    },
    {
     "name": "stderr",
     "output_type": "stream",
     "text": [
      "Epoch 457/500 [Training]: 100%|██████████| 55/55 [00:00<00:00, 1317.24it/s]\n",
      "Epoch 457/500 [Validation]: 100%|██████████| 16/16 [00:00<00:00, 2572.30it/s]\n"
     ]
    },
    {
     "name": "stdout",
     "output_type": "stream",
     "text": [
      "Epoch 457/500, Train Loss: 0.0114, Validation Loss: 0.0117\n"
     ]
    },
    {
     "name": "stderr",
     "output_type": "stream",
     "text": [
      "Epoch 458/500 [Training]: 100%|██████████| 55/55 [00:00<00:00, 1330.60it/s]\n",
      "Epoch 458/500 [Validation]: 100%|██████████| 16/16 [00:00<00:00, 2121.15it/s]\n"
     ]
    },
    {
     "name": "stdout",
     "output_type": "stream",
     "text": [
      "Epoch 458/500, Train Loss: 0.0108, Validation Loss: 0.0133\n"
     ]
    },
    {
     "name": "stderr",
     "output_type": "stream",
     "text": [
      "Epoch 459/500 [Training]: 100%|██████████| 55/55 [00:00<00:00, 1354.95it/s]\n",
      "Epoch 459/500 [Validation]: 100%|██████████| 16/16 [00:00<00:00, 2420.95it/s]\n"
     ]
    },
    {
     "name": "stdout",
     "output_type": "stream",
     "text": [
      "Epoch 459/500, Train Loss: 0.0109, Validation Loss: 0.0109\n"
     ]
    },
    {
     "name": "stderr",
     "output_type": "stream",
     "text": [
      "Epoch 460/500 [Training]: 100%|██████████| 55/55 [00:00<00:00, 1406.58it/s]\n",
      "Epoch 460/500 [Validation]: 100%|██████████| 16/16 [00:00<00:00, 2653.05it/s]\n"
     ]
    },
    {
     "name": "stdout",
     "output_type": "stream",
     "text": [
      "Epoch 460/500, Train Loss: 0.0109, Validation Loss: 0.0112\n"
     ]
    },
    {
     "name": "stderr",
     "output_type": "stream",
     "text": [
      "Epoch 461/500 [Training]: 100%|██████████| 55/55 [00:00<00:00, 1415.12it/s]\n",
      "Epoch 461/500 [Validation]: 100%|██████████| 16/16 [00:00<00:00, 2443.08it/s]\n"
     ]
    },
    {
     "name": "stdout",
     "output_type": "stream",
     "text": [
      "Epoch 461/500, Train Loss: 0.0110, Validation Loss: 0.0128\n"
     ]
    },
    {
     "name": "stderr",
     "output_type": "stream",
     "text": [
      "Epoch 462/500 [Training]: 100%|██████████| 55/55 [00:00<00:00, 1396.48it/s]\n",
      "Epoch 462/500 [Validation]: 100%|██████████| 16/16 [00:00<00:00, 2436.07it/s]\n"
     ]
    },
    {
     "name": "stdout",
     "output_type": "stream",
     "text": [
      "Epoch 462/500, Train Loss: 0.0113, Validation Loss: 0.0107\n"
     ]
    },
    {
     "name": "stderr",
     "output_type": "stream",
     "text": [
      "Epoch 463/500 [Training]: 100%|██████████| 55/55 [00:00<00:00, 1372.53it/s]\n",
      "Epoch 463/500 [Validation]: 100%|██████████| 16/16 [00:00<00:00, 2446.10it/s]\n"
     ]
    },
    {
     "name": "stdout",
     "output_type": "stream",
     "text": [
      "Epoch 463/500, Train Loss: 0.0107, Validation Loss: 0.0109\n"
     ]
    },
    {
     "name": "stderr",
     "output_type": "stream",
     "text": [
      "Epoch 464/500 [Training]: 100%|██████████| 55/55 [00:00<00:00, 1438.96it/s]\n",
      "Epoch 464/500 [Validation]: 100%|██████████| 16/16 [00:00<00:00, 2467.24it/s]\n"
     ]
    },
    {
     "name": "stdout",
     "output_type": "stream",
     "text": [
      "Epoch 464/500, Train Loss: 0.0106, Validation Loss: 0.0104\n"
     ]
    },
    {
     "name": "stderr",
     "output_type": "stream",
     "text": [
      "Epoch 465/500 [Training]: 100%|██████████| 55/55 [00:00<00:00, 1370.61it/s]\n",
      "Epoch 465/500 [Validation]: 100%|██████████| 16/16 [00:00<00:00, 2748.22it/s]\n"
     ]
    },
    {
     "name": "stdout",
     "output_type": "stream",
     "text": [
      "Epoch 465/500, Train Loss: 0.0106, Validation Loss: 0.0106\n"
     ]
    },
    {
     "name": "stderr",
     "output_type": "stream",
     "text": [
      "Epoch 466/500 [Training]: 100%|██████████| 55/55 [00:00<00:00, 1472.00it/s]\n",
      "Epoch 466/500 [Validation]: 100%|██████████| 16/16 [00:00<00:00, 2496.89it/s]\n"
     ]
    },
    {
     "name": "stdout",
     "output_type": "stream",
     "text": [
      "Epoch 466/500, Train Loss: 0.0106, Validation Loss: 0.0101\n"
     ]
    },
    {
     "name": "stderr",
     "output_type": "stream",
     "text": [
      "Epoch 467/500 [Training]: 100%|██████████| 55/55 [00:00<00:00, 1437.95it/s]\n",
      "Epoch 467/500 [Validation]: 100%|██████████| 16/16 [00:00<00:00, 2770.12it/s]\n"
     ]
    },
    {
     "name": "stdout",
     "output_type": "stream",
     "text": [
      "Epoch 467/500, Train Loss: 0.0105, Validation Loss: 0.0111\n"
     ]
    },
    {
     "name": "stderr",
     "output_type": "stream",
     "text": [
      "Epoch 468/500 [Training]: 100%|██████████| 55/55 [00:00<00:00, 1466.55it/s]\n",
      "Epoch 468/500 [Validation]: 100%|██████████| 16/16 [00:00<00:00, 2534.80it/s]\n"
     ]
    },
    {
     "name": "stdout",
     "output_type": "stream",
     "text": [
      "Epoch 468/500, Train Loss: 0.0107, Validation Loss: 0.0107\n"
     ]
    },
    {
     "name": "stderr",
     "output_type": "stream",
     "text": [
      "Epoch 469/500 [Training]: 100%|██████████| 55/55 [00:00<00:00, 1483.68it/s]\n",
      "Epoch 469/500 [Validation]: 100%|██████████| 16/16 [00:00<00:00, 2775.96it/s]\n"
     ]
    },
    {
     "name": "stdout",
     "output_type": "stream",
     "text": [
      "Epoch 469/500, Train Loss: 0.0107, Validation Loss: 0.0105\n"
     ]
    },
    {
     "name": "stderr",
     "output_type": "stream",
     "text": [
      "Epoch 470/500 [Training]: 100%|██████████| 55/55 [00:00<00:00, 1586.57it/s]\n",
      "Epoch 470/500 [Validation]: 100%|██████████| 16/16 [00:00<00:00, 2722.47it/s]\n"
     ]
    },
    {
     "name": "stdout",
     "output_type": "stream",
     "text": [
      "Epoch 470/500, Train Loss: 0.0106, Validation Loss: 0.0112\n"
     ]
    },
    {
     "name": "stderr",
     "output_type": "stream",
     "text": [
      "Epoch 471/500 [Training]: 100%|██████████| 55/55 [00:00<00:00, 1483.75it/s]\n",
      "Epoch 471/500 [Validation]: 100%|██████████| 16/16 [00:00<00:00, 2545.38it/s]\n"
     ]
    },
    {
     "name": "stdout",
     "output_type": "stream",
     "text": [
      "Epoch 471/500, Train Loss: 0.0110, Validation Loss: 0.0105\n"
     ]
    },
    {
     "name": "stderr",
     "output_type": "stream",
     "text": [
      "Epoch 472/500 [Training]: 100%|██████████| 55/55 [00:00<00:00, 1385.40it/s]\n",
      "Epoch 472/500 [Validation]: 100%|██████████| 16/16 [00:00<00:00, 2664.00it/s]\n"
     ]
    },
    {
     "name": "stdout",
     "output_type": "stream",
     "text": [
      "Epoch 472/500, Train Loss: 0.0111, Validation Loss: 0.0120\n"
     ]
    },
    {
     "name": "stderr",
     "output_type": "stream",
     "text": [
      "Epoch 473/500 [Training]: 100%|██████████| 55/55 [00:00<00:00, 1272.87it/s]\n",
      "Epoch 473/500 [Validation]: 100%|██████████| 16/16 [00:00<00:00, 2243.77it/s]\n"
     ]
    },
    {
     "name": "stdout",
     "output_type": "stream",
     "text": [
      "Epoch 473/500, Train Loss: 0.0111, Validation Loss: 0.0106\n"
     ]
    },
    {
     "name": "stderr",
     "output_type": "stream",
     "text": [
      "Epoch 474/500 [Training]: 100%|██████████| 55/55 [00:00<00:00, 1264.42it/s]\n",
      "Epoch 474/500 [Validation]: 100%|██████████| 16/16 [00:00<00:00, 2429.02it/s]\n"
     ]
    },
    {
     "name": "stdout",
     "output_type": "stream",
     "text": [
      "Epoch 474/500, Train Loss: 0.0113, Validation Loss: 0.0108\n"
     ]
    },
    {
     "name": "stderr",
     "output_type": "stream",
     "text": [
      "Epoch 475/500 [Training]: 100%|██████████| 55/55 [00:00<00:00, 1376.72it/s]\n",
      "Epoch 475/500 [Validation]: 100%|██████████| 16/16 [00:00<00:00, 2556.24it/s]\n"
     ]
    },
    {
     "name": "stdout",
     "output_type": "stream",
     "text": [
      "Epoch 475/500, Train Loss: 0.0111, Validation Loss: 0.0108\n"
     ]
    },
    {
     "name": "stderr",
     "output_type": "stream",
     "text": [
      "Epoch 476/500 [Training]: 100%|██████████| 55/55 [00:00<00:00, 1358.47it/s]\n",
      "Epoch 476/500 [Validation]: 100%|██████████| 16/16 [00:00<00:00, 2538.54it/s]\n"
     ]
    },
    {
     "name": "stdout",
     "output_type": "stream",
     "text": [
      "Epoch 476/500, Train Loss: 0.0112, Validation Loss: 0.0107\n"
     ]
    },
    {
     "name": "stderr",
     "output_type": "stream",
     "text": [
      "Epoch 477/500 [Training]: 100%|██████████| 55/55 [00:00<00:00, 1454.49it/s]\n",
      "Epoch 477/500 [Validation]: 100%|██████████| 16/16 [00:00<00:00, 2561.60it/s]\n"
     ]
    },
    {
     "name": "stdout",
     "output_type": "stream",
     "text": [
      "Epoch 477/500, Train Loss: 0.0114, Validation Loss: 0.0107\n"
     ]
    },
    {
     "name": "stderr",
     "output_type": "stream",
     "text": [
      "Epoch 478/500 [Training]: 100%|██████████| 55/55 [00:00<00:00, 1437.91it/s]\n",
      "Epoch 478/500 [Validation]: 100%|██████████| 16/16 [00:00<00:00, 2330.01it/s]\n"
     ]
    },
    {
     "name": "stdout",
     "output_type": "stream",
     "text": [
      "Epoch 478/500, Train Loss: 0.0108, Validation Loss: 0.0104\n"
     ]
    },
    {
     "name": "stderr",
     "output_type": "stream",
     "text": [
      "Epoch 479/500 [Training]: 100%|██████████| 55/55 [00:00<00:00, 1372.73it/s]\n",
      "Epoch 479/500 [Validation]: 100%|██████████| 16/16 [00:00<00:00, 2558.38it/s]\n"
     ]
    },
    {
     "name": "stdout",
     "output_type": "stream",
     "text": [
      "Epoch 479/500, Train Loss: 0.0106, Validation Loss: 0.0108\n"
     ]
    },
    {
     "name": "stderr",
     "output_type": "stream",
     "text": [
      "Epoch 480/500 [Training]: 100%|██████████| 55/55 [00:00<00:00, 1377.96it/s]\n",
      "Epoch 480/500 [Validation]: 100%|██████████| 16/16 [00:00<00:00, 2444.68it/s]\n"
     ]
    },
    {
     "name": "stdout",
     "output_type": "stream",
     "text": [
      "Epoch 480/500, Train Loss: 0.0108, Validation Loss: 0.0111\n"
     ]
    },
    {
     "name": "stderr",
     "output_type": "stream",
     "text": [
      "Epoch 481/500 [Training]: 100%|██████████| 55/55 [00:00<00:00, 1437.04it/s]\n",
      "Epoch 481/500 [Validation]: 100%|██████████| 16/16 [00:00<00:00, 2667.92it/s]\n"
     ]
    },
    {
     "name": "stdout",
     "output_type": "stream",
     "text": [
      "Epoch 481/500, Train Loss: 0.0108, Validation Loss: 0.0105\n"
     ]
    },
    {
     "name": "stderr",
     "output_type": "stream",
     "text": [
      "Epoch 482/500 [Training]: 100%|██████████| 55/55 [00:00<00:00, 1438.84it/s]\n",
      "Epoch 482/500 [Validation]: 100%|██████████| 16/16 [00:00<00:00, 2543.35it/s]\n"
     ]
    },
    {
     "name": "stdout",
     "output_type": "stream",
     "text": [
      "Epoch 482/500, Train Loss: 0.0113, Validation Loss: 0.0113\n"
     ]
    },
    {
     "name": "stderr",
     "output_type": "stream",
     "text": [
      "Epoch 483/500 [Training]: 100%|██████████| 55/55 [00:00<00:00, 1381.71it/s]\n",
      "Epoch 483/500 [Validation]: 100%|██████████| 16/16 [00:00<00:00, 2589.48it/s]\n"
     ]
    },
    {
     "name": "stdout",
     "output_type": "stream",
     "text": [
      "Epoch 483/500, Train Loss: 0.0104, Validation Loss: 0.0102\n"
     ]
    },
    {
     "name": "stderr",
     "output_type": "stream",
     "text": [
      "Epoch 484/500 [Training]: 100%|██████████| 55/55 [00:00<00:00, 1438.47it/s]\n",
      "Epoch 484/500 [Validation]: 100%|██████████| 16/16 [00:00<00:00, 2607.89it/s]\n"
     ]
    },
    {
     "name": "stdout",
     "output_type": "stream",
     "text": [
      "Epoch 484/500, Train Loss: 0.0108, Validation Loss: 0.0111\n"
     ]
    },
    {
     "name": "stderr",
     "output_type": "stream",
     "text": [
      "Epoch 485/500 [Training]: 100%|██████████| 55/55 [00:00<00:00, 1393.96it/s]\n",
      "Epoch 485/500 [Validation]: 100%|██████████| 16/16 [00:00<00:00, 2474.97it/s]\n"
     ]
    },
    {
     "name": "stdout",
     "output_type": "stream",
     "text": [
      "Epoch 485/500, Train Loss: 0.0111, Validation Loss: 0.0108\n"
     ]
    },
    {
     "name": "stderr",
     "output_type": "stream",
     "text": [
      "Epoch 486/500 [Training]: 100%|██████████| 55/55 [00:00<00:00, 1290.65it/s]\n",
      "Epoch 486/500 [Validation]: 100%|██████████| 16/16 [00:00<00:00, 2280.21it/s]\n"
     ]
    },
    {
     "name": "stdout",
     "output_type": "stream",
     "text": [
      "Epoch 486/500, Train Loss: 0.0104, Validation Loss: 0.0104\n"
     ]
    },
    {
     "name": "stderr",
     "output_type": "stream",
     "text": [
      "Epoch 487/500 [Training]: 100%|██████████| 55/55 [00:00<00:00, 1389.29it/s]\n",
      "Epoch 487/500 [Validation]: 100%|██████████| 16/16 [00:00<00:00, 2534.80it/s]\n"
     ]
    },
    {
     "name": "stdout",
     "output_type": "stream",
     "text": [
      "Epoch 487/500, Train Loss: 0.0108, Validation Loss: 0.0106\n"
     ]
    },
    {
     "name": "stderr",
     "output_type": "stream",
     "text": [
      "Epoch 488/500 [Training]: 100%|██████████| 55/55 [00:00<00:00, 1389.27it/s]\n",
      "Epoch 488/500 [Validation]: 100%|██████████| 16/16 [00:00<00:00, 2391.19it/s]\n"
     ]
    },
    {
     "name": "stdout",
     "output_type": "stream",
     "text": [
      "Epoch 488/500, Train Loss: 0.0108, Validation Loss: 0.0106\n"
     ]
    },
    {
     "name": "stderr",
     "output_type": "stream",
     "text": [
      "Epoch 489/500 [Training]: 100%|██████████| 55/55 [00:00<00:00, 1422.18it/s]\n",
      "Epoch 489/500 [Validation]: 100%|██████████| 16/16 [00:00<00:00, 2380.59it/s]\n"
     ]
    },
    {
     "name": "stdout",
     "output_type": "stream",
     "text": [
      "Epoch 489/500, Train Loss: 0.0108, Validation Loss: 0.0105\n"
     ]
    },
    {
     "name": "stderr",
     "output_type": "stream",
     "text": [
      "Epoch 490/500 [Training]: 100%|██████████| 55/55 [00:00<00:00, 1414.90it/s]\n",
      "Epoch 490/500 [Validation]: 100%|██████████| 16/16 [00:00<00:00, 2526.88it/s]\n"
     ]
    },
    {
     "name": "stdout",
     "output_type": "stream",
     "text": [
      "Epoch 490/500, Train Loss: 0.0109, Validation Loss: 0.0114\n"
     ]
    },
    {
     "name": "stderr",
     "output_type": "stream",
     "text": [
      "Epoch 491/500 [Training]: 100%|██████████| 55/55 [00:00<00:00, 1392.30it/s]\n",
      "Epoch 491/500 [Validation]: 100%|██████████| 16/16 [00:00<00:00, 2395.89it/s]\n"
     ]
    },
    {
     "name": "stdout",
     "output_type": "stream",
     "text": [
      "Epoch 491/500, Train Loss: 0.0109, Validation Loss: 0.0108\n"
     ]
    },
    {
     "name": "stderr",
     "output_type": "stream",
     "text": [
      "Epoch 492/500 [Training]: 100%|██████████| 55/55 [00:00<00:00, 1326.87it/s]\n",
      "Epoch 492/500 [Validation]: 100%|██████████| 16/16 [00:00<00:00, 2393.50it/s]\n"
     ]
    },
    {
     "name": "stdout",
     "output_type": "stream",
     "text": [
      "Epoch 492/500, Train Loss: 0.0111, Validation Loss: 0.0106\n"
     ]
    },
    {
     "name": "stderr",
     "output_type": "stream",
     "text": [
      "Epoch 493/500 [Training]: 100%|██████████| 55/55 [00:00<00:00, 1388.12it/s]\n",
      "Epoch 493/500 [Validation]: 100%|██████████| 16/16 [00:00<00:00, 2496.89it/s]\n"
     ]
    },
    {
     "name": "stdout",
     "output_type": "stream",
     "text": [
      "Epoch 493/500, Train Loss: 0.0109, Validation Loss: 0.0105\n"
     ]
    },
    {
     "name": "stderr",
     "output_type": "stream",
     "text": [
      "Epoch 494/500 [Training]: 100%|██████████| 55/55 [00:00<00:00, 1353.75it/s]\n",
      "Epoch 494/500 [Validation]: 100%|██████████| 16/16 [00:00<00:00, 2217.23it/s]\n"
     ]
    },
    {
     "name": "stdout",
     "output_type": "stream",
     "text": [
      "Epoch 494/500, Train Loss: 0.0108, Validation Loss: 0.0107\n"
     ]
    },
    {
     "name": "stderr",
     "output_type": "stream",
     "text": [
      "Epoch 495/500 [Training]: 100%|██████████| 55/55 [00:00<00:00, 1381.35it/s]\n",
      "Epoch 495/500 [Validation]: 100%|██████████| 16/16 [00:00<00:00, 2541.71it/s]\n"
     ]
    },
    {
     "name": "stdout",
     "output_type": "stream",
     "text": [
      "Epoch 495/500, Train Loss: 0.0106, Validation Loss: 0.0113\n"
     ]
    },
    {
     "name": "stderr",
     "output_type": "stream",
     "text": [
      "Epoch 496/500 [Training]: 100%|██████████| 55/55 [00:00<00:00, 1375.96it/s]\n",
      "Epoch 496/500 [Validation]: 100%|██████████| 16/16 [00:00<00:00, 2432.01it/s]\n"
     ]
    },
    {
     "name": "stdout",
     "output_type": "stream",
     "text": [
      "Epoch 496/500, Train Loss: 0.0107, Validation Loss: 0.0115\n"
     ]
    },
    {
     "name": "stderr",
     "output_type": "stream",
     "text": [
      "Epoch 497/500 [Training]: 100%|██████████| 55/55 [00:00<00:00, 1471.53it/s]\n",
      "Epoch 497/500 [Validation]: 100%|██████████| 16/16 [00:00<00:00, 2534.90it/s]\n"
     ]
    },
    {
     "name": "stdout",
     "output_type": "stream",
     "text": [
      "Epoch 497/500, Train Loss: 0.0107, Validation Loss: 0.0112\n"
     ]
    },
    {
     "name": "stderr",
     "output_type": "stream",
     "text": [
      "Epoch 498/500 [Training]: 100%|██████████| 55/55 [00:00<00:00, 1402.85it/s]\n",
      "Epoch 498/500 [Validation]: 100%|██████████| 16/16 [00:00<00:00, 2488.37it/s]\n"
     ]
    },
    {
     "name": "stdout",
     "output_type": "stream",
     "text": [
      "Epoch 498/500, Train Loss: 0.0112, Validation Loss: 0.0108\n"
     ]
    },
    {
     "name": "stderr",
     "output_type": "stream",
     "text": [
      "Epoch 499/500 [Training]: 100%|██████████| 55/55 [00:00<00:00, 1429.16it/s]\n",
      "Epoch 499/500 [Validation]: 100%|██████████| 16/16 [00:00<00:00, 2380.59it/s]\n"
     ]
    },
    {
     "name": "stdout",
     "output_type": "stream",
     "text": [
      "Epoch 499/500, Train Loss: 0.0109, Validation Loss: 0.0106\n"
     ]
    },
    {
     "name": "stderr",
     "output_type": "stream",
     "text": [
      "Epoch 500/500 [Training]: 100%|██████████| 55/55 [00:00<00:00, 1371.98it/s]\n",
      "Epoch 500/500 [Validation]: 100%|██████████| 16/16 [00:00<00:00, 2717.84it/s]\n"
     ]
    },
    {
     "name": "stdout",
     "output_type": "stream",
     "text": [
      "Epoch 500/500, Train Loss: 0.0108, Validation Loss: 0.0110\n",
      "Final Test Loss: 0.0107\n"
     ]
    }
   ],
   "source": [
    "model = Model_II(input_dim=4, output_dim=1, hidden_dims=[16, 8, 4])\n",
    "model = model.float()\n",
    "criterion = nn.MSELoss()\n",
    "optimizer = Adam(model.parameters(), lr=1e-3)\n",
    "writer = SummaryWriter('runs/Model_II')\n",
    "\n",
    "NUM_EPOCHS = 500\n",
    "\n",
    "for epoch in range(NUM_EPOCHS):\n",
    "    model.train()\n",
    "    train_loss = 0.0\n",
    "    for inputs, targets in tqdm(train_loader, desc=f'Epoch {epoch+1}/{NUM_EPOCHS} [Training]'):\n",
    "        inputs, targets = inputs.float(), targets.float()\n",
    "        optimizer.zero_grad()\n",
    "        outputs = model(inputs)\n",
    "        loss = criterion(outputs, targets)\n",
    "        loss.backward()\n",
    "        optimizer.step()\n",
    "        train_loss += loss.item() * inputs.size(0)\n",
    "    \n",
    "    train_loss /= len(train_loader.dataset)\n",
    "    writer.add_scalar('Loss/Train', train_loss, epoch)\n",
    "\n",
    "    # Validation loop\n",
    "    model.eval()\n",
    "    val_loss = 0.0\n",
    "    with torch.no_grad():\n",
    "        for inputs, targets in tqdm(val_loader, desc=f'Epoch {epoch+1}/{NUM_EPOCHS} [Validation]'):\n",
    "            inputs, targets = inputs.float(), targets.float()\n",
    "            outputs = model(inputs)\n",
    "            loss = criterion(outputs, targets)\n",
    "            val_loss += loss.item() * inputs.size(0)\n",
    "\n",
    "    val_loss /= len(val_loader.dataset)\n",
    "    writer.add_scalar('Loss/Validation', val_loss, epoch)\n",
    "\n",
    "    tqdm.write(f'Epoch {epoch+1}/{NUM_EPOCHS}, Train Loss: {train_loss:.4f}, Validation Loss: {val_loss:.4f}')\n",
    "    # print(f'Epoch {epoch+1}/{NUM_EPOCHS}, Train Loss: {train_loss:.4f}, Validation Loss: {val_loss:.4f}')\n",
    "\n",
    "# Test loop\n",
    "model.eval()\n",
    "test_loss = 0.0\n",
    "with torch.no_grad():\n",
    "    for inputs, targets in test_loader:\n",
    "        inputs, targets = inputs.float(), targets.float()\n",
    "        outputs = model(inputs)\n",
    "        loss = criterion(outputs, targets)\n",
    "        test_loss += loss.item() * inputs.size(0)\n",
    "\n",
    "test_loss /= len(test_loader.dataset)\n",
    "writer.add_scalar('Loss/Test', test_loss, NUM_EPOCHS)\n",
    "\n",
    "print(f'Final Test Loss: {test_loss:.4f}')\n",
    "writer.close()"
   ]
  },
  {
   "cell_type": "code",
   "execution_count": 9,
   "metadata": {},
   "outputs": [
    {
     "data": {
      "text/plain": [
       "0.010758265120642525"
      ]
     },
     "execution_count": 9,
     "metadata": {},
     "output_type": "execute_result"
    }
   ],
   "source": [
    "train_loss"
   ]
  },
  {
   "cell_type": "markdown",
   "metadata": {},
   "source": [
    "## Experiments:\n",
    "Generating some 'experimental' data and comparing different $\\Pi$ groups"
   ]
  },
  {
   "cell_type": "markdown",
   "metadata": {},
   "source": [
    "### Material parameters:"
   ]
  },
  {
   "cell_type": "code",
   "execution_count": null,
   "metadata": {},
   "outputs": [],
   "source": [
    "# Let's take water as an example: rho = 1000Kg/m^3, mu = 0.001 Ns/M^2\n",
    "# c_sound (Cs) in water ~ 1481 m/s, Cs(Acetone) = ~1100 m/s - We need to make sure the velocity is < 0.3*Cs\n",
    "N = 200 # Number of samples\n",
    "Cs = 1481 # m/s\n",
    "u_max = 0.3 * Cs # Picked 0.2 to make sure the condition is not violated for acetone\n",
    "\n",
    "mu_water = 0.001 # [SI]\n",
    "rho_water = 1000 # [SI]\n",
    "\n",
    "mu_acetone = 0.000316 # Acetone [SI]\n",
    "rho_acetone = 784.5 # Acetone [SI]\n",
    "\n",
    "# Sphere diameters:\n",
    "D_I = 0.05 # Diameter of sphere\n",
    "D_II = 0.1\n",
    "D_III = 0.5"
   ]
  },
  {
   "cell_type": "markdown",
   "metadata": {},
   "source": [
    "### Setting up the 'Experiments':"
   ]
  },
  {
   "cell_type": "code",
   "execution_count": null,
   "metadata": {
    "scrolled": false
   },
   "outputs": [],
   "source": [
    "# Let's keep the velocities the same for now:\n",
    "us = np.geomspace(0.001, u_max, N)\n",
    "\n",
    "# Experiment #1:\n",
    "mu_1 = mu_water\n",
    "rho_1 = rho_water\n",
    "D_1 = D_I\n",
    "REs_1 = [rho_1*uu*D_1/mu_1 for uu in us]\n",
    "CDs_1, FDs_1 = run_experiment(velocities=us, diameter=D_1, density=rho_1, viscosity=mu_1)\n",
    "fig, ax1, ax2 = make_plots(Re=REs_1, CD=CDs_1, FD=FDs_1, experiment_id='Experiment-1', colors=['blue', 'blue'])\n",
    "\n",
    "# Experiment #2:\n",
    "mu_2 = mu_acetone\n",
    "rho_2 = rho_acetone\n",
    "D_2 = D_I\n",
    "REs_2 = [rho_2*uu*D_2/mu_2 for uu in us]\n",
    "CDs_2, FDs_2 = run_experiment(velocities=us, diameter=D_2, density=rho_2, viscosity=mu_2)\n",
    "fig, ax1, ax2 = make_plots(Re=REs_2, CD=CDs_2, FD=FDs_2, experiment_id='Experiment-1 and 2', colors=['red', 'red'], fig=fig, ax1=ax1, ax2=ax2)\n",
    "\n",
    "# Experiment #3:\n",
    "mu_3 = mu_acetone\n",
    "rho_3 = rho_acetone\n",
    "D_3 = D_III\n",
    "REs_3 = [rho_3*uu*D_3/mu_3 for uu in us]\n",
    "CDs_3, FDs_3 = run_experiment(velocities=us, diameter=D_3, density=rho_3, viscosity=mu_3)\n",
    "fig, ax1, ax2 = make_plots(Re=REs_3, CD=CDs_3, FD=FDs_3, experiment_id='Experiment-3', colors=['green', 'green'], fig=fig, ax1=ax1, ax2=ax2)"
   ]
  },
  {
   "cell_type": "markdown",
   "metadata": {},
   "source": [
    "### Comparing to other $\\Pi$ groups:\n",
    "It appears $\\Pi_4$ does not work but the rest do! Why??"
   ]
  },
  {
   "cell_type": "code",
   "execution_count": null,
   "metadata": {
    "scrolled": false
   },
   "outputs": [],
   "source": [
    "# Comparing the following Pi group:\n",
    "\n",
    "# Experiment #1:\n",
    "mu_1 = mu_water\n",
    "rho_1 = rho_water\n",
    "D_1 = D_I\n",
    "REs_1 = [rho_1*uu*D_1/mu_1 for uu in us]\n",
    "CDs_1, FDs_1 = run_experiment(velocities=us, diameter=D_1, density=rho_1, viscosity=mu_1)\n",
    "# fig, ax1, ax2 = make_plots(Re=REs_1, CD=CDs_1, FD=FDs_1, experiment_id='Experiment-1', colors=['blue', 'blue'])\n",
    "\n",
    "pi2_1 = [FDs/(mu_1*D_1*uu) for (FDs, uu) in zip(FDs_1, us)]\n",
    "pi3_1 = [FDs*rho_1/mu_1**2 for FDs in FDs_1]\n",
    "\n",
    "fig, ax1, ax2 = make_plots(Re=REs_1, CD=pi2_1, FD=FDs_1, experiment_id='Experiment-1', \n",
    "                           colors=['blue', 'blue'], ylabel='$\\Pi_2$')\n",
    "\n",
    "# Experiment #2:\n",
    "mu_2 = mu_acetone\n",
    "rho_2 = rho_acetone\n",
    "D_2 = D_I\n",
    "REs_2 = [rho_2*uu*D_2/mu_2 for uu in us]\n",
    "CDs_2, FDs_2 = run_experiment(velocities=us, diameter=D_2, density=rho_2, viscosity=mu_2)\n",
    "\n",
    "pi2_2 = [FDs/(mu_2*D_2*uu) for (FDs, uu) in zip(FDs_2, us)]\n",
    "pi3_2 = [FDs*rho_2/mu_2**2 for FDs in FDs_2]\n",
    "\n",
    "fig, ax1, ax2 = make_plots(Re=REs_2, CD=pi2_2, FD=FDs_2, experiment_id='Experiment-1 and 2', \n",
    "                           colors=['red', 'red'], fig=fig, ax1=ax1, ax2=ax2, ylabel='$\\Pi_2$')\n",
    "\n",
    "# Experiment #3:\n",
    "mu_3 = mu_acetone\n",
    "rho_3 = rho_acetone\n",
    "D_3 = D_III\n",
    "REs_3 = [rho_3*uu*D_3/mu_3 for uu in us]\n",
    "CDs_3, FDs_3 = run_experiment(velocities=us, diameter=D_3, density=rho_3, viscosity=mu_3)\n",
    "\n",
    "pi2_3 = [FDs/(mu_3*D_3*uu) for (FDs, uu) in zip(FDs_3, us)]\n",
    "pi3_3 = [FDs*rho_3/mu_3**2 for FDs in FDs_3]\n",
    "\n",
    "fig, ax1, ax2 = make_plots(Re=REs_3, CD=pi2_3, FD=FDs_3, experiment_id='Experiment-3', \n",
    "                           colors=['green', 'green'], fig=fig, ax1=ax1, ax2=ax2, ylabel='$\\Pi_2$')"
   ]
  },
  {
   "cell_type": "markdown",
   "metadata": {},
   "source": [
    "Some more ideas discussed with Hamed (December 27th, 2020):\n",
    "* Can we somehow use different units (e.g., SI vs imperial) to allow the network to learn the invariance to change of units?\n",
    "* Explore online data collection...depending on the results of a given experiment, the network selects what data point is needed\n",
    "* Can we use the knowledge of the number of possible dimensionless groups to create an appropriate architecture? For example, one simple way in this case is to use two nodes in the penultimate (or else) layer since we expect a simpler relationship between the two $\\Pi$ groups. "
   ]
  },
  {
   "cell_type": "markdown",
   "metadata": {},
   "source": [
    "## Neural Net Regression\n",
    "Method #1:  \n",
    "$F_D$ = $f(\\rho, \\mu, U, D)$\n",
    "\n",
    "Method #2:  \n",
    "$F_D$ = $f(Re, \\rho, U, D)$\n",
    "\n",
    "Method #3:  \n",
    "$C_D$ = $f(Re, \\rho, U, D)$\n",
    "\n",
    "For all three methods, we use a deep neural network to approximate the function $f$.\n",
    "\n",
    "Method #4:\n",
    "Now, let's say we somehow know that there are 2 dimensionless parameters. 'Design' the architecture (i.e., bottleneck), so that there are 2 bottleneck nodes before we estimate the $F_D$. Compare the values of the bottleneck nodes to the $Re$ and $C_D$. Is there a correspondence? if not, how can we nudge them to be??"
   ]
  },
  {
   "cell_type": "markdown",
   "metadata": {},
   "source": [
    "### Dataset creation:"
   ]
  },
  {
   "cell_type": "code",
   "execution_count": null,
   "metadata": {},
   "outputs": [],
   "source": [
    "# Uncomment the following if you want to re-generate the dataset. It takes a couple of minutes.\n",
    "\n",
    "# # Picking some ranges for the parameters:\n",
    "# N = 50 # Number of points\n",
    "# mu_vec = np.linspace(0.0001, 0.01, N)\n",
    "# rho_vec = np.linspace(500, 2000, N)\n",
    "# U_vec = np.linspace(0.001, 200, 2*N)\n",
    "# D_vec = np.linspace(0.01, 0.1, N)\n",
    "\n",
    "# FDs = np.zeros((N, N, 2*N, N))\n",
    "# CDs = np.zeros((N, N, 2*N, N))\n",
    "# counter = 0\n",
    "# X, Y = [], []\n",
    "# for ii, m in enumerate(mu_vec):\n",
    "#     for jj, r in enumerate(rho_vec):\n",
    "#         for kk, u in enumerate(U_vec):\n",
    "#             for ll, d in enumerate(D_vec):\n",
    "#                 CDs[ii, jj, kk, ll], FDs[ii, jj, kk, ll] = CD_calc(Re=None, U=u, D=d, rho=r, mu=m)\n",
    "#                 X.append([m, r, u, d])\n",
    "#                 Y.append(FDs[ii, jj, kk, ll])\n",
    "                \n",
    "# X = np.array(X)\n",
    "# Y = np.array(Y)"
   ]
  },
  {
   "cell_type": "code",
   "execution_count": null,
   "metadata": {},
   "outputs": [],
   "source": [
    "# Saving the generated data in the previous cell:\n",
    "# with open('dataset1.npy', 'wb') as f:\n",
    "#     np.save(f, mu_vec)\n",
    "#     np.save(f, rho_vec)\n",
    "#     np.save(f, U_vec)\n",
    "#     np.save(f, D_vec)\n",
    "#     np.save(f, CDs)\n",
    "#     np.save(f, FDs)\n",
    "#     np.save(f, X)\n",
    "#     np.save(f, Y)\n",
    "    \n",
    "# Loading the saved generated data:\n",
    "with open('dataset1.npy', 'rb') as f:\n",
    "    mu_vec = np.load(f)\n",
    "    rho_vec = np.load(f)\n",
    "    U_vec = np.load(f)\n",
    "    D_vec = np.load(f)\n",
    "    CDs = np.load(f)\n",
    "    FDs = np.load(f)\n",
    "    X = np.load(f)\n",
    "    Y = np.load(f)"
   ]
  },
  {
   "cell_type": "code",
   "execution_count": null,
   "metadata": {},
   "outputs": [],
   "source": [
    "print(X.shape)\n",
    "print(Y.shape)"
   ]
  },
  {
   "cell_type": "markdown",
   "metadata": {},
   "source": [
    "### PyTorch Training:"
   ]
  },
  {
   "cell_type": "code",
   "execution_count": null,
   "metadata": {},
   "outputs": [],
   "source": [
    "import torch\n",
    "from torch.autograd import Variable\n",
    "import torch.nn.functional as F\n",
    "import torch.utils.data as Data\n",
    "import imageio"
   ]
  },
  {
   "cell_type": "code",
   "execution_count": null,
   "metadata": {},
   "outputs": [],
   "source": [
    "# np.max(Y)"
   ]
  },
  {
   "cell_type": "code",
   "execution_count": null,
   "metadata": {},
   "outputs": [],
   "source": [
    "# Scale input variables so that they are roughly in the same range:\n",
    "X[:,0] = X[:,0] * 1e4\n",
    "X[:,1] = X[:,1] * 1e-2\n",
    "X[:,2] = X[:,2] * 1e-1\n",
    "X[:,3] = X[:,3] * 1e2"
   ]
  },
  {
   "cell_type": "code",
   "execution_count": null,
   "metadata": {},
   "outputs": [],
   "source": [
    "torch.manual_seed(42)\n",
    "# convert to tensors and then Variables\n",
    "x_data, y_data = Variable(torch.tensor(X)), Variable(torch.tensor(Y))"
   ]
  },
  {
   "cell_type": "code",
   "execution_count": null,
   "metadata": {},
   "outputs": [],
   "source": [
    "len(x_data)"
   ]
  },
  {
   "cell_type": "markdown",
   "metadata": {},
   "source": [
    "### Define the Network:"
   ]
  },
  {
   "cell_type": "code",
   "execution_count": null,
   "metadata": {},
   "outputs": [],
   "source": [
    "# METHOD #1:\n",
    "# Dimensions of hidden units\n",
    "D_in = 4 # mu, rho, U, D\n",
    "H = [32, 16, 8] # 3 Hidden units\n",
    "D_out = 1 # Drag force\n",
    "model_1 = torch.nn.Sequential(torch.nn.Linear(D_in, H[0]), \n",
    "                              torch.nn.BatchNorm2d(H[0]),\n",
    "                              torch.nn.ReLU(), \n",
    "                              torch.nn.Linear(H[0], H[1]),\n",
    "                              torch.nn.BatchNorm2d(H[1]),\n",
    "                              torch.nn.ReLU(),\n",
    "                              torch.nn.Linear(H[1], H[2]),\n",
    "                              torch.nn.BatchNorm2d(H[2]),\n",
    "                              torch.nn.ReLU(), \n",
    "                              torch.nn.Linear(H[2], D_out))"
   ]
  },
  {
   "cell_type": "code",
   "execution_count": null,
   "metadata": {},
   "outputs": [],
   "source": [
    "# Test running the model\n",
    "x_test = X[0,:].astype('float32')\n",
    "print(x_test)\n",
    "\n",
    "x_test_torch = torch.tensor(x_test)\n",
    "out_test = model_1(x_test_torch)"
   ]
  },
  {
   "cell_type": "code",
   "execution_count": null,
   "metadata": {},
   "outputs": [],
   "source": [
    "# Hpyerparameters:\n",
    "N = len(x_data) # number of training samples\n",
    "learning_rate = 1e-5\n",
    "batch_size = 100000\n",
    "batches_per_epoch = N // batch_size\n",
    "epochs = 1\n",
    "max_batches = epochs * batches_per_epoch\n",
    "\n",
    "# Loss function and optimizer\n",
    "loss_fn = torch.nn.MSELoss(reduction='sum')\n",
    "optimizer = torch.optim.SGD(model_1.parameters(), lr=learning_rate)"
   ]
  },
  {
   "cell_type": "code",
   "execution_count": null,
   "metadata": {
    "scrolled": true
   },
   "outputs": [],
   "source": [
    "# Training:\n",
    "print(\"Start Training...\")\n",
    "\n",
    "for b in range(max_batches):\n",
    "    curr_batch = np.random.choice(N, batch_size, replace=False)\n",
    "    xx = torch.tensor(X[curr_batch].astype('float32'))\n",
    "    yy = torch.tensor(Y[curr_batch].astype('float32')).view(batch_size, 1)\n",
    "    \n",
    "    # zero the gradients:\n",
    "    optimizer.zero_grad()\n",
    "    \n",
    "    # Predict:\n",
    "    y_pred = model_1(xx)\n",
    "    \n",
    "    # Calculate loss:\n",
    "    loss = loss_fn(y_pred, yy)\n",
    "    \n",
    "    # Calculate gradients:\n",
    "    loss.backward()\n",
    "    \n",
    "    # Step:\n",
    "    optimizer.step()\n",
    "    \n",
    "    # Print out some metrics:\n",
    "    if b % (max_batches // 10) == 0:\n",
    "        print(\"batch = %6d\" % b, end=\"\")\n",
    "        print(\"  batch loss = %7.4f\" % loss.item(), end=\"\")\n",
    "        \n",
    "print(\"Training complete \\n\")\n",
    "    "
   ]
  },
  {
   "cell_type": "code",
   "execution_count": null,
   "metadata": {},
   "outputs": [],
   "source": [
    "FDs"
   ]
  },
  {
   "cell_type": "markdown",
   "metadata": {},
   "source": [
    "TODO: Figure out why NaNs are produced at the output....probably related to scaling of the variables. Use batchnorm?"
   ]
  }
 ],
 "metadata": {
  "kernelspec": {
   "display_name": "Python 3",
   "language": "python",
   "name": "python3"
  },
  "language_info": {
   "codemirror_mode": {
    "name": "ipython",
    "version": 3
   },
   "file_extension": ".py",
   "mimetype": "text/x-python",
   "name": "python",
   "nbconvert_exporter": "python",
   "pygments_lexer": "ipython3",
   "version": "3.11.5"
  }
 },
 "nbformat": 4,
 "nbformat_minor": 4
}
