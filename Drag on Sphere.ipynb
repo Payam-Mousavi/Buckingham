{
 "cells": [
  {
   "cell_type": "markdown",
   "metadata": {},
   "source": [
    "# Exploring dimensionless numbers and Neural Network Regression\n",
    "Author: Payam Mousavi  \n",
    "Last updated: December 28, 2020"
   ]
  },
  {
   "cell_type": "code",
   "execution_count": 23,
   "metadata": {},
   "outputs": [],
   "source": [
    "%matplotlib inline\n",
    "import matplotlib\n",
    "import matplotlib.pyplot as plt\n",
    "import numpy as np\n",
    "import torch\n",
    "matplotlib.rcParams.update({'font.size': 22})\n",
    "eps = 1e-12"
   ]
  },
  {
   "cell_type": "code",
   "execution_count": 24,
   "metadata": {},
   "outputs": [],
   "source": [
    "def CD_calc(Re=None, U=None, D=None, rho=None, mu=None):\n",
    "    \"\"\"\n",
    "    Calculates the the Drag coefficient (CD) and the corresponding Drag force (FD), using the empirical equation found in the\n",
    "    reference: https://pages.mtu.edu/~fmorriso/DataCorrelationForSphereDrag2016.pdf\n",
    "    \n",
    "    Use SI units\n",
    "    \n",
    "    \"\"\"\n",
    "    if Re is None:\n",
    "        Re = rho*U*D/mu\n",
    "    \n",
    "    # Check to make sure Re value provided is consistent:\n",
    "    if Re is not None:\n",
    "        if U is not None:\n",
    "            assert Re==rho*U*D/mu, \"Provided Re is inconsistent with U, D, rho, and mu provided!\"\n",
    "            \n",
    "    CD = (24/Re) \\\n",
    "    + ((2.6*(Re/5.)) / (1+(Re/5.)**1.52)) \\\n",
    "    + ((0.411*(Re/2.63e5)**-7.94) / (1 + (Re/2.63e5)**-8.)) \\\n",
    "    + ((0.25*(Re/1e6)) / (1 + (Re/1e6)))\n",
    "\n",
    "    # Calculate FD if U and D and rho are given:\n",
    "    if U is not None:\n",
    "        FD = CD * (rho*np.pi/8) * (U**2) * (D**2)\n",
    "    else:\n",
    "        FD = None\n",
    "        \n",
    "    return CD, FD\n",
    "\n",
    "def run_experiment(velocities, diameter, density, viscosity):\n",
    "    \"\"\"\n",
    "    Runs the experiment by iterating over the velocity vector us and returning the drag coefficient CD and Drag force FD\n",
    "    \n",
    "    \"\"\"\n",
    "    FDs = np.zeros(len(velocities))\n",
    "    CDs = np.zeros(len(velocities))\n",
    "    for ind, u in enumerate(velocities):\n",
    "        CDs[ind], FDs[ind] = CD_calc(Re=None, U=u, D=diameter, rho=density, mu=viscosity)\n",
    "        \n",
    "    return CDs, FDs"
   ]
  },
  {
   "cell_type": "code",
   "execution_count": 25,
   "metadata": {},
   "outputs": [],
   "source": [
    "# # Test CD Forward Solver:\n",
    "# Re_vec = np.geomspace(0.001, 1e7, 200)\n",
    "# CD_vec = []\n",
    "# for r in Re_vec:\n",
    "#     CD_vec.append(CD_calc(Re=r))"
   ]
  },
  {
   "cell_type": "code",
   "execution_count": 26,
   "metadata": {},
   "outputs": [],
   "source": [
    "def plot_CD(Re, CD, marker):\n",
    "    plt.figure(figsize=(6,6))\n",
    "    plt.loglog(Re, CD, marker)\n",
    "    plt.ylim(1e-2, 1e4)\n",
    "    plt.xlim(1e-2, 1e7)\n",
    "    plt.xlabel('$Re$')\n",
    "    plt.ylabel('$C_D$')\n",
    "    return True\n",
    "\n",
    "def plot_FD(Re, FD, marker):\n",
    "    fig = plt.figure(figsize=(6,6))    \n",
    "    plt.loglog(Re, FD, marker)\n",
    "    plt.ylim(eps, 1e4)\n",
    "    plt.xlim(1e-2, 1e7)\n",
    "    plt.xlabel('$Re$')\n",
    "    plt.ylabel('$F_D$')\n",
    "    return True\n",
    "\n",
    "def make_plots(Re, CD, FD, experiment_id, colors=['blue', 'blue'], fig=None, ax1=None, ax2=None, ylabel='$C_D$'):\n",
    "#     fig = plt.figure(figsize=(6,6))\n",
    "    if ax1 is None:\n",
    "        fig, (ax1, ax2) = plt.subplots(1, 2)\n",
    "    \n",
    "    ax1.loglog(Re, CD, color=colors[0], marker='o')\n",
    "    ax1.set_xlabel('$Re$')\n",
    "    ax1.set_ylabel(ylabel)\n",
    "\n",
    "\n",
    "    ax2.loglog(Re, FD, color=colors[1], marker='o')\n",
    "    ax2.set_xlabel('$Re$')\n",
    "    ax2.set_ylabel('$F_D$')\n",
    "\n",
    "    plt.subplots_adjust(right=3)\n",
    "    fig.suptitle(experiment_id)\n",
    "    \n",
    "    return fig, ax1, ax2"
   ]
  },
  {
   "cell_type": "code",
   "execution_count": 27,
   "metadata": {},
   "outputs": [],
   "source": [
    "# # Plot results from the forward solver:\n",
    "# plt.figure(figsize=(6,6))\n",
    "# plt.loglog(Re_vec, CD_vec, 'b-o')\n",
    "# plt.ylim(1e-2, 1e4)\n",
    "# plt.xlim(1e-2, 1e7)\n",
    "# plt.xlabel('$Re$')\n",
    "# plt.ylabel('$C_D$')"
   ]
  },
  {
   "cell_type": "markdown",
   "metadata": {},
   "source": [
    "There are other ways to non-dimensionalize the $F_D$:  \n",
    "$\\Pi_1$ := $C_D$ = $\\frac{F_D}{\\rho.U^2.D^2}$ (Works!) \n",
    "\n",
    "$\\Pi_2$ = $\\frac{F_D}{\\mu.U.D}$  (Works!)\n",
    "\n",
    "$\\Pi_3$ = $\\frac{\\rho.F_D}{\\mu^2}$  (Works!)\n",
    "\n",
    "Assuming we can generate $F_D$ (i.e., experimentally), we want to explore the following:\n",
    "* Plot the other $\\Pi$ groups as a function for $Re$ to see how they look  \n",
    "* If we were to randomly sample the main physical parameters (i.e., $\\rho$, $U$, $\\mu$, $D$), how efficiently and how well can we estimate $F_D$? The ground-truth is taken to be the experimental $C_D$ values fitted above.\n",
    "* If instead, of the main physical parameters we use $Re$, $U$, $D$, and $\\rho$ can we estimate $F_D$ more efficiently or better?\n",
    "* How do I best visualize $F_D$ vs. $Re$? We expect the curve not to be as nice?\n",
    "* To start, let's keep $\\rho$ and $\\mu$ constant? Let's try water....\n",
    "\n",
    "For all estimates, we will try first to use a deep fully connected network with some non-linearity.\n",
    "\n",
    "Insight?: The non-dimensionalization helps with more efficient sampleing of the independent variable space? Uniformly sampling $Re$ more efficiently covers the space. "
   ]
  },
  {
   "cell_type": "markdown",
   "metadata": {},
   "source": [
    "## Experiments:\n",
    "Generating some 'experimental' data and comparing different $\\Pi$ groups"
   ]
  },
  {
   "cell_type": "markdown",
   "metadata": {},
   "source": [
    "### Material parameters:"
   ]
  },
  {
   "cell_type": "code",
   "execution_count": 28,
   "metadata": {},
   "outputs": [],
   "source": [
    "# Let's take water as an example: rho = 1000Kg/m^3, mu = 0.001 Ns/M^2\n",
    "# c_sound (Cs) in water ~ 1481 m/s, Cs(Acetone) = ~1100 m/s - We need to make sure the velocity is < 0.3*Cs\n",
    "N = 200 # Number of samples\n",
    "Cs = 1481 # m/s\n",
    "u_max = 0.3 * Cs # Picked 0.2 to make sure the condition is not violated for acetone\n",
    "\n",
    "mu_water = 0.001 # [SI]\n",
    "rho_water = 1000 # [SI]\n",
    "\n",
    "mu_acetone = 0.000316 # Acetone [SI]\n",
    "rho_acetone = 784.5 # Acetone [SI]\n",
    "\n",
    "# Sphere diameters:\n",
    "D_I = 0.05 # Diameter of sphere\n",
    "D_II = 0.1\n",
    "D_III = 0.5"
   ]
  },
  {
   "cell_type": "markdown",
   "metadata": {},
   "source": [
    "### Setting up the 'Experiments':"
   ]
  },
  {
   "cell_type": "code",
   "execution_count": 29,
   "metadata": {
    "scrolled": false
   },
   "outputs": [
    {
     "data": {
      "image/png": "[encoded data removed]",
      "text/plain": [
       "<Figure size 432x288 with 2 Axes>"
      ]
     },
     "metadata": {
      "needs_background": "light"
     },
     "output_type": "display_data"
    }
   ],
   "source": [
    "# Let's keep the velocities the same for now:\n",
    "us = np.geomspace(0.001, u_max, N)\n",
    "\n",
    "# Experiment #1:\n",
    "mu_1 = mu_water\n",
    "rho_1 = rho_water\n",
    "D_1 = D_I\n",
    "REs_1 = [rho_1*uu*D_1/mu_1 for uu in us]\n",
    "CDs_1, FDs_1 = run_experiment(velocities=us, diameter=D_1, density=rho_1, viscosity=mu_1)\n",
    "fig, ax1, ax2 = make_plots(Re=REs_1, CD=CDs_1, FD=FDs_1, experiment_id='Experiment-1', colors=['blue', 'blue'])\n",
    "\n",
    "# Experiment #2:\n",
    "mu_2 = mu_acetone\n",
    "rho_2 = rho_acetone\n",
    "D_2 = D_I\n",
    "REs_2 = [rho_2*uu*D_2/mu_2 for uu in us]\n",
    "CDs_2, FDs_2 = run_experiment(velocities=us, diameter=D_2, density=rho_2, viscosity=mu_2)\n",
    "fig, ax1, ax2 = make_plots(Re=REs_2, CD=CDs_2, FD=FDs_2, experiment_id='Experiment-1 and 2', colors=['red', 'red'], fig=fig, ax1=ax1, ax2=ax2)\n",
    "\n",
    "# Experiment #3:\n",
    "mu_3 = mu_acetone\n",
    "rho_3 = rho_acetone\n",
    "D_3 = D_III\n",
    "REs_3 = [rho_3*uu*D_3/mu_3 for uu in us]\n",
    "CDs_3, FDs_3 = run_experiment(velocities=us, diameter=D_3, density=rho_3, viscosity=mu_3)\n",
    "fig, ax1, ax2 = make_plots(Re=REs_3, CD=CDs_3, FD=FDs_3, experiment_id='Experiment-3', colors=['green', 'green'], fig=fig, ax1=ax1, ax2=ax2)"
   ]
  },
  {
   "cell_type": "markdown",
   "metadata": {},
   "source": [
    "### Comparing to other $\\Pi$ groups:\n",
    "It appears $\\Pi_4$ does not work but the rest do! Why??"
   ]
  },
  {
   "cell_type": "code",
   "execution_count": 30,
   "metadata": {
    "scrolled": false
   },
   "outputs": [
    {
     "data": {
      "image/png": "[encoded data removed]",
      "text/plain": [
       "<Figure size 432x288 with 2 Axes>"
      ]
     },
     "metadata": {
      "needs_background": "light"
     },
     "output_type": "display_data"
    }
   ],
   "source": [
    "# Comparing the following Pi group:\n",
    "\n",
    "# Experiment #1:\n",
    "mu_1 = mu_water\n",
    "rho_1 = rho_water\n",
    "D_1 = D_I\n",
    "REs_1 = [rho_1*uu*D_1/mu_1 for uu in us]\n",
    "CDs_1, FDs_1 = run_experiment(velocities=us, diameter=D_1, density=rho_1, viscosity=mu_1)\n",
    "# fig, ax1, ax2 = make_plots(Re=REs_1, CD=CDs_1, FD=FDs_1, experiment_id='Experiment-1', colors=['blue', 'blue'])\n",
    "\n",
    "pi2_1 = [FDs/(mu_1*D_1*uu) for (FDs, uu) in zip(FDs_1, us)]\n",
    "pi3_1 = [FDs*rho_1/mu_1**2 for FDs in FDs_1]\n",
    "\n",
    "fig, ax1, ax2 = make_plots(Re=REs_1, CD=pi2_1, FD=FDs_1, experiment_id='Experiment-1', \n",
    "                           colors=['blue', 'blue'], ylabel='$\\Pi_2$')\n",
    "\n",
    "# Experiment #2:\n",
    "mu_2 = mu_acetone\n",
    "rho_2 = rho_acetone\n",
    "D_2 = D_I\n",
    "REs_2 = [rho_2*uu*D_2/mu_2 for uu in us]\n",
    "CDs_2, FDs_2 = run_experiment(velocities=us, diameter=D_2, density=rho_2, viscosity=mu_2)\n",
    "\n",
    "pi2_2 = [FDs/(mu_2*D_2*uu) for (FDs, uu) in zip(FDs_2, us)]\n",
    "pi3_2 = [FDs*rho_2/mu_2**2 for FDs in FDs_2]\n",
    "\n",
    "fig, ax1, ax2 = make_plots(Re=REs_2, CD=pi2_2, FD=FDs_2, experiment_id='Experiment-1 and 2', \n",
    "                           colors=['red', 'red'], fig=fig, ax1=ax1, ax2=ax2, ylabel='$\\Pi_2$')\n",
    "\n",
    "\n",
    "# Experiment #3:\n",
    "mu_3 = mu_acetone\n",
    "rho_3 = rho_acetone\n",
    "D_3 = D_III\n",
    "REs_3 = [rho_3*uu*D_3/mu_3 for uu in us]\n",
    "CDs_3, FDs_3 = run_experiment(velocities=us, diameter=D_3, density=rho_3, viscosity=mu_3)\n",
    "\n",
    "pi2_3 = [FDs/(mu_3*D_3*uu) for (FDs, uu) in zip(FDs_3, us)]\n",
    "pi3_3 = [FDs*rho_3/mu_3**2 for FDs in FDs_3]\n",
    "\n",
    "fig, ax1, ax2 = make_plots(Re=REs_3, CD=pi2_3, FD=FDs_3, experiment_id='Experiment-3', \n",
    "                           colors=['green', 'green'], fig=fig, ax1=ax1, ax2=ax2, ylabel='$\\Pi_2$')"
   ]
  },
  {
   "cell_type": "markdown",
   "metadata": {},
   "source": [
    "Some more ideas discussed with Hamed (December 27th, 2020):\n",
    "* Can we somehow use different units (e.g., SI vs imperial) to allow the network to learn the invariance to change of units?\n",
    "* Explore online data collection...depending on the results of a given experiment, the network selects what data point is needed\n",
    "* Can we use the knowledge of the number of possible dimensionless groups to create an appropriate architecture? For example, one simple way in this case is to use two nodes in the penultimate (or else) layer since we expect a simpler relationship between the two $\\Pi$ groups. "
   ]
  },
  {
   "cell_type": "markdown",
   "metadata": {},
   "source": [
    "## Neural Net Regression\n",
    "Method #1:  \n",
    "$F_D$ = $f(\\rho, \\mu, U, D)$\n",
    "\n",
    "Method #2:  \n",
    "$F_D$ = $f(Re, \\rho, U, D)$\n",
    "\n",
    "Method #3:  \n",
    "$C_D$ = $f(Re, \\rho, U, D)$\n",
    "\n",
    "For all three methods, we use a deep neural network to approximate the function $f$."
   ]
  },
  {
   "cell_type": "markdown",
   "metadata": {},
   "source": [
    "### Dataset creation:"
   ]
  },
  {
   "cell_type": "code",
   "execution_count": 48,
   "metadata": {},
   "outputs": [],
   "source": [
    "# Uncomment the following if you want to re-generate the dataset. It takes a couple of minutes.\n",
    "\n",
    "# # Picking some ranges for the parameters:\n",
    "# N = 50 # Number of points\n",
    "# mu_vec = np.linspace(0.0001, 0.01, N)\n",
    "# rho_vec = np.linspace(500, 2000, N)\n",
    "# U_vec = np.linspace(0.001, 200, 2*N)\n",
    "# D_vec = np.linspace(0.01, 0.1, N)\n",
    "\n",
    "# FDs = np.zeros((N, N, 2*N, N))\n",
    "# CDs = np.zeros((N, N, 2*N, N))\n",
    "# counter = 0\n",
    "# X, Y = [], []\n",
    "# for ii, m in enumerate(mu_vec):\n",
    "#     for jj, r in enumerate(rho_vec):\n",
    "#         for kk, u in enumerate(U_vec):\n",
    "#             for ll, d in enumerate(D_vec):\n",
    "#                 CDs[ii, jj, kk, ll], FDs[ii, jj, kk, ll] = CD_calc(Re=None, U=u, D=d, rho=r, mu=m)\n",
    "#                 X.append([m, r, u, d])\n",
    "#                 Y.append(FDs[ii, jj, kk, ll])\n",
    "                \n",
    "# X = np.array(X)\n",
    "# Y = np.array(Y)"
   ]
  },
  {
   "cell_type": "code",
   "execution_count": 49,
   "metadata": {},
   "outputs": [
    {
     "data": {
      "text/plain": [
       "(12500000, 4)"
      ]
     },
     "execution_count": 49,
     "metadata": {},
     "output_type": "execute_result"
    }
   ],
   "source": [
    "X.shape"
   ]
  },
  {
   "cell_type": "code",
   "execution_count": 50,
   "metadata": {},
   "outputs": [],
   "source": [
    "# Saving the generated data in the previous cell:\n",
    "# with open('dataset1.npy', 'wb') as f:\n",
    "#     np.save(f, mu_vec)\n",
    "#     np.save(f, rho_vec)\n",
    "#     np.save(f, U_vec)\n",
    "#     np.save(f, D_vec)\n",
    "#     np.save(f, CDs)\n",
    "#     np.save(f, FDs)\n",
    "#     np.save(f, X)\n",
    "#     np.save(f, Y)\n",
    "    \n",
    "# Loading the saved generated data:\n",
    "with open('dataset1.npy', 'rb') as f:\n",
    "    mu_vec = np.load(f)\n",
    "    rho_vec = np.load(f)\n",
    "    U_vec = np.load(f)\n",
    "    D_vec = np.load(f)\n",
    "    CDs = np.load(f)\n",
    "    FDs = np.load(f)\n",
    "    X = np.load(f)\n",
    "    Y = np.load(f)"
   ]
  },
  {
   "cell_type": "code",
   "execution_count": 22,
   "metadata": {},
   "outputs": [
    {
     "data": {
      "text/plain": [
       "(50, 50, 100, 50)"
      ]
     },
     "execution_count": 22,
     "metadata": {},
     "output_type": "execute_result"
    }
   ],
   "source": [
    "#TODO:\n",
    "- Figure out how to organize the dataset most effectively\n",
    "- Do the multivariate regression using multiple hidden units"
   ]
  },
  {
   "cell_type": "code",
   "execution_count": null,
   "metadata": {},
   "outputs": [],
   "source": []
  }
 ],
 "metadata": {
  "kernelspec": {
   "display_name": "Python [conda env:buckingham] *",
   "language": "python",
   "name": "conda-env-buckingham-py"
  },
  "language_info": {
   "codemirror_mode": {
    "name": "ipython",
    "version": 3
   },
   "file_extension": ".py",
   "mimetype": "text/x-python",
   "name": "python",
   "nbconvert_exporter": "python",
   "pygments_lexer": "ipython3",
   "version": "3.8.6"
  }
 },
 "nbformat": 4,
 "nbformat_minor": 4
}
