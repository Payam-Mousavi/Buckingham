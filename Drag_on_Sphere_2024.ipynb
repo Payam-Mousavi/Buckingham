{
 "cells": [
  {
   "cell_type": "markdown",
   "metadata": {},
   "source": [
    "# Exploring dimensionless numbers and Neural Network Regression\n",
    "Author: Payam Mousavi  \n",
    "Last updated: January 17, 2024 \n",
    "\n",
    "Given the analytical equation (fitted empirically) for the Drag Coefficient $C_D$ provided in reference: https://pages.mtu.edu/~fmorriso/DataCorrelationForSphereDrag2016.pdf, we see that it's only a function of the Reynolds number, $Re = \\rho.U.D/\\mu$. Let's say that we did not know this ahead of time and wanted to perform experiments for a range of input parameters, namely, $\\rho$, $U$, $D$, and $\\mu$. Clearly, many combinations will be redundant since they correpond to the same $Re$. Consider the following models:  \n",
    "\n",
    "Given $\\rho$, $U$, $D$, and $\\mu$, consider the following three models:  \n",
    "\n",
    "\n",
    "<img src=\"./Figures/Model_0.png\" width=\"300\" height=\"200\" /> . \n",
    "<img src=\"./Figures/Model_I.png\" width=\"300\" height=\"200\" /> . \n",
    "<img src=\"./Figures/Model_II.png\" width=\"300\" height=\"200\" /> . \n",
    "\n",
    "To start, we are interested in the following questions:  \n",
    "1. Model_0, we fit just to verify that it's an easy regression problem. Note that, given the very large range of inputs spanning multiple orders of magnitute, this is not a trivial problem. So we might choose to limit the range. For example, we expect a linear function for low Re (i.e., Stokes flow), so we could ignore that range. \n",
    "2. Assuming we keep the number of trainable parameters approximately the same, is Model_I more data efficient than Model_II, if we randomly sample the 4 parameters?  Intuitively, we expect this to be true since we are biasing the structure of the neural network to discover the existence of an effective compression of the inputs (by $Re$).  \n",
    "3. After training Model_I, does the single node actually correspond to $Re$? Can the model 'discover' the non-dimensional parameters?  If not, can we somehow help the model to discover this?  \n",
    "4. (Optional) can we use the knowledge of the $Re$ to perform data augmentation thereby increasing the efficiency of the training? For example, given a combination of inputs, we could generate $n$ additional training samples corresponding to the same $Re$. This 'synthetic data' is expected to improve the efficiency. It is not clear whether this is useful in practice. Still interesting to explore.  \n",
    "\n",
    "\n",
    "What's on the docket:  \n",
    "* Verify that MSELoss from PyTorch is consistent with my manual calculation. **DONE**  \n",
    "* Implement Model_0 to take Re as input and output C_D.  \n",
    "* Implement Model_I to take the 4 parameters, bottleneck to Re, then output C_D. Is the Re node equal to the value of Re?  \n",
    "* Quantify data requirements for each model to get similar accuracy? Do we need a hyperparameter optimization for this?  \n",
    "* Move some sections out of the notebook for more flexibility:\n",
    "    * Move dataset creation and loading \n",
    "    * Move helper functions to utils \n",
    "    * Move models \n",
    "* Tricks to improve fitting: scale the 4 inputs so that they are roughly in the same range.  \n",
    "* Limit the range of interest to only include regions with interesting features.  \n",
    "    \n",
    "\n",
    "\n",
    "Summary (Jan 1, 2024):  \n",
    "* The regression for Model_II does not work very well. Ideas to try:\n",
    "    * Scale inputs to be roughly the same order of magnitude \n",
    "    * Shrink the Re range significantly.  \n",
    "    * Shrink ther anges of input parameters to more reasonable values.  \n",
    "    * Think more carefully about the sampling and plotting.  \n",
    "* Fit Re->Cd model. Does it work?\n",
    "\n",
    "\n",
    "\n"
   ]
  },
  {
   "cell_type": "code",
   "execution_count": 19,
   "metadata": {},
   "outputs": [
    {
     "name": "stdout",
     "output_type": "stream",
     "text": [
      "The autoreload extension is already loaded. To reload it, use:\n",
      "  %reload_ext autoreload\n"
     ]
    }
   ],
   "source": [
    "%matplotlib inline\n",
    "%load_ext autoreload\n",
    "%autoreload 2\n",
    "\n",
    "\n",
    "from utils import *\n",
    "from models import Model_II\n",
    "from datasets import *\n",
    "from train import train_model\n",
    "from predict import predict_model\n",
    "from eval import eval_model\n",
    "\n",
    "import matplotlib\n",
    "import matplotlib.pyplot as plt\n",
    "import seaborn as sns\n",
    "import numpy as np\n",
    "import math\n",
    "from tqdm import tqdm\n",
    "import pandas as pd\n",
    "\n",
    "import torch\n",
    "import torch.nn as nn\n",
    "import torch.nn.functional as F\n",
    "from torch.utils.data import Dataset\n",
    "from torch.utils.data import DataLoader, random_split\n",
    "from torch.optim import Adam\n",
    "import torch.nn.init as init\n",
    "from torch.utils.tensorboard import SummaryWriter\n",
    "\n",
    "matplotlib.rcParams.update({'font.size': 18})\n",
    "eps = 1e-12"
   ]
  },
  {
   "cell_type": "code",
   "execution_count": 20,
   "metadata": {},
   "outputs": [],
   "source": [
    "Re_vec = np.logspace(2, 7, 1000)\n",
    "rho, mu, D, U = generate_inputs_from_Re(Re_vec=Re_vec, u_range=[0.1, 1e3], rho_range=[1, 1000], mu_range=[1e-3, 1e3], D_range=[1e-3, 1e3])\n",
    "# rho# "
   ]
  },
  {
   "cell_type": "code",
   "execution_count": 21,
   "metadata": {},
   "outputs": [
    {
     "data": {
      "text/plain": [
       "True"
      ]
     },
     "execution_count": 21,
     "metadata": {},
     "output_type": "execute_result"
    },
    {
     "data": {
      "image/png": "[encoded data removed]",
      "text/plain": [
       "<Figure size 600x600 with 1 Axes>"
      ]
     },
     "metadata": {},
     "output_type": "display_data"
    }
   ],
   "source": [
    "Re_vec = np.logspace(2, 7, 200)\n",
    "CDs, _ = run_experiments(Re_vec=Re_vec)\n",
    "plot_CD(Re_vec, CDs, marker='o')"
   ]
  },
  {
   "cell_type": "markdown",
   "metadata": {},
   "source": [
    "## Dataset Creation"
   ]
  },
  {
   "cell_type": "code",
   "execution_count": 22,
   "metadata": {},
   "outputs": [],
   "source": [
    "# Create the dataloader/dataset:\n",
    "dataset = RandomDataset(num_samples=50000, \n",
    "                        Re_range=[1e5, 1e7], \n",
    "                        rho_range=[100, 3000], \n",
    "                        mu_range=[0.3e-3, 0.1], \n",
    "                        D_range=[0.05, 1], \n",
    "                        U_range=[1, 10], \n",
    "                        seed=1234)\n",
    "\n",
    "\n",
    "# Split the dataset into train, validation, and test sets:\n",
    "train_size = int(0.7 * len(dataset))\n",
    "val_size = int(0.2 * len(dataset))\n",
    "test_size = len(dataset) - train_size - val_size\n",
    "\n",
    "train_dataset, val_dataset, test_dataset = random_split(dataset, [train_size, val_size, test_size])\n",
    "\n",
    "train_loader = DataLoader(train_dataset, batch_size=1024, shuffle=True, num_workers=0) #TODO: Change num_workers to 4. Need to take RandomDataset out of the main function\n",
    "val_loader = DataLoader(val_dataset, batch_size=1024, shuffle=False, num_workers=0)\n",
    "test_loader = DataLoader(test_dataset, batch_size=1024, shuffle=False, num_workers=0)\n",
    "\n",
    "# Extract Re values for test set:\n",
    "train_Re = extract_Re_values(dataset, train_dataset)\n",
    "val_Re = extract_Re_values(dataset, val_dataset)\n",
    "test_Re = extract_Re_values(dataset, test_dataset)\n"
   ]
  },
  {
   "cell_type": "code",
   "execution_count": 23,
   "metadata": {},
   "outputs": [],
   "source": [
    "# rho, mu, D, U, Re_vec, CD = sample_parameters(num_samples=1000, \n",
    "#                                               Re_range=[1e0, 3e7], \n",
    "#                                               rho_range=[50, 3000], \n",
    "#                                               mu_range=[0.3e-3, 5], \n",
    "#                                               D_range=[0.05, 10], \n",
    "#                                               U_range=[.001, 10])\n",
    "\n",
    "# plt.loglog(Re_vec, CD, 'o', alpha=0.5)"
   ]
  },
  {
   "cell_type": "code",
   "execution_count": 24,
   "metadata": {},
   "outputs": [
    {
     "data": {
      "image/png": "[encoded data removed]",
      "text/plain": [
       "<Figure size 640x480 with 1 Axes>"
      ]
     },
     "metadata": {},
     "output_type": "display_data"
    },
    {
     "data": {
      "text/plain": [
       "(100144.87235011636, 9994481.480586873)"
      ]
     },
     "execution_count": 24,
     "metadata": {},
     "output_type": "execute_result"
    }
   ],
   "source": [
    "plt.hist(test_Re, bins=10, edgecolor='black')\n",
    "plt.xlabel('Reynolds Number (Re)')\n",
    "plt.ylabel('Frequency')\n",
    "plt.title('Histogram of Reynolds Numbers in Test Dataset')\n",
    "plt.show()\n",
    "\n",
    "min(test_Re), max(test_Re)"
   ]
  },
  {
   "cell_type": "markdown",
   "metadata": {},
   "source": [
    "# Training"
   ]
  },
  {
   "cell_type": "code",
   "execution_count": 25,
   "metadata": {},
   "outputs": [
    {
     "name": "stdout",
     "output_type": "stream",
     "text": [
      "Number of trainable parameters: 1921\n"
     ]
    }
   ],
   "source": [
    "# Setting up the model:\n",
    "HIDDEN_DIMS = [32, 32, 16, 8, 4]\n",
    "MODEL_NAME = 'Model_II'\n",
    "MODEL = Model_II(input_dim=4, output_dim=1, hidden_dims=HIDDEN_DIMS).float()\n",
    "CRITERION = nn.MSELoss() # criterion = nn.L1Loss(), nn.SmoothL1Loss(), ...\n",
    "OPTIMIZER = Adam(MODEL.parameters(), lr=1e-3)\n",
    "WRITER = SummaryWriter('runs/' + MODEL_NAME)\n",
    "MODEL_SAVE_PATH = 'models/' + MODEL_NAME + '.pt'\n",
    "WRITER_PATH = 'runs/' + MODEL_NAME\n",
    "\n",
    "NUM_EPOCHS = 100\n",
    "\n",
    "num_trainable_params = sum(p.numel() for p in MODEL.parameters() if p.requires_grad)\n",
    "print(f\"Number of trainable parameters: {num_trainable_params}\")"
   ]
  },
  {
   "cell_type": "code",
   "execution_count": 26,
   "metadata": {},
   "outputs": [
    {
     "name": "stdout",
     "output_type": "stream",
     "text": [
      "Epoch 1/100, Train Loss: 88053.9729, Validation Loss: 5611.5949\n",
      "Epoch 2/100, Train Loss: 1267.6742, Validation Loss: 131.8216\n",
      "Epoch 3/100, Train Loss: 35.5274, Validation Loss: 5.2134\n",
      "Epoch 4/100, Train Loss: 0.8518, Validation Loss: 0.0386\n",
      "Epoch 5/100, Train Loss: 0.0474, Validation Loss: 0.0356\n",
      "Epoch 6/100, Train Loss: 0.0314, Validation Loss: 0.0312\n",
      "Epoch 7/100, Train Loss: 0.0306, Validation Loss: 0.0311\n",
      "Epoch 8/100, Train Loss: 0.0305, Validation Loss: 0.0310\n",
      "Epoch 9/100, Train Loss: 0.0304, Validation Loss: 0.0309\n",
      "Epoch 10/100, Train Loss: 0.0303, Validation Loss: 0.0309\n",
      "Epoch 11/100, Train Loss: 0.0303, Validation Loss: 0.0308\n",
      "Epoch 12/100, Train Loss: 0.0302, Validation Loss: 0.0307\n",
      "Epoch 13/100, Train Loss: 0.0301, Validation Loss: 0.0306\n",
      "Epoch 14/100, Train Loss: 0.0300, Validation Loss: 0.0305\n",
      "Epoch 15/100, Train Loss: 0.0299, Validation Loss: 0.0305\n",
      "Epoch 16/100, Train Loss: 0.0299, Validation Loss: 0.0303\n",
      "Epoch 17/100, Train Loss: 0.0297, Validation Loss: 0.0302\n",
      "Epoch 18/100, Train Loss: 0.0297, Validation Loss: 0.0302\n",
      "Epoch 19/100, Train Loss: 0.0295, Validation Loss: 0.0300\n",
      "Epoch 20/100, Train Loss: 0.0294, Validation Loss: 0.0299\n",
      "Epoch 21/100, Train Loss: 0.0293, Validation Loss: 0.0298\n",
      "Epoch 22/100, Train Loss: 0.0292, Validation Loss: 0.0297\n",
      "Epoch 23/100, Train Loss: 0.0291, Validation Loss: 0.0296\n",
      "Epoch 24/100, Train Loss: 0.0290, Validation Loss: 0.0295\n",
      "Epoch 25/100, Train Loss: 0.0289, Validation Loss: 0.0294\n",
      "Epoch 26/100, Train Loss: 0.0288, Validation Loss: 0.0292\n",
      "Epoch 27/100, Train Loss: 0.0286, Validation Loss: 0.0291\n",
      "Epoch 28/100, Train Loss: 0.0285, Validation Loss: 0.0290\n",
      "Epoch 29/100, Train Loss: 0.0284, Validation Loss: 0.0288\n",
      "Epoch 30/100, Train Loss: 0.0282, Validation Loss: 0.0287\n",
      "Epoch 31/100, Train Loss: 0.0281, Validation Loss: 0.0285\n",
      "Epoch 32/100, Train Loss: 0.0280, Validation Loss: 0.0284\n",
      "Epoch 33/100, Train Loss: 0.0278, Validation Loss: 0.0282\n",
      "Epoch 34/100, Train Loss: 0.0277, Validation Loss: 0.0281\n",
      "Epoch 35/100, Train Loss: 0.0276, Validation Loss: 0.0280\n",
      "Epoch 36/100, Train Loss: 0.0274, Validation Loss: 0.0278\n",
      "Epoch 37/100, Train Loss: 0.0272, Validation Loss: 0.0277\n",
      "Epoch 38/100, Train Loss: 0.0271, Validation Loss: 0.0275\n",
      "Epoch 39/100, Train Loss: 0.0270, Validation Loss: 0.0273\n",
      "Epoch 40/100, Train Loss: 0.0268, Validation Loss: 0.0272\n",
      "Epoch 41/100, Train Loss: 0.0266, Validation Loss: 0.0270\n",
      "Epoch 42/100, Train Loss: 0.0265, Validation Loss: 0.0269\n",
      "Epoch 43/100, Train Loss: 0.0263, Validation Loss: 0.0269\n",
      "Epoch 44/100, Train Loss: 0.0262, Validation Loss: 0.0265\n",
      "Epoch 45/100, Train Loss: 0.0260, Validation Loss: 0.0264\n",
      "Epoch 46/100, Train Loss: 0.0258, Validation Loss: 0.0262\n",
      "Epoch 47/100, Train Loss: 0.0257, Validation Loss: 0.0260\n",
      "Epoch 48/100, Train Loss: 0.0255, Validation Loss: 0.0259\n",
      "Epoch 49/100, Train Loss: 0.0253, Validation Loss: 0.0258\n",
      "Epoch 50/100, Train Loss: 0.0252, Validation Loss: 0.0256\n",
      "Epoch 51/100, Train Loss: 0.0250, Validation Loss: 0.0253\n",
      "Epoch 52/100, Train Loss: 0.0249, Validation Loss: 0.0253\n",
      "Epoch 53/100, Train Loss: 0.0247, Validation Loss: 0.0250\n",
      "Epoch 54/100, Train Loss: 0.0245, Validation Loss: 0.0249\n",
      "Epoch 55/100, Train Loss: 0.0243, Validation Loss: 0.0246\n",
      "Epoch 56/100, Train Loss: 0.0241, Validation Loss: 0.0245\n",
      "Epoch 57/100, Train Loss: 0.0240, Validation Loss: 0.0245\n",
      "Epoch 58/100, Train Loss: 0.0239, Validation Loss: 0.0241\n",
      "Epoch 59/100, Train Loss: 0.0236, Validation Loss: 0.0239\n",
      "Epoch 60/100, Train Loss: 0.0235, Validation Loss: 0.0237\n",
      "Epoch 61/100, Train Loss: 0.0233, Validation Loss: 0.0236\n",
      "Epoch 62/100, Train Loss: 0.0231, Validation Loss: 0.0234\n",
      "Epoch 63/100, Train Loss: 0.0229, Validation Loss: 0.0232\n",
      "Epoch 64/100, Train Loss: 0.0227, Validation Loss: 0.0230\n",
      "Epoch 65/100, Train Loss: 0.0226, Validation Loss: 0.0228\n",
      "Epoch 66/100, Train Loss: 0.0224, Validation Loss: 0.0228\n",
      "Epoch 67/100, Train Loss: 0.0222, Validation Loss: 0.0226\n",
      "Epoch 68/100, Train Loss: 0.0221, Validation Loss: 0.0223\n",
      "Epoch 69/100, Train Loss: 0.0219, Validation Loss: 0.0221\n",
      "Epoch 70/100, Train Loss: 0.0217, Validation Loss: 0.0220\n",
      "Epoch 71/100, Train Loss: 0.0215, Validation Loss: 0.0217\n",
      "Epoch 72/100, Train Loss: 0.0213, Validation Loss: 0.0216\n",
      "Epoch 73/100, Train Loss: 0.0212, Validation Loss: 0.0214\n",
      "Epoch 74/100, Train Loss: 0.0210, Validation Loss: 0.0212\n",
      "Epoch 75/100, Train Loss: 0.0208, Validation Loss: 0.0210\n",
      "Epoch 76/100, Train Loss: 0.0207, Validation Loss: 0.0209\n",
      "Epoch 77/100, Train Loss: 0.0205, Validation Loss: 0.0207\n",
      "Epoch 78/100, Train Loss: 0.0203, Validation Loss: 0.0205\n",
      "Epoch 79/100, Train Loss: 0.0202, Validation Loss: 0.0204\n",
      "Epoch 80/100, Train Loss: 0.0200, Validation Loss: 0.0202\n",
      "Epoch 81/100, Train Loss: 0.0198, Validation Loss: 0.0200\n",
      "Epoch 82/100, Train Loss: 0.0196, Validation Loss: 0.0198\n",
      "Epoch 83/100, Train Loss: 0.0195, Validation Loss: 0.0198\n",
      "Epoch 84/100, Train Loss: 0.0194, Validation Loss: 0.0195\n",
      "Epoch 85/100, Train Loss: 0.0192, Validation Loss: 0.0193\n",
      "Epoch 86/100, Train Loss: 0.0190, Validation Loss: 0.0192\n",
      "Epoch 87/100, Train Loss: 0.0189, Validation Loss: 0.0191\n",
      "Epoch 88/100, Train Loss: 0.0187, Validation Loss: 0.0189\n",
      "Epoch 89/100, Train Loss: 0.0186, Validation Loss: 0.0187\n",
      "Epoch 90/100, Train Loss: 0.0184, Validation Loss: 0.0186\n",
      "Epoch 91/100, Train Loss: 0.0183, Validation Loss: 0.0184\n",
      "Epoch 92/100, Train Loss: 0.0181, Validation Loss: 0.0183\n",
      "Epoch 93/100, Train Loss: 0.0180, Validation Loss: 0.0181\n",
      "Epoch 94/100, Train Loss: 0.0179, Validation Loss: 0.0180\n",
      "Epoch 95/100, Train Loss: 0.0177, Validation Loss: 0.0178\n",
      "Epoch 96/100, Train Loss: 0.0176, Validation Loss: 0.0177\n",
      "Epoch 97/100, Train Loss: 0.0175, Validation Loss: 0.0175\n",
      "Epoch 98/100, Train Loss: 0.0174, Validation Loss: 0.0175\n",
      "Epoch 99/100, Train Loss: 0.0172, Validation Loss: 0.0173\n",
      "Epoch 100/100, Train Loss: 0.0171, Validation Loss: 0.0172\n",
      "Final Test Loss: 0.0170\n"
     ]
    }
   ],
   "source": [
    "best_model_state, history = train_model(model=MODEL, \n",
    "                                        train_loader=train_loader, \n",
    "                                        val_loader=val_loader, \n",
    "                                        test_loader=test_loader, \n",
    "                                        optimizer=OPTIMIZER, \n",
    "                                        criterion=CRITERION, \n",
    "                                        num_epochs=NUM_EPOCHS, \n",
    "                                        model_save_path=MODEL_SAVE_PATH,\n",
    "                                        writer_path=WRITER_PATH)"
   ]
  },
  {
   "cell_type": "code",
   "execution_count": 28,
   "metadata": {},
   "outputs": [],
   "source": [
    "# Prediction:\n",
    "DATASET_TEST = test_dataset\n",
    "MODEL_SAVE_PATH = 'models/' + MODEL_NAME + '.pt'\n",
    "predictions = predict_model(model_path=MODEL_SAVE_PATH, \n",
    "                            dataset=DATASET_TEST)\n",
    "\n",
    "# Evaluation:\n",
    "mse, mae = eval_model(DATASET_TEST, MODEL_SAVE_PATH)\n",
    "print(f\"MSE: {mse}, MAE: {mae}\")"
   ]
  },
  {
   "cell_type": "code",
   "execution_count": null,
   "metadata": {},
   "outputs": [],
   "source": [
    "\n"
   ]
  },
  {
   "cell_type": "markdown",
   "metadata": {},
   "source": [
    "## Inference & Testing:  \n",
    "Visualize the model fit by looking at the curves for a regularly-spaced Re vector covering the entire range."
   ]
  },
  {
   "cell_type": "code",
   "execution_count": null,
   "metadata": {},
   "outputs": [],
   "source": [
    "def infer_cd_from_re(re_vector, model_path, hidden_dims = HIDDEN_DIMS, inputs=None):\n",
    "    # HIDDEN_DIMS = [256, 256, 64, 32] #TODO: add this as a parameter to this function\n",
    "    model = Model_II(input_dim=4, output_dim=1, hidden_dims=[256, 128, 64, 32, 32, 32, 16, 8, 4])\n",
    "    model_checkpoint = torch.load(model_path)\n",
    "    model.load_state_dict(model_checkpoint)\n",
    "    model.eval()\n",
    "\n",
    "    # Check if inputs are provided or need to be generated\n",
    "    if inputs is None:\n",
    "        # Generate inputs from Re vector\n",
    "        rho, mu, D, U = generate_inputs_from_Re(Re_vec=re_vector,  # Corrected variable name\n",
    "                                                u_range=[0.01, 20],\n",
    "                                                rho_range=[10, 2000],\n",
    "                                                mu_range=[1e-3, 0.1],\n",
    "                                                D_range=[0.05, 0.5])\n",
    "        input_tensor = torch.tensor(np.column_stack((rho, mu, D, U)), dtype=torch.float32)\n",
    "    else:\n",
    "        test_inputs = []\n",
    "        for idx in range(len(inputs)):\n",
    "            input_sample, _ = inputs[idx]  # Get the input sample and ignore the target\n",
    "            test_inputs.append(input_sample)  # Convert to numpy if it's a tensor\n",
    "\n",
    "        # Convert list to numpy array and then to tensor\n",
    "        input_tensor = torch.tensor(np.stack(test_inputs), dtype=torch.float32)\n",
    "\n",
    "    # Perform inference\n",
    "    with torch.no_grad():\n",
    "        cd_predicted = model(input_tensor).squeeze().numpy()\n",
    "\n",
    "    return cd_predicted\n",
    "\n"
   ]
  },
  {
   "cell_type": "markdown",
   "metadata": {},
   "source": [
    "### Method #1:"
   ]
  },
  {
   "cell_type": "code",
   "execution_count": null,
   "metadata": {},
   "outputs": [],
   "source": [
    "rho, mu, D, U, Re_vec, CD = sample_parameters_naive(num_samples=5000,\n",
    "                                              Re_range=None,\n",
    "                                              rho_range=[10, 2000],\n",
    "                                              mu_range=[0.001, 0.1],\n",
    "                                              D_range=[0.05, 0.5],\n",
    "                                              U_range=[0.01, 20])\n",
    "\n",
    "cd_predicted = infer_cd_from_re(re_vector=Re_vec, model_path='models/Model-II-checkpoint.pth')\n",
    "cd_true = CD\n",
    "\n",
    "plt.figure(figsize=(10, 6))\n",
    "\n",
    "plt.scatter(Re_vec, cd_predicted, color='red',\n",
    "            label='CD Predicted', marker='x')\n",
    "plt.scatter(Re_vec, cd_true, color='blue', label='CD True', marker='o')\n",
    "plt.xscale('log')\n",
    "plt.yscale('log')\n",
    "\n",
    "\n",
    "plt.xlabel('Reynolds Number')\n",
    "plt.ylabel('Drag Coefficient (CD)')\n",
    "plt.title('Comparison of True and Predicted CD values')\n",
    "plt.legend()\n",
    "plt.show()\n",
    "\n",
    "mse_error = np.mean((cd_true - cd_predicted)**2)\n",
    "print(\"MSE:\", mse_error)"
   ]
  },
  {
   "cell_type": "code",
   "execution_count": null,
   "metadata": {},
   "outputs": [],
   "source": [
    "Re_vec[0:10]"
   ]
  },
  {
   "cell_type": "markdown",
   "metadata": {},
   "source": [
    "### Method #2:"
   ]
  },
  {
   "cell_type": "code",
   "execution_count": null,
   "metadata": {},
   "outputs": [],
   "source": [
    "# Testing:\n",
    "# Generate a random Re vector:\n",
    "Re_vec = np.array(train_Re) #np.logspace(2, 7, 200)\n",
    "# Re_vec = np.logspace(-1, 11, 5000)\n",
    "# Infer the CD from the Re vector:\n",
    "cd_predicted = infer_cd_from_re(Re_vec, model_path='models/Model-II-checkpoint.pth', inputs=train_dataset)\n",
    "cd_true, _ = run_experiments(Re_vec=Re_vec)\n",
    "\n",
    "plt.figure(figsize=(10, 6))\n",
    "\n",
    "# Plotting predicted CD values\n",
    "plt.scatter(Re_vec, cd_predicted, color='red', label='CD Predicted', marker='x', alpha=0.5)\n",
    "plt.scatter(Re_vec, cd_true, color='blue', label='CD True', marker='o', alpha=0.5)\n",
    "plt.xscale('log')\n",
    "plt.yscale('log')\n",
    "plt.xlabel('Reynolds Number')\n",
    "plt.ylabel('Drag Coefficient (CD)')\n",
    "plt.title('Comparison of True and Predicted CD values')\n",
    "plt.legend()\n",
    "plt.show()\n",
    "\n",
    "\n",
    "mse_error = np.mean((cd_true - cd_predicted)**2)\n",
    "print(\"MSE:\", mse_error)\n",
    "r2 = 1 - np.sum((cd_true - cd_predicted)**2) / np.sum((cd_true - np.mean(cd_true))**2)\n",
    "print(\"R2:\", r2)\n",
    "\n",
    "\n",
    "plt.hist(Re_vec, bins=10, edgecolor='black')\n",
    "plt.xlabel('Reynolds Number (Re)')\n",
    "plt.ylabel('Frequency')\n",
    "plt.title('Histogram of Reynolds Numbers in Test Dataset')\n",
    "plt.show()\n"
   ]
  },
  {
   "cell_type": "code",
   "execution_count": null,
   "metadata": {},
   "outputs": [],
   "source": [
    "min(Re_vec)"
   ]
  }
 ],
 "metadata": {
  "kernelspec": {
   "display_name": "Python 3",
   "language": "python",
   "name": "python3"
  },
  "language_info": {
   "codemirror_mode": {
    "name": "ipython",
    "version": 3
   },
   "file_extension": ".py",
   "mimetype": "text/x-python",
   "name": "python",
   "nbconvert_exporter": "python",
   "pygments_lexer": "ipython3",
   "version": "3.11.5"
  }
 },
 "nbformat": 4,
 "nbformat_minor": 4
}
