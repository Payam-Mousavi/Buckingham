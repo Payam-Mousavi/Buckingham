{
 "cells": [
  {
   "cell_type": "markdown",
   "metadata": {},
   "source": [
    "# Exploring dimensionless numbers and Neural Network Regression\n",
    "Author: Payam Mousavi  \n",
    "Last updated: December 30, 2023 \n",
    "\n",
    "Given the analytical equation (fitted empirically) for the Drag Coefficient $C_D$ provided in reference: https://pages.mtu.edu/~fmorriso/DataCorrelationForSphereDrag2016.pdf, we see that it's only a function of the Reynolds number, $Re = \\rho.U.D/\\mu$. Let's say that we did not know this ahead of time and wanted to perform experiments for a range of input parameters, namely, $\\rho$, $U$, $D$, and $\\mu$. Clearly, many combinations will be redundant since they correpond to the same $Re$. Consider the following models:  \n",
    "\n",
    "Given $\\rho$, $U$, $D$, and $\\mu$, consider the following two models:  \n",
    "\n",
    "\n",
    "\n",
    "<img src=\"./Figures/Model_I.png\" width=\"300\" height=\"200\" /> . \n",
    "<img src=\"./Figures/Model_II.png\" width=\"300\" height=\"200\" /> . \n",
    "\n",
    "We are interested in the following questions:  \n",
    "1. Assuming we keep the number of trainable parameters approximately the same, is Model_I more data efficient than Model_II, if we randomly sample the 4 parameters?  Intuitively, we expect this to be true since we are biasing the structure of the neural network to discover the existence of an effective compression of the inputs (by $Re$).  \n",
    "2. After training Model_I, does the single node actually correspond to $Re$? Can the model 'discover' the non-dimensional parameters?  If not, can we somehow help the model to discover this?  \n",
    "3. (Optional) can we use the knowledge of the $Re$ to perform data augmentation thereby increasing the efficiency of the training? For example, given a combination of inputs, we could generate $n$ additional training samples corresponding to the same $Re$. This 'synthetic data' is expected to improve the efficiency. It is not clear whether this is useful in practice. Still interesting to explore.  \n",
    "\n",
    "\n",
    "\n"
   ]
  },
  {
   "cell_type": "code",
   "execution_count": 29,
   "metadata": {},
   "outputs": [],
   "source": [
    "%matplotlib inline\n",
    "import matplotlib\n",
    "import matplotlib.pyplot as plt\n",
    "import seaborn as sns\n",
    "import numpy as np\n",
    "import math\n",
    "from tqdm import tqdm\n",
    "import pandas as pd\n",
    "\n",
    "import torch\n",
    "import torch.nn as nn\n",
    "import torch.nn.functional as F\n",
    "from torch.utils.data import Dataset\n",
    "from torch.utils.data import DataLoader, random_split\n",
    "from torch.optim import Adam\n",
    "from torch.utils.tensorboard import SummaryWriter\n",
    "\n",
    "matplotlib.rcParams.update({'font.size': 18})\n",
    "eps = 1e-12"
   ]
  },
  {
   "cell_type": "code",
   "execution_count": 30,
   "metadata": {},
   "outputs": [],
   "source": [
    "def CD_calc(Re=None, U=None, D=None, rho=None, mu=None):\n",
    "    \"\"\"\n",
    "    Calculates the the Drag coefficient (CD) and the corresponding Drag force (FD), using the empirical equation found in the\n",
    "    reference: https://pages.mtu.edu/~fmorriso/DataCorrelationForSphereDrag2016.pdf\n",
    "\n",
    "    Use SI units\n",
    "\n",
    "    \"\"\"\n",
    "    if Re is None:\n",
    "        Re = rho*U*D/mu\n",
    "\n",
    "    CD = (24/Re) \\\n",
    "        + ((2.6*(Re/5.)) / (1+(Re/5.)**1.52)) \\\n",
    "        + ((0.411*(Re/2.63e5)**-7.94) / (1 + (Re/2.63e5)**-8.)) \\\n",
    "        + ((0.25*(Re/1e6)) / (1 + (Re/1e6)))\n",
    "\n",
    "    # Calculate FD if U and D and rho are given:\n",
    "    if U is not None:\n",
    "        FD = CD * (rho*np.pi/8) * (U**2) * (D**2)\n",
    "    else:\n",
    "        FD = None\n",
    "\n",
    "    return CD, FD\n",
    "\n",
    "\n",
    "def run_experiments(Re_vec, velocities=None, diameters=None, densities=None, viscosities=None):\n",
    "    \"\"\"\n",
    "    Runs the experiment by iterating over the velocity vector or Re_vec and returning the drag coefficient CD and Drag force FD\n",
    "\n",
    "    \"\"\"\n",
    "    if Re_vec is not None:\n",
    "        CDs, FDs = CD_calc(Re=Re_vec, rho=None, mu=None, U=None, D=None)\n",
    "    else:\n",
    "        CDs, FDs = CD_calc(Re=None, U=velocities, D=diameters, rho=densities, mu=viscosities)\n",
    "\n",
    "    return CDs, FDs\n",
    "\n",
    "\n",
    "def plot_CD(Re, CD, marker='o'):\n",
    "    sns.set(style=\"whitegrid\")\n",
    "    plt.figure(figsize=(6, 6))\n",
    "    sns.scatterplot(x=Re, y=CD, color='blue', marker=marker, alpha=0.5)\n",
    "    plt.xscale('log')\n",
    "    plt.yscale('log')\n",
    "    plt.xlim(1e-1, 1e11)\n",
    "    plt.ylim(1e-2, 1e3)\n",
    "    plt.xlabel('$Re$')\n",
    "    plt.ylabel('$C_D$')\n",
    "\n",
    "    return True\n",
    "\n",
    "def generate_inputs_from_Re(Re_vec, u_range, rho_range, mu_range, D_range):\n",
    "    \"\"\"\n",
    "    Randomly sample from rho_range, mu_range, and D_range, calculate u, if u is in u_range, \n",
    "    output the parameters, u, rho, mu, D and if not, sample again and repeat. This is used to test inference.\n",
    "    \"\"\"\n",
    "    # Generate random samples from the ranges\n",
    "    size = len(Re_vec)\n",
    "    rho = np.random.uniform(rho_range[0], rho_range[1], size)\n",
    "    mu = np.random.uniform(mu_range[0], mu_range[1], size)\n",
    "    D = np.random.uniform(D_range[0], D_range[1], size)\n",
    "    U = Re_vec * mu / (rho * D)\n",
    "\n",
    "    for u in U:\n",
    "        if u >= u_range[1] and u <= u_range[0]:\n",
    "            print(f\"U = {u} is NOT in range\")\n",
    "\n",
    "    return rho, mu, D, U"
   ]
  },
  {
   "cell_type": "code",
   "execution_count": 8,
   "metadata": {},
   "outputs": [],
   "source": [
    "Re_vec = np.logspace(2, 7, 1000)\n",
    "rho, mu, D, U = generate_inputs_from_Re(Re_vec=Re_vec, u_range=[0.1, 1e3], rho_range=[1, 1000], mu_range=[1e-3, 1e3], D_range=[1e-3, 1e3])\n",
    "# rho"
   ]
  },
  {
   "cell_type": "code",
   "execution_count": 9,
   "metadata": {},
   "outputs": [
    {
     "data": {
      "text/plain": [
       "True"
      ]
     },
     "execution_count": 9,
     "metadata": {},
     "output_type": "execute_result"
    },
    {
     "data": {
      "image/png": "[encoded data removed]",
      "text/plain": [
       "<Figure size 600x600 with 1 Axes>"
      ]
     },
     "metadata": {},
     "output_type": "display_data"
    }
   ],
   "source": [
    "Re_vec = np.logspace(2, 7, 200)\n",
    "CDs, _ = run_experiments(Re_vec=Re_vec)\n",
    "plot_CD(Re_vec, CDs, marker='o')"
   ]
  },
  {
   "cell_type": "markdown",
   "metadata": {},
   "source": [
    "## Models"
   ]
  },
  {
   "cell_type": "code",
   "execution_count": 10,
   "metadata": {},
   "outputs": [],
   "source": [
    "# Model_II\n",
    "class Model_II(nn.Module):\n",
    "    def __init__(self, input_dim=4 , output_dim= 1, hidden_dims=[32, 16, 8, 4]):\n",
    "        super(Model_II, self).__init__()\n",
    "        hidden_dims.insert(0, input_dim)\n",
    "        hidden_dims.append(output_dim)\n",
    "        self.layers = nn.ModuleList()\n",
    "        for i in range(len(hidden_dims) - 1):\n",
    "            self.layers.append(nn.Linear(hidden_dims[i], hidden_dims[i+1]))\n",
    "\n",
    "    def forward(self, x):\n",
    "        for i in range(len(self.layers) - 1):\n",
    "            # x = torch.relu(self.layers[i](x))\n",
    "            x = F.leaky_relu(self.layers[i](x), 0.1)\n",
    "        x = self.layers[-1](x)  # Apply the last layer without ReLU\n",
    "        return x"
   ]
  },
  {
   "cell_type": "markdown",
   "metadata": {},
   "source": [
    "## Dataset Creation"
   ]
  },
  {
   "cell_type": "code",
   "execution_count": 31,
   "metadata": {},
   "outputs": [],
   "source": [
    "# Data Generation:\n",
    "# Let's first generate random samples of rho, mu, D, and U. The true label is then calculated using the run_experiments function. \n",
    "# The Reynolds numbers are also calculated and returned as a vector for convenience.\n",
    "# def sample_parameters(num_samples=100000, rho_range=[500, 3000], mu_range=[0.3e-3, 0.1], D_range=[0.05, 1], U_range=[1, 10], seed=123):\n",
    "#     if seed is not None:\n",
    "#         np.random.seed(seed)\n",
    "        \n",
    "#     rho = np.random.uniform(rho_range[0], rho_range[1], num_samples)\n",
    "#     mu = np.random.uniform(mu_range[0], mu_range[1], num_samples)\n",
    "#     D = np.random.uniform(D_range[0], D_range[1], num_samples)\n",
    "#     U = np.random.uniform(U_range[0], U_range[1], num_samples)\n",
    "\n",
    "#     # Calculate the true CD and FD:\n",
    "#     CD, _ = run_experiments(Re_vec=None, velocities=U, diameters=D, densities=rho, viscosities=mu)\n",
    "#     Re_vec = rho * U * D / mu\n",
    "#     return rho, mu, D, U, Re_vec, CD\n",
    "\n",
    "import numpy as np\n",
    "\n",
    "def sample_parameters(num_samples=100000, Re_range=[1e2, 3e7], rho_range=[500, 3000], mu_range=[0.3e-3, 0.1], D_range=[0.05, 1], U_range=[1, 10], seed=123):\n",
    "    if seed is not None:\n",
    "        np.random.seed(seed)\n",
    "\n",
    "    rho = np.zeros(num_samples)\n",
    "    mu = np.zeros(num_samples)\n",
    "    D = np.zeros(num_samples)\n",
    "    U = np.zeros(num_samples)\n",
    "\n",
    "    # Step 1: Uniformly sample Re\n",
    "    Re_vec = np.random.uniform(Re_range[0], Re_range[1], num_samples)\n",
    "\n",
    "    # Parameters to choose from\n",
    "    param_choices = ['rho', 'mu', 'D', 'U']\n",
    "\n",
    "    for i in range(num_samples):\n",
    "        # Step 2: Randomly choose which 3 parameters to sample\n",
    "        sampled_params = np.random.choice(param_choices, 3, replace=False)\n",
    "\n",
    "        if 'rho' in sampled_params:\n",
    "            rho[i] = np.random.uniform(rho_range[0], rho_range[1])\n",
    "        if 'mu' in sampled_params:\n",
    "            mu[i] = np.random.uniform(mu_range[0], mu_range[1])\n",
    "        if 'D' in sampled_params:\n",
    "            D[i] = np.random.uniform(D_range[0], D_range[1])\n",
    "        if 'U' in sampled_params:\n",
    "            U[i] = np.random.uniform(U_range[0], U_range[1])\n",
    "\n",
    "        # Step 3: Calculate the fourth parameter\n",
    "        if 'rho' not in sampled_params:\n",
    "            rho[i] = Re_vec[i] * mu[i] / (U[i] * D[i])\n",
    "        elif 'mu' not in sampled_params:\n",
    "            mu[i] = Re_vec[i] / (rho[i] * U[i] * D[i])\n",
    "        elif 'D' not in sampled_params:\n",
    "            D[i] = Re_vec[i] * mu[i] / (rho[i] * U[i])\n",
    "        elif 'U' not in sampled_params:\n",
    "            U[i] = Re_vec[i] * mu[i] / (rho[i] * D[i])\n",
    "\n",
    "        # Step 4: Validate and adjust\n",
    "        rho[i] = np.clip(rho[i], rho_range[0], rho_range[1])\n",
    "        mu[i] = np.clip(mu[i], mu_range[0], mu_range[1])\n",
    "        D[i] = np.clip(D[i], D_range[0], D_range[1])\n",
    "        U[i] = np.clip(U[i], U_range[0], U_range[1])\n",
    "\n",
    "    # Step 5: Calculate the true CD using the run_experiments function\n",
    "    CD, _ = run_experiments(Re_vec=None, velocities=U, diameters=D, densities=rho, viscosities=mu)\n",
    "\n",
    "    return rho, mu, D, U, Re_vec, CD\n",
    "\n",
    "\n",
    "class RandomDataset(Dataset):\n",
    "    def __init__(self, num_samples=10000, Re_range= [1e2, 3e7] ,rho_range=[100, 2000], mu_range=[0.001, 0.01], D_range=[0.05, 0.5], U_range=[0.1, 20], seed=None):\n",
    "        self.rho, self.mu, self.D, self.U, self.Re, self.CD = sample_parameters(num_samples=num_samples, Re_range=Re_range, rho_range=rho_range, mu_range=mu_range, D_range=D_range, U_range=U_range, seed=seed)\n",
    "        self.num_samples = num_samples\n",
    "\n",
    "    def __len__(self):\n",
    "        return self.num_samples\n",
    "\n",
    "    def __getitem__(self, idx):\n",
    "        input_sample = np.array([self.rho[idx], self.mu[idx], self.D[idx], self.U[idx]], dtype=np.float32)\n",
    "        target = np.array([self.CD[idx]], dtype=np.float32)\n",
    "        return input_sample, target\n",
    "\n",
    "# Used for verifying results later:    \n",
    "def extract_Re_values(dataset, subset):\n",
    "    return [dataset.Re[idx] for idx in subset.indices]\n",
    "\n",
    "\n",
    "\n",
    "# Create the dataloader/dataset:\n",
    "dataset = RandomDataset(num_samples=100000, Re_range=[1e2, 3e7], rho_range=[500, 3000], mu_range=[0.3e-3, 0.1], D_range=[0.05, 1], U_range=[1, 10], seed=123)\n",
    "\n",
    "\n",
    "# Split the dataset into train, validation, and test sets:\n",
    "train_size = int(0.7 * len(dataset))\n",
    "val_size = int(0.2 * len(dataset))\n",
    "test_size = len(dataset) - train_size - val_size\n",
    "\n",
    "train_dataset, val_dataset, test_dataset = random_split(dataset, [train_size, val_size, test_size])\n",
    "\n",
    "train_loader = DataLoader(train_dataset, batch_size=1024, shuffle=True, num_workers=0) #TODO: Change num_workers to 4. Need to take RandomDataset out of the main function\n",
    "val_loader = DataLoader(val_dataset, batch_size=1024, shuffle=False, num_workers=0)\n",
    "test_loader = DataLoader(test_dataset, batch_size=1024, shuffle=False, num_workers=0)\n",
    "\n",
    "# Extract Re values for test set:\n",
    "train_Re = extract_Re_values(dataset, train_dataset)\n",
    "val_Re = extract_Re_values(dataset, val_dataset)\n",
    "test_Re = extract_Re_values(dataset, test_dataset)\n"
   ]
  },
  {
   "cell_type": "code",
   "execution_count": 36,
   "metadata": {},
   "outputs": [
    {
     "data": {
      "image/png": "[encoded data removed]",
      "text/plain": [
       "<Figure size 640x480 with 1 Axes>"
      ]
     },
     "metadata": {},
     "output_type": "display_data"
    }
   ],
   "source": [
    "plt.hist(test_Re, bins=10, edgecolor='black')\n",
    "plt.xlabel('Reynolds Number (Re)')\n",
    "plt.ylabel('Frequency')\n",
    "plt.title('Histogram of Reynolds Numbers in Test Dataset')\n",
    "plt.show()"
   ]
  },
  {
   "cell_type": "markdown",
   "metadata": {},
   "source": [
    "# Training"
   ]
  },
  {
   "cell_type": "code",
   "execution_count": null,
   "metadata": {},
   "outputs": [],
   "source": [
    "# Setting up the model:\n",
    "model = Model_II(input_dim=4, output_dim=1, hidden_dims=[64, 32, 32, 32, 4])\n",
    "num_trainable_params = sum(p.numel() for p in model.parameters() if p.requires_grad)\n",
    "print(f\"Number of trainable parameters: {num_trainable_params}\")\n",
    "\n",
    "model = model.float()\n",
    "criterion = nn.MSELoss()\n",
    "optimizer = Adam(model.parameters(), lr=1e-3)\n",
    "writer = SummaryWriter('runs/Model_II')\n",
    "\n",
    "NUM_EPOCHS = 5000"
   ]
  },
  {
   "cell_type": "code",
   "execution_count": null,
   "metadata": {},
   "outputs": [],
   "source": [
    "# Used to save the best model:\n",
    "best_val_loss = float('inf')\n",
    "best_model_state = None\n",
    "\n",
    "for epoch in range(NUM_EPOCHS):\n",
    "    model.train()\n",
    "    train_loss = 0.0\n",
    "    for inputs, targets in train_loader:\n",
    "        inputs, targets = inputs.float(), targets.float()\n",
    "        optimizer.zero_grad()\n",
    "        outputs = model(inputs)\n",
    "        loss = criterion(outputs, targets)\n",
    "        loss.backward()\n",
    "        optimizer.step()\n",
    "        train_loss += loss.item() * inputs.size(0)\n",
    "    \n",
    "    train_loss /= len(train_loader.dataset)\n",
    "    writer.add_scalar('Loss/Train', train_loss, epoch)\n",
    "\n",
    "    # Validation loop\n",
    "    model.eval()\n",
    "    val_loss = 0.0\n",
    "    with torch.no_grad():\n",
    "        for inputs, targets in val_loader:\n",
    "            inputs, targets = inputs.float(), targets.float()\n",
    "            outputs = model(inputs)\n",
    "            loss = criterion(outputs, targets)\n",
    "            val_loss += loss.item() * inputs.size(0)\n",
    "\n",
    "    val_loss /= len(val_loader.dataset)\n",
    "    writer.add_scalar('Loss/Validation', val_loss, epoch)\n",
    "\n",
    "    if val_loss < best_val_loss:\n",
    "        best_val_loss = val_loss\n",
    "        best_model_state = model.state_dict().copy()\n",
    "\n",
    "    tqdm.write(f'Epoch {epoch+1}/{NUM_EPOCHS}, Train Loss: {train_loss:.4f}, Validation Loss: {val_loss:.4f}')\n",
    "\n",
    "# Test loop\n",
    "model.eval()\n",
    "test_loss = 0.0\n",
    "with torch.no_grad():\n",
    "    for inputs, targets in test_loader:\n",
    "        inputs, targets = inputs.float(), targets.float()\n",
    "        outputs = model(inputs)\n",
    "        loss = criterion(outputs, targets)\n",
    "        test_loss += loss.item() * inputs.size(0)\n",
    "\n",
    "test_loss /= len(test_loader.dataset)\n",
    "writer.add_scalar('Loss/Test', test_loss, NUM_EPOCHS)\n",
    "\n",
    "tqdm.write(f'Final Test Loss: {test_loss:.4f}')\n",
    "\n",
    "# Save the best model:\n",
    "torch.save(best_model_state, 'models/Model-II-checkpoint.pth')\n",
    "writer.close()"
   ]
  },
  {
   "cell_type": "markdown",
   "metadata": {},
   "source": [
    "## Inference & Testing:  \n",
    "Visualize the model fit by looking at the curves for a regularly-spaced Re vector covering the entire range."
   ]
  },
  {
   "cell_type": "code",
   "execution_count": null,
   "metadata": {},
   "outputs": [],
   "source": [
    "def infer_cd_from_re(re_vector, model_path):\n",
    "    model_checkpoint = torch.load(model_path)\n",
    "    model = Model_II(input_dim=4, output_dim=1, hidden_dims=[64, 32, 32, 32, 4])\n",
    "    model.load_state_dict(model_checkpoint)\n",
    "    model.eval()\n",
    "\n",
    "    # Generate inputs from Re\n",
    "    rho, mu, D, U = generate_inputs_from_Re(Re_vec=re_vector,  # Corrected variable name\n",
    "                                            u_range=[0.01, 20],\n",
    "                                            rho_range=[10, 2000],\n",
    "                                            mu_range=[1e-3, 0.1],\n",
    "                                            D_range=[0.05, 0.5])\n",
    "\n",
    "    # Prepare the input tensor\n",
    "    input_tensor = torch.tensor(np.column_stack((rho, mu, D, U)), dtype=torch.float32)\n",
    "\n",
    "    # Perform inference\n",
    "    with torch.no_grad():\n",
    "        cd_predicted = model(input_tensor).squeeze().numpy()\n",
    "\n",
    "    return cd_predicted\n"
   ]
  },
  {
   "cell_type": "code",
   "execution_count": null,
   "metadata": {},
   "outputs": [],
   "source": [
    "rho, mu, D, U, Re_vec, CD = sample_parameters(num_samples=5000, \n",
    "                                              rho_range=[10, 2000], \n",
    "                                              mu_range=[0.001, 0.1], \n",
    "                                              D_range=[0.05, 0.5], \n",
    "                                              U_range=[0.01, 20])\n",
    "\n",
    "cd_predicted = infer_cd_from_re(re_vector=Re_vec, model_path='models/Model-II-checkpoint.pth')\n",
    "cd_true = CD\n",
    "\n",
    "plt.figure(figsize=(10, 6))\n",
    "\n",
    "plt.scatter(Re_vec, cd_predicted, color='red', label='CD Predicted', marker='x')\n",
    "plt.scatter(Re_vec, cd_true, color='blue', label='CD True', marker='o')\n",
    "plt.xscale('log')\n",
    "plt.yscale('log')\n",
    "\n",
    "\n",
    "plt.xlabel('Reynolds Number')\n",
    "plt.ylabel('Drag Coefficient (CD)')\n",
    "plt.title('Comparison of True and Predicted CD values')\n",
    "plt.legend()\n",
    "plt.show()\n",
    "\n",
    "mse_error = np.mean((cd_true - cd_predicted)**2)\n",
    "print(\"MSE:\", mse_error)\n"
   ]
  },
  {
   "cell_type": "code",
   "execution_count": null,
   "metadata": {},
   "outputs": [],
   "source": [
    "Re_vec[0:10]"
   ]
  },
  {
   "cell_type": "code",
   "execution_count": null,
   "metadata": {},
   "outputs": [],
   "source": [
    "# Testing:\n",
    "# Generate a random Re vector:\n",
    "Re_vec = np.logspace(0, 10, 200)\n",
    "# Re_vec = np.logspace(-1, 11, 5000)\n",
    "# Infer the CD from the Re vector:\n",
    "cd_predicted = infer_cd_from_re(Re_vec, model_path='models/Model-II-checkpoint.pth')\n",
    "cd_true, _ = run_experiments(Re_vec=Re_vec)\n",
    "\n",
    "plt.figure(figsize=(10, 6))\n",
    "\n",
    "# Plotting predicted CD values\n",
    "plt.scatter(Re_vec, cd_predicted, color='red', label='CD Predicted', marker='x', alpha=0.5)\n",
    "plt.scatter(Re_vec, cd_true, color='blue', label='CD True', marker='o', alpha=0.5)\n",
    "plt.xscale('log')\n",
    "plt.yscale('log')\n",
    "\n",
    "# plt.ylim(1e-16, 1e8)\n",
    "\n",
    "\n",
    "# plt.xscale('log')  # Set the x-axis to a logarithmic scale\n",
    "plt.xlabel('Reynolds Number')\n",
    "plt.ylabel('Drag Coefficient (CD)')\n",
    "plt.title('Comparison of True and Predicted CD values')\n",
    "plt.legend()\n",
    "\n",
    "plt.show()\n",
    "\n",
    "\n",
    "mse_error = np.mean((cd_true - cd_predicted)**2)\n",
    "print(\"MSE:\", mse_error)"
   ]
  },
  {
   "cell_type": "markdown",
   "metadata": {},
   "source": [
    "## Experiments:\n",
    "Generating some 'experimental' data and comparing different $\\Pi$ groups"
   ]
  },
  {
   "cell_type": "markdown",
   "metadata": {},
   "source": [
    "### Material parameters:"
   ]
  },
  {
   "cell_type": "code",
   "execution_count": null,
   "metadata": {},
   "outputs": [],
   "source": [
    "# Let's take water as an example: rho = 1000Kg/m^3, mu = 0.001 Ns/M^2\n",
    "# c_sound (Cs) in water ~ 1481 m/s, Cs(Acetone) = ~1100 m/s - We need to make sure the velocity is < 0.3*Cs\n",
    "N = 200 # Number of samples\n",
    "Cs = 1481 # m/s\n",
    "u_max = 0.3 * Cs # Picked 0.2 to make sure the condition is not violated for acetone\n",
    "\n",
    "mu_water = 0.001 # [SI]\n",
    "rho_water = 1000 # [SI]\n",
    "\n",
    "mu_acetone = 0.000316 # Acetone [SI]\n",
    "rho_acetone = 784.5 # Acetone [SI]\n",
    "\n",
    "# Sphere diameters:\n",
    "D_I = 0.05 # Diameter of sphere\n",
    "D_II = 0.1\n",
    "D_III = 0.5"
   ]
  },
  {
   "cell_type": "markdown",
   "metadata": {},
   "source": [
    "### Setting up the 'Experiments':"
   ]
  },
  {
   "cell_type": "code",
   "execution_count": null,
   "metadata": {
    "scrolled": false
   },
   "outputs": [],
   "source": [
    "# Let's keep the velocities the same for now:\n",
    "us = np.geomspace(0.001, u_max, N)\n",
    "\n",
    "# Experiment #1:\n",
    "mu_1 = mu_water\n",
    "rho_1 = rho_water\n",
    "D_1 = D_I\n",
    "REs_1 = [rho_1*uu*D_1/mu_1 for uu in us]\n",
    "CDs_1, FDs_1 = run_experiment(velocities=us, diameter=D_1, density=rho_1, viscosity=mu_1)\n",
    "fig, ax1, ax2 = make_plots(Re=REs_1, CD=CDs_1, FD=FDs_1, experiment_id='Experiment-1', colors=['blue', 'blue'])\n",
    "\n",
    "# Experiment #2:\n",
    "mu_2 = mu_acetone\n",
    "rho_2 = rho_acetone\n",
    "D_2 = D_I\n",
    "REs_2 = [rho_2*uu*D_2/mu_2 for uu in us]\n",
    "CDs_2, FDs_2 = run_experiment(velocities=us, diameter=D_2, density=rho_2, viscosity=mu_2)\n",
    "fig, ax1, ax2 = make_plots(Re=REs_2, CD=CDs_2, FD=FDs_2, experiment_id='Experiment-1 and 2', colors=['red', 'red'], fig=fig, ax1=ax1, ax2=ax2)\n",
    "\n",
    "# Experiment #3:\n",
    "mu_3 = mu_acetone\n",
    "rho_3 = rho_acetone\n",
    "D_3 = D_III\n",
    "REs_3 = [rho_3*uu*D_3/mu_3 for uu in us]\n",
    "CDs_3, FDs_3 = run_experiment(velocities=us, diameter=D_3, density=rho_3, viscosity=mu_3)\n",
    "fig, ax1, ax2 = make_plots(Re=REs_3, CD=CDs_3, FD=FDs_3, experiment_id='Experiment-3', colors=['green', 'green'], fig=fig, ax1=ax1, ax2=ax2)"
   ]
  },
  {
   "cell_type": "markdown",
   "metadata": {},
   "source": [
    "### Comparing to other $\\Pi$ groups:\n",
    "It appears $\\Pi_4$ does not work but the rest do! Why??"
   ]
  },
  {
   "cell_type": "code",
   "execution_count": null,
   "metadata": {
    "scrolled": false
   },
   "outputs": [],
   "source": [
    "# Comparing the following Pi group:\n",
    "\n",
    "# Experiment #1:\n",
    "mu_1 = mu_water\n",
    "rho_1 = rho_water\n",
    "D_1 = D_I\n",
    "REs_1 = [rho_1*uu*D_1/mu_1 for uu in us]\n",
    "CDs_1, FDs_1 = run_experiment(velocities=us, diameter=D_1, density=rho_1, viscosity=mu_1)\n",
    "# fig, ax1, ax2 = make_plots(Re=REs_1, CD=CDs_1, FD=FDs_1, experiment_id='Experiment-1', colors=['blue', 'blue'])\n",
    "\n",
    "pi2_1 = [FDs/(mu_1*D_1*uu) for (FDs, uu) in zip(FDs_1, us)]\n",
    "pi3_1 = [FDs*rho_1/mu_1**2 for FDs in FDs_1]\n",
    "\n",
    "fig, ax1, ax2 = make_plots(Re=REs_1, CD=pi2_1, FD=FDs_1, experiment_id='Experiment-1', \n",
    "                           colors=['blue', 'blue'], ylabel='$\\Pi_2$')\n",
    "\n",
    "# Experiment #2:\n",
    "mu_2 = mu_acetone\n",
    "rho_2 = rho_acetone\n",
    "D_2 = D_I\n",
    "REs_2 = [rho_2*uu*D_2/mu_2 for uu in us]\n",
    "CDs_2, FDs_2 = run_experiment(velocities=us, diameter=D_2, density=rho_2, viscosity=mu_2)\n",
    "\n",
    "pi2_2 = [FDs/(mu_2*D_2*uu) for (FDs, uu) in zip(FDs_2, us)]\n",
    "pi3_2 = [FDs*rho_2/mu_2**2 for FDs in FDs_2]\n",
    "\n",
    "fig, ax1, ax2 = make_plots(Re=REs_2, CD=pi2_2, FD=FDs_2, experiment_id='Experiment-1 and 2', \n",
    "                           colors=['red', 'red'], fig=fig, ax1=ax1, ax2=ax2, ylabel='$\\Pi_2$')\n",
    "\n",
    "# Experiment #3:\n",
    "mu_3 = mu_acetone\n",
    "rho_3 = rho_acetone\n",
    "D_3 = D_III\n",
    "REs_3 = [rho_3*uu*D_3/mu_3 for uu in us]\n",
    "CDs_3, FDs_3 = run_experiment(velocities=us, diameter=D_3, density=rho_3, viscosity=mu_3)\n",
    "\n",
    "pi2_3 = [FDs/(mu_3*D_3*uu) for (FDs, uu) in zip(FDs_3, us)]\n",
    "pi3_3 = [FDs*rho_3/mu_3**2 for FDs in FDs_3]\n",
    "\n",
    "fig, ax1, ax2 = make_plots(Re=REs_3, CD=pi2_3, FD=FDs_3, experiment_id='Experiment-3', \n",
    "                           colors=['green', 'green'], fig=fig, ax1=ax1, ax2=ax2, ylabel='$\\Pi_2$')"
   ]
  },
  {
   "cell_type": "markdown",
   "metadata": {},
   "source": [
    "Some more ideas discussed with Hamed (December 27th, 2020):\n",
    "* Can we somehow use different units (e.g., SI vs imperial) to allow the network to learn the invariance to change of units?\n",
    "* Explore online data collection...depending on the results of a given experiment, the network selects what data point is needed\n",
    "* Can we use the knowledge of the number of possible dimensionless groups to create an appropriate architecture? For example, one simple way in this case is to use two nodes in the penultimate (or else) layer since we expect a simpler relationship between the two $\\Pi$ groups. "
   ]
  },
  {
   "cell_type": "markdown",
   "metadata": {},
   "source": [
    "## Neural Net Regression\n",
    "Method #1:  \n",
    "$F_D$ = $f(\\rho, \\mu, U, D)$\n",
    "\n",
    "Method #2:  \n",
    "$F_D$ = $f(Re, \\rho, U, D)$\n",
    "\n",
    "Method #3:  \n",
    "$C_D$ = $f(Re, \\rho, U, D)$\n",
    "\n",
    "For all three methods, we use a deep neural network to approximate the function $f$.\n",
    "\n",
    "Method #4:\n",
    "Now, let's say we somehow know that there are 2 dimensionless parameters. 'Design' the architecture (i.e., bottleneck), so that there are 2 bottleneck nodes before we estimate the $F_D$. Compare the values of the bottleneck nodes to the $Re$ and $C_D$. Is there a correspondence? if not, how can we nudge them to be??"
   ]
  },
  {
   "cell_type": "markdown",
   "metadata": {},
   "source": [
    "### Dataset creation:"
   ]
  },
  {
   "cell_type": "code",
   "execution_count": null,
   "metadata": {},
   "outputs": [],
   "source": [
    "# Uncomment the following if you want to re-generate the dataset. It takes a couple of minutes.\n",
    "\n",
    "# # Picking some ranges for the parameters:\n",
    "# N = 50 # Number of points\n",
    "# mu_vec = np.linspace(0.0001, 0.01, N)\n",
    "# rho_vec = np.linspace(500, 2000, N)\n",
    "# U_vec = np.linspace(0.001, 200, 2*N)\n",
    "# D_vec = np.linspace(0.01, 0.1, N)\n",
    "\n",
    "# FDs = np.zeros((N, N, 2*N, N))\n",
    "# CDs = np.zeros((N, N, 2*N, N))\n",
    "# counter = 0\n",
    "# X, Y = [], []\n",
    "# for ii, m in enumerate(mu_vec):\n",
    "#     for jj, r in enumerate(rho_vec):\n",
    "#         for kk, u in enumerate(U_vec):\n",
    "#             for ll, d in enumerate(D_vec):\n",
    "#                 CDs[ii, jj, kk, ll], FDs[ii, jj, kk, ll] = CD_calc(Re=None, U=u, D=d, rho=r, mu=m)\n",
    "#                 X.append([m, r, u, d])\n",
    "#                 Y.append(FDs[ii, jj, kk, ll])\n",
    "                \n",
    "# X = np.array(X)\n",
    "# Y = np.array(Y)"
   ]
  },
  {
   "cell_type": "code",
   "execution_count": null,
   "metadata": {},
   "outputs": [],
   "source": [
    "# Saving the generated data in the previous cell:\n",
    "# with open('dataset1.npy', 'wb') as f:\n",
    "#     np.save(f, mu_vec)\n",
    "#     np.save(f, rho_vec)\n",
    "#     np.save(f, U_vec)\n",
    "#     np.save(f, D_vec)\n",
    "#     np.save(f, CDs)\n",
    "#     np.save(f, FDs)\n",
    "#     np.save(f, X)\n",
    "#     np.save(f, Y)\n",
    "    \n",
    "# Loading the saved generated data:\n",
    "with open('dataset1.npy', 'rb') as f:\n",
    "    mu_vec = np.load(f)\n",
    "    rho_vec = np.load(f)\n",
    "    U_vec = np.load(f)\n",
    "    D_vec = np.load(f)\n",
    "    CDs = np.load(f)\n",
    "    FDs = np.load(f)\n",
    "    X = np.load(f)\n",
    "    Y = np.load(f)"
   ]
  },
  {
   "cell_type": "code",
   "execution_count": null,
   "metadata": {},
   "outputs": [],
   "source": [
    "print(X.shape)\n",
    "print(Y.shape)"
   ]
  },
  {
   "cell_type": "markdown",
   "metadata": {},
   "source": [
    "### PyTorch Training:"
   ]
  },
  {
   "cell_type": "code",
   "execution_count": null,
   "metadata": {},
   "outputs": [],
   "source": [
    "import torch\n",
    "from torch.autograd import Variable\n",
    "import torch.nn.functional as F\n",
    "import torch.utils.data as Data\n",
    "import imageio"
   ]
  },
  {
   "cell_type": "code",
   "execution_count": null,
   "metadata": {},
   "outputs": [],
   "source": [
    "# np.max(Y)"
   ]
  },
  {
   "cell_type": "code",
   "execution_count": null,
   "metadata": {},
   "outputs": [],
   "source": [
    "# Scale input variables so that they are roughly in the same range:\n",
    "X[:,0] = X[:,0] * 1e4\n",
    "X[:,1] = X[:,1] * 1e-2\n",
    "X[:,2] = X[:,2] * 1e-1\n",
    "X[:,3] = X[:,3] * 1e2"
   ]
  },
  {
   "cell_type": "code",
   "execution_count": null,
   "metadata": {},
   "outputs": [],
   "source": [
    "torch.manual_seed(42)\n",
    "# convert to tensors and then Variables\n",
    "x_data, y_data = Variable(torch.tensor(X)), Variable(torch.tensor(Y))"
   ]
  },
  {
   "cell_type": "code",
   "execution_count": null,
   "metadata": {},
   "outputs": [],
   "source": [
    "len(x_data)"
   ]
  },
  {
   "cell_type": "markdown",
   "metadata": {},
   "source": [
    "### Define the Network:"
   ]
  },
  {
   "cell_type": "code",
   "execution_count": null,
   "metadata": {},
   "outputs": [],
   "source": [
    "# METHOD #1:\n",
    "# Dimensions of hidden units\n",
    "D_in = 4 # mu, rho, U, D\n",
    "H = [32, 16, 8] # 3 Hidden units\n",
    "D_out = 1 # Drag force\n",
    "model_1 = torch.nn.Sequential(torch.nn.Linear(D_in, H[0]), \n",
    "                              torch.nn.BatchNorm2d(H[0]),\n",
    "                              torch.nn.ReLU(), \n",
    "                              torch.nn.Linear(H[0], H[1]),\n",
    "                              torch.nn.BatchNorm2d(H[1]),\n",
    "                              torch.nn.ReLU(),\n",
    "                              torch.nn.Linear(H[1], H[2]),\n",
    "                              torch.nn.BatchNorm2d(H[2]),\n",
    "                              torch.nn.ReLU(), \n",
    "                              torch.nn.Linear(H[2], D_out))"
   ]
  },
  {
   "cell_type": "code",
   "execution_count": null,
   "metadata": {},
   "outputs": [],
   "source": [
    "# Test running the model\n",
    "x_test = X[0,:].astype('float32')\n",
    "print(x_test)\n",
    "\n",
    "x_test_torch = torch.tensor(x_test)\n",
    "out_test = model_1(x_test_torch)"
   ]
  },
  {
   "cell_type": "code",
   "execution_count": null,
   "metadata": {},
   "outputs": [],
   "source": [
    "# Hpyerparameters:\n",
    "N = len(x_data) # number of training samples\n",
    "learning_rate = 1e-5\n",
    "batch_size = 100000\n",
    "batches_per_epoch = N // batch_size\n",
    "epochs = 1\n",
    "max_batches = epochs * batches_per_epoch\n",
    "\n",
    "# Loss function and optimizer\n",
    "loss_fn = torch.nn.MSELoss(reduction='sum')\n",
    "optimizer = torch.optim.SGD(model_1.parameters(), lr=learning_rate)"
   ]
  },
  {
   "cell_type": "code",
   "execution_count": null,
   "metadata": {
    "scrolled": true
   },
   "outputs": [],
   "source": [
    "# Training:\n",
    "print(\"Start Training...\")\n",
    "\n",
    "for b in range(max_batches):\n",
    "    curr_batch = np.random.choice(N, batch_size, replace=False)\n",
    "    xx = torch.tensor(X[curr_batch].astype('float32'))\n",
    "    yy = torch.tensor(Y[curr_batch].astype('float32')).view(batch_size, 1)\n",
    "    \n",
    "    # zero the gradients:\n",
    "    optimizer.zero_grad()\n",
    "    \n",
    "    # Predict:\n",
    "    y_pred = model_1(xx)\n",
    "    \n",
    "    # Calculate loss:\n",
    "    loss = loss_fn(y_pred, yy)\n",
    "    \n",
    "    # Calculate gradients:\n",
    "    loss.backward()\n",
    "    \n",
    "    # Step:\n",
    "    optimizer.step()\n",
    "    \n",
    "    # Print out some metrics:\n",
    "    if b % (max_batches // 10) == 0:\n",
    "        print(\"batch = %6d\" % b, end=\"\")\n",
    "        print(\"  batch loss = %7.4f\" % loss.item(), end=\"\")\n",
    "        \n",
    "print(\"Training complete \\n\")\n",
    "    "
   ]
  },
  {
   "cell_type": "code",
   "execution_count": null,
   "metadata": {},
   "outputs": [],
   "source": [
    "FDs"
   ]
  },
  {
   "cell_type": "markdown",
   "metadata": {},
   "source": [
    "TODO: Figure out why NaNs are produced at the output....probably related to scaling of the variables. Use batchnorm?"
   ]
  }
 ],
 "metadata": {
  "kernelspec": {
   "display_name": "Python 3",
   "language": "python",
   "name": "python3"
  },
  "language_info": {
   "codemirror_mode": {
    "name": "ipython",
    "version": 3
   },
   "file_extension": ".py",
   "mimetype": "text/x-python",
   "name": "python",
   "nbconvert_exporter": "python",
   "pygments_lexer": "ipython3",
   "version": "3.11.5"
  }
 },
 "nbformat": 4,
 "nbformat_minor": 4
}
