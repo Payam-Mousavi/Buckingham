{
 "cells": [
  {
   "cell_type": "markdown",
   "metadata": {},
   "source": [
    "# Exploring dimensionless numbers and Neural Network Regression\n",
    "Author: Payam Mousavi  \n",
    "Last updated: March 6, 2024 \n",
    "\n",
    "Given the analytical equation (fitted empirically) for the Drag Coefficient $C_D$ provided in reference: https://pages.mtu.edu/~fmorriso/DataCorrelationForSphereDrag2016.pdf, we see that it's only a function of the Reynolds number, $Re = \\rho.U.D/\\mu$. Let's say that we did not know this ahead of time and wanted to perform experiments for a range of input parameters, namely, $\\rho$, $U$, $D$, and $\\mu$. Clearly, many combinations will be redundant since they correpond to the same $Re$. Consider the following models:  \n",
    "\n",
    "Given $\\rho$, $U$, $D$, and $\\mu$, consider the following three models:  \n",
    "\n",
    "\n",
    "<img src=\"./Figures/Model_0.png\" width=\"300\" height=\"200\" /> . \n",
    "<img src=\"./Figures/Model_I.png\" width=\"300\" height=\"200\" /> . \n",
    "<img src=\"./Figures/Model_II.png\" width=\"300\" height=\"200\" /> . \n",
    "\n",
    "To start, we are interested in the following questions:  \n",
    "1. Model_0, we fit just to verify that it's an easy regression problem. Note that, given the very large range of inputs spanning multiple orders of magnitute, this is not a trivial problem. So we might choose to limit the range. For example, we expect a linear function for low Re (i.e., Stokes flow), so we could ignore that range. \n",
    "2. Assuming we keep the number of trainable parameters approximately the same, is Model_I more data efficient than Model_II, if we randomly sample the 4 parameters?  Intuitively, we expect this to be true since we are biasing the structure of the neural network to discover the existence of an effective compression of the inputs (by $Re$).  \n",
    "3. After training Model_I, does the single node actually correspond to $Re$? Can the model 'discover' the non-dimensional parameters?  If not, can we somehow help the model to discover this?  \n",
    "4. (Optional) can we use the knowledge of the $Re$ to perform data augmentation thereby increasing the efficiency of the training? For example, given a combination of inputs, we could generate $n$ additional training samples corresponding to the same $Re$. This 'synthetic data' is expected to improve the efficiency. It is not clear whether this is useful in practice. Still interesting to explore.  \n",
    "\n",
    "\n",
    "What's on the docket:  \n",
    "* Verify that MSELoss from PyTorch is consistent with my manual calculation. **DONE**  \n",
    "* Implement Model_0 to take Re as input and output $C_D$.  \n",
    "* Implement Model_I to take the 4 parameters, bottleneck to Re, then output $C_D$. Is the Re node equal to the value of Re?  \n",
    "* Quantify data requirements for each model to get similar accuracy? Do we need a hyperparameter optimization for this?  \n",
    "* Move some sections out of the notebook for more flexibility:\n",
    "    * Move dataset creation and loading \n",
    "    * Move helper functions to utils \n",
    "    * Move models \n",
    "* Tricks to improve fitting: scale the 4 inputs so that they are roughly in the same range.  \n",
    "* Limit the range of interest to only include regions with interesting features.  \n",
    "    \n",
    "\n",
    "\n",
    "\n",
    "\n"
   ]
  },
  {
   "cell_type": "code",
   "execution_count": 1,
   "metadata": {},
   "outputs": [],
   "source": [
    "%matplotlib inline\n",
    "%load_ext autoreload\n",
    "%autoreload 2\n",
    "\n",
    "\n",
    "from utils import *\n",
    "from models import Model_II, Model_0\n",
    "from datasets import *\n",
    "from train import train_model\n",
    "from predict import predict_model\n",
    "from eval import eval_model\n",
    "\n",
    "import matplotlib\n",
    "import matplotlib.pyplot as plt\n",
    "import seaborn as sns\n",
    "import numpy as np\n",
    "import math\n",
    "from tqdm import tqdm\n",
    "import pandas as pd\n",
    "\n",
    "import torch\n",
    "import torch.nn as nn\n",
    "import torch.nn.functional as F\n",
    "from torch.utils.data import Dataset\n",
    "from torch.utils.data import DataLoader, random_split\n",
    "from torch.optim import Adam\n",
    "import torch.nn.init as init\n",
    "from torch.utils.tensorboard import SummaryWriter\n",
    "\n",
    "matplotlib.rcParams.update({'font.size': 18})\n",
    "eps = 1e-12"
   ]
  },
  {
   "cell_type": "code",
   "execution_count": null,
   "metadata": {},
   "outputs": [],
   "source": [
    "# Re_vec = np.logspace(2, 7, 1000)\n",
    "# rho, mu, D, U = generate_inputs_from_Re(Re_vec=Re_vec, u_range=[0.1, 1e3], rho_range=[1, 1000], mu_range=[1e-3, 1e3], D_range=[1e-3, 1e3])\n",
    "# # rho# "
   ]
  },
  {
   "cell_type": "code",
   "execution_count": 2,
   "metadata": {},
   "outputs": [],
   "source": [
    "def plot_CD(Re, CD, marker='o'):\n",
    "    sns.set(style=\"whitegrid\")\n",
    "    plt.figure(figsize=(6, 6))\n",
    "    sns.scatterplot(x=Re, y=CD, color='blue', marker=marker, alpha=0.5)\n",
    "    # plt.xscale('log')\n",
    "    # plt.yscale('log')\n",
    "    plt.xlabel('$Re$')\n",
    "    plt.ylabel('$C_D$')"
   ]
  },
  {
   "cell_type": "code",
   "execution_count": 3,
   "metadata": {},
   "outputs": [
    {
     "data": {
      "image/png": "[encoded data removed]",
      "text/plain": [
       "<Figure size 600x600 with 1 Axes>"
      ]
     },
     "metadata": {},
     "output_type": "display_data"
    }
   ],
   "source": [
    "Re_vec = np.logspace(2, 7, 200)\n",
    "# Re_vec = np.linspace(1e1, 1e7, 1000)\n",
    "CDs, _ = run_experiments(Re_vec=Re_vec)\n",
    "\n",
    "Re_vec_rescaled = Re_vec/1e6\n",
    "plot_CD(Re_vec_rescaled, CDs, marker='o')"
   ]
  },
  {
   "cell_type": "markdown",
   "metadata": {},
   "source": [
    "## Dataset Creation \n",
    "NOTE: Only run the dataset for the model of interest. Don't run both."
   ]
  },
  {
   "cell_type": "markdown",
   "metadata": {},
   "source": [
    "### 4-input dataset:"
   ]
  },
  {
   "cell_type": "code",
   "execution_count": 5,
   "metadata": {},
   "outputs": [],
   "source": [
    "# Create the dataloader/dataset:\n",
    "# dataset = RandomDataset(num_samples=50000,\n",
    "#                         Re_range=[1e4, 1e8],\n",
    "#                         rho_range=[100, 3000],\n",
    "#                         mu_range=[0.3e-3, 0.1],\n",
    "#                         D_range=[0.05, 1],\n",
    "#                         U_range=[1, 10],\n",
    "#                         seed=1234)\n",
    "\n",
    "dataset = RandomDataset_scaled(num_samples=50000,\n",
    "                               parms_scaling=[1e3, 1e-2, 1, 1],\n",
    "                               Re_range=[1e4, 1e8],\n",
    "                               rho_range=[100, 3000],\n",
    "                               mu_range=[0.3e-3, 0.1],\n",
    "                               D_range=[0.05, 1],\n",
    "                               U_range=[1, 10],\n",
    "                               seed=1234)\n",
    "\n",
    "\n",
    "# Split the dataset into train, validation, and test sets:\n",
    "train_size = int(0.7 * len(dataset))\n",
    "val_size = int(0.2 * len(dataset))\n",
    "test_size = len(dataset) - train_size - val_size\n",
    "\n",
    "train_dataset, val_dataset, test_dataset = random_split(dataset, [train_size, val_size, test_size])\n",
    "\n",
    "train_loader = DataLoader(train_dataset, batch_size=1024, shuffle=True, num_workers=3)\n",
    "val_loader = DataLoader(val_dataset, batch_size=1024, shuffle=False, num_workers=3)\n",
    "test_loader = DataLoader(test_dataset, batch_size=1024, shuffle=False, num_workers=3)\n",
    "\n",
    "# Extract Re values for test set:\n",
    "train_Re = extract_Re_values(dataset, train_dataset)\n",
    "val_Re = extract_Re_values(dataset, val_dataset)\n",
    "test_Re = extract_Re_values(dataset, test_dataset)"
   ]
  },
  {
   "cell_type": "code",
   "execution_count": 9,
   "metadata": {},
   "outputs": [
    {
     "data": {
      "text/plain": [
       "999.9918952337488"
      ]
     },
     "execution_count": 9,
     "metadata": {},
     "output_type": "execute_result"
    }
   ],
   "source": [
    "max(train_Re)"
   ]
  },
  {
   "cell_type": "markdown",
   "metadata": {},
   "source": [
    "### 1-input dataset:"
   ]
  },
  {
   "cell_type": "code",
   "execution_count": 4,
   "metadata": {},
   "outputs": [],
   "source": [
    "# Create the dataloader/dataset:\n",
    "dataset = RandomDataset_Re(num_samples=50000,\n",
    "                           Re_range=[1e4, 1e8],\n",
    "                           re_scaling=1e6,\n",
    "                           seed=123)\n",
    "\n",
    "\n",
    "# Split the dataset into train, validation, and test sets:\n",
    "train_size = int(0.7 * len(dataset))\n",
    "val_size = int(0.2 * len(dataset))\n",
    "test_size = len(dataset) - train_size - val_size\n",
    "\n",
    "train_dataset, val_dataset, test_dataset = random_split(dataset, [train_size, val_size, test_size])\n",
    "\n",
    "train_loader = DataLoader(train_dataset, batch_size=1024, shuffle=True, num_workers=0)\n",
    "val_loader = DataLoader(val_dataset, batch_size=1024, shuffle=False, num_workers=0)\n",
    "test_loader = DataLoader(test_dataset, batch_size=1024, shuffle=False, num_workers=0)\n",
    "\n",
    "# Extract Re values for test set (used for visualizing histograms):\n",
    "test_Re = []\n",
    "for re, _ in test_dataset:\n",
    "    test_Re.append(re.item())\n",
    "\n",
    "test_Re = np.array(test_Re)"
   ]
  },
  {
   "cell_type": "code",
   "execution_count": null,
   "metadata": {},
   "outputs": [],
   "source": [
    "# rho, mu, D, U, Re_vec, CD = sample_parameters(num_samples=1000, \n",
    "#                                               Re_range=[1e0, 3e7], \n",
    "#                                               rho_range=[50, 3000], \n",
    "#                                               mu_range=[0.3e-3, 5], \n",
    "#                                               D_range=[0.05, 10], \n",
    "#                                               U_range=[.001, 10])\n",
    "\n",
    "# plt.loglog(Re_vec, CD, 'o', alpha=0.5)"
   ]
  },
  {
   "cell_type": "code",
   "execution_count": 6,
   "metadata": {},
   "outputs": [
    {
     "data": {
      "image/png": "[encoded data removed]",
      "text/plain": [
       "<Figure size 640x480 with 1 Axes>"
      ]
     },
     "metadata": {},
     "output_type": "display_data"
    },
    {
     "data": {
      "text/plain": [
       "(0.10002386716532441, 999.9382438689181)"
      ]
     },
     "execution_count": 6,
     "metadata": {},
     "output_type": "execute_result"
    }
   ],
   "source": [
    "plt.hist(test_Re, bins=10, edgecolor='black')\n",
    "plt.xlabel('Reynolds Number (Re)')\n",
    "plt.ylabel('Frequency')\n",
    "plt.title('Histogram of Reynolds Numbers in Test Dataset')\n",
    "plt.show()\n",
    "\n",
    "min(test_Re), max(test_Re)"
   ]
  },
  {
   "cell_type": "markdown",
   "metadata": {},
   "source": [
    "# Training"
   ]
  },
  {
   "cell_type": "markdown",
   "metadata": {},
   "source": [
    "### Model_II:"
   ]
  },
  {
   "cell_type": "code",
   "execution_count": 9,
   "metadata": {},
   "outputs": [
    {
     "name": "stdout",
     "output_type": "stream",
     "text": [
      "Number of trainable parameters: 1921\n"
     ]
    }
   ],
   "source": [
    "# Setting up the model:\n",
    "HIDDEN_DIMS = [32, 32, 16, 8, 4]\n",
    "MODEL_NAME = 'Model_II'\n",
    "MODEL = Model_II(input_dim=4, output_dim=1, hidden_dims=HIDDEN_DIMS).float()\n",
    "CRITERION = nn.MSELoss() # criterion = nn.L1Loss(), nn.SmoothL1Loss(), ...\n",
    "OPTIMIZER = Adam(MODEL.parameters(), lr=1e-3)\n",
    "WRITER = SummaryWriter('runs/' + MODEL_NAME)\n",
    "MODEL_SAVE_PATH = 'models/' + MODEL_NAME + '.pt'\n",
    "WRITER_PATH = 'runs/' + MODEL_NAME\n",
    "\n",
    "NUM_EPOCHS = 200\n",
    "\n",
    "num_trainable_params = sum(p.numel() for p in MODEL.parameters() if p.requires_grad)\n",
    "print(f\"Number of trainable parameters: {num_trainable_params}\")"
   ]
  },
  {
   "cell_type": "markdown",
   "metadata": {},
   "source": [
    "### Model_0:"
   ]
  },
  {
   "cell_type": "code",
   "execution_count": 8,
   "metadata": {},
   "outputs": [
    {
     "name": "stdout",
     "output_type": "stream",
     "text": [
      "Number of trainable parameters: 2913\n"
     ]
    }
   ],
   "source": [
    "# Setting up the model:\n",
    "HIDDEN_DIMS = [64, 32, 16, 8, 4]\n",
    "MODEL_NAME = 'Model_0'\n",
    "MODEL = Model_0(input_dim=1, output_dim=1, hidden_dims=HIDDEN_DIMS).float()\n",
    "CRITERION = nn.MSELoss() # criterion = nn.L1Loss(), nn.SmoothL1Loss(), ...\n",
    "OPTIMIZER = Adam(MODEL.parameters(), lr=1e-3)\n",
    "WRITER = SummaryWriter('runs/' + MODEL_NAME)\n",
    "MODEL_SAVE_PATH = 'models/' + MODEL_NAME + '.pt'\n",
    "WRITER_PATH = 'runs/' + MODEL_NAME\n",
    "\n",
    "NUM_EPOCHS = 500\n",
    "\n",
    "num_trainable_params = sum(p.numel() for p in MODEL.parameters() if p.requires_grad)\n",
    "print(f\"Number of trainable parameters: {num_trainable_params}\")"
   ]
  },
  {
   "cell_type": "code",
   "execution_count": 11,
   "metadata": {},
   "outputs": [
    {
     "name": "stdout",
     "output_type": "stream",
     "text": [
      "Epoch 1/200, Train Loss: 0.0118, Validation Loss: 0.0117\n",
      "Epoch 2/200, Train Loss: 0.0117, Validation Loss: 0.0116\n",
      "Epoch 3/200, Train Loss: 0.0116, Validation Loss: 0.0115\n",
      "Epoch 4/200, Train Loss: 0.0115, Validation Loss: 0.0114\n",
      "Epoch 5/200, Train Loss: 0.0114, Validation Loss: 0.0113\n",
      "Epoch 6/200, Train Loss: 0.0113, Validation Loss: 0.0113\n",
      "Epoch 7/200, Train Loss: 0.0113, Validation Loss: 0.0112\n",
      "Epoch 8/200, Train Loss: 0.0112, Validation Loss: 0.0111\n",
      "Epoch 9/200, Train Loss: 0.0111, Validation Loss: 0.0111\n",
      "Epoch 10/200, Train Loss: 0.0110, Validation Loss: 0.0110\n",
      "Epoch 11/200, Train Loss: 0.0110, Validation Loss: 0.0109\n",
      "Epoch 12/200, Train Loss: 0.0109, Validation Loss: 0.0108\n",
      "Epoch 13/200, Train Loss: 0.0109, Validation Loss: 0.0108\n",
      "Epoch 14/200, Train Loss: 0.0108, Validation Loss: 0.0108\n",
      "Epoch 15/200, Train Loss: 0.0108, Validation Loss: 0.0107\n",
      "Epoch 16/200, Train Loss: 0.0107, Validation Loss: 0.0106\n",
      "Epoch 17/200, Train Loss: 0.0107, Validation Loss: 0.0106\n",
      "Epoch 18/200, Train Loss: 0.0106, Validation Loss: 0.0106\n",
      "Epoch 19/200, Train Loss: 0.0106, Validation Loss: 0.0106\n",
      "Epoch 20/200, Train Loss: 0.0106, Validation Loss: 0.0105\n",
      "Epoch 21/200, Train Loss: 0.0105, Validation Loss: 0.0104\n",
      "Epoch 22/200, Train Loss: 0.0105, Validation Loss: 0.0104\n",
      "Epoch 23/200, Train Loss: 0.0105, Validation Loss: 0.0104\n",
      "Epoch 24/200, Train Loss: 0.0104, Validation Loss: 0.0104\n",
      "Epoch 25/200, Train Loss: 0.0104, Validation Loss: 0.0103\n",
      "Epoch 26/200, Train Loss: 0.0105, Validation Loss: 0.0103\n",
      "Epoch 27/200, Train Loss: 0.0104, Validation Loss: 0.0103\n",
      "Epoch 28/200, Train Loss: 0.0103, Validation Loss: 0.0104\n",
      "Epoch 29/200, Train Loss: 0.0104, Validation Loss: 0.0104\n",
      "Epoch 30/200, Train Loss: 0.0103, Validation Loss: 0.0103\n",
      "Epoch 31/200, Train Loss: 0.0103, Validation Loss: 0.0103\n",
      "Epoch 32/200, Train Loss: 0.0103, Validation Loss: 0.0103\n",
      "Epoch 33/200, Train Loss: 0.0103, Validation Loss: 0.0102\n",
      "Epoch 34/200, Train Loss: 0.0103, Validation Loss: 0.0102\n",
      "Epoch 35/200, Train Loss: 0.0103, Validation Loss: 0.0102\n",
      "Epoch 36/200, Train Loss: 0.0102, Validation Loss: 0.0102\n",
      "Epoch 37/200, Train Loss: 0.0102, Validation Loss: 0.0102\n",
      "Epoch 38/200, Train Loss: 0.0103, Validation Loss: 0.0102\n",
      "Epoch 39/200, Train Loss: 0.0102, Validation Loss: 0.0102\n",
      "Epoch 40/200, Train Loss: 0.0102, Validation Loss: 0.0103\n",
      "Epoch 41/200, Train Loss: 0.0103, Validation Loss: 0.0102\n",
      "Epoch 42/200, Train Loss: 0.0103, Validation Loss: 0.0102\n",
      "Epoch 43/200, Train Loss: 0.0102, Validation Loss: 0.0102\n",
      "Epoch 44/200, Train Loss: 0.0102, Validation Loss: 0.0101\n",
      "Epoch 45/200, Train Loss: 0.0102, Validation Loss: 0.0101\n",
      "Epoch 46/200, Train Loss: 0.0102, Validation Loss: 0.0103\n",
      "Epoch 47/200, Train Loss: 0.0103, Validation Loss: 0.0102\n",
      "Epoch 48/200, Train Loss: 0.0102, Validation Loss: 0.0102\n",
      "Epoch 49/200, Train Loss: 0.0102, Validation Loss: 0.0103\n",
      "Epoch 50/200, Train Loss: 0.0101, Validation Loss: 0.0101\n",
      "Epoch 51/200, Train Loss: 0.0101, Validation Loss: 0.0101\n",
      "Epoch 52/200, Train Loss: 0.0101, Validation Loss: 0.0101\n",
      "Epoch 53/200, Train Loss: 0.0101, Validation Loss: 0.0101\n",
      "Epoch 54/200, Train Loss: 0.0101, Validation Loss: 0.0101\n",
      "Epoch 55/200, Train Loss: 0.0101, Validation Loss: 0.0101\n",
      "Epoch 56/200, Train Loss: 0.0101, Validation Loss: 0.0102\n",
      "Epoch 57/200, Train Loss: 0.0101, Validation Loss: 0.0101\n",
      "Epoch 58/200, Train Loss: 0.0101, Validation Loss: 0.0101\n",
      "Epoch 59/200, Train Loss: 0.0101, Validation Loss: 0.0104\n",
      "Epoch 60/200, Train Loss: 0.0102, Validation Loss: 0.0100\n",
      "Epoch 61/200, Train Loss: 0.0101, Validation Loss: 0.0102\n",
      "Epoch 62/200, Train Loss: 0.0101, Validation Loss: 0.0100\n",
      "Epoch 63/200, Train Loss: 0.0101, Validation Loss: 0.0100\n",
      "Epoch 64/200, Train Loss: 0.0101, Validation Loss: 0.0100\n",
      "Epoch 65/200, Train Loss: 0.0101, Validation Loss: 0.0100\n",
      "Epoch 66/200, Train Loss: 0.0100, Validation Loss: 0.0100\n",
      "Epoch 67/200, Train Loss: 0.0100, Validation Loss: 0.0100\n",
      "Epoch 68/200, Train Loss: 0.0101, Validation Loss: 0.0104\n",
      "Epoch 69/200, Train Loss: 0.0101, Validation Loss: 0.0100\n",
      "Epoch 70/200, Train Loss: 0.0100, Validation Loss: 0.0100\n",
      "Epoch 71/200, Train Loss: 0.0100, Validation Loss: 0.0100\n",
      "Epoch 72/200, Train Loss: 0.0100, Validation Loss: 0.0100\n",
      "Epoch 73/200, Train Loss: 0.0100, Validation Loss: 0.0099\n",
      "Epoch 74/200, Train Loss: 0.0100, Validation Loss: 0.0100\n",
      "Epoch 75/200, Train Loss: 0.0100, Validation Loss: 0.0100\n",
      "Epoch 76/200, Train Loss: 0.0100, Validation Loss: 0.0099\n",
      "Epoch 77/200, Train Loss: 0.0101, Validation Loss: 0.0099\n",
      "Epoch 78/200, Train Loss: 0.0100, Validation Loss: 0.0100\n",
      "Epoch 79/200, Train Loss: 0.0100, Validation Loss: 0.0099\n",
      "Epoch 80/200, Train Loss: 0.0100, Validation Loss: 0.0102\n",
      "Epoch 81/200, Train Loss: 0.0100, Validation Loss: 0.0099\n",
      "Epoch 82/200, Train Loss: 0.0100, Validation Loss: 0.0100\n",
      "Epoch 83/200, Train Loss: 0.0099, Validation Loss: 0.0101\n",
      "Epoch 84/200, Train Loss: 0.0100, Validation Loss: 0.0099\n",
      "Epoch 85/200, Train Loss: 0.0099, Validation Loss: 0.0100\n",
      "Epoch 86/200, Train Loss: 0.0100, Validation Loss: 0.0100\n",
      "Epoch 87/200, Train Loss: 0.0099, Validation Loss: 0.0099\n",
      "Epoch 88/200, Train Loss: 0.0099, Validation Loss: 0.0099\n",
      "Epoch 89/200, Train Loss: 0.0100, Validation Loss: 0.0099\n",
      "Epoch 90/200, Train Loss: 0.0099, Validation Loss: 0.0098\n",
      "Epoch 91/200, Train Loss: 0.0099, Validation Loss: 0.0100\n",
      "Epoch 92/200, Train Loss: 0.0099, Validation Loss: 0.0099\n",
      "Epoch 93/200, Train Loss: 0.0099, Validation Loss: 0.0098\n",
      "Epoch 94/200, Train Loss: 0.0099, Validation Loss: 0.0098\n",
      "Epoch 95/200, Train Loss: 0.0098, Validation Loss: 0.0099\n",
      "Epoch 96/200, Train Loss: 0.0099, Validation Loss: 0.0099\n",
      "Epoch 97/200, Train Loss: 0.0099, Validation Loss: 0.0098\n",
      "Epoch 98/200, Train Loss: 0.0098, Validation Loss: 0.0100\n",
      "Epoch 99/200, Train Loss: 0.0098, Validation Loss: 0.0098\n",
      "Epoch 100/200, Train Loss: 0.0098, Validation Loss: 0.0099\n",
      "Epoch 101/200, Train Loss: 0.0098, Validation Loss: 0.0099\n",
      "Epoch 102/200, Train Loss: 0.0099, Validation Loss: 0.0098\n",
      "Epoch 103/200, Train Loss: 0.0098, Validation Loss: 0.0097\n",
      "Epoch 104/200, Train Loss: 0.0098, Validation Loss: 0.0099\n",
      "Epoch 105/200, Train Loss: 0.0098, Validation Loss: 0.0097\n",
      "Epoch 106/200, Train Loss: 0.0097, Validation Loss: 0.0097\n",
      "Epoch 107/200, Train Loss: 0.0098, Validation Loss: 0.0098\n",
      "Epoch 108/200, Train Loss: 0.0098, Validation Loss: 0.0099\n",
      "Epoch 109/200, Train Loss: 0.0098, Validation Loss: 0.0097\n",
      "Epoch 110/200, Train Loss: 0.0097, Validation Loss: 0.0097\n",
      "Epoch 111/200, Train Loss: 0.0097, Validation Loss: 0.0097\n",
      "Epoch 112/200, Train Loss: 0.0098, Validation Loss: 0.0098\n",
      "Epoch 113/200, Train Loss: 0.0097, Validation Loss: 0.0097\n",
      "Epoch 114/200, Train Loss: 0.0097, Validation Loss: 0.0099\n",
      "Epoch 115/200, Train Loss: 0.0097, Validation Loss: 0.0097\n",
      "Epoch 116/200, Train Loss: 0.0098, Validation Loss: 0.0098\n",
      "Epoch 117/200, Train Loss: 0.0097, Validation Loss: 0.0096\n",
      "Epoch 118/200, Train Loss: 0.0097, Validation Loss: 0.0105\n",
      "Epoch 119/200, Train Loss: 0.0099, Validation Loss: 0.0098\n",
      "Epoch 120/200, Train Loss: 0.0097, Validation Loss: 0.0101\n",
      "Epoch 121/200, Train Loss: 0.0097, Validation Loss: 0.0098\n",
      "Epoch 122/200, Train Loss: 0.0097, Validation Loss: 0.0098\n",
      "Epoch 123/200, Train Loss: 0.0097, Validation Loss: 0.0098\n",
      "Epoch 124/200, Train Loss: 0.0097, Validation Loss: 0.0097\n",
      "Epoch 125/200, Train Loss: 0.0096, Validation Loss: 0.0096\n",
      "Epoch 126/200, Train Loss: 0.0096, Validation Loss: 0.0097\n",
      "Epoch 127/200, Train Loss: 0.0096, Validation Loss: 0.0096\n",
      "Epoch 128/200, Train Loss: 0.0097, Validation Loss: 0.0096\n",
      "Epoch 129/200, Train Loss: 0.0096, Validation Loss: 0.0097\n",
      "Epoch 130/200, Train Loss: 0.0096, Validation Loss: 0.0098\n",
      "Epoch 131/200, Train Loss: 0.0097, Validation Loss: 0.0098\n",
      "Epoch 132/200, Train Loss: 0.0096, Validation Loss: 0.0096\n",
      "Epoch 133/200, Train Loss: 0.0096, Validation Loss: 0.0096\n",
      "Epoch 134/200, Train Loss: 0.0096, Validation Loss: 0.0099\n",
      "Epoch 135/200, Train Loss: 0.0096, Validation Loss: 0.0098\n",
      "Epoch 136/200, Train Loss: 0.0097, Validation Loss: 0.0096\n",
      "Epoch 137/200, Train Loss: 0.0096, Validation Loss: 0.0096\n",
      "Epoch 138/200, Train Loss: 0.0095, Validation Loss: 0.0096\n",
      "Epoch 139/200, Train Loss: 0.0095, Validation Loss: 0.0098\n",
      "Epoch 140/200, Train Loss: 0.0097, Validation Loss: 0.0096\n",
      "Epoch 141/200, Train Loss: 0.0096, Validation Loss: 0.0095\n",
      "Epoch 142/200, Train Loss: 0.0095, Validation Loss: 0.0098\n",
      "Epoch 143/200, Train Loss: 0.0096, Validation Loss: 0.0095\n",
      "Epoch 144/200, Train Loss: 0.0096, Validation Loss: 0.0096\n",
      "Epoch 145/200, Train Loss: 0.0095, Validation Loss: 0.0095\n",
      "Epoch 146/200, Train Loss: 0.0095, Validation Loss: 0.0097\n",
      "Epoch 147/200, Train Loss: 0.0096, Validation Loss: 0.0095\n",
      "Epoch 148/200, Train Loss: 0.0094, Validation Loss: 0.0095\n",
      "Epoch 149/200, Train Loss: 0.0095, Validation Loss: 0.0097\n",
      "Epoch 150/200, Train Loss: 0.0095, Validation Loss: 0.0096\n",
      "Epoch 151/200, Train Loss: 0.0095, Validation Loss: 0.0097\n",
      "Epoch 152/200, Train Loss: 0.0095, Validation Loss: 0.0095\n",
      "Epoch 153/200, Train Loss: 0.0095, Validation Loss: 0.0099\n",
      "Epoch 154/200, Train Loss: 0.0096, Validation Loss: 0.0095\n",
      "Epoch 155/200, Train Loss: 0.0095, Validation Loss: 0.0095\n",
      "Epoch 156/200, Train Loss: 0.0094, Validation Loss: 0.0099\n",
      "Epoch 157/200, Train Loss: 0.0095, Validation Loss: 0.0095\n",
      "Epoch 158/200, Train Loss: 0.0095, Validation Loss: 0.0098\n",
      "Epoch 159/200, Train Loss: 0.0095, Validation Loss: 0.0095\n",
      "Epoch 160/200, Train Loss: 0.0094, Validation Loss: 0.0095\n",
      "Epoch 161/200, Train Loss: 0.0094, Validation Loss: 0.0094\n",
      "Epoch 162/200, Train Loss: 0.0094, Validation Loss: 0.0095\n",
      "Epoch 163/200, Train Loss: 0.0094, Validation Loss: 0.0094\n",
      "Epoch 164/200, Train Loss: 0.0094, Validation Loss: 0.0094\n",
      "Epoch 165/200, Train Loss: 0.0094, Validation Loss: 0.0096\n",
      "Epoch 166/200, Train Loss: 0.0094, Validation Loss: 0.0095\n",
      "Epoch 167/200, Train Loss: 0.0094, Validation Loss: 0.0095\n",
      "Epoch 168/200, Train Loss: 0.0094, Validation Loss: 0.0096\n",
      "Epoch 169/200, Train Loss: 0.0094, Validation Loss: 0.0094\n",
      "Epoch 170/200, Train Loss: 0.0095, Validation Loss: 0.0096\n",
      "Epoch 171/200, Train Loss: 0.0094, Validation Loss: 0.0094\n",
      "Epoch 172/200, Train Loss: 0.0094, Validation Loss: 0.0096\n",
      "Epoch 173/200, Train Loss: 0.0094, Validation Loss: 0.0094\n",
      "Epoch 174/200, Train Loss: 0.0094, Validation Loss: 0.0094\n",
      "Epoch 175/200, Train Loss: 0.0095, Validation Loss: 0.0094\n",
      "Epoch 176/200, Train Loss: 0.0094, Validation Loss: 0.0093\n",
      "Epoch 177/200, Train Loss: 0.0094, Validation Loss: 0.0097\n",
      "Epoch 178/200, Train Loss: 0.0094, Validation Loss: 0.0096\n",
      "Epoch 179/200, Train Loss: 0.0093, Validation Loss: 0.0094\n",
      "Epoch 180/200, Train Loss: 0.0094, Validation Loss: 0.0094\n",
      "Epoch 181/200, Train Loss: 0.0093, Validation Loss: 0.0098\n",
      "Epoch 182/200, Train Loss: 0.0093, Validation Loss: 0.0095\n",
      "Epoch 183/200, Train Loss: 0.0094, Validation Loss: 0.0094\n",
      "Epoch 184/200, Train Loss: 0.0093, Validation Loss: 0.0099\n",
      "Epoch 185/200, Train Loss: 0.0095, Validation Loss: 0.0096\n",
      "Epoch 186/200, Train Loss: 0.0093, Validation Loss: 0.0095\n",
      "Epoch 187/200, Train Loss: 0.0093, Validation Loss: 0.0094\n",
      "Epoch 188/200, Train Loss: 0.0093, Validation Loss: 0.0094\n",
      "Epoch 189/200, Train Loss: 0.0093, Validation Loss: 0.0093\n",
      "Epoch 190/200, Train Loss: 0.0093, Validation Loss: 0.0093\n",
      "Epoch 191/200, Train Loss: 0.0094, Validation Loss: 0.0093\n",
      "Epoch 192/200, Train Loss: 0.0093, Validation Loss: 0.0093\n",
      "Epoch 193/200, Train Loss: 0.0093, Validation Loss: 0.0093\n",
      "Epoch 194/200, Train Loss: 0.0094, Validation Loss: 0.0093\n",
      "Epoch 195/200, Train Loss: 0.0093, Validation Loss: 0.0093\n",
      "Epoch 196/200, Train Loss: 0.0092, Validation Loss: 0.0094\n",
      "Epoch 197/200, Train Loss: 0.0094, Validation Loss: 0.0093\n",
      "Epoch 198/200, Train Loss: 0.0093, Validation Loss: 0.0098\n",
      "Epoch 199/200, Train Loss: 0.0094, Validation Loss: 0.0094\n",
      "Epoch 200/200, Train Loss: 0.0092, Validation Loss: 0.0092\n",
      "Final Test Loss: 0.0092\n"
     ]
    }
   ],
   "source": [
    "best_model_state, history = train_model(model=MODEL, \n",
    "                                        train_loader=train_loader, \n",
    "                                        val_loader=val_loader, \n",
    "                                        test_loader=test_loader, \n",
    "                                        optimizer=OPTIMIZER, \n",
    "                                        criterion=CRITERION, \n",
    "                                        num_epochs=NUM_EPOCHS, \n",
    "                                        model_save_path=MODEL_SAVE_PATH,\n",
    "                                        writer_path=WRITER_PATH)"
   ]
  },
  {
   "cell_type": "code",
   "execution_count": 15,
   "metadata": {},
   "outputs": [
    {
     "ename": "AttributeError",
     "evalue": "'Subset' object has no attribute 'Re'",
     "output_type": "error",
     "traceback": [
      "\u001b[0;31m---------------------------------------------------------------------------\u001b[0m",
      "\u001b[0;31mAttributeError\u001b[0m                            Traceback (most recent call last)",
      "Cell \u001b[0;32mIn[15], line 8\u001b[0m\n\u001b[1;32m      4\u001b[0m predictions \u001b[38;5;241m=\u001b[39m predict_model(model_path\u001b[38;5;241m=\u001b[39mMODEL_SAVE_PATH, \n\u001b[1;32m      5\u001b[0m                             dataset\u001b[38;5;241m=\u001b[39mDATASET_TEST)\n\u001b[1;32m      7\u001b[0m \u001b[38;5;66;03m# Evaluation:\u001b[39;00m\n\u001b[0;32m----> 8\u001b[0m mse, mae \u001b[38;5;241m=\u001b[39m \u001b[43meval_model\u001b[49m\u001b[43m(\u001b[49m\u001b[43mDATASET_TEST\u001b[49m\u001b[43m,\u001b[49m\u001b[43m \u001b[49m\u001b[43mMODEL_SAVE_PATH\u001b[49m\u001b[43m,\u001b[49m\u001b[43m \u001b[49m\u001b[43mvisualize\u001b[49m\u001b[38;5;241;43m=\u001b[39;49m\u001b[38;5;28;43;01mTrue\u001b[39;49;00m\u001b[43m)\u001b[49m\n\u001b[1;32m      9\u001b[0m \u001b[38;5;28mprint\u001b[39m(\u001b[38;5;124mf\u001b[39m\u001b[38;5;124m\"\u001b[39m\u001b[38;5;124mMSE: \u001b[39m\u001b[38;5;132;01m{\u001b[39;00mmse\u001b[38;5;132;01m:\u001b[39;00m\u001b[38;5;124m.5f\u001b[39m\u001b[38;5;132;01m}\u001b[39;00m\u001b[38;5;124m, MAE: \u001b[39m\u001b[38;5;132;01m{\u001b[39;00mmae\u001b[38;5;132;01m:\u001b[39;00m\u001b[38;5;124m.5f\u001b[39m\u001b[38;5;132;01m}\u001b[39;00m\u001b[38;5;124m\"\u001b[39m)\n",
      "File \u001b[0;32m~/Documents/Personal/Projects/pi_buckingham/Buckingham/eval.py:14\u001b[0m, in \u001b[0;36meval_model\u001b[0;34m(dataset, model_path, visualize)\u001b[0m\n\u001b[1;32m      8\u001b[0m \u001b[38;5;28;01mdef\u001b[39;00m \u001b[38;5;21meval_model\u001b[39m(dataset, model_path, visualize\u001b[38;5;241m=\u001b[39m\u001b[38;5;28;01mFalse\u001b[39;00m):\n\u001b[1;32m      9\u001b[0m     \u001b[38;5;66;03m# Extract Re values from dataset:\u001b[39;00m\n\u001b[1;32m     10\u001b[0m     \u001b[38;5;66;03m# Re_vec = []\u001b[39;00m\n\u001b[1;32m     11\u001b[0m     \u001b[38;5;66;03m# for re, _ in dataset:\u001b[39;00m\n\u001b[1;32m     12\u001b[0m     \u001b[38;5;66;03m#     Re_vec.append(re.item())\u001b[39;00m\n\u001b[1;32m     13\u001b[0m     \u001b[38;5;66;03m# Re_vec = np.array(Re_vec)\u001b[39;00m\n\u001b[0;32m---> 14\u001b[0m     Re_vec \u001b[38;5;241m=\u001b[39m \u001b[43mdataset\u001b[49m\u001b[38;5;241;43m.\u001b[39;49m\u001b[43mRe\u001b[49m \u001b[38;5;66;03m#TODO: check if this works\u001b[39;00m\n\u001b[1;32m     16\u001b[0m     ground_truths \u001b[38;5;241m=\u001b[39m [target \u001b[38;5;28;01mfor\u001b[39;00m _, target \u001b[38;5;129;01min\u001b[39;00m dataset]\n\u001b[1;32m     17\u001b[0m     predictions \u001b[38;5;241m=\u001b[39m predict_model(model_path\u001b[38;5;241m=\u001b[39mmodel_path, dataset\u001b[38;5;241m=\u001b[39mdataset)\n",
      "\u001b[0;31mAttributeError\u001b[0m: 'Subset' object has no attribute 'Re'"
     ]
    }
   ],
   "source": [
    "# Prediction:\n",
    "DATASET_TEST = test_dataset\n",
    "MODEL_SAVE_PATH = 'models/' + MODEL_NAME + '.pt'\n",
    "predictions = predict_model(model_path=MODEL_SAVE_PATH, \n",
    "                            dataset=DATASET_TEST)\n",
    "\n",
    "# Evaluation:\n",
    "mse, mae = eval_model(DATASET_TEST, MODEL_SAVE_PATH, visualize=True)\n",
    "print(f\"MSE: {mse:.5f}, MAE: {mae:.5f}\")\n"
   ]
  },
  {
   "cell_type": "code",
   "execution_count": null,
   "metadata": {},
   "outputs": [],
   "source": [
    "\n"
   ]
  },
  {
   "cell_type": "markdown",
   "metadata": {},
   "source": [
    "## Inference & Testing:  \n",
    "Visualize the model fit by looking at the curves for a regularly-spaced Re vector covering the entire range."
   ]
  },
  {
   "cell_type": "code",
   "execution_count": null,
   "metadata": {},
   "outputs": [],
   "source": [
    "def infer_cd_from_re(re_vector, model_path, hidden_dims = HIDDEN_DIMS, inputs=None):\n",
    "    # HIDDEN_DIMS = [256, 256, 64, 32] #TODO: add this as a parameter to this function\n",
    "    model = Model_II(input_dim=4, output_dim=1, hidden_dims=[256, 128, 64, 32, 32, 32, 16, 8, 4])\n",
    "    model_checkpoint = torch.load(model_path)\n",
    "    model.load_state_dict(model_checkpoint)\n",
    "    model.eval()\n",
    "\n",
    "    # Check if inputs are provided or need to be generated\n",
    "    if inputs is None:\n",
    "        # Generate inputs from Re vector\n",
    "        rho, mu, D, U = generate_inputs_from_Re(Re_vec=re_vector,  # Corrected variable name\n",
    "                                                u_range=[0.01, 20],\n",
    "                                                rho_range=[10, 2000],\n",
    "                                                mu_range=[1e-3, 0.1],\n",
    "                                                D_range=[0.05, 0.5])\n",
    "        input_tensor = torch.tensor(np.column_stack((rho, mu, D, U)), dtype=torch.float32)\n",
    "    else:\n",
    "        test_inputs = []\n",
    "        for idx in range(len(inputs)):\n",
    "            input_sample, _ = inputs[idx]  # Get the input sample and ignore the target\n",
    "            test_inputs.append(input_sample)  # Convert to numpy if it's a tensor\n",
    "\n",
    "        # Convert list to numpy array and then to tensor\n",
    "        input_tensor = torch.tensor(np.stack(test_inputs), dtype=torch.float32)\n",
    "\n",
    "    # Perform inference\n",
    "    with torch.no_grad():\n",
    "        cd_predicted = model(input_tensor).squeeze().numpy()\n",
    "\n",
    "    return cd_predicted\n",
    "\n"
   ]
  },
  {
   "cell_type": "markdown",
   "metadata": {},
   "source": [
    "### Method #1:"
   ]
  },
  {
   "cell_type": "code",
   "execution_count": null,
   "metadata": {},
   "outputs": [],
   "source": [
    "rho, mu, D, U, Re_vec, CD = sample_parameters_naive(num_samples=5000,\n",
    "                                              Re_range=None,\n",
    "                                              rho_range=[10, 2000],\n",
    "                                              mu_range=[0.001, 0.1],\n",
    "                                              D_range=[0.05, 0.5],\n",
    "                                              U_range=[0.01, 20])\n",
    "\n",
    "cd_predicted = infer_cd_from_re(re_vector=Re_vec, model_path='models/Model-II-checkpoint.pth')\n",
    "cd_true = CD\n",
    "\n",
    "plt.figure(figsize=(10, 6))\n",
    "\n",
    "plt.scatter(Re_vec, cd_predicted, color='red',\n",
    "            label='CD Predicted', marker='x')\n",
    "plt.scatter(Re_vec, cd_true, color='blue', label='CD True', marker='o')\n",
    "plt.xscale('log')\n",
    "plt.yscale('log')\n",
    "\n",
    "\n",
    "plt.xlabel('Reynolds Number')\n",
    "plt.ylabel('Drag Coefficient (CD)')\n",
    "plt.title('Comparison of True and Predicted CD values')\n",
    "plt.legend()\n",
    "plt.show()\n",
    "\n",
    "mse_error = np.mean((cd_true - cd_predicted)**2)\n",
    "print(\"MSE:\", mse_error)"
   ]
  },
  {
   "cell_type": "code",
   "execution_count": null,
   "metadata": {},
   "outputs": [],
   "source": [
    "Re_vec[0:10]"
   ]
  },
  {
   "cell_type": "markdown",
   "metadata": {},
   "source": [
    "### Method #2:"
   ]
  },
  {
   "cell_type": "code",
   "execution_count": null,
   "metadata": {},
   "outputs": [],
   "source": [
    "# Testing:\n",
    "# Generate a random Re vector:\n",
    "Re_vec = np.array(train_Re) #np.logspace(2, 7, 200)\n",
    "# Re_vec = np.logspace(-1, 11, 5000)\n",
    "# Infer the CD from the Re vector:\n",
    "cd_predicted = infer_cd_from_re(Re_vec, model_path='models/Model-II-checkpoint.pth', inputs=train_dataset)\n",
    "cd_true, _ = run_experiments(Re_vec=Re_vec)\n",
    "\n",
    "plt.figure(figsize=(10, 6))\n",
    "\n",
    "# Plotting predicted CD values\n",
    "plt.scatter(Re_vec, cd_predicted, color='red', label='CD Predicted', marker='x', alpha=0.5)\n",
    "plt.scatter(Re_vec, cd_true, color='blue', label='CD True', marker='o', alpha=0.5)\n",
    "plt.xscale('log')\n",
    "plt.yscale('log')\n",
    "plt.xlabel('Reynolds Number')\n",
    "plt.ylabel('Drag Coefficient (CD)')\n",
    "plt.title('Comparison of True and Predicted CD values')\n",
    "plt.legend()\n",
    "plt.show()\n",
    "\n",
    "\n",
    "mse_error = np.mean((cd_true - cd_predicted)**2)\n",
    "print(\"MSE:\", mse_error)\n",
    "r2 = 1 - np.sum((cd_true - cd_predicted)**2) / np.sum((cd_true - np.mean(cd_true))**2)\n",
    "print(\"R2:\", r2)\n",
    "\n",
    "\n",
    "plt.hist(Re_vec, bins=10, edgecolor='black')\n",
    "plt.xlabel('Reynolds Number (Re)')\n",
    "plt.ylabel('Frequency')\n",
    "plt.title('Histogram of Reynolds Numbers in Test Dataset')\n",
    "plt.show()\n"
   ]
  },
  {
   "cell_type": "code",
   "execution_count": null,
   "metadata": {},
   "outputs": [],
   "source": [
    "min(Re_vec)"
   ]
  }
 ],
 "metadata": {
  "kernelspec": {
   "display_name": "Python 3",
   "language": "python",
   "name": "python3"
  },
  "language_info": {
   "codemirror_mode": {
    "name": "ipython",
    "version": 3
   },
   "file_extension": ".py",
   "mimetype": "text/x-python",
   "name": "python",
   "nbconvert_exporter": "python",
   "pygments_lexer": "ipython3",
   "version": "3.11.7"
  }
 },
 "nbformat": 4,
 "nbformat_minor": 4
}
