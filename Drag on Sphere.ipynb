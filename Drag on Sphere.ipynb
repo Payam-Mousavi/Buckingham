{
 "cells": [
  {
   "cell_type": "markdown",
   "metadata": {},
   "source": [
    "# Exploring dimensionless numbers and Neural Network Regression\n",
    "Author: Payam Mousavi  \n",
    "Last updated: December 22, 2020"
   ]
  },
  {
   "cell_type": "code",
   "execution_count": 52,
   "metadata": {},
   "outputs": [],
   "source": [
    "%matplotlib inline\n",
    "import matplotlib\n",
    "import matplotlib.pyplot as plt\n",
    "import numpy as np\n",
    "import torch\n",
    "matplotlib.rcParams.update({'font.size': 22})"
   ]
  },
  {
   "cell_type": "code",
   "execution_count": 64,
   "metadata": {},
   "outputs": [],
   "source": [
    "def CD_calc(Re, U=None, D=None, rho=None, mu=None):\n",
    "    \"\"\"\n",
    "    Calculates the the Drag coefficient (CD) and the corresponding Drag force (FD), using the empirical equation found in the\n",
    "    reference: https://pages.mtu.edu/~fmorriso/DataCorrelationForSphereDrag2016.pdf\n",
    "    \n",
    "    Use SI units\n",
    "    \n",
    "    \"\"\"\n",
    "    if Re is None:\n",
    "        Re = rho*U*D/mu\n",
    "    \n",
    "    # Check to make sure Re value provided is consistent:\n",
    "    if Re is not None:\n",
    "        if U is not None:\n",
    "            assert Re==rho*U*D/mu, \"Provided Re is inconsistent with U, D, rho, and mu provided!\"\n",
    "            \n",
    "    CD = (24/Re) \\\n",
    "    + ((2.6*(Re/5.)) / (1+(Re/5.)**1.52)) \\\n",
    "    + ((0.411*(Re/2.63e5)**-7.94) / (1 + (Re/2.63e5)**-8.)) \\\n",
    "    + ((0.25*(Re/1e6)) / (1 + (Re/1e6)))\n",
    "\n",
    "    # Calculate FD if U and D and rho are given:\n",
    "    if U is not None:\n",
    "        FD = CD * (rho*np.pi/8) * (U**2) * (D**2)\n",
    "    else:\n",
    "        FD = None\n",
    "        \n",
    "    return CD, FD"
   ]
  },
  {
   "cell_type": "code",
   "execution_count": 58,
   "metadata": {},
   "outputs": [],
   "source": [
    "# Test CD Forward Solver:\n",
    "Re_vec = np.geomspace(0.001, 1e7, 200)\n",
    "CD_vec = []\n",
    "for r in Re_vec:\n",
    "    CD_vec.append(CD_calc(Re=r))"
   ]
  },
  {
   "cell_type": "code",
   "execution_count": 76,
   "metadata": {},
   "outputs": [
    {
     "data": {
      "text/plain": [
       "Text(0, 0.5, '$C_D$')"
      ]
     },
     "execution_count": 76,
     "metadata": {},
     "output_type": "execute_result"
    },
    {
     "data": {
      "image/png": "[encoded data removed]",
      "text/plain": [
       "<Figure size 432x432 with 1 Axes>"
      ]
     },
     "metadata": {
      "needs_background": "light"
     },
     "output_type": "display_data"
    }
   ],
   "source": [
    "# Plot results from the forward solver:\n",
    "plt.figure(figsize=(6,6))\n",
    "plt.loglog(Re_vec, CD_vec, 'b-o')\n",
    "plt.ylim(1e-2, 1e4)\n",
    "plt.xlim(1e-2, 1e7)\n",
    "plt.xlabel('$Re$')\n",
    "plt.ylabel('$C_D$')"
   ]
  },
  {
   "cell_type": "markdown",
   "metadata": {},
   "source": [
    "There are other ways to non-dimensionalize the $F_D$:  \n",
    "$\\Pi_1$ := $C_D$ = $\\frac{F_D}{\\rho.U^2.D^2}$ \n",
    "\n",
    "$\\Pi_2$ = $\\frac{F_D}{\\mu.U.D}$  \n",
    "\n",
    "$\\Pi_3$ = $\\frac{\\rho.F_D}{\\mu^2}$  \n",
    "\n",
    "$\\Pi_4$ = $\\frac{F_D}{\\mu.U}$\n",
    "\n",
    "Assuming we can generate $F_D$ (i.e., experimentally), we want to explore the following:\n",
    "* Plot the other $\\Pi$ groups as a function for $Re$ to see how they look  \n",
    "* If we were to randomly sample the main physical parameters (i.e., $\\rho$, $U$, $\\mu$, $D$), how efficiently and how well can we estimate $F_D$? The ground-truth is taken to be the experimental $C_D$ values fitted above.\n",
    "* If instead, of the main physical parameters we use $Re$, $U$, $D$, and $\\rho$ can we estimate $F_D$ more efficiently or better?\n",
    "* How do I best visualize $F_D$ vs. $Re$? We expect the curve not to be as nice?\n",
    "\n",
    "For all estimates, we will try first to use a deep fully connected network with some non-linearity.\n",
    "\n",
    "Insight?: The non-dimensionalization helps with more efficient sampleing of the independent variable space? Uniformly sampling $Re$ more efficiently covers the space. "
   ]
  },
  {
   "cell_type": "code",
   "execution_count": null,
   "metadata": {},
   "outputs": [],
   "source": []
  }
 ],
 "metadata": {
  "kernelspec": {
   "display_name": "Python [conda env:buckingham] *",
   "language": "python",
   "name": "conda-env-buckingham-py"
  },
  "language_info": {
   "codemirror_mode": {
    "name": "ipython",
    "version": 3
   },
   "file_extension": ".py",
   "mimetype": "text/x-python",
   "name": "python",
   "nbconvert_exporter": "python",
   "pygments_lexer": "ipython3",
   "version": "3.8.6"
  }
 },
 "nbformat": 4,
 "nbformat_minor": 4
}
